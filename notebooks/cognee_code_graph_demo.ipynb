{
 "cells": [
  {
   "cell_type": "code",
   "execution_count": 1,
   "metadata": {},
   "outputs": [],
   "source": [
    "import os\n",
    "from cognee.modules.users.methods import get_default_user\n",
    "\n",
    "from cognee.modules.data.methods import get_datasets\n",
    "from cognee.modules.data.methods.get_dataset_data import get_dataset_data\n",
    "from cognee.modules.data.models import Data\n",
    "\n",
    "from cognee.modules.pipelines.tasks.Task import Task\n",
    "from cognee.tasks.documents import classify_documents, check_permissions_on_documents, extract_chunks_from_documents\n",
    "from cognee.tasks.graph import extract_graph_from_code\n",
    "from cognee.tasks.storage import add_data_points\n",
    "from cognee.shared.SourceCodeGraph import SourceCodeGraph\n",
    "\n",
    "from cognee.modules.pipelines import run_tasks\n",
    "\n",
    "from cognee.shared.utils import render_graph\n"
   ]
  },
  {
   "cell_type": "code",
   "execution_count": null,
   "metadata": {},
   "outputs": [],
   "source": [
    "os.environ['GRAPHISTRY_USERNAME'] = \"\"\n",
    "os.environ['GRAPHISTRY_PASSWORD'] = \"\""
   ]
  },
  {
   "cell_type": "code",
   "execution_count": 3,
   "metadata": {},
   "outputs": [
    {
     "name": "stderr",
     "output_type": "stream",
     "text": [
      "sys:1: SAWarning: TypeDecorator UUID() will not produce a cache key because the ``cache_ok`` attribute is not set to True.  This can have significant performance implications including some performance degradations in comparison to prior SQLAlchemy versions.  Set this attribute to True if this type object's state is safe to use in a cache key, or False to disable this warning. (Background on this warning at: https://sqlalche.me/e/20/cprf)\n"
     ]
    }
   ],
   "source": [
    "user = await get_default_user()"
   ]
  },
  {
   "cell_type": "code",
   "execution_count": 4,
   "metadata": {},
   "outputs": [
    {
     "name": "stdout",
     "output_type": "stream",
     "text": [
      "dict_keys(['main_dataset'])\n"
     ]
    }
   ],
   "source": [
    "existing_datasets = await get_datasets(user.id)\n",
    "\n",
    "datasets = {}\n",
    "for dataset in existing_datasets:\n",
    "    dataset_name = dataset.name.replace(\".\", \"_\").replace(\" \", \"_\")\n",
    "    data_documents: list[Data] = await get_dataset_data(dataset_id = dataset.id)\n",
    "    datasets[dataset_name] = data_documents\n",
    "print(datasets.keys())"
   ]
  },
  {
   "cell_type": "code",
   "execution_count": 5,
   "metadata": {},
   "outputs": [],
   "source": [
    "tasks = [\n",
    "    Task(classify_documents),\n",
    "    Task(check_permissions_on_documents, user = user, permissions = [\"write\"]),\n",
    "    Task(extract_chunks_from_documents), # Extract text chunks based on the document type.\n",
    "    Task(add_data_points, task_config = { \"batch_size\": 10 }),\n",
    "    Task(extract_graph_from_code, graph_model = SourceCodeGraph, task_config = { \"batch_size\": 10 }), # Generate knowledge graphs from the document chunks.\n",
    "]"
   ]
  },
  {
   "cell_type": "code",
   "execution_count": 6,
   "metadata": {},
   "outputs": [],
   "source": [
    "async def run_codegraph_pipeline(tasks, data_documents):\n",
    "    pipeline = run_tasks(tasks, data_documents, \"code_graph_pipeline\")\n",
    "    results = []\n",
    "    async for result in pipeline:\n",
    "        results.append(result)\n",
    "    return(results)"
   ]
  },
  {
   "cell_type": "code",
   "execution_count": null,
   "metadata": {},
   "outputs": [
    {
     "name": "stderr",
     "output_type": "stream",
     "text": [
      "/Users/leonluithlen/miniconda3/envs/cognee/lib/python3.11/site-packages/pydantic/main.py:1522: RuntimeWarning: fields may not start with an underscore, ignoring \"_metadata\"\n",
      "  warnings.warn(f'fields may not start with an underscore, ignoring \"{f_name}\"', RuntimeWarning)\n",
      "Failed to load graph from file: /Users/leonluithlen/projects/cognee/cognee/.cognee_system/databases/cognee_graph.pkl \n",
      " strptime() argument 1 must be str, not None/Users/leonluithlen/miniconda3/envs/cognee/lib/python3.11/site-packages/tqdm/auto.py:21: TqdmWarning: IProgress not found. Please update jupyter and ipywidgets. See https://ipywidgets.readthedocs.io/en/stable/user_install.html\n",
      "  from .autonotebook import tqdm as notebook_tqdm\n"
     ]
    }
   ],
   "source": [
    "results = await run_codegraph_pipeline(tasks, datasets[\"main_dataset\"])"
   ]
  },
  {
   "cell_type": "code",
   "execution_count": 9,
   "metadata": {},
   "outputs": [
    {
     "name": "stderr",
     "output_type": "stream",
     "text": [
      "Error: <Response [400]>\n",
      "Traceback (most recent call last):\n",
      "  File \"/Users/leonluithlen/miniconda3/envs/cognee/lib/python3.11/site-packages/graphistry/arrow_uploader.py\", line 233, in _handle_login_response\n",
      "    raise Exception(out.text)\n",
      "Exception: {\"password\":[\"This field may not be blank.\"],\"username\":[\"This field may not be blank.\"]}"
     ]
    },
    {
     "ename": "Exception",
     "evalue": "{\"password\":[\"This field may not be blank.\"],\"username\":[\"This field may not be blank.\"]}",
     "output_type": "error",
     "traceback": [
      "\u001b[0;31m---------------------------------------------------------------------------\u001b[0m",
      "\u001b[0;31mException\u001b[0m                                 Traceback (most recent call last)",
      "Cell \u001b[0;32mIn[9], line 1\u001b[0m\n\u001b[0;32m----> 1\u001b[0m \u001b[38;5;28;01mawait\u001b[39;00m render_graph(\u001b[38;5;28;01mNone\u001b[39;00m, include_nodes \u001b[38;5;241m=\u001b[39m \u001b[38;5;28;01mTrue\u001b[39;00m, include_labels \u001b[38;5;241m=\u001b[39m \u001b[38;5;28;01mTrue\u001b[39;00m)\n",
      "File \u001b[0;32m~/projects/cognee/cognee/shared/utils.py:125\u001b[0m, in \u001b[0;36mrender_graph\u001b[0;34m(graph, include_nodes, include_color, include_size, include_labels)\u001b[0m\n\u001b[1;32m    124\u001b[0m \u001b[38;5;28;01masync\u001b[39;00m \u001b[38;5;28;01mdef\u001b[39;00m \u001b[38;5;21mrender_graph\u001b[39m(graph, include_nodes\u001b[38;5;241m=\u001b[39m\u001b[38;5;28;01mFalse\u001b[39;00m, include_color\u001b[38;5;241m=\u001b[39m\u001b[38;5;28;01mFalse\u001b[39;00m, include_size\u001b[38;5;241m=\u001b[39m\u001b[38;5;28;01mFalse\u001b[39;00m, include_labels\u001b[38;5;241m=\u001b[39m\u001b[38;5;28;01mFalse\u001b[39;00m):\n\u001b[0;32m--> 125\u001b[0m     \u001b[38;5;28;01mawait\u001b[39;00m register_graphistry()\n\u001b[1;32m    127\u001b[0m     \u001b[38;5;28;01mif\u001b[39;00m \u001b[38;5;129;01mnot\u001b[39;00m \u001b[38;5;28misinstance\u001b[39m(graph, nx\u001b[38;5;241m.\u001b[39mMultiDiGraph):\n\u001b[1;32m    128\u001b[0m         graph_engine \u001b[38;5;241m=\u001b[39m \u001b[38;5;28;01mawait\u001b[39;00m get_graph_engine()\n",
      "File \u001b[0;32m~/projects/cognee/cognee/shared/utils.py:86\u001b[0m, in \u001b[0;36mregister_graphistry\u001b[0;34m()\u001b[0m\n\u001b[1;32m     84\u001b[0m \u001b[38;5;28;01masync\u001b[39;00m \u001b[38;5;28;01mdef\u001b[39;00m \u001b[38;5;21mregister_graphistry\u001b[39m():\n\u001b[1;32m     85\u001b[0m     config \u001b[38;5;241m=\u001b[39m get_base_config()\n\u001b[0;32m---> 86\u001b[0m     \u001b[43mgraphistry\u001b[49m\u001b[38;5;241;43m.\u001b[39;49m\u001b[43mregister\u001b[49m\u001b[43m(\u001b[49m\u001b[43mapi\u001b[49m\u001b[43m \u001b[49m\u001b[38;5;241;43m=\u001b[39;49m\u001b[43m \u001b[49m\u001b[38;5;241;43m3\u001b[39;49m\u001b[43m,\u001b[49m\u001b[43m \u001b[49m\u001b[43musername\u001b[49m\u001b[43m \u001b[49m\u001b[38;5;241;43m=\u001b[39;49m\u001b[43m \u001b[49m\u001b[43mconfig\u001b[49m\u001b[38;5;241;43m.\u001b[39;49m\u001b[43mgraphistry_username\u001b[49m\u001b[43m,\u001b[49m\u001b[43m \u001b[49m\u001b[43mpassword\u001b[49m\u001b[43m \u001b[49m\u001b[38;5;241;43m=\u001b[39;49m\u001b[43m \u001b[49m\u001b[43mconfig\u001b[49m\u001b[38;5;241;43m.\u001b[39;49m\u001b[43mgraphistry_password\u001b[49m\u001b[43m)\u001b[49m\n",
      "File \u001b[0;32m~/miniconda3/envs/cognee/lib/python3.11/site-packages/graphistry/pygraphistry.py:711\u001b[0m, in \u001b[0;36mPyGraphistry.register\u001b[0;34m(key, username, password, token, personal_key_id, personal_key_secret, server, protocol, api, certificate_validation, bolt, token_refresh_ms, store_token_creds_in_memory, client_protocol_hostname, org_name, idp_name, is_sso_login, sso_timeout, sso_opt_into_type)\u001b[0m\n\u001b[1;32m    708\u001b[0m PyGraphistry\u001b[38;5;241m.\u001b[39m__reset_token_creds_in_memory()\n\u001b[1;32m    710\u001b[0m \u001b[38;5;28;01mif\u001b[39;00m \u001b[38;5;129;01mnot\u001b[39;00m (username \u001b[38;5;129;01mis\u001b[39;00m \u001b[38;5;28;01mNone\u001b[39;00m) \u001b[38;5;129;01mand\u001b[39;00m \u001b[38;5;129;01mnot\u001b[39;00m (password \u001b[38;5;129;01mis\u001b[39;00m \u001b[38;5;28;01mNone\u001b[39;00m):\n\u001b[0;32m--> 711\u001b[0m     \u001b[43mPyGraphistry\u001b[49m\u001b[38;5;241;43m.\u001b[39;49m\u001b[43mlogin\u001b[49m\u001b[43m(\u001b[49m\u001b[43musername\u001b[49m\u001b[43m,\u001b[49m\u001b[43m \u001b[49m\u001b[43mpassword\u001b[49m\u001b[43m,\u001b[49m\u001b[43m \u001b[49m\u001b[43morg_name\u001b[49m\u001b[43m)\u001b[49m\n\u001b[1;32m    712\u001b[0m     PyGraphistry\u001b[38;5;241m.\u001b[39mapi_token(token \u001b[38;5;129;01mor\u001b[39;00m PyGraphistry\u001b[38;5;241m.\u001b[39m_config[\u001b[38;5;124m'\u001b[39m\u001b[38;5;124mapi_token\u001b[39m\u001b[38;5;124m'\u001b[39m])\n\u001b[1;32m    713\u001b[0m     PyGraphistry\u001b[38;5;241m.\u001b[39mauthenticate()\n",
      "File \u001b[0;32m~/miniconda3/envs/cognee/lib/python3.11/site-packages/graphistry/pygraphistry.py:167\u001b[0m, in \u001b[0;36mPyGraphistry.login\u001b[0;34m(username, password, org_name, fail_silent)\u001b[0m\n\u001b[1;32m    155\u001b[0m     PyGraphistry\u001b[38;5;241m.\u001b[39mrelogin \u001b[38;5;241m=\u001b[39m \u001b[38;5;28;01mlambda\u001b[39;00m: PyGraphistry\u001b[38;5;241m.\u001b[39mlogin(\n\u001b[1;32m    156\u001b[0m         username, password, \u001b[38;5;28;01mNone\u001b[39;00m, fail_silent\n\u001b[1;32m    157\u001b[0m     )\n\u001b[1;32m    159\u001b[0m PyGraphistry\u001b[38;5;241m.\u001b[39m_is_authenticated \u001b[38;5;241m=\u001b[39m \u001b[38;5;28;01mFalse\u001b[39;00m\n\u001b[1;32m    160\u001b[0m token \u001b[38;5;241m=\u001b[39m (\n\u001b[1;32m    161\u001b[0m     \u001b[43mArrowUploader\u001b[49m\u001b[43m(\u001b[49m\n\u001b[1;32m    162\u001b[0m \u001b[43m        \u001b[49m\u001b[43mserver_base_path\u001b[49m\u001b[38;5;241;43m=\u001b[39;49m\u001b[43mPyGraphistry\u001b[49m\u001b[38;5;241;43m.\u001b[39;49m\u001b[43mprotocol\u001b[49m\u001b[43m(\u001b[49m\u001b[43m)\u001b[49m\n\u001b[1;32m    163\u001b[0m \u001b[43m        \u001b[49m\u001b[38;5;241;43m+\u001b[39;49m\u001b[43m \u001b[49m\u001b[38;5;124;43m\"\u001b[39;49m\u001b[38;5;124;43m://\u001b[39;49m\u001b[38;5;124;43m\"\u001b[39;49m\u001b[43m                     \u001b[49m\u001b[38;5;66;43;03m# noqa: W503\u001b[39;49;00m\n\u001b[1;32m    164\u001b[0m \u001b[43m        \u001b[49m\u001b[38;5;241;43m+\u001b[39;49m\u001b[43m \u001b[49m\u001b[43mPyGraphistry\u001b[49m\u001b[38;5;241;43m.\u001b[39;49m\u001b[43mserver\u001b[49m\u001b[43m(\u001b[49m\u001b[43m)\u001b[49m\u001b[43m,\u001b[49m\u001b[43m    \u001b[49m\u001b[38;5;66;43;03m# noqa: W503\u001b[39;49;00m\n\u001b[1;32m    165\u001b[0m \u001b[43m        \u001b[49m\u001b[43mcertificate_validation\u001b[49m\u001b[38;5;241;43m=\u001b[39;49m\u001b[43mPyGraphistry\u001b[49m\u001b[38;5;241;43m.\u001b[39;49m\u001b[43mcertificate_validation\u001b[49m\u001b[43m(\u001b[49m\u001b[43m)\u001b[49m\u001b[43m,\u001b[49m\n\u001b[1;32m    166\u001b[0m \u001b[43m    \u001b[49m\u001b[43m)\u001b[49m\n\u001b[0;32m--> 167\u001b[0m \u001b[43m    \u001b[49m\u001b[38;5;241;43m.\u001b[39;49m\u001b[43mlogin\u001b[49m\u001b[43m(\u001b[49m\u001b[43musername\u001b[49m\u001b[43m,\u001b[49m\u001b[43m \u001b[49m\u001b[43mpassword\u001b[49m\u001b[43m,\u001b[49m\u001b[43m \u001b[49m\u001b[43morg_name\u001b[49m\u001b[43m)\u001b[49m\n\u001b[1;32m    168\u001b[0m     \u001b[38;5;241m.\u001b[39mtoken\n\u001b[1;32m    169\u001b[0m )\n\u001b[1;32m    171\u001b[0m logger\u001b[38;5;241m.\u001b[39mdebug(\u001b[38;5;124m\"\u001b[39m\u001b[38;5;124m@PyGraphistry login After ArrowUploader.login: org_name :\u001b[39m\u001b[38;5;132;01m{}\u001b[39;00m\u001b[38;5;124m vs PyGraphistry.org_name() : \u001b[39m\u001b[38;5;132;01m{}\u001b[39;00m\u001b[38;5;124m\"\u001b[39m\u001b[38;5;241m.\u001b[39mformat(org_name, PyGraphistry\u001b[38;5;241m.\u001b[39morg_name()))\n\u001b[1;32m    173\u001b[0m PyGraphistry\u001b[38;5;241m.\u001b[39mapi_token(token)\n",
      "File \u001b[0;32m~/miniconda3/envs/cognee/lib/python3.11/site-packages/graphistry/arrow_uploader.py:209\u001b[0m, in \u001b[0;36mArrowUploader.login\u001b[0;34m(self, username, password, org_name)\u001b[0m\n\u001b[1;32m    202\u001b[0m     json_data\u001b[38;5;241m.\u001b[39mupdate({\u001b[38;5;124m\"\u001b[39m\u001b[38;5;124morg_name\u001b[39m\u001b[38;5;124m\"\u001b[39m: org_name})\n\u001b[1;32m    204\u001b[0m out \u001b[38;5;241m=\u001b[39m requests\u001b[38;5;241m.\u001b[39mpost(\n\u001b[1;32m    205\u001b[0m     \u001b[38;5;124mf\u001b[39m\u001b[38;5;124m'\u001b[39m\u001b[38;5;132;01m{\u001b[39;00m\u001b[38;5;28mself\u001b[39m\u001b[38;5;241m.\u001b[39mserver_base_path\u001b[38;5;132;01m}\u001b[39;00m\u001b[38;5;124m/api-token-auth/\u001b[39m\u001b[38;5;124m'\u001b[39m,\n\u001b[1;32m    206\u001b[0m     verify\u001b[38;5;241m=\u001b[39m\u001b[38;5;28mself\u001b[39m\u001b[38;5;241m.\u001b[39mcertificate_validation,\n\u001b[1;32m    207\u001b[0m     json\u001b[38;5;241m=\u001b[39mjson_data)\n\u001b[0;32m--> 209\u001b[0m \u001b[38;5;28;01mreturn\u001b[39;00m \u001b[38;5;28;43mself\u001b[39;49m\u001b[38;5;241;43m.\u001b[39;49m\u001b[43m_handle_login_response\u001b[49m\u001b[43m(\u001b[49m\u001b[43mout\u001b[49m\u001b[43m,\u001b[49m\u001b[43m \u001b[49m\u001b[43morg_name\u001b[49m\u001b[43m)\u001b[49m\n",
      "File \u001b[0;32m~/miniconda3/envs/cognee/lib/python3.11/site-packages/graphistry/arrow_uploader.py:233\u001b[0m, in \u001b[0;36mArrowUploader._handle_login_response\u001b[0;34m(self, out, org_name)\u001b[0m\n\u001b[1;32m    231\u001b[0m json_response \u001b[38;5;241m=\u001b[39m out\u001b[38;5;241m.\u001b[39mjson()\n\u001b[1;32m    232\u001b[0m \u001b[38;5;28;01mif\u001b[39;00m \u001b[38;5;129;01mnot\u001b[39;00m (\u001b[38;5;124m'\u001b[39m\u001b[38;5;124mtoken\u001b[39m\u001b[38;5;124m'\u001b[39m \u001b[38;5;129;01min\u001b[39;00m json_response):\n\u001b[0;32m--> 233\u001b[0m     \u001b[38;5;28;01mraise\u001b[39;00m \u001b[38;5;167;01mException\u001b[39;00m(out\u001b[38;5;241m.\u001b[39mtext)\n\u001b[1;32m    235\u001b[0m org \u001b[38;5;241m=\u001b[39m json_response\u001b[38;5;241m.\u001b[39mget(\u001b[38;5;124m'\u001b[39m\u001b[38;5;124mactive_organization\u001b[39m\u001b[38;5;124m'\u001b[39m,{})\n\u001b[1;32m    236\u001b[0m logged_in_org_name \u001b[38;5;241m=\u001b[39m org\u001b[38;5;241m.\u001b[39mget(\u001b[38;5;124m'\u001b[39m\u001b[38;5;124mslug\u001b[39m\u001b[38;5;124m'\u001b[39m, \u001b[38;5;28;01mNone\u001b[39;00m)\n",
      "\u001b[0;31mException\u001b[0m: {\"password\":[\"This field may not be blank.\"],\"username\":[\"This field may not be blank.\"]}"
     ]
    }
   ],
   "source": [
    "await render_graph(None, include_nodes = True, include_labels = True)"
   ]
  },
  {
   "cell_type": "code",
   "execution_count": null,
   "metadata": {},
   "outputs": [],
   "source": []
  }
 ],
 "metadata": {
  "kernelspec": {
   "display_name": "cognee",
   "language": "python",
   "name": "python3"
  },
  "language_info": {
   "codemirror_mode": {
    "name": "ipython",
    "version": 3
   },
   "file_extension": ".py",
   "mimetype": "text/x-python",
   "name": "python",
   "nbconvert_exporter": "python",
   "pygments_lexer": "ipython3",
   "version": "3.11.10"
  }
 },
 "nbformat": 4,
 "nbformat_minor": 2
}
