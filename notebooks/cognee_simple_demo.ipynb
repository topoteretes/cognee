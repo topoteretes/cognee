{
 "cells": [
  {
   "metadata": {},
   "cell_type": "markdown",
   "source": "# Cognee GraphRAG Simple Example",
   "id": "efb41c9e450b5a29"
  },
  {
   "metadata": {},
   "cell_type": "code",
   "source": "!pip install cognee==0.1.26",
   "id": "982b897a29a26f7d",
   "outputs": [],
   "execution_count": null
  },
  {
   "metadata": {},
   "cell_type": "markdown",
   "source": [
    " By default cognee uses OpenAI's gpt-4o-mini LLM model\n",
    "\n",
    " Provide your OpenAI LLM API KEY in the step bellow"
   ],
   "id": "f51e92e9fdcf77b7"
  },
  {
   "cell_type": "code",
   "id": "initial_id",
   "metadata": {
    "collapsed": true
   },
   "source": [
    "import cognee\n",
    "import os\n",
    "\n",
    "os.environ[\"LLM_API_KEY\"] = \"\""
   ],
   "outputs": [],
   "execution_count": null
  },
  {
   "metadata": {},
   "cell_type": "markdown",
   "source": "In this step we'll get the location of the file to store and process.",
   "id": "f1fec64bc573bb"
  },
  {
   "metadata": {},
   "cell_type": "code",
   "source": [
    "current_directory = os.getcwd()\n",
    "file_path = os.path.join(current_directory, \"data\", \"alice_in_wonderland.txt\")"
   ],
   "id": "5805c346f03d8070",
   "outputs": [],
   "execution_count": null
  },
  {
   "metadata": {},
   "cell_type": "markdown",
   "source": "Give the file location to cognee to save it and process its contents",
   "id": "2826a80ca1ad0438"
  },
  {
   "metadata": {},
   "cell_type": "code",
   "source": [
    "await cognee.add(file_path)\n",
    "await cognee.cognify()"
   ],
   "id": "875763366723ee48",
   "outputs": [],
   "execution_count": null
  },
  {
   "metadata": {},
   "cell_type": "markdown",
   "source": "Your data is ready to be queried:",
   "id": "4944567387ec5821"
  },
  {
   "metadata": {},
   "cell_type": "code",
   "source": "await cognee.search(\"List me some of the most important characters in Alice in Wonderland.\")",
   "id": "29b3a1e3279100d2",
   "outputs": [],
   "execution_count": null
  },
  {
   "metadata": {},
   "cell_type": "code",
   "source": "await cognee.search(\"How did Alice end up in Wonderland?\")",
   "id": "883ce50d2d9dc584",
   "outputs": [],
   "execution_count": null
  },
  {
   "metadata": {},
   "cell_type": "code",
   "source": "await cognee.search(\"Tell me about Alice's personality.\")",
   "id": "677e1bc52aa078b6",
   "outputs": [],
   "execution_count": null
  },
  {
   "metadata": {},
   "cell_type": "markdown",
   "source": "Bonus: See your processed data visualized in a knowledge graph",
   "id": "fd521e182fb66d49"
  },
  {
   "metadata": {},
   "cell_type": "code",
   "source": [
    "import webbrowser\n",
    "from cognee.api.v1.visualize.visualize import visualize_graph\n",
    "html = await visualize_graph()\n",
    "home_dir = os.path.expanduser(\"~\")\n",
    "html_file = os.path.join(home_dir, \"graph_visualization.html\")\n",
    "display(html_file)\n",
    "webbrowser.open(f\"file://{html_file}\")"
   ],
   "id": "6effdae590b795d3",
   "outputs": [],
   "execution_count": null
  },
  {
   "metadata": {},
   "cell_type": "markdown",
   "source": "For more examples and information on how Cognee GraphRAG works checkout our other more detailed notebooks.",
   "id": "f0945d6f1d962ab"
  }
 ],
 "metadata": {
  "kernelspec": {
   "display_name": "Python 3",
   "language": "python",
   "name": "python3"
  },
  "language_info": {
   "codemirror_mode": {
    "name": "ipython",
    "version": 2
   },
   "file_extension": ".py",
   "mimetype": "text/x-python",
   "name": "python",
   "nbconvert_exporter": "python",
   "pygments_lexer": "ipython2",
   "version": "2.7.6"
  }
 },
 "nbformat": 4,
 "nbformat_minor": 5
}
