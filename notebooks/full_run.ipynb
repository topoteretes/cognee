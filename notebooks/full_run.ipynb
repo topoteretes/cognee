{
  "cells": [
    {
      "cell_type": "code",
      "execution_count": null,
      "id": "aa4e881d",
      "metadata": {},
      "outputs": [],
      "source": [
        "from os import path\n",
        "from cognee import config, prune\n",
        "\n",
        "data_directory_path = path.abspath(\"../.data\")\n",
        "config.data_root_directory(data_directory_path)\n",
        "\n",
        "cognee_directory_path = path.abspath(\"../.cognee_system\")\n",
        "config.system_root_directory(cognee_directory_path)\n",
        "\n",
        "await prune.prune_system()"
      ]
    },
    {
      "cell_type": "code",
      "execution_count": null,
      "id": "38135bf7",
      "metadata": {},
      "outputs": [],
      "source": [
        "from os import path\n",
        "import cognee\n",
        "\n",
        "\n",
        "dataset_name = \"explanations\"\n",
        "await cognee.add([path.abspath(\"../.test_data/Natural language processing.txt\")], dataset_name)\n",
        "\n",
        "\n",
        "dataset_name = \"short_stories\"\n",
        "# data_directory_path is defined above\n",
        "await cognee.add(\"data://\" + data_directory_path, dataset_name)\n",
        "\n",
        "text_1 = \"\"\"A quantum computer is a computer that takes advantage of quantum mechanical phenomena.\n",
        "At small scales, physical matter exhibits properties of both particles and waves, and quantum computing leverages this behavior, specifically quantum superposition and entanglement, using specialized hardware that supports the preparation and manipulation of quantum states.\n",
        "Classical physics cannot explain the operation of these quantum devices, and a scalable quantum computer could perform some calculations exponentially faster (with respect to input size scaling) than any modern \"classical\" computer. In particular, a large-scale quantum computer could break widely used encryption schemes and aid physicists in performing physical simulations; however, the current state of the technology is largely experimental and impractical, with several obstacles to useful applications. Moreover, scalable quantum computers do not hold promise for many practical tasks, and for many important tasks quantum speedups are proven impossible.\n",
        "The basic unit of information in quantum computing is the qubit, similar to the bit in traditional digital electronics. Unlike a classical bit, a qubit can exist in a superposition of its two \"basis\" states. When measuring a qubit, the result is a probabilistic output of a classical bit, therefore making quantum computers nondeterministic in general. If a quantum computer manipulates the qubit in a particular way, wave interference effects can amplify the desired measurement results. The design of quantum algorithms involves creating procedures that allow a quantum computer to perform calculations efficiently and quickly.\n",
        "Physically engineering high-quality qubits has proven challenging. If a physical qubit is not sufficiently isolated from its environment, it suffers from quantum decoherence, introducing noise into calculations. Paradoxically, perfectly isolating qubits is also undesirable because quantum computations typically need to initialize qubits, perform controlled qubit interactions, and measure the resulting quantum states. Each of those operations introduces errors and suffers from noise, and such inaccuracies accumulate.\n",
        "In principle, a non-quantum (classical) computer can solve the same computational problems as a quantum computer, given enough time. Quantum advantage comes in the form of time complexity rather than computability, and quantum complexity theory shows that some quantum algorithms for carefully selected tasks require exponentially fewer computational steps than the best known non-quantum algorithms. Such tasks can in theory be solved on a large-scale quantum computer whereas classical computers would not finish computations in any reasonable amount of time. However, quantum speedup is not universal or even typical across computational tasks, since basic tasks such as sorting are proven to not allow any asymptotic quantum speedup. Claims of quantum supremacy have drawn significant attention to the discipline, but are demonstrated on contrived tasks, while near-term practical use cases remain limited.\n",
        "\"\"\"\n",
        "\n",
        "text_2 = \"\"\"A large language model (LLM) is a language model notable for its ability to achieve general-purpose language generation and other natural language processing tasks such as classification. LLMs acquire these abilities by learning statistical relationships from text documents during a computationally intensive self-supervised and semi-supervised training process. LLMs can be used for text generation, a form of generative AI, by taking an input text and repeatedly predicting the next token or word.\n",
        "LLMs are artificial neural networks. The largest and most capable, as of March 2024, are built with a decoder-only transformer-based architecture while some recent implementations are based on other architectures, such as recurrent neural network variants and Mamba (a state space model).\n",
        "Up to 2020, fine tuning was the only way a model could be adapted to be able to accomplish specific tasks. Larger sized models, such as GPT-3, however, can be prompt-engineered to achieve similar results.[6] They are thought to acquire knowledge about syntax, semantics and \"ontology\" inherent in human language corpora, but also inaccuracies and biases present in the corpora.\n",
        "Some notable LLMs are OpenAI's GPT series of models (e.g., GPT-3.5 and GPT-4, used in ChatGPT and Microsoft Copilot), Google's PaLM and Gemini (the latter of which is currently used in the chatbot of the same name), xAI's Grok, Meta's LLaMA family of open-source models, Anthropic's Claude models, Mistral AI's open source models, and Databricks' open source DBRX.\n",
        "\"\"\"\n",
        "\n",
        "dataset_name = \"explanations\"\n",
        "await cognee.add(\n",
        "    [\n",
        "        text_1,\n",
        "        text_2\n",
        "    ],\n",
        "    dataset_name\n",
        ")\n",
        "\n",
        "graph = await cognee.cognify(dataset_name)\n"
      ]
    },
    {
      "cell_type": "code",
      "execution_count": null,
      "id": "44603a2a",
      "metadata": {},
      "outputs": [],
      "source": [
        "import cognee\n",
        "\n",
        "print(cognee.datasets.list_datasets())\n",
        "\n",
        "explanations = cognee.datasets.query_data('explanations')\n",
        "print(len(explanations), explanations)\n",
        "\n",
        "stories = cognee.datasets.query_data('short_stories')\n",
        "print(len(stories), stories)"
      ]
    },
    {
      "cell_type": "code",
      "execution_count": null,
      "id": "a81b2bce",
      "metadata": {},
      "outputs": [],
      "source": [
        "from cognee.utils import render_graph\n",
        "\n",
        "await render_graph(graph)"
      ]
    }
  ],
  "metadata": {
    "kernelspec": {
      "display_name": "Python 3 (ipykernel)",
      "language": "python",
      "name": "python3"
    },
    "language_info": {
      "codemirror_mode": {
        "name": "ipython",
        "version": 3
      },
      "file_extension": ".py",
      "mimetype": "text/x-python",
      "name": "python",
      "nbconvert_exporter": "python",
      "pygments_lexer": "ipython3",
      "version": "3.11.8"
    }
  },
  "nbformat": 4,
  "nbformat_minor": 5
}
