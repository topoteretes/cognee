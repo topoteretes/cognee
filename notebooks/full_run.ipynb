{
 "cells": [
  {
   "cell_type": "code",
   "execution_count": 1,
   "id": "aa4e881d",
   "metadata": {
    "ExecuteTime": {
     "end_time": "2024-04-02T07:24:36.813643Z",
     "start_time": "2024-04-02T07:24:33.882814Z"
    }
   },
   "outputs": [],
   "source": [
    "from os import path\n",
    "from cognee import config, prune\n",
    "\n",
    "data_directory_path = path.abspath(\"../.data\")\n",
    "config.data_root_directory(data_directory_path)\n",
    "\n",
    "cognee_directory_path = path.abspath(\"../.cognee_system\")\n",
    "config.system_root_directory(cognee_directory_path)\n",
    "\n",
    "await prune.prune_system()"
   ]
  },
  {
   "cell_type": "code",
   "execution_count": null,
   "id": "38135bf7",
   "metadata": {
    "ExecuteTime": {
     "start_time": "2024-04-02T07:24:36.815938Z"
    }
   },
   "outputs": [
    {
     "name": "stderr",
     "output_type": "stream",
     "text": [
      "/Users/vasa/Projects/cognee/.venv/lib/python3.11/site-packages/dlt/common/configuration/container.py:94: DeprecationWarning: currentThread() is deprecated, use current_thread() instead\n",
      "  if m := re.match(r\"dlt-pool-(\\d+)-\", threading.currentThread().getName()):\n",
      "/Users/vasa/Projects/cognee/.venv/lib/python3.11/site-packages/dlt/common/configuration/container.py:94: DeprecationWarning: getName() is deprecated, get the name attribute instead\n",
      "  if m := re.match(r\"dlt-pool-(\\d+)-\", threading.currentThread().getName()):\n"
     ]
    },
    {
     "name": "stdout",
     "output_type": "stream",
     "text": [
      "Creating default graph\n",
      "OOOOO []\n",
      "[{'id': 'a27bb4fa-897e-53a5-94ca-b446e1d33dbf', 'name': 'Natural language processing', 'file_path': '/Users/vasa/Projects/cognee/.data/explanations/Natural language processing.txt', 'extension': 'txt', 'mime_type': 'text/plain', 'keywords': 'language|processing|subfield|computer|science|information|retrieval|ability|corpora|speech|machine|goal|capable|citation|technology'}, {'id': '062c22df-d99b-599f-90cd-2d325c8bcf69', 'name': '062c22df-d99b-599f-90cd-2d325c8bcf69', 'file_path': '/Users/vasa/Projects/cognee/.data/explanations/062c22df-d99b-599f-90cd-2d325c8bcf69.txt', 'extension': 'txt', 'mime_type': 'text/plain', 'keywords': 'quantum|computer|advantage|phenomena|matter|behavior|superposition|entanglement|hardware|preparation|manipulation|operation|respect|size|encryption'}, {'id': '6dfe01b6-07d2-5b77-83c8-1d6c11ce2aa7', 'name': '6dfe01b6-07d2-5b77-83c8-1d6c11ce2aa7', 'file_path': '/Users/vasa/Projects/cognee/.data/explanations/6dfe01b6-07d2-5b77-83c8-1d6c11ce2aa7.txt', 'extension': 'txt', 'mime_type': 'text/plain', 'keywords': 'language|model|ability|generation|classification|training|process|form|input|text|token|word|architecture|network|state'}]\n",
      "Processing document (a27bb4fa-897e-53a5-94ca-b446e1d33dbf)\n",
      "WE ARE HERE\n",
      "Processing document (062c22df-d99b-599f-90cd-2d325c8bcf69)\n",
      "WE ARE HERE\n",
      "Processing document (6dfe01b6-07d2-5b77-83c8-1d6c11ce2aa7)\n",
      "WE ARE HERE\n"
     ]
    },
    {
     "name": "stderr",
     "output_type": "stream",
     "text": [
      "/Users/vasa/Projects/cognee/.venv/lib/python3.11/site-packages/pydantic/json_schema.py:307: ResourceWarning: unclosed <socket.socket fd=84, family=2, type=1, proto=6, laddr=('192.168.178.143', 65362), raddr=('104.18.6.192', 443)>\n",
      "  if self._config.json_schema_mode_override is not None:\n",
      "ResourceWarning: Enable tracemalloc to get the object allocation traceback\n",
      "/opt/homebrew/Cellar/python@3.11/3.11.6_1/Frameworks/Python.framework/Versions/3.11/lib/python3.11/asyncio/selector_events.py:864: ResourceWarning: unclosed transport <_SelectorSocketTransport fd=84 read=idle write=<idle, bufsize=0>>\n",
      "  _warn(f\"unclosed transport {self!r}\", ResourceWarning, source=self)\n",
      "ResourceWarning: Enable tracemalloc to get the object allocation traceback\n",
      "/opt/homebrew/Cellar/python@3.11/3.11.6_1/Frameworks/Python.framework/Versions/3.11/lib/python3.11/asyncio/selector_events.py:864: ResourceWarning: unclosed transport <_SelectorSocketTransport fd=89 read=idle write=<idle, bufsize=0>>\n",
      "  _warn(f\"unclosed transport {self!r}\", ResourceWarning, source=self)\n",
      "ResourceWarning: Enable tracemalloc to get the object allocation traceback\n",
      "/opt/homebrew/Cellar/python@3.11/3.11.6_1/Frameworks/Python.framework/Versions/3.11/lib/python3.11/asyncio/selector_events.py:864: ResourceWarning: unclosed transport <_SelectorSocketTransport fd=90 read=idle write=<idle, bufsize=0>>\n",
      "  _warn(f\"unclosed transport {self!r}\", ResourceWarning, source=self)\n",
      "ResourceWarning: Enable tracemalloc to get the object allocation traceback\n"
     ]
    },
    {
     "name": "stdout",
     "output_type": "stream",
     "text": [
      "Document (062c22df-d99b-599f-90cd-2d325c8bcf69) categorized: ['Research papers and academic publications']\n",
      "Document (a27bb4fa-897e-53a5-94ca-b446e1d33dbf) categorized: ['Research papers and academic publications']\n",
      "Document (6dfe01b6-07d2-5b77-83c8-1d6c11ce2aa7) categorized: ['Articles, essays, and reports']\n",
      "Layer graphs generated %s [{'{\"layer\": \"Metadata Layer\"}': KnowledgeGraph(nodes=[Node(id='quantumComputer', description='A computer that takes advantage of quantum mechanical phenomena, leveraging behaviors like quantum superposition and entanglement with specialized hardware.', category='entity', color='blue', memory_type='semantic', created_at=None, summarized=None), Node(id='quantumMechanicalPhenomena', description='Phenomena observed at small scales where physical matter exhibits properties of both particles and waves.', category='concept', color='blue', memory_type='semantic', created_at=None, summarized=None), Node(id='quantumSuperposition', description='A quantum state where a particle can exist in multiple states at the same time, leveraged in quantum computing.', category='concept', color='blue', memory_type='semantic', created_at=None, summarized=None), Node(id='quantumEntanglement', description='A quantum state where pairs or groups of particles cannot be described independently, leveraged in quantum computing.', category='concept', color='blue', memory_type='semantic', created_at=None, summarized=None), Node(id='classicalPhysics', description='The physics that cannot explain the operation of quantum devices.', category='concept', color='blue', memory_type='semantic', created_at=None, summarized=None), Node(id='scalableQuantumComputer', description='A quantum computer that could perform certain calculations exponentially faster than classical computers, potentially breaking encryption schemes.', category='entity', color='blue', memory_type='semantic', created_at=None, summarized=None), Node(id='quantumDecoherence', description='The process by which a quantum system loses its quantum properties due to interaction with the environment, introducing noise into calculations.', category='concept', color='blue', memory_type='semantic', created_at=None, summarized=None), Node(id='qubit', description='The fundamental unit of information in quantum computing, capable of existing in a superposition of two basis states.', category='entity', color='blue', memory_type='semantic', created_at=None, summarized=None), Node(id='quantumAlgorithm', description='A procedure allowing a quantum computer to perform calculations efficiently and quickly.', category='entity', color='blue', memory_type='semantic', created_at=None, summarized=None), Node(id='quantumAdvantage', description='The benefit derived from the time complexity of a quantum computer as opposed to computability, where some algorithms require exponentially fewer steps.', category='concept', color='blue', memory_type='semantic', created_at=None, summarized=None), Node(id='quantumComplexityTheory', description='A field of study that shows some quantum algorithms for selected tasks require exponentially fewer computational steps than non-quantum algorithms.', category='entity', color='blue', memory_type='semantic', created_at=None, summarized=None), Node(id='quantumSupremacy', description='The claim that quantum computers can perform tasks no classical computer can achieve in any reasonable amount of time, mainly on contrived tasks as of now.', category='concept', color='blue', memory_type='semantic', created_at=None, summarized=None)], edges=[Edge(source='quantumComputer', target='quantumMechanicalPhenomena', description='leverages', color='blue', created_at=None, summarized=None), Edge(source='quantumComputer', target='quantumSuperposition', description='utilizes', color='blue', created_at=None, summarized=None), Edge(source='quantumComputer', target='quantumEntanglement', description='utilizes', color='blue', created_at=None, summarized=None), Edge(source='quantumComputer', target='scalableQuantumComputer', description='is scalable to become', color='blue', created_at=None, summarized=None), Edge(source='scalableQuantumComputer', target='classicalPhysics', description='cannot be explained by', color='blue', created_at=None, summarized=None), Edge(source='quantumComputer', target='qubit', description='uses', color='blue', created_at=None, summarized=None), Edge(source='qubit', target='quantumDecoherence', description='suffers from', color='blue', created_at=None, summarized=None), Edge(source='quantumComputer', target='quantumAlgorithm', description='operates using', color='blue', created_at=None, summarized=None), Edge(source='quantumComputer', target='quantumAdvantage', description='aims to achieve', color='blue', created_at=None, summarized=None), Edge(source='quantumAdvantage', target='quantumComplexityTheory', description='backed by', color='blue', created_at=None, summarized=None), Edge(source='quantumSupremacy', target='quantumComputer', description='goal of', color='blue', created_at=None, summarized=None)])}, {'{\"layer\": \"Content Layer\"}': KnowledgeGraph(nodes=[Node(id='quantumComputer', description='A computer that leverages quantum mechanical phenomena', category='entity', color='blue', memory_type='semantic', created_at=None, summarized=None), Node(id='quantumPhenomena', description='Quantum mechanical properties leveraged by quantum computing, such as quantum superposition and entanglement', category='entity', color='blue', memory_type='semantic', created_at=None, summarized=None), Node(id='classicalPhysics', description='Branch of physics that cannot explain the operation of quantum devices', category='entity', color='blue', memory_type='semantic', created_at=None, summarized=None), Node(id='scalableQuantumComputer', description='A quantum computer that could perform certain calculations exponentially faster than classical computers', category='entity', color='blue', memory_type='semantic', created_at=None, summarized=None), Node(id='encryptionSchemes', description='Security measures that could be broken by large-scale quantum computers', category='entity', color='blue', memory_type='semantic', created_at=None, summarized=None), Node(id='physicalSimulations', description='Simulations that could be improved with the aid of quantum computers', category='entity', color='blue', memory_type='semantic', created_at=None, summarized=None), Node(id='currentTechState', description='The current experimental and impractical state of quantum computing technology', category='entity', color='blue', memory_type='semantic', created_at=None, summarized=None), Node(id='practicalTasksQuantumComputing', description='Many practical tasks where scalable quantum computers do not hold promise and quantum speedups are impossible', category='entity', color='blue', memory_type='semantic', created_at=None, summarized=None), Node(id='qubit', description='The basic unit of information in quantum computing, capable of existing in a superposition of its basis states', category='entity', color='blue', memory_type='semantic', created_at=None, summarized=None), Node(id='classicalBit', description='The basic unit of information in traditional digital electronics', category='entity', color='blue', memory_type='semantic', created_at=None, summarized=None), Node(id='waveInterference', description='A phenomenon that quantum computers can use to amplify desired measurement results', category='entity', color='blue', memory_type='semantic', created_at=None, summarized=None), Node(id='quantumAlgorithms', description='Procedures that allow quantum computers to perform calculations efficiently and quickly', category='entity', color='blue', memory_type='semantic', created_at=None, summarized=None), Node(id='quantumDecoherence', description=\"A disruption in a qubit's state caused by the environment, introducing noise into calculations\", category='entity', color='blue', memory_type='semantic', created_at=None, summarized=None), Node(id='quantumAdvantage', description='The benefit that quantum computers have over classical computers in terms of time complexity for certain tasks', category='entity', color='blue', memory_type='semantic', created_at=None, summarized=None), Node(id='quantumComplexityTheory', description='A field that demonstrates some quantum algorithms require exponentially fewer steps than non-quantum algorithms', category='entity', color='blue', memory_type='semantic', created_at=None, summarized=None), Node(id='quantumSupremacy', description='The claim that quantum computers can perform tasks that classical computers cannot do in any reasonable time', category='entity', color='blue', memory_type='semantic', created_at=None, summarized=None), Node(id='sorting', description='A basic task for which quantum computers do not offer any asymptotic speedup', category='entity', color='blue', memory_type='semantic', created_at=None, summarized=None)], edges=[Edge(source='quantumComputer', target='quantumPhenomena', description='manipulates and uses', color='blue', created_at=None, summarized=None), Edge(source='quantumPhenomena', target='classicalPhysics', description='not explained by', color='blue', created_at=None, summarized=None), Edge(source='scalableQuantumComputer', target='encryptionSchemes', description='could break', color='blue', created_at=None, summarized=None), Edge(source='scalableQuantumComputer', target='physicalSimulations', description='could aid in', color='blue', created_at=None, summarized=None), Edge(source='scalableQuantumComputer', target='currentTechState', description='status contrasted by', color='blue', created_at=None, summarized=None), Edge(source='scalableQuantumComputer', target='practicalTasksQuantumComputing', description='does not improve', color='blue', created_at=None, summarized=None), Edge(source='qubit', target='classicalBit', description='quantum analog of', color='blue', created_at=None, summarized=None), Edge(source='qubit', target='waveInterference', description='results amplified by', color='blue', created_at=None, summarized=None), Edge(source='qubit', target='quantumAlgorithms', description='manipulation key to', color='blue', created_at=None, summarized=None), Edge(source='qubit', target='quantumDecoherence', description='affected by', color='blue', created_at=None, summarized=None), Edge(source='quantumAdvantage', target='quantumComplexityTheory', description='evidenced by', color='blue', created_at=None, summarized=None), Edge(source='quantumAdvantage', target='sorting', description='not applicable to', color='blue', created_at=None, summarized=None), Edge(source='quantumSupremacy', target='quantumAdvantage', description='form of', color='blue', created_at=None, summarized=None)])}, {'{\"layer\": \"Conceptual Layer\"}': KnowledgeGraph(nodes=[Node(id='quantumComputer', description='A computer that utilizes quantum mechanical phenomena', category='entity', color='blue', memory_type='semantic', created_at=None, summarized=None), Node(id='quantumSuperposition', description='A fundamental principle of quantum mechanics where a physical system exists in multiple states at once', category='entity', color='blue', memory_type='semantic', created_at=None, summarized=None), Node(id='quantumEntanglement', description='A quantum mechanical phenomenon where particles remain interconnected, sharing physical states no matter the distance between them', category='entity', color='blue', memory_type='semantic', created_at=None, summarized=None), Node(id='classicalPhysics', description='The body of physics that does not account for quantum mechanics', category='entity', color='blue', memory_type='semantic', created_at=None, summarized=None), Node(id='scalableQuantumComputer', description='A quantum computer that can perform operations over an arbitrarily large amount of data or number of qubits', category='entity', color='blue', memory_type='semantic', created_at=None, summarized=None), Node(id='qubit', description='The basic unit of information in quantum computing, akin to the bit in traditional computing', category='entity', color='blue', memory_type='semantic', created_at=None, summarized=None), Node(id='classicalBit', description='The basic unit of information in traditional digital electronics', category='entity', color='blue', memory_type='semantic', created_at=None, summarized=None), Node(id='quantumAlgorithm', description='A procedure developed for quantum computers to efficiently and quickly perform calculations', category='entity', color='blue', memory_type='semantic', created_at=None, summarized=None), Node(id='quantumDecoherence', description='The loss of quantum coherence; when qubits interacting with their environment leads to noise in quantum calculations', category='entity', color='blue', memory_type='semantic', created_at=None, summarized=None), Node(id='quantumAdvantage', description='The ability of quantum computers to solve problems faster than classical computers in terms of time complexity', category='entity', color='blue', memory_type='semantic', created_at=None, summarized=None), Node(id='quantumComplexityTheory', description='A branch of computational theory that deals with the complexity of quantum algorithms compared to classical algorithms', category='entity', color='blue', memory_type='semantic', created_at=None, summarized=None), Node(id='quantumSupremacy', description='The milestone where a quantum computer can solve a problem that no classical computer can solve in any reasonable amount of time', category='entity', color='blue', memory_type='semantic', created_at=None, summarized=None)], edges=[Edge(source='quantumComputer', target='quantumSuperposition', description='Leverages', color='blue', created_at=None, summarized=None), Edge(source='quantumComputer', target='quantumEntanglement', description='Leverages', color='blue', created_at=None, summarized=None), Edge(source='quantumCompute', target='classicalPhysics', description='Cannot be explained by', color='blue', created_at=None, summarized=None), Edge(source='scalableQuantumComputer', target='quantumComputer', description='Could perform calculations exponentially faster than', color='blue', created_at=None, summarized=None), Edge(source='qubit', target='quantumComputer', description='Used by', color='blue', created_at=None, summarized=None), Edge(source='qubit', target='classicalBit', description='Similar to', color='blue', created_at=None, summarized=None), Edge(source='quantumAlgorithm', target='quantumComputer', description='Designed for', color='blue', created_at=None, summarized=None), Edge(source='quantumDecoherence', target='qubit', description='Affects', color='blue', created_at=None, summarized=None), Edge(source='quantumAdvantage', target='quantumComplexityTheory', description='Defined by', color='blue', created_at=None, summarized=None), Edge(source='quantumAdvantage', target='quantumComputer', description='Offered by', color='blue', created_at=None, summarized=None), Edge(source='quantumSupremacy', target='quantumComputer', description='Claimed by', color='blue', created_at=None, summarized=None)])}, {'{\"layer\": \"Contextual Layer\"}': KnowledgeGraph(nodes=[Node(id='quantumComputer', description='A computer that takes advantage of quantum mechanical phenomena.', category='entity', color='blue', memory_type='semantic', created_at=None, summarized=None), Node(id='quantumMechanicalPhenomena', description='Physical matter exhibits properties of both particles and waves at small scales.', category='concept', color='blue', memory_type='semantic', created_at=None, summarized=None), Node(id='quantumSuperposition', description='A fundamental principle of quantum mechanics where particles can exist in multiple states simultaneously.', category='concept', color='blue', memory_type='semantic', created_at=None, summarized=None), Node(id='quantumEntanglement', description='A quantum mechanical phenomenon where particles remain interconnected, sharing their physical states regardless of the distance separating them.', category='concept', color='blue', memory_type='semantic', created_at=None, summarized=None), Node(id='classicalPhysics', description='A branch of physics that deals with matter and energy at the macroscopic level.', category='concept', color='blue', memory_type='semantic', created_at=None, summarized=None), Node(id='encryptionSchemes', description='Methods used to encode messages or information in a way that only authorized parties can access it.', category='concept', color='blue', memory_type='semantic', created_at=None, summarized=None), Node(id='physicalSimulations', description='The use of computational models to recreate and analyze complex physical phenomena.', category='concept', color='blue', memory_type='semantic', created_at=None, summarized=None), Node(id='qubit', description='The basic unit of information in quantum computing, akin to the bit in traditional digital electronics.', category='entity', color='blue', memory_type='semantic', created_at=None, summarized=None), Node(id='quantumDecoherence', description='The loss of quantum coherence, when a system transitions from a quantum to a classical state, affected by interactions with the external environment.', category='concept', color='blue', memory_type='semantic', created_at=None, summarized=None), Node(id='quantumAdvantage', description='The superior speed and efficiency of quantum computers in solving certain computational problems compared to classical computers.', category='concept', color='blue', memory_type='semantic', created_at=None, summarized=None), Node(id='quantumComplexityTheory', description='A branch of computational theory that focuses on the resources, like time or memory, required for quantum computation.', category='concept', color='blue', memory_type='semantic', created_at=None, summarized=None), Node(id='quantumSupremacy', description='The milestone where quantum computers can solve problems that classical computers practically cannot within a reasonable timeframe.', category='concept', color='blue', memory_type='semantic', created_at=None, summarized=None)], edges=[Edge(source='quantumComputer', target='quantumMechanicalPhenomena', description='utilizes', color='blue', created_at=None, summarized=None), Edge(source='quantumComputer', target='quantumSuperposition', description='utilizes and leverages behavior of', color='blue', created_at=None, summarized=None), Edge(source='quantumComputer', target='quantumEntanglement', description='utilizes and leverages behavior of', color='blue', created_at=None, summarized=None), Edge(source='quantumComputer', target='classicalPhysics', description='cannot be explained by', color='blue', created_at=None, summarized=None), Edge(source='quantumComputer', target='encryptionSchemes', description='could break widely used', color='blue', created_at=None, summarized=None), Edge(source='quantumComputer', target='physicalSimulations', description='aid in performing', color='blue', created_at=None, summarized=None), Edge(source='qubit', target='quantumComputer', description='is the basic unit of information for', color='blue', created_at=None, summarized=None), Edge(source='quantumDecoherence', target='qubit', description='affects', color='blue', created_at=None, summarized=None), Edge(source='quantumAdvantage', target='quantumComputer', description='presented by, in the form of time complexity', color='blue', created_at=None, summarized=None), Edge(source='quantumComplexityTheory', target='quantumAdvantage', description='shows that some algorithms require fewer steps due to', color='blue', created_at=None, summarized=None), Edge(source='quantumSupremacy', target='quantumComputer', description='is a milestone for', color='blue', created_at=None, summarized=None)])}, {'{\"layer\": \"Citation Layer\"}': KnowledgeGraph(nodes=[Node(id='quantumComputer', description='A computer that takes advantage of quantum mechanical phenomena', category='entity', color='blue', memory_type='semantic', created_at=None, summarized=None), Node(id='quantumMechanicalPhenomena', description='Phenomena at small scales where physical matter exhibits properties of both particles and waves', category='entity', color='blue', memory_type='semantic', created_at=None, summarized=None), Node(id='quantumSuperposition', description='A quantum mechanical phenomenon used in quantum computing', category='entity', color='blue', memory_type='semantic', created_at=None, summarized=None), Node(id='quantumEntanglement', description='A quantum mechanical phenomenon used in quantum computing', category='entity', color='blue', memory_type='semantic', created_at=None, summarized=None), Node(id='classicalPhysics', description='Branch of physics that cannot explain the operation of quantum devices', category='entity', color='blue', memory_type='semantic', created_at=None, summarized=None), Node(id='quantumAlgorithms', description='Procedures that allow quantum computers to perform calculations efficiently and quickly', category='entity', color='blue', memory_type='semantic', created_at=None, summarized=None), Node(id='qubit', description='The basic unit of information in quantum computing, representing a two-state quantum-mechanical system', category='entity', color='blue', memory_type='semantic', created_at=None, summarized=None), Node(id='quantumDecoherence', description='The loss of quantum coherence in qubits, introducing noise into calculations', category='entity', color='blue', memory_type='semantic', created_at=None, summarized=None), Node(id='quantumComplexityTheory', description='A field of theoretical computer science that studies the number of steps required to perform quantum computations', category='entity', color='blue', memory_type='semantic', created_at=None, summarized=None), Node(id='quantumAdvantage', description='The advantage quantum computers have over classical computers in terms of time complexity', category='entity', color='blue', memory_type='semantic', created_at=None, summarized=None), Node(id='quantumSupremacy', description='The potential ability of quantum computing devices to solve problems that classical computers practically cannot', category='entity', color='blue', memory_type='semantic', created_at=None, summarized=None)], edges=[Edge(source='quantumComputer', target='quantumMechanicalPhenomena', description='utilizes', color='blue', created_at=None, summarized=None), Edge(source='quantumComputer', target='quantumSuperposition', description='leverages', color='blue', created_at=None, summarized=None), Edge(source='quantumComputer', target='quantumEntanglement', description='leverages', color='blue', created_at=None, summarized=None), Edge(source='quantumComputer', target='classicalPhysics', description='cannot be explained by', color='blue', created_at=None, summarized=None), Edge(source='quantumComputer', target='quantumAlgorithms', description='performs calculations utilizing', color='blue', created_at=None, summarized=None), Edge(source='quantumComputer', target='qubit', description='uses as a basic unit of information', color='blue', created_at=None, summarized=None), Edge(source='qubit', target='quantumDecoherence', description='suffers from', color='blue', created_at=None, summarized=None), Edge(source='quantumComputer', target='quantumComplexityTheory', description='is studied by', color='blue', created_at=None, summarized=None), Edge(source='quantumComputer', target='quantumAdvantage', description='can achieve', color='blue', created_at=None, summarized=None), Edge(source='quantumComputer', target='quantumSupremacy', description='could potentially achieve', color='blue', created_at=None, summarized=None)])}, {'{\"layer\": \"Semantic Layer\"}': KnowledgeGraph(nodes=[Node(id='quantumComputer', description='A computer that utilizes quantum mechanical phenomena.', category='entity', color='blue', memory_type='semantic', created_at=None, summarized=None), Node(id='quantumMechanics', description='Branch of physics describing physical matter at small scales, having properties of particles and waves.', category='entity', color='blue', memory_type='semantic', created_at=None, summarized=None), Node(id='quantumSuperposition', description='A fundamental principle of quantum mechanics where a quantum system can exist in multiple states at once.', category='entity', color='blue', memory_type='semantic', created_at=None, summarized=None), Node(id='quantumEntanglement', description='A quantum mechanical phenomenon where quantum states of two or more objects are interconnected.', category='entity', color='blue', memory_type='semantic', created_at=None, summarized=None), Node(id='classicalPhysics', description='Branch of physics based on principles developed before the rise of quantum mechanics.', category='entity', color='blue', memory_type='semantic', created_at=None, summarized=None), Node(id='classicalComputer', description='A computer that operates on classical computational principles, using bits.', category='entity', color='blue', memory_type='semantic', created_at=None, summarized=None), Node(id='encryptionSchemes', description='Methods and protocols to secure data from unauthorized access.', category='entity', color='blue', memory_type='semantic', created_at=None, summarized=None), Node(id='physicalSimulations', description='Computer simulations that mimic physical phenomena.', category='entity', color='blue', memory_type='semantic', created_at=None, summarized=None), Node(id='qubit', description='The basic unit of information in quantum computing, analogous to the bit in classical computing.', category='entity', color='blue', memory_type='semantic', created_at=None, summarized=None), Node(id='classicalBit', description='The basic unit of information in classical computing, can be either 0 or 1.', category='entity', color='blue', memory_type='semantic', created_at=None, summarized=None), Node(id='quantumAlgorithms', description='Procedures designed to perform calculations on a quantum computer efficiently and quickly.', category='entity', color='blue', memory_type='semantic', created_at=None, summarized=None), Node(id='quantumDecoherence', description='A process in quantum computing where qubits lose their quantum properties due to interaction with the environment.', category='entity', color='blue', memory_type='semantic', created_at=None, summarized=None), Node(id='quantumAdvantage', description='The superiority of quantum computers over classical computers in solving certain problems more efficiently.', category='entity', color='blue', memory_type='semantic', created_at=None, summarized=None), Node(id='quantumComplexityTheory', description='A field of study that investigates the computational complexity of problems and algorithms in the context of quantum computing.', category='entity', color='blue', memory_type='semantic', created_at=None, summarized=None), Node(id='quantumSupremacy', description='The point at which a quantum computer can solve a problem that a classical computer cannot solve in any reasonable amount of time.', category='entity', color='blue', memory_type='semantic', created_at=None, summarized=None)], edges=[Edge(source='quantumComputer', target='quantumMechanics', description='Quantum computers leverage phenomena described by', color='blue', created_at=None, summarized=None), Edge(source='quantumComputer', target='classicalPhysics', description='Cannot explain the operation of quantum computers', color='blue', created_at=None, summarized=None), Edge(source='quantumComputer', target='encryptionSchemes', description='Can potentially break', color='blue', created_at=None, summarized=None), Edge(source='quantumComputer', target='physicalSimulations', description='Can aid in performing', color='blue', created_at=None, summarized=None), Edge(source='quantumComputer', target='quantumAdvantage', description='Has the potential for', color='blue', created_at=None, summarized=None), Edge(source='qubit', target='quantumComputer', description='Is the basic unit of information in', color='blue', created_at=None, summarized=None), Edge(source='qubit', target='classicalBit', description='Is analogous to', color='blue', created_at=None, summarized=None), Edge(source='quantumAlgorithms', target='quantumComputer', description='Are designed for', color='blue', created_at=None, summarized=None), Edge(source='quantumDecoherence', target='qubit', description='Adversely affects', color='blue', created_at=None, summarized=None), Edge(source='quantumAdvantage', target='quantumComplexityTheory', description='Is a topic within', color='blue', created_at=None, summarized=None), Edge(source='quantumSupremacy', target='quantumComputer', description='Is a goal for', color='blue', created_at=None, summarized=None)])}, {'{\"layer\": \"Discourse Layer\"}': KnowledgeGraph(nodes=[Node(id='quantumComputer', description='A computer that takes advantage of quantum mechanical phenomena to perform calculations.', category='entity', color='blue', memory_type='semantic', created_at=None, summarized=None), Node(id='quantumMechanicalPhenomena', description='Physical phenomena observed at small scales, where matter exhibits properties of both particles and waves.', category='entity', color='blue', memory_type='semantic', created_at=None, summarized=None), Node(id='quantumSuperposition', description='A quantum property where a quantum system can exist in multiple states at the same time.', category='entity', color='blue', memory_type='semantic', created_at=None, summarized=None), Node(id='quantumEntanglement', description='A quantum phenomenon where the state of one particle is dependent on the state of another, regardless of distance.', category='entity', color='blue', memory_type='semantic', created_at=None, summarized=None), Node(id='classicalPhysics', description='Branch of physics based on classical concepts that fails to explain the operation of quantum devices.', category='entity', color='blue', memory_type='semantic', created_at=None, summarized=None), Node(id='scalableQuantumComputer', description='A large-scale quantum computer with the potential to perform certain calculations exponentially faster than classical computers.', category='entity', color='blue', memory_type='semantic', created_at=None, summarized=None), Node(id='encryptionSchemes', description='Cryptographic techniques for securing data, potentially vulnerable to large-scale quantum computers.', category='entity', color='blue', memory_type='semantic', created_at=None, summarized=None), Node(id='physicalSimulations', description='Simulations of physical systems and phenomena, an area where quantum computers could aid physicists.', category='entity', color='blue', memory_type='semantic', created_at=None, summarized=None), Node(id='experimentalAndImpractical', description='The current state of quantum computer technology which is largely unfeasible for practical use.', category='entity', color='blue', memory_type='episodic', created_at=None, summarized=None), Node(id='qubit', description='The basic unit of information in quantum computing, analogous to the bit in traditional digital electronics.', category='entity', color='blue', memory_type='semantic', created_at=None, summarized=None), Node(id='bit', description='The basic unit of information in traditional digital electronics, representing a binary state.', category='entity', color='blue', memory_type='semantic', created_at=None, summarized=None), Node(id='superposition', description='Property of a qubit to exist in a superposition of two basis states.', category='entity', color='blue', memory_type='semantic', created_at=None, summarized=None), Node(id='nondeterminism', description='Characteristic of quantum computers where outputs are probabilistic rather than deterministic.', category='entity', color='blue', memory_type='semantic', created_at=None, summarized=None), Node(id='waveInterferenceEffects', description='Phenomena that can be used to amplify desired measurement results in a quantum computer.', category='entity', color='blue', memory_type='semantic', created_at=None, summarized=None), Node(id='quantumAlgorithms', description='Procedures designed to perform calculations efficiently on quantum computers.', category='entity', color='blue', memory_type='semantic', created_at=None, summarized=None), Node(id='quantumDecoherence', description='Loss of coherence in quantum systems when qubits interact with their environment, leading to noise in calculations.', category='entity', color='blue', memory_type='semantic', created_at=None, summarized=None), Node(id='quantumComplexityTheory', description='Theory that studies the time complexity of quantum algorithms and their advantages over classical algorithms.', category='entity', color='blue', memory_type='semantic', created_at=None, summarized=None), Node(id='quantumSpeedup', description='The reduction in time complexity for certain tasks when performed on a quantum computer versus a classical computer.', category='entity', color='blue', memory_type='semantic', created_at=None, summarized=None), Node(id='quantumSupremacy', description='The claim that quantum computers can perform certain computations faster than classical supercomputers.', category='entity', color='blue', memory_type='semantic', created_at=None, summarized=None)], edges=[Edge(source='quantumComputer', target='quantumMechanicalPhenomena', description='utilizes', color='blue', created_at=None, summarized=None), Edge(source='quantumMechanicalPhenomena', target='quantumSuperposition', description='includes', color='blue', created_at=None, summarized=None), Edge(source='quantumMechanicalPhenomena', target='quantumEntanglement', description='includes', color='blue', created_at=None, summarized=None), Edge(source='quantumComputer', target='classicalPhysics', description='cannot be explained by', color='blue', created_at=None, summarized=None), Edge(source='scalableQuantumComputer', target='quantumComputer', description='is a type of', color='blue', created_at=None, summarized=None), Edge(source='scalableQuantumComputer', target='encryptionSchemes', description='could break', color='blue', created_at=None, summarized=None), Edge(source='quantumComputer', target='physicalSimulations', description='could aid in', color='blue', created_at=None, summarized=None), Edge(source='quantumComputer', target='experimentalAndImpractical', description='is currently', color='blue', created_at=None, summarized=None), Edge(source='qubit', target='quantumComputer', description='is the basic unit of', color='blue', created_at=None, summarized=None), Edge(source='qubit', target='bit', description='analogous to', color='blue', created_at=None, summarized=None), Edge(source='qubit', target='superposition', description='can exist in', color='blue', created_at=None, summarized=None), Edge(source='quantumComputer', target='nondeterminism', description='exhibits', color='blue', created_at=None, summarized=None), Edge(source='quantumComputer', target='waveInterferenceEffects', description='can manipulate through', color='blue', created_at=None, summarized=None), Edge(source='quantumComputer', target='quantumAlgorithms', description='operates with', color='blue', created_at=None, summarized=None), Edge(source='quantumComputer', target='quantumDecoherence', description='suffers from', color='blue', created_at=None, summarized=None), Edge(source='quantumComputer', target='quantumComplexityTheory', description='is studied by', color='blue', created_at=None, summarized=None), Edge(source='quantumSpeedup', target='quantumComputer', description='is offered by', color='blue', created_at=None, summarized=None), Edge(source='quantumSupremacy', target='quantumComputer', description='is a concept related to', color='blue', created_at=None, summarized=None)])}, {'{\"layer\": \"Methodology Validation Layer\"}': KnowledgeGraph(nodes=[Node(id='quantumComputer', description='A computer that takes advantage of quantum mechanical phenomena.', category='entity', color='blue', memory_type='semantic', created_at=None, summarized=None), Node(id='quantumMechanics', description='A branch of physics dealing with physical phenomena at nanoscopic scales.', category='entity', color='blue', memory_type='semantic', created_at=None, summarized=None), Node(id='quantumSuperposition', description='A fundamental principle of quantum mechanics where a physical system exists in multiple states at the same time.', category='entity', color='blue', memory_type='semantic', created_at=None, summarized=None), Node(id='quantumEntanglement', description='A physical phenomenon where particles remain interconnected, sharing physical traits regardless of distance.', category='entity', color='blue', memory_type='semantic', created_at=None, summarized=None), Node(id='classicalPhysics', description='The physics of non-quantum systems, typically at macroscopic scales.', category='entity', color='blue', memory_type='semantic', created_at=None, summarized=None), Node(id='quantumAlgorithms', description='Algorithms designed for execution on quantum computers.', category='entity', color='blue', memory_type='semantic', created_at=None, summarized=None), Node(id='quantumAdvantage', description='The potential ability of quantum computers to solve problems faster than classical computers.', category='entity', color='blue', memory_type='semantic', created_at=None, summarized=None), Node(id='qubit', description='The basic unit of information in quantum computing, analogous to the bit in classical computing.', category='entity', color='blue', memory_type='semantic', created_at=None, summarized=None), Node(id='quantumDecoherence', description='The loss of coherence in quantum states, leading to noise in quantum calculations.', category='entity', color='blue', memory_type='semantic', created_at=None, summarized=None), Node(id='quantumComplexityTheory', description='A theory in computational complexity that defines the complexity of quantum computation.', category='entity', color='blue', memory_type='semantic', created_at=None, summarized=None), Node(id='quantumSpeedup', description='The potential for quantum computers to perform tasks more quickly than classical computers.', category='entity', color='blue', memory_type='semantic', created_at=None, summarized=None), Node(id='quantumSupremacy', description='The point where quantum computers can perform tasks that are not feasible for classical computers.', category='entity', color='blue', memory_type='semantic', created_at=None, summarized=None)], edges=[Edge(source='quantumComputer', target='quantumMechanics', description='Quantum computers operate based on principles of quantum mechanics.', color='blue', created_at=None, summarized=None), Edge(source='quantumComputer', target='quantumSuperposition', description='Utilizes quantum superposition.', color='blue', created_at=None, summarized=None), Edge(source='quantumComputer', target='quantumEntanglement', description='Utilizes quantum entanglement.', color='blue', created_at=None, summarized=None), Edge(source='classicalPhysics', target='quantumComputer', description='Cannot explain the operation of quantum computers.', color='blue', created_at=None, summarized=None), Edge(source='quantumComputer', target='quantumAdvantage', description='Could exhibit quantum advantage over classical computers.', color='blue', created_at=None, summarized=None), Edge(source='qubit', target='quantumComputer', description='Is the basic unit of information for quantum computers.', color='blue', created_at=None, summarized=None), Edge(source='quantumDecoherence', target='quantumComputer', description='Affects the performance of quantum computers.', color='blue', created_at=None, summarized=None), Edge(source='quantumComplexityTheory', target='quantumAdvantage', description='Explains the reduced time complexity of quantum algorithms.', color='blue', created_at=None, summarized=None), Edge(source='quantumSpeedup', target='quantumAlgorithm', description='A potential benefit offered by quantum algorithms.', color='blue', created_at=None, summarized=None), Edge(source='quantumSupremacy', target='quantumComputer', description='A milestone for quantum computers to achieve.', color='blue', created_at=None, summarized=None)])}, {'{\"layer\": \"Ethical Consideration Layer\"}': KnowledgeGraph(nodes=[Node(id='ethicalConsiderationsOfQuantumComputing', description='Ethical considerations related to the development and use of quantum computing.', category='topic', color='blue', memory_type='semantic', created_at=None, summarized=None), Node(id='impactOnCryptography', description='The potential impact of quantum computing on breaking widely used encryption schemes.', category='event', color='blue', memory_type='semantic', created_at=None, summarized=None), Node(id='physicalSimulationsAid', description='The role of quantum computing in aiding physicists in performing physical simulations.', category='event', color='blue', memory_type='semantic', created_at=None, summarized=None), Node(id='experimentalStateOfQuantumTechnology', description='The current experimental and impractical state of quantum computing technology.', category='fact', color='blue', memory_type='semantic', created_at=None, summarized=None), Node(id='obstaclesToQuantumApplications', description='Obstacles to practical applications of quantum computing.', category='event', color='blue', memory_type='semantic', created_at=None, summarized=None), Node(id='limitationsOfQuantumComputing', description='The limitations of scalable quantum computers for many practical tasks.', category='fact', color='blue', memory_type='semantic', created_at=None, summarized=None), Node(id='nondeterminismInQuantumComputing', description='The nondeterministic nature of quantum computers due to probabilistic qubit measurements.', category='fact', color='blue', memory_type='semantic', created_at=None, summarized=None), Node(id='quantumDecoherenceAndNoise', description='Quantum decoherence and noise issues resulting from interacting quantum qubits with their environment.', category='problem', color='blue', memory_type='semantic', created_at=None, summarized=None), Node(id='tradeOffsInQubitIsolation', description='The trade-offs between isolating qubits for quantum computations and the introduction of errors through necessary operations.', category='problem', color='blue', memory_type='semantic', created_at=None, summarized=None), Node(id='quantumAdvantage', description='Quantum advantage in terms of time complexity for selected computational tasks.', category='phenomenon', color='blue', memory_type='semantic', created_at=None, summarized=None), Node(id='comparisonWithClassicalComputing', description='Comparison of quantum and classical computing in solving the same computational problems.', category='topic', color='blue', memory_type='semantic', created_at=None, summarized=None), Node(id='quantumComplexityTheory', description='The body of knowledge defining the complexity of quantum algorithms in terms of computational steps.', category='field', color='blue', memory_type='semantic', created_at=None, summarized=None), Node(id='claimsOfQuantumSupremacy', description=\"Claims about quantum computing's superiority over classic computing demonstrated on specific tasks.\", category='event', color='blue', memory_type='semantic', created_at=None, summarized=None), Node(id='practicalUsesOfQuantumComputing', description='The current limited practical use cases of quantum computing in the near term.', category='fact', color='blue', memory_type='semantic', created_at=None, summarized=None)], edges=[Edge(source='ethicalConsiderationsOfQuantumComputing', target='impactOnCryptography', description='considers the ethical implications of', color='blue', created_at=None, summarized=None), Edge(source='ethicalConsiderationsOfQuantumComputing', target='physicalSimulationsAid', description='considers the ethical implications for', color='blue', created_at=None, summarized=None), Edge(source='ethicalConsiderationsOfQuantumComputing', target='experimentalStateOfQuantumTechnology', description='includes the ethical reflection on', color='blue', created_at=None, summarized=None), Edge(source='ethicalConsiderationsOfQuantumComputing', target='obstaclesToQuantumApplications', description='takes into account the ethical perspective on', color='blue', created_at=None, summarized=None), Edge(source='ethicalConsiderationsOfQuantumComputing', target='limitationsOfQuantumComputing', description='entails the ethical considerations of', color='blue', created_at=None, summarized=None), Edge(source='ethicalConsiderationsOfQuantumComputing', target='nondeterminismInQuantumComputing', description='encompasses the ethical aspects of', color='blue', created_at=None, summarized=None), Edge(source='ethicalConsiderationsOfQuantumComputing', target='quantumDecoherenceAndNoise', description='addresses the ethical concerns regarding', color='blue', created_at=None, summarized=None), Edge(source='ethicalConsiderationsOfQuantumComputing', target='tradeOffsInQubitIsolation', description='highlights the ethical trade-offs involving', color='blue', created_at=None, summarized=None), Edge(source='ethicalConsiderationsOfQuantumComputing', target='quantumAdvantage', description='considers the ethical dimension of', color='blue', created_at=None, summarized=None), Edge(source='ethicalConsiderationsOfQuantumComputing', target='comparisonWithClassicalComputing', description='includes ethical discussions about', color='blue', created_at=None, summarized=None), Edge(source='ethicalConsiderationsOfQuantumComputing', target='quantumComplexityTheory', description='addresses the ethical implications of', color='blue', created_at=None, summarized=None), Edge(source='ethicalConsiderationsOfQuantumComputing', target='claimsOfQuantumSupremacy', description='contemplates the ethical aspects of', color='blue', created_at=None, summarized=None), Edge(source='ethicalConsiderationsOfQuantumComputing', target='practicalUsesOfQuantumComputing', description='considers the ethical perspective on', color='blue', created_at=None, summarized=None)])}, {'{\"layer\": \"Data Provenance Layer\"}': KnowledgeGraph(nodes=[Node(id='quantumComputer', description='A quantum computer is a computer that takes advantage of quantum mechanical phenomena.', category='entity', color='blue', memory_type='semantic', created_at=None, summarized=None), Node(id='quantumMechanicalPhenomena', description='At small scales, physical matter exhibits properties of both particles and waves, which quantum computing leverages.', category='entity', color='blue', memory_type='semantic', created_at=None, summarized=None), Node(id='quantumSuperposition', description='Quantum superposition is a behavior of matter at quantum scales, used in quantum computing.', category='entity', color='blue', memory_type='semantic', created_at=None, summarized=None), Node(id='quantumEntanglement', description='Quantum entanglement is a phenomenon where particles are interconnected, leveraged in quantum computing.', category='entity', color='blue', memory_type='semantic', created_at=None, summarized=None), Node(id='specializedHardware', description='Specialized hardware supports the preparation and manipulation of quantum states.', category='entity', color='blue', memory_type='semantic', created_at=None, summarized=None), Node(id='classicalPhysics', description='Classical physics cannot explain the operation of quantum devices.', category='entity', color='blue', memory_type='semantic', created_at=None, summarized=None), Node(id='scalableQuantumComputer', description='A scalable quantum computer could perform calculations much faster than classical computers.', category='entity', color='blue', memory_type='semantic', created_at=None, summarized=None), Node(id='encryptionSchemes', description='Widely used encryption schemes could be broken by a large-scale quantum computer.', category='entity', color='blue', memory_type='semantic', created_at=None, summarized=None), Node(id='physicalSimulations', description='Aid physicists in performing physical simulations is one of the potential applications of quantum computers.', category='entity', color='blue', memory_type='semantic', created_at=None, summarized=None), Node(id='currentTechnology', description='The current state of quantum computing technology is largely experimental and impractical.', category='entity', color='blue', memory_type='semantic', created_at=None, summarized=None), Node(id='qubit', description='The qubit is the basic unit of information in quantum computing, analogous to the bit in traditional computing but capable of existing in a superposition of states.', category='entity', color='blue', memory_type='semantic', created_at=None, summarized=None), Node(id='classicalBit', description='A classical bit is a basic unit of information in traditional digital electronics.', category='entity', color='blue', memory_type='semantic', created_at=None, summarized=None), Node(id='waveInterferenceEffects', description='Wave interference effects can be used in quantum computing to amplify desired measurement results.', category='entity', color='blue', memory_type='semantic', created_at=None, summarized=None), Node(id='quantumAlgorithms', description='Quantum algorithms allow quantum computers to perform calculations efficiently and quickly.', category='entity', color='blue', memory_type='semantic', created_at=None, summarized=None), Node(id='quantumDecoherence', description='Quantum decoherence occurs when qubits are not sufficiently isolated, introducing noise into calculations.', category='entity', color='blue', memory_type='semantic', created_at=None, summarized=None), Node(id='quantumAdvantage', description='Quantum advantage lies in time complexity, making some quantum algorithms exponentially more efficient than non-quantum algorithms.', category='entity', color='blue', memory_type='semantic', created_at=None, summarized=None), Node(id='quantumComplexityTheory', description='Quantum complexity theory shows the computational advantages of quantum algorithms for certain tasks.', category='entity', color='blue', memory_type='semantic', created_at=None, summarized=None), Node(id='quantumSupremacy', description='Claims of quantum supremacy highlight the computational potential of quantum computers on specialized tasks.', category='entity', color='blue', memory_type='semantic', created_at=None, summarized=None)], edges=[Edge(source='quantumComputer', target='quantumMechanicalPhenomena', description='Uses phenomena', color='blue', created_at=None, summarized=None), Edge(source='quantumComputer', target='specializedHardware', description='Utilizes hardware', color='blue', created_at=None, summarized=None), Edge(source='quantumComputer', target='scalableQuantumComputer', description='Eventually becomes', color='blue', created_at=None, summarized=None), Edge(source='scalableQuantumComputer', target='encryptionSchemes', description='Could break', color='blue', created_at=None, summarized=None), Edge(source='scalableQuantumComputer', target='physicalSimulations', description='Could aid in', color='blue', created_at=None, summarized=None), Edge(source='quantumComputer', target='quantumAlgorithms', description='Runs on', color='blue', created_at=None, summarized=None), Edge(source='quantumComputer', target='currentTechnology', description='Current state', color='blue', created_at=None, summarized=None), Edge(source='qubit', target='classicalBit', description='Quantum version of', color='blue', created_at=None, summarized=None), Edge(source='qubit', target='quantumDecoherence', description='Suffers from', color='blue', created_at=None, summarized=None), Edge(source='quantumComputer', target='quantumAdvantage', description='Offers', color='blue', created_at=None, summarized=None), Edge(source='quantumAdvantage', target='quantumComplexityTheory', description='Supported by', color='blue', created_at=None, summarized=None), Edge(source='quantumMechanicalPhenomena', target='quantumSuperposition', description='Includes', color='blue', created_at=None, summarized=None), Edge(source='quantumMechanicalPhenomena', target='quantumEntanglement', description='Includes', color='blue', created_at=None, summarized=None), Edge(source='quantumComputer', target='quantumSupremacy', description='Related to claims of', color='blue', created_at=None, summarized=None)])}, {'{\"layer\": \"Collaboration Layer\"}': KnowledgeGraph(nodes=[Node(id='quantumComputer', description='A computer utilizing quantum mechanical phenomena.', category='entity', color='blue', memory_type='semantic', created_at=None, summarized=None), Node(id='quantumMechanicalPhenomena', description='Physical behavior exhibited at small scales, properties of both particles and waves.', category='entity', color='blue', memory_type='semantic', created_at=None, summarized=None), Node(id='quantumSuperposition', description='A fundamental principle of quantum mechanics where a physical system exists in multiple states at once.', category='entity', color='blue', memory_type='semantic', created_at=None, summarized=None), Node(id='quantumEntanglement', description='A physical phenomenon when pairs or groups of particles are connected and instantaneously affect each other regardless of distance.', category='entity', color='blue', memory_type='semantic', created_at=None, summarized=None), Node(id='classicalPhysics', description='Physics that does not account for quantum mechanics, insufficient for explaining the operation of quantum devices.', category='entity', color='blue', memory_type='semantic', created_at=None, summarized=None), Node(id='qubit', description='The basic unit of information in quantum computing, analogous to the bit in traditional computing.', category='entity', color='blue', memory_type='semantic', created_at=None, summarized=None), Node(id='quantumDecoherence', description='The loss of coherence in a quantum system, detrimental to the stability of qubits.', category='entity', color='blue', memory_type='semantic', created_at=None, summarized=None), Node(id='quantumComplexityTheory', description='A field of theoretical computer science that studies the number of steps required to solve problems using quantum algorithms compared to classical algorithms.', category='entity', color='blue', memory_type='semantic', created_at=None, summarized=None), Node(id='quantumSupremacy', description='The potential ability of quantum computing devices to solve problems that classical computers practically cannot, demonstrated on contrived tasks.', category='entity', color='blue', memory_type='semantic', created_at=None, summarized=None)], edges=[Edge(source='quantumComputer', target='quantumMechanicalPhenomena', description='Utilizes', color='blue', created_at=None, summarized=None), Edge(source='quantumMechanicalPhenomena', target='quantumSuperposition', description='Includes', color='blue', created_at=None, summarized=None), Edge(source='quantumMechanicalPhenomena', target='quantumEntanglement', description='Includes', color='blue', created_at=None, summarized=None), Edge(source='quantumComputer', target='classicalPhysics', description='Cannot be explained by', color='blue', created_at=None, summarized=None), Edge(source='qubit', target='quantumComputer', description='Is a unit of', color='blue', created_at=None, summarized=None), Edge(source='quantumDecoherence', target='qubit', description='Affects', color='blue', created_at=None, summarized=None), Edge(source='quantumComplexityTheory', target='quantumComputer', description='Studies problem-solving steps for', color='blue', created_at=None, summarized=None), Edge(source='quantumSupremacy', target='quantumComputer', description='Relates to the potential ability of', color='blue', created_at=None, summarized=None)])}]\n",
      "Document (062c22df-d99b-599f-90cd-2d325c8bcf69) layer graphs created\n",
      "Could not find mapping for edge from quantumCompute to classicalPhysics\n",
      "Could not find mapping for edge from quantumSpeedup to quantumAlgorithm\n",
      "Document (062c22df-d99b-599f-90cd-2d325c8bcf69) layers connected\n",
      "Document categories, summaries and metadata are:  [{'data_type': 'text', 'layer_name': 'Research papers and academic publications'}]\n",
      "Document metadata is:  {'id': '062c22df-d99b-599f-90cd-2d325c8bcf69', 'name': '062c22df-d99b-599f-90cd-2d325c8bcf69', 'file_path': '/Users/vasa/Projects/cognee/.data/explanations/062c22df-d99b-599f-90cd-2d325c8bcf69.txt', 'extension': 'txt', 'mime_type': 'text/plain', 'keywords': 'quantum|computer|advantage|phenomena|matter|behavior|superposition|entanglement|hardware|preparation|manipulation|operation|respect|size|encryption', 'categories': ['Research papers and academic publications'], 'summary': \"A quantum computer is a device that uses quantum mechanical properties, like superposition and entanglement, to perform calculations. It operates on qubits, which allow probabilistic, often faster processing than classical computers for certain tasks. However, practical and scalable quantum computing faces challenges like decoherence and error accumulation in qubits. While quantum computers could theoretically solve certain problems quicker, known as quantum advantage, this speedup isn't universal across all computational tasks. Current technological status is largely experimental, with limited practical applications.\", 'content_labels': 'Concepts and Characteristics'}\n"
     ]
    },
    {
     "data": {
      "text/plain": "Fetching 7 files:   0%|          | 0/7 [00:00<?, ?it/s]",
      "application/vnd.jupyter.widget-view+json": {
       "version_major": 2,
       "version_minor": 0,
       "model_id": "c2d17daf29c543e99775cca094eb7849"
      }
     },
     "metadata": {},
     "output_type": "display_data"
    },
    {
     "data": {
      "text/plain": "Fetching 7 files:   0%|          | 0/7 [00:00<?, ?it/s]",
      "application/vnd.jupyter.widget-view+json": {
       "version_major": 2,
       "version_minor": 0,
       "model_id": "1624081fed7c4fdf8e5e057885b4a2d3"
      }
     },
     "metadata": {},
     "output_type": "display_data"
    },
    {
     "data": {
      "text/plain": "Fetching 7 files:   0%|          | 0/7 [00:00<?, ?it/s]",
      "application/vnd.jupyter.widget-view+json": {
       "version_major": 2,
       "version_minor": 0,
       "model_id": "fc04540af33b4aa29bda2a202ab2025a"
      }
     },
     "metadata": {},
     "output_type": "display_data"
    },
    {
     "data": {
      "text/plain": "Fetching 7 files:   0%|          | 0/7 [00:00<?, ?it/s]",
      "application/vnd.jupyter.widget-view+json": {
       "version_major": 2,
       "version_minor": 0,
       "model_id": "771d7f5331f446418b9290ccfadc464a"
      }
     },
     "metadata": {},
     "output_type": "display_data"
    },
    {
     "data": {
      "text/plain": "Fetching 7 files:   0%|          | 0/7 [00:00<?, ?it/s]",
      "application/vnd.jupyter.widget-view+json": {
       "version_major": 2,
       "version_minor": 0,
       "model_id": "269c99e9786b421f98258f3481b6be27"
      }
     },
     "metadata": {},
     "output_type": "display_data"
    },
    {
     "data": {
      "text/plain": "Fetching 7 files:   0%|          | 0/7 [00:00<?, ?it/s]",
      "application/vnd.jupyter.widget-view+json": {
       "version_major": 2,
       "version_minor": 0,
       "model_id": "f2700a6e5ecb4f4fa9a41ea3e846436f"
      }
     },
     "metadata": {},
     "output_type": "display_data"
    },
    {
     "data": {
      "text/plain": "Fetching 7 files:   0%|          | 0/7 [00:00<?, ?it/s]",
      "application/vnd.jupyter.widget-view+json": {
       "version_major": 2,
       "version_minor": 0,
       "model_id": "f8fef6c6a958467db2cb4df7c974de59"
      }
     },
     "metadata": {},
     "output_type": "display_data"
    },
    {
     "data": {
      "text/plain": "Fetching 7 files:   0%|          | 0/7 [00:00<?, ?it/s]",
      "application/vnd.jupyter.widget-view+json": {
       "version_major": 2,
       "version_minor": 0,
       "model_id": "3ba41b6e355342b9b4f75118d282697a"
      }
     },
     "metadata": {},
     "output_type": "display_data"
    },
    {
     "data": {
      "text/plain": "Fetching 7 files:   0%|          | 0/7 [00:00<?, ?it/s]",
      "application/vnd.jupyter.widget-view+json": {
       "version_major": 2,
       "version_minor": 0,
       "model_id": "07a3108a0e3b4d20a523422620692d3f"
      }
     },
     "metadata": {},
     "output_type": "display_data"
    },
    {
     "data": {
      "text/plain": "Fetching 7 files:   0%|          | 0/7 [00:00<?, ?it/s]",
      "application/vnd.jupyter.widget-view+json": {
       "version_major": 2,
       "version_minor": 0,
       "model_id": "a39c0ecbf9ad473a80790f2db05ead70"
      }
     },
     "metadata": {},
     "output_type": "display_data"
    },
    {
     "data": {
      "text/plain": "Fetching 7 files:   0%|          | 0/7 [00:00<?, ?it/s]",
      "application/vnd.jupyter.widget-view+json": {
       "version_major": 2,
       "version_minor": 0,
       "model_id": "ab04bc5708f04559b5615055bd65ce79"
      }
     },
     "metadata": {},
     "output_type": "display_data"
    },
    {
     "data": {
      "text/plain": "Fetching 7 files:   0%|          | 0/7 [00:00<?, ?it/s]",
      "application/vnd.jupyter.widget-view+json": {
       "version_major": 2,
       "version_minor": 0,
       "model_id": "997a071f5a864c13b69bdd2344e1a9b0"
      }
     },
     "metadata": {},
     "output_type": "display_data"
    },
    {
     "data": {
      "text/plain": "Fetching 7 files:   0%|          | 0/7 [00:00<?, ?it/s]",
      "application/vnd.jupyter.widget-view+json": {
       "version_major": 2,
       "version_minor": 0,
       "model_id": "3267ec40e133459fbf23ad9f48aa07cc"
      }
     },
     "metadata": {},
     "output_type": "display_data"
    },
    {
     "data": {
      "text/plain": "Fetching 7 files:   0%|          | 0/7 [00:00<?, ?it/s]",
      "application/vnd.jupyter.widget-view+json": {
       "version_major": 2,
       "version_minor": 0,
       "model_id": "48ef063332bb4d52b724ac43a2d622ac"
      }
     },
     "metadata": {},
     "output_type": "display_data"
    },
    {
     "data": {
      "text/plain": "Fetching 7 files:   0%|          | 0/7 [00:00<?, ?it/s]",
      "application/vnd.jupyter.widget-view+json": {
       "version_major": 2,
       "version_minor": 0,
       "model_id": "b9b40c8c11824a1999f3a24ebee4eacf"
      }
     },
     "metadata": {},
     "output_type": "display_data"
    },
    {
     "data": {
      "text/plain": "Fetching 7 files:   0%|          | 0/7 [00:00<?, ?it/s]",
      "application/vnd.jupyter.widget-view+json": {
       "version_major": 2,
       "version_minor": 0,
       "model_id": "a117adc4c39c4128882750c31f670ecc"
      }
     },
     "metadata": {},
     "output_type": "display_data"
    },
    {
     "data": {
      "text/plain": "Fetching 7 files:   0%|          | 0/7 [00:00<?, ?it/s]",
      "application/vnd.jupyter.widget-view+json": {
       "version_major": 2,
       "version_minor": 0,
       "model_id": "f959fe2693194f1abda867a88d832913"
      }
     },
     "metadata": {},
     "output_type": "display_data"
    },
    {
     "data": {
      "text/plain": "Fetching 7 files:   0%|          | 0/7 [00:00<?, ?it/s]",
      "application/vnd.jupyter.widget-view+json": {
       "version_major": 2,
       "version_minor": 0,
       "model_id": "197bf41ed022478280138dc1831b6900"
      }
     },
     "metadata": {},
     "output_type": "display_data"
    },
    {
     "data": {
      "text/plain": "Fetching 7 files:   0%|          | 0/7 [00:00<?, ?it/s]",
      "application/vnd.jupyter.widget-view+json": {
       "version_major": 2,
       "version_minor": 0,
       "model_id": "fcc8ae8604a04c539e7351026b244b42"
      }
     },
     "metadata": {},
     "output_type": "display_data"
    },
    {
     "data": {
      "text/plain": "Fetching 7 files:   0%|          | 0/7 [00:00<?, ?it/s]",
      "application/vnd.jupyter.widget-view+json": {
       "version_major": 2,
       "version_minor": 0,
       "model_id": "ba5b9c6c8bb74a68a1a35b24c2b7e618"
      }
     },
     "metadata": {},
     "output_type": "display_data"
    },
    {
     "data": {
      "text/plain": "Fetching 7 files:   0%|          | 0/7 [00:00<?, ?it/s]",
      "application/vnd.jupyter.widget-view+json": {
       "version_major": 2,
       "version_minor": 0,
       "model_id": "726763e45db64f74b2b163544a2554d3"
      }
     },
     "metadata": {},
     "output_type": "display_data"
    },
    {
     "data": {
      "text/plain": "Fetching 7 files:   0%|          | 0/7 [00:00<?, ?it/s]",
      "application/vnd.jupyter.widget-view+json": {
       "version_major": 2,
       "version_minor": 0,
       "model_id": "3735a78d6a1040fa8b92f1be7c3cd472"
      }
     },
     "metadata": {},
     "output_type": "display_data"
    },
    {
     "data": {
      "text/plain": "Fetching 7 files:   0%|          | 0/7 [00:00<?, ?it/s]",
      "application/vnd.jupyter.widget-view+json": {
       "version_major": 2,
       "version_minor": 0,
       "model_id": "4dae848448f04ddda992e097aa69b016"
      }
     },
     "metadata": {},
     "output_type": "display_data"
    },
    {
     "data": {
      "text/plain": "Fetching 7 files:   0%|          | 0/7 [00:00<?, ?it/s]",
      "application/vnd.jupyter.widget-view+json": {
       "version_major": 2,
       "version_minor": 0,
       "model_id": "1f78799d35db41c3a93d1cc8dda265ed"
      }
     },
     "metadata": {},
     "output_type": "display_data"
    },
    {
     "data": {
      "text/plain": "Fetching 7 files:   0%|          | 0/7 [00:00<?, ?it/s]",
      "application/vnd.jupyter.widget-view+json": {
       "version_major": 2,
       "version_minor": 0,
       "model_id": "1dea1df0890c4fb287097aee42d67840"
      }
     },
     "metadata": {},
     "output_type": "display_data"
    },
    {
     "data": {
      "text/plain": "Fetching 7 files:   0%|          | 0/7 [00:00<?, ?it/s]",
      "application/vnd.jupyter.widget-view+json": {
       "version_major": 2,
       "version_minor": 0,
       "model_id": "9ab8af9fe97d4759a81b9c6c3fa15d77"
      }
     },
     "metadata": {},
     "output_type": "display_data"
    },
    {
     "data": {
      "text/plain": "Fetching 7 files:   0%|          | 0/7 [00:00<?, ?it/s]",
      "application/vnd.jupyter.widget-view+json": {
       "version_major": 2,
       "version_minor": 0,
       "model_id": "b996ab15e956441eaaa2d5d74cea465f"
      }
     },
     "metadata": {},
     "output_type": "display_data"
    },
    {
     "data": {
      "text/plain": "Fetching 7 files:   0%|          | 0/7 [00:00<?, ?it/s]",
      "application/vnd.jupyter.widget-view+json": {
       "version_major": 2,
       "version_minor": 0,
       "model_id": "08042aa917a34308a5c4ba7d2f8206bb"
      }
     },
     "metadata": {},
     "output_type": "display_data"
    },
    {
     "data": {
      "text/plain": "Fetching 7 files:   0%|          | 0/7 [00:00<?, ?it/s]",
      "application/vnd.jupyter.widget-view+json": {
       "version_major": 2,
       "version_minor": 0,
       "model_id": "baea728ecfb14424b91b92dee5202409"
      }
     },
     "metadata": {},
     "output_type": "display_data"
    },
    {
     "data": {
      "text/plain": "Fetching 7 files:   0%|          | 0/7 [00:00<?, ?it/s]",
      "application/vnd.jupyter.widget-view+json": {
       "version_major": 2,
       "version_minor": 0,
       "model_id": "cb17d0487722474fa3b24358ef1080a4"
      }
     },
     "metadata": {},
     "output_type": "display_data"
    },
    {
     "data": {
      "text/plain": "Fetching 7 files:   0%|          | 0/7 [00:00<?, ?it/s]",
      "application/vnd.jupyter.widget-view+json": {
       "version_major": 2,
       "version_minor": 0,
       "model_id": "f99ca83cd8d34531aac1cfb4b70d934a"
      }
     },
     "metadata": {},
     "output_type": "display_data"
    },
    {
     "data": {
      "text/plain": "Fetching 7 files:   0%|          | 0/7 [00:00<?, ?it/s]",
      "application/vnd.jupyter.widget-view+json": {
       "version_major": 2,
       "version_minor": 0,
       "model_id": "d728e61706334f379fd251c4a08b99cd"
      }
     },
     "metadata": {},
     "output_type": "display_data"
    },
    {
     "data": {
      "text/plain": "Fetching 7 files:   0%|          | 0/7 [00:00<?, ?it/s]",
      "application/vnd.jupyter.widget-view+json": {
       "version_major": 2,
       "version_minor": 0,
       "model_id": "f2a7eec274bd4252a25491fda2441579"
      }
     },
     "metadata": {},
     "output_type": "display_data"
    },
    {
     "data": {
      "text/plain": "Fetching 7 files:   0%|          | 0/7 [00:00<?, ?it/s]",
      "application/vnd.jupyter.widget-view+json": {
       "version_major": 2,
       "version_minor": 0,
       "model_id": "4f1eed605cd34446937b89218a96afe5"
      }
     },
     "metadata": {},
     "output_type": "display_data"
    },
    {
     "data": {
      "text/plain": "Fetching 7 files:   0%|          | 0/7 [00:00<?, ?it/s]",
      "application/vnd.jupyter.widget-view+json": {
       "version_major": 2,
       "version_minor": 0,
       "model_id": "098f3393a8864375bfb8fff6a2529a26"
      }
     },
     "metadata": {},
     "output_type": "display_data"
    },
    {
     "data": {
      "text/plain": "Fetching 7 files:   0%|          | 0/7 [00:00<?, ?it/s]",
      "application/vnd.jupyter.widget-view+json": {
       "version_major": 2,
       "version_minor": 0,
       "model_id": "c74da94f438f4836b687176706ffa9d3"
      }
     },
     "metadata": {},
     "output_type": "display_data"
    },
    {
     "data": {
      "text/plain": "Fetching 7 files:   0%|          | 0/7 [00:00<?, ?it/s]",
      "application/vnd.jupyter.widget-view+json": {
       "version_major": 2,
       "version_minor": 0,
       "model_id": "7a1c59ba768a46e0825841c8fabf19aa"
      }
     },
     "metadata": {},
     "output_type": "display_data"
    },
    {
     "data": {
      "text/plain": "Fetching 7 files:   0%|          | 0/7 [00:00<?, ?it/s]",
      "application/vnd.jupyter.widget-view+json": {
       "version_major": 2,
       "version_minor": 0,
       "model_id": "5654dd81ba154bc3a1febfe639e93734"
      }
     },
     "metadata": {},
     "output_type": "display_data"
    },
    {
     "data": {
      "text/plain": "Fetching 7 files:   0%|          | 0/7 [00:00<?, ?it/s]",
      "application/vnd.jupyter.widget-view+json": {
       "version_major": 2,
       "version_minor": 0,
       "model_id": "2260b20453ec43d19bfd6334ea5dc6ce"
      }
     },
     "metadata": {},
     "output_type": "display_data"
    },
    {
     "data": {
      "text/plain": "Fetching 7 files:   0%|          | 0/7 [00:00<?, ?it/s]",
      "application/vnd.jupyter.widget-view+json": {
       "version_major": 2,
       "version_minor": 0,
       "model_id": "69a0361dec434593b1a3525bb46cc868"
      }
     },
     "metadata": {},
     "output_type": "display_data"
    },
    {
     "data": {
      "text/plain": "Fetching 7 files:   0%|          | 0/7 [00:00<?, ?it/s]",
      "application/vnd.jupyter.widget-view+json": {
       "version_major": 2,
       "version_minor": 0,
       "model_id": "2663cd3c0d81481d80975dbae913216f"
      }
     },
     "metadata": {},
     "output_type": "display_data"
    },
    {
     "data": {
      "text/plain": "Fetching 7 files:   0%|          | 0/7 [00:00<?, ?it/s]",
      "application/vnd.jupyter.widget-view+json": {
       "version_major": 2,
       "version_minor": 0,
       "model_id": "f4e1294e7afa41d48e40a0c2295a936c"
      }
     },
     "metadata": {},
     "output_type": "display_data"
    },
    {
     "data": {
      "text/plain": "Fetching 7 files:   0%|          | 0/7 [00:00<?, ?it/s]",
      "application/vnd.jupyter.widget-view+json": {
       "version_major": 2,
       "version_minor": 0,
       "model_id": "ac70f471fed54bdf8a96372995803726"
      }
     },
     "metadata": {},
     "output_type": "display_data"
    },
    {
     "data": {
      "text/plain": "Fetching 7 files:   0%|          | 0/7 [00:00<?, ?it/s]",
      "application/vnd.jupyter.widget-view+json": {
       "version_major": 2,
       "version_minor": 0,
       "model_id": "f2f74fbb96b74f91978ad1de8d33b754"
      }
     },
     "metadata": {},
     "output_type": "display_data"
    },
    {
     "data": {
      "text/plain": "Fetching 7 files:   0%|          | 0/7 [00:00<?, ?it/s]",
      "application/vnd.jupyter.widget-view+json": {
       "version_major": 2,
       "version_minor": 0,
       "model_id": "e0d2cb2ad548441da5849f12847356b1"
      }
     },
     "metadata": {},
     "output_type": "display_data"
    },
    {
     "data": {
      "text/plain": "Fetching 7 files:   0%|          | 0/7 [00:00<?, ?it/s]",
      "application/vnd.jupyter.widget-view+json": {
       "version_major": 2,
       "version_minor": 0,
       "model_id": "cebe10903670450c86c8eb908494c1a6"
      }
     },
     "metadata": {},
     "output_type": "display_data"
    },
    {
     "data": {
      "text/plain": "Fetching 7 files:   0%|          | 0/7 [00:00<?, ?it/s]",
      "application/vnd.jupyter.widget-view+json": {
       "version_major": 2,
       "version_minor": 0,
       "model_id": "5a82e268ecf145faa231c86830b8dab5"
      }
     },
     "metadata": {},
     "output_type": "display_data"
    },
    {
     "data": {
      "text/plain": "Fetching 7 files:   0%|          | 0/7 [00:00<?, ?it/s]",
      "application/vnd.jupyter.widget-view+json": {
       "version_major": 2,
       "version_minor": 0,
       "model_id": "58d2593aefb54b7a92db8f7a9ee41889"
      }
     },
     "metadata": {},
     "output_type": "display_data"
    },
    {
     "data": {
      "text/plain": "Fetching 7 files:   0%|          | 0/7 [00:00<?, ?it/s]",
      "application/vnd.jupyter.widget-view+json": {
       "version_major": 2,
       "version_minor": 0,
       "model_id": "183faef9cb244ebb846881812817fae7"
      }
     },
     "metadata": {},
     "output_type": "display_data"
    },
    {
     "data": {
      "text/plain": "Fetching 7 files:   0%|          | 0/7 [00:00<?, ?it/s]",
      "application/vnd.jupyter.widget-view+json": {
       "version_major": 2,
       "version_minor": 0,
       "model_id": "0e4f56990fb4463e9c547d9b0ff5513c"
      }
     },
     "metadata": {},
     "output_type": "display_data"
    },
    {
     "data": {
      "text/plain": "Fetching 7 files:   0%|          | 0/7 [00:00<?, ?it/s]",
      "application/vnd.jupyter.widget-view+json": {
       "version_major": 2,
       "version_minor": 0,
       "model_id": "0d135cf5fa3d4ed58cecb10a42026199"
      }
     },
     "metadata": {},
     "output_type": "display_data"
    },
    {
     "data": {
      "text/plain": "Fetching 7 files:   0%|          | 0/7 [00:00<?, ?it/s]",
      "application/vnd.jupyter.widget-view+json": {
       "version_major": 2,
       "version_minor": 0,
       "model_id": "4f2a342586c4469fae9df38fc129e574"
      }
     },
     "metadata": {},
     "output_type": "display_data"
    },
    {
     "data": {
      "text/plain": "Fetching 7 files:   0%|          | 0/7 [00:00<?, ?it/s]",
      "application/vnd.jupyter.widget-view+json": {
       "version_major": 2,
       "version_minor": 0,
       "model_id": "a1b36c3a225c4f99b73d73bb5038b09f"
      }
     },
     "metadata": {},
     "output_type": "display_data"
    },
    {
     "data": {
      "text/plain": "Fetching 7 files:   0%|          | 0/7 [00:00<?, ?it/s]",
      "application/vnd.jupyter.widget-view+json": {
       "version_major": 2,
       "version_minor": 0,
       "model_id": "e0616ae065824375a731651d55f8d58a"
      }
     },
     "metadata": {},
     "output_type": "display_data"
    },
    {
     "data": {
      "text/plain": "Fetching 7 files:   0%|          | 0/7 [00:00<?, ?it/s]",
      "application/vnd.jupyter.widget-view+json": {
       "version_major": 2,
       "version_minor": 0,
       "model_id": "e86caebb5872482a9c44d2fa1aefae53"
      }
     },
     "metadata": {},
     "output_type": "display_data"
    },
    {
     "data": {
      "text/plain": "Fetching 7 files:   0%|          | 0/7 [00:00<?, ?it/s]",
      "application/vnd.jupyter.widget-view+json": {
       "version_major": 2,
       "version_minor": 0,
       "model_id": "67fc84ae16864fc3984dc658f3d4cab3"
      }
     },
     "metadata": {},
     "output_type": "display_data"
    },
    {
     "data": {
      "text/plain": "Fetching 7 files:   0%|          | 0/7 [00:00<?, ?it/s]",
      "application/vnd.jupyter.widget-view+json": {
       "version_major": 2,
       "version_minor": 0,
       "model_id": "570cec5ae00b4fda98b688145a9644cc"
      }
     },
     "metadata": {},
     "output_type": "display_data"
    },
    {
     "data": {
      "text/plain": "Fetching 7 files:   0%|          | 0/7 [00:00<?, ?it/s]",
      "application/vnd.jupyter.widget-view+json": {
       "version_major": 2,
       "version_minor": 0,
       "model_id": "bf8874dc123945b6b7b2f73e8c6da561"
      }
     },
     "metadata": {},
     "output_type": "display_data"
    },
    {
     "data": {
      "text/plain": "Fetching 7 files:   0%|          | 0/7 [00:00<?, ?it/s]",
      "application/vnd.jupyter.widget-view+json": {
       "version_major": 2,
       "version_minor": 0,
       "model_id": "28fca8a31bee47bfa24e257e7238077a"
      }
     },
     "metadata": {},
     "output_type": "display_data"
    },
    {
     "data": {
      "text/plain": "Fetching 7 files:   0%|          | 0/7 [00:00<?, ?it/s]",
      "application/vnd.jupyter.widget-view+json": {
       "version_major": 2,
       "version_minor": 0,
       "model_id": "92a4ad17b5e74056955c18e09998285c"
      }
     },
     "metadata": {},
     "output_type": "display_data"
    },
    {
     "data": {
      "text/plain": "Fetching 7 files:   0%|          | 0/7 [00:00<?, ?it/s]",
      "application/vnd.jupyter.widget-view+json": {
       "version_major": 2,
       "version_minor": 0,
       "model_id": "d2eac3d0b7354a6697fa6f511b50ca7c"
      }
     },
     "metadata": {},
     "output_type": "display_data"
    },
    {
     "data": {
      "text/plain": "Fetching 7 files:   0%|          | 0/7 [00:00<?, ?it/s]",
      "application/vnd.jupyter.widget-view+json": {
       "version_major": 2,
       "version_minor": 0,
       "model_id": "81220695129f4ecf9b7f92fc6d7c4f88"
      }
     },
     "metadata": {},
     "output_type": "display_data"
    },
    {
     "data": {
      "text/plain": "Fetching 7 files:   0%|          | 0/7 [00:00<?, ?it/s]",
      "application/vnd.jupyter.widget-view+json": {
       "version_major": 2,
       "version_minor": 0,
       "model_id": "ad4e1d0caeb24b598a047e9b386fa048"
      }
     },
     "metadata": {},
     "output_type": "display_data"
    },
    {
     "data": {
      "text/plain": "Fetching 7 files:   0%|          | 0/7 [00:00<?, ?it/s]",
      "application/vnd.jupyter.widget-view+json": {
       "version_major": 2,
       "version_minor": 0,
       "model_id": "54b346f0d60c45a7ac9370656341ad08"
      }
     },
     "metadata": {},
     "output_type": "display_data"
    },
    {
     "data": {
      "text/plain": "Fetching 7 files:   0%|          | 0/7 [00:00<?, ?it/s]",
      "application/vnd.jupyter.widget-view+json": {
       "version_major": 2,
       "version_minor": 0,
       "model_id": "c9efbc90da7846579801bb2c4e64fa44"
      }
     },
     "metadata": {},
     "output_type": "display_data"
    },
    {
     "data": {
      "text/plain": "Fetching 7 files:   0%|          | 0/7 [00:00<?, ?it/s]",
      "application/vnd.jupyter.widget-view+json": {
       "version_major": 2,
       "version_minor": 0,
       "model_id": "d2a61c2177654e4b91f74a037d116a2e"
      }
     },
     "metadata": {},
     "output_type": "display_data"
    },
    {
     "data": {
      "text/plain": "Fetching 7 files:   0%|          | 0/7 [00:00<?, ?it/s]",
      "application/vnd.jupyter.widget-view+json": {
       "version_major": 2,
       "version_minor": 0,
       "model_id": "da7cefbd718743e084f860e851714834"
      }
     },
     "metadata": {},
     "output_type": "display_data"
    },
    {
     "data": {
      "text/plain": "Fetching 7 files:   0%|          | 0/7 [00:00<?, ?it/s]",
      "application/vnd.jupyter.widget-view+json": {
       "version_major": 2,
       "version_minor": 0,
       "model_id": "646b13fb07a24e5bbcd5df132a1079ef"
      }
     },
     "metadata": {},
     "output_type": "display_data"
    },
    {
     "data": {
      "text/plain": "Fetching 7 files:   0%|          | 0/7 [00:00<?, ?it/s]",
      "application/vnd.jupyter.widget-view+json": {
       "version_major": 2,
       "version_minor": 0,
       "model_id": "e90dd4cad8af4d11bc714f272abde118"
      }
     },
     "metadata": {},
     "output_type": "display_data"
    },
    {
     "data": {
      "text/plain": "Fetching 7 files:   0%|          | 0/7 [00:00<?, ?it/s]",
      "application/vnd.jupyter.widget-view+json": {
       "version_major": 2,
       "version_minor": 0,
       "model_id": "bddd61db73c14fb3a618710cdbf684ea"
      }
     },
     "metadata": {},
     "output_type": "display_data"
    },
    {
     "data": {
      "text/plain": "Fetching 7 files:   0%|          | 0/7 [00:00<?, ?it/s]",
      "application/vnd.jupyter.widget-view+json": {
       "version_major": 2,
       "version_minor": 0,
       "model_id": "734d5e73ee8045b5ba2824ef7cd7e07d"
      }
     },
     "metadata": {},
     "output_type": "display_data"
    },
    {
     "data": {
      "text/plain": "Fetching 7 files:   0%|          | 0/7 [00:00<?, ?it/s]",
      "application/vnd.jupyter.widget-view+json": {
       "version_major": 2,
       "version_minor": 0,
       "model_id": "2075b354dd5e4a4b99975d113b06c423"
      }
     },
     "metadata": {},
     "output_type": "display_data"
    },
    {
     "data": {
      "text/plain": "Fetching 7 files:   0%|          | 0/7 [00:00<?, ?it/s]",
      "application/vnd.jupyter.widget-view+json": {
       "version_major": 2,
       "version_minor": 0,
       "model_id": "e8ac8158c10a4ca2859532678becbdfe"
      }
     },
     "metadata": {},
     "output_type": "display_data"
    },
    {
     "data": {
      "text/plain": "Fetching 7 files:   0%|          | 0/7 [00:00<?, ?it/s]",
      "application/vnd.jupyter.widget-view+json": {
       "version_major": 2,
       "version_minor": 0,
       "model_id": "3520cb4ff15c4784b4e765e602f48f1c"
      }
     },
     "metadata": {},
     "output_type": "display_data"
    },
    {
     "data": {
      "text/plain": "Fetching 7 files:   0%|          | 0/7 [00:00<?, ?it/s]",
      "application/vnd.jupyter.widget-view+json": {
       "version_major": 2,
       "version_minor": 0,
       "model_id": "fe8f0ce1f4374ae58940322f334eeeeb"
      }
     },
     "metadata": {},
     "output_type": "display_data"
    },
    {
     "data": {
      "text/plain": "Fetching 7 files:   0%|          | 0/7 [00:00<?, ?it/s]",
      "application/vnd.jupyter.widget-view+json": {
       "version_major": 2,
       "version_minor": 0,
       "model_id": "64e4ce4ea00a4c9db046edfe90454703"
      }
     },
     "metadata": {},
     "output_type": "display_data"
    },
    {
     "data": {
      "text/plain": "Fetching 7 files:   0%|          | 0/7 [00:00<?, ?it/s]",
      "application/vnd.jupyter.widget-view+json": {
       "version_major": 2,
       "version_minor": 0,
       "model_id": "5894348b34874d41a9483dec17070dab"
      }
     },
     "metadata": {},
     "output_type": "display_data"
    },
    {
     "data": {
      "text/plain": "Fetching 7 files:   0%|          | 0/7 [00:00<?, ?it/s]",
      "application/vnd.jupyter.widget-view+json": {
       "version_major": 2,
       "version_minor": 0,
       "model_id": "fa05f43b95f444a0a9cd72aa78017711"
      }
     },
     "metadata": {},
     "output_type": "display_data"
    },
    {
     "data": {
      "text/plain": "Fetching 7 files:   0%|          | 0/7 [00:00<?, ?it/s]",
      "application/vnd.jupyter.widget-view+json": {
       "version_major": 2,
       "version_minor": 0,
       "model_id": "96ee1edfbd1f406f90d1c7c365999293"
      }
     },
     "metadata": {},
     "output_type": "display_data"
    },
    {
     "data": {
      "text/plain": "Fetching 7 files:   0%|          | 0/7 [00:00<?, ?it/s]",
      "application/vnd.jupyter.widget-view+json": {
       "version_major": 2,
       "version_minor": 0,
       "model_id": "082256492ba74ebeb23540d44627aead"
      }
     },
     "metadata": {},
     "output_type": "display_data"
    },
    {
     "name": "stderr",
     "output_type": "stream",
     "text": [
      "/opt/homebrew/Cellar/python@3.11/3.11.6_1/Frameworks/Python.framework/Versions/3.11/lib/python3.11/asyncio/selector_events.py:864: ResourceWarning: unclosed transport <_SelectorSocketTransport fd=91 read=idle write=<idle, bufsize=0>>\n",
      "  _warn(f\"unclosed transport {self!r}\", ResourceWarning, source=self)\n",
      "ResourceWarning: Enable tracemalloc to get the object allocation traceback\n",
      "/opt/homebrew/Cellar/python@3.11/3.11.6_1/Frameworks/Python.framework/Versions/3.11/lib/python3.11/asyncio/selector_events.py:864: ResourceWarning: unclosed transport <_SelectorSocketTransport fd=92 read=idle write=<idle, bufsize=0>>\n",
      "  _warn(f\"unclosed transport {self!r}\", ResourceWarning, source=self)\n",
      "ResourceWarning: Enable tracemalloc to get the object allocation traceback\n",
      "/opt/homebrew/Cellar/python@3.11/3.11.6_1/Frameworks/Python.framework/Versions/3.11/lib/python3.11/asyncio/selector_events.py:864: ResourceWarning: unclosed transport <_SelectorSocketTransport fd=86 read=idle write=<idle, bufsize=0>>\n",
      "  _warn(f\"unclosed transport {self!r}\", ResourceWarning, source=self)\n",
      "ResourceWarning: Enable tracemalloc to get the object allocation traceback\n",
      "/opt/homebrew/Cellar/python@3.11/3.11.6_1/Frameworks/Python.framework/Versions/3.11/lib/python3.11/asyncio/selector_events.py:864: ResourceWarning: unclosed transport <_SelectorSocketTransport fd=85 read=idle write=<idle, bufsize=0>>\n",
      "  _warn(f\"unclosed transport {self!r}\", ResourceWarning, source=self)\n",
      "ResourceWarning: Enable tracemalloc to get the object allocation traceback\n",
      "/opt/homebrew/Cellar/python@3.11/3.11.6_1/Frameworks/Python.framework/Versions/3.11/lib/python3.11/asyncio/selector_events.py:864: ResourceWarning: unclosed transport <_SelectorSocketTransport fd=93 read=idle write=<idle, bufsize=0>>\n",
      "  _warn(f\"unclosed transport {self!r}\", ResourceWarning, source=self)\n",
      "ResourceWarning: Enable tracemalloc to get the object allocation traceback\n",
      "/opt/homebrew/Cellar/python@3.11/3.11.6_1/Frameworks/Python.framework/Versions/3.11/lib/python3.11/asyncio/selector_events.py:864: ResourceWarning: unclosed transport <_SelectorSocketTransport fd=94 read=idle write=<idle, bufsize=0>>\n",
      "  _warn(f\"unclosed transport {self!r}\", ResourceWarning, source=self)\n",
      "ResourceWarning: Enable tracemalloc to get the object allocation traceback\n",
      "/opt/homebrew/Cellar/python@3.11/3.11.6_1/Frameworks/Python.framework/Versions/3.11/lib/python3.11/asyncio/selector_events.py:864: ResourceWarning: unclosed transport <_SelectorSocketTransport fd=95 read=idle write=<idle, bufsize=0>>\n",
      "  _warn(f\"unclosed transport {self!r}\", ResourceWarning, source=self)\n",
      "ResourceWarning: Enable tracemalloc to get the object allocation traceback\n",
      "/opt/homebrew/Cellar/python@3.11/3.11.6_1/Frameworks/Python.framework/Versions/3.11/lib/python3.11/asyncio/selector_events.py:864: ResourceWarning: unclosed transport <_SelectorSocketTransport fd=96 read=idle write=<idle, bufsize=0>>\n",
      "  _warn(f\"unclosed transport {self!r}\", ResourceWarning, source=self)\n",
      "ResourceWarning: Enable tracemalloc to get the object allocation traceback\n",
      "/opt/homebrew/Cellar/python@3.11/3.11.6_1/Frameworks/Python.framework/Versions/3.11/lib/python3.11/asyncio/selector_events.py:864: ResourceWarning: unclosed transport <_SelectorSocketTransport fd=100 read=idle write=<idle, bufsize=0>>\n",
      "  _warn(f\"unclosed transport {self!r}\", ResourceWarning, source=self)\n",
      "ResourceWarning: Enable tracemalloc to get the object allocation traceback\n",
      "/opt/homebrew/Cellar/python@3.11/3.11.6_1/Frameworks/Python.framework/Versions/3.11/lib/python3.11/asyncio/selector_events.py:864: ResourceWarning: unclosed transport <_SelectorSocketTransport fd=102 read=idle write=<idle, bufsize=0>>\n",
      "  _warn(f\"unclosed transport {self!r}\", ResourceWarning, source=self)\n",
      "ResourceWarning: Enable tracemalloc to get the object allocation traceback\n",
      "/opt/homebrew/Cellar/python@3.11/3.11.6_1/Frameworks/Python.framework/Versions/3.11/lib/python3.11/asyncio/selector_events.py:864: ResourceWarning: unclosed transport <_SelectorSocketTransport fd=98 read=idle write=<idle, bufsize=0>>\n",
      "  _warn(f\"unclosed transport {self!r}\", ResourceWarning, source=self)\n",
      "ResourceWarning: Enable tracemalloc to get the object allocation traceback\n",
      "/opt/homebrew/Cellar/python@3.11/3.11.6_1/Frameworks/Python.framework/Versions/3.11/lib/python3.11/asyncio/selector_events.py:864: ResourceWarning: unclosed transport <_SelectorSocketTransport fd=101 read=idle write=<idle, bufsize=0>>\n",
      "  _warn(f\"unclosed transport {self!r}\", ResourceWarning, source=self)\n",
      "ResourceWarning: Enable tracemalloc to get the object allocation traceback\n",
      "/opt/homebrew/Cellar/python@3.11/3.11.6_1/Frameworks/Python.framework/Versions/3.11/lib/python3.11/asyncio/selector_events.py:864: ResourceWarning: unclosed transport <_SelectorSocketTransport fd=99 read=idle write=<idle, bufsize=0>>\n",
      "  _warn(f\"unclosed transport {self!r}\", ResourceWarning, source=self)\n",
      "ResourceWarning: Enable tracemalloc to get the object allocation traceback\n"
     ]
    },
    {
     "data": {
      "text/plain": "Fetching 7 files:   0%|          | 0/7 [00:00<?, ?it/s]",
      "application/vnd.jupyter.widget-view+json": {
       "version_major": 2,
       "version_minor": 0,
       "model_id": "2223e000c5fd4e5a8893ea2b0163ace6"
      }
     },
     "metadata": {},
     "output_type": "display_data"
    },
    {
     "name": "stderr",
     "output_type": "stream",
     "text": [
      "/opt/homebrew/Cellar/python@3.11/3.11.6_1/Frameworks/Python.framework/Versions/3.11/lib/python3.11/asyncio/selector_events.py:864: ResourceWarning: unclosed transport <_SelectorSocketTransport fd=103 read=idle write=<idle, bufsize=0>>\n",
      "  _warn(f\"unclosed transport {self!r}\", ResourceWarning, source=self)\n",
      "ResourceWarning: Enable tracemalloc to get the object allocation traceback\n",
      "/opt/homebrew/Cellar/python@3.11/3.11.6_1/Frameworks/Python.framework/Versions/3.11/lib/python3.11/asyncio/selector_events.py:864: ResourceWarning: unclosed transport <_SelectorSocketTransport fd=97 read=idle write=<idle, bufsize=0>>\n",
      "  _warn(f\"unclosed transport {self!r}\", ResourceWarning, source=self)\n",
      "ResourceWarning: Enable tracemalloc to get the object allocation traceback\n",
      "/opt/homebrew/Cellar/python@3.11/3.11.6_1/Frameworks/Python.framework/Versions/3.11/lib/python3.11/asyncio/selector_events.py:864: ResourceWarning: unclosed transport <_SelectorSocketTransport fd=109 read=idle write=<idle, bufsize=0>>\n",
      "  _warn(f\"unclosed transport {self!r}\", ResourceWarning, source=self)\n",
      "ResourceWarning: Enable tracemalloc to get the object allocation traceback\n",
      "/opt/homebrew/Cellar/python@3.11/3.11.6_1/Frameworks/Python.framework/Versions/3.11/lib/python3.11/asyncio/selector_events.py:864: ResourceWarning: unclosed transport <_SelectorSocketTransport fd=105 read=idle write=<idle, bufsize=0>>\n",
      "  _warn(f\"unclosed transport {self!r}\", ResourceWarning, source=self)\n",
      "ResourceWarning: Enable tracemalloc to get the object allocation traceback\n",
      "/opt/homebrew/Cellar/python@3.11/3.11.6_1/Frameworks/Python.framework/Versions/3.11/lib/python3.11/asyncio/selector_events.py:864: ResourceWarning: unclosed transport <_SelectorSocketTransport fd=111 read=idle write=<idle, bufsize=0>>\n",
      "  _warn(f\"unclosed transport {self!r}\", ResourceWarning, source=self)\n",
      "ResourceWarning: Enable tracemalloc to get the object allocation traceback\n",
      "/opt/homebrew/Cellar/python@3.11/3.11.6_1/Frameworks/Python.framework/Versions/3.11/lib/python3.11/asyncio/selector_events.py:864: ResourceWarning: unclosed transport <_SelectorSocketTransport fd=106 read=idle write=<idle, bufsize=0>>\n",
      "  _warn(f\"unclosed transport {self!r}\", ResourceWarning, source=self)\n",
      "ResourceWarning: Enable tracemalloc to get the object allocation traceback\n",
      "/opt/homebrew/Cellar/python@3.11/3.11.6_1/Frameworks/Python.framework/Versions/3.11/lib/python3.11/asyncio/selector_events.py:864: ResourceWarning: unclosed transport <_SelectorSocketTransport fd=107 read=idle write=<idle, bufsize=0>>\n",
      "  _warn(f\"unclosed transport {self!r}\", ResourceWarning, source=self)\n",
      "ResourceWarning: Enable tracemalloc to get the object allocation traceback\n",
      "/opt/homebrew/Cellar/python@3.11/3.11.6_1/Frameworks/Python.framework/Versions/3.11/lib/python3.11/asyncio/selector_events.py:864: ResourceWarning: unclosed transport <_SelectorSocketTransport fd=108 read=idle write=<idle, bufsize=0>>\n",
      "  _warn(f\"unclosed transport {self!r}\", ResourceWarning, source=self)\n",
      "ResourceWarning: Enable tracemalloc to get the object allocation traceback\n",
      "/opt/homebrew/Cellar/python@3.11/3.11.6_1/Frameworks/Python.framework/Versions/3.11/lib/python3.11/asyncio/selector_events.py:864: ResourceWarning: unclosed transport <_SelectorSocketTransport fd=110 read=idle write=<idle, bufsize=0>>\n",
      "  _warn(f\"unclosed transport {self!r}\", ResourceWarning, source=self)\n",
      "ResourceWarning: Enable tracemalloc to get the object allocation traceback\n",
      "<frozen os>:225: ResourceWarning: unclosed <socket.socket fd=115, family=2, type=1, proto=6, laddr=('192.168.178.143', 65420), raddr=('104.18.6.192', 443)>\n",
      "ResourceWarning: Enable tracemalloc to get the object allocation traceback\n",
      "<frozen os>:225: ResourceWarning: unclosed <socket.socket fd=121, family=2, type=1, proto=6, laddr=('192.168.178.143', 65421), raddr=('104.18.6.192', 443)>\n",
      "ResourceWarning: Enable tracemalloc to get the object allocation traceback\n",
      "<frozen os>:225: ResourceWarning: unclosed <socket.socket fd=116, family=2, type=1, proto=6, laddr=('192.168.178.143', 65422), raddr=('104.18.6.192', 443)>\n",
      "ResourceWarning: Enable tracemalloc to get the object allocation traceback\n",
      "<frozen os>:225: ResourceWarning: unclosed <socket.socket fd=112, family=2, type=1, proto=6, laddr=('192.168.178.143', 65423), raddr=('104.18.6.192', 443)>\n",
      "ResourceWarning: Enable tracemalloc to get the object allocation traceback\n",
      "<frozen os>:225: ResourceWarning: unclosed <socket.socket fd=113, family=2, type=1, proto=6, laddr=('192.168.178.143', 65424), raddr=('104.18.6.192', 443)>\n",
      "ResourceWarning: Enable tracemalloc to get the object allocation traceback\n",
      "<frozen os>:225: ResourceWarning: unclosed <socket.socket fd=114, family=2, type=1, proto=6, laddr=('192.168.178.143', 65425), raddr=('104.18.6.192', 443)>\n",
      "ResourceWarning: Enable tracemalloc to get the object allocation traceback\n",
      "/opt/homebrew/Cellar/python@3.11/3.11.6_1/Frameworks/Python.framework/Versions/3.11/lib/python3.11/asyncio/selector_events.py:864: ResourceWarning: unclosed transport <_SelectorSocketTransport fd=115 read=idle write=<idle, bufsize=0>>\n",
      "  _warn(f\"unclosed transport {self!r}\", ResourceWarning, source=self)\n",
      "ResourceWarning: Enable tracemalloc to get the object allocation traceback\n",
      "/opt/homebrew/Cellar/python@3.11/3.11.6_1/Frameworks/Python.framework/Versions/3.11/lib/python3.11/asyncio/selector_events.py:864: ResourceWarning: unclosed transport <_SelectorSocketTransport fd=113 read=idle write=<idle, bufsize=0>>\n",
      "  _warn(f\"unclosed transport {self!r}\", ResourceWarning, source=self)\n",
      "ResourceWarning: Enable tracemalloc to get the object allocation traceback\n",
      "/opt/homebrew/Cellar/python@3.11/3.11.6_1/Frameworks/Python.framework/Versions/3.11/lib/python3.11/asyncio/selector_events.py:864: ResourceWarning: unclosed transport <_SelectorSocketTransport fd=121 read=idle write=<idle, bufsize=0>>\n",
      "  _warn(f\"unclosed transport {self!r}\", ResourceWarning, source=self)\n",
      "ResourceWarning: Enable tracemalloc to get the object allocation traceback\n",
      "/opt/homebrew/Cellar/python@3.11/3.11.6_1/Frameworks/Python.framework/Versions/3.11/lib/python3.11/asyncio/selector_events.py:864: ResourceWarning: unclosed transport <_SelectorSocketTransport fd=116 read=idle write=<idle, bufsize=0>>\n",
      "  _warn(f\"unclosed transport {self!r}\", ResourceWarning, source=self)\n",
      "ResourceWarning: Enable tracemalloc to get the object allocation traceback\n",
      "/opt/homebrew/Cellar/python@3.11/3.11.6_1/Frameworks/Python.framework/Versions/3.11/lib/python3.11/asyncio/selector_events.py:864: ResourceWarning: unclosed transport <_SelectorSocketTransport fd=112 read=idle write=<idle, bufsize=0>>\n",
      "  _warn(f\"unclosed transport {self!r}\", ResourceWarning, source=self)\n",
      "ResourceWarning: Enable tracemalloc to get the object allocation traceback\n",
      "/opt/homebrew/Cellar/python@3.11/3.11.6_1/Frameworks/Python.framework/Versions/3.11/lib/python3.11/asyncio/selector_events.py:864: ResourceWarning: unclosed transport <_SelectorSocketTransport fd=114 read=idle write=<idle, bufsize=0>>\n",
      "  _warn(f\"unclosed transport {self!r}\", ResourceWarning, source=self)\n",
      "ResourceWarning: Enable tracemalloc to get the object allocation traceback\n"
     ]
    },
    {
     "data": {
      "text/plain": "Fetching 7 files:   0%|          | 0/7 [00:00<?, ?it/s]",
      "application/vnd.jupyter.widget-view+json": {
       "version_major": 2,
       "version_minor": 0,
       "model_id": "17cb57ad71874a7986f4c3b1cc846e5b"
      }
     },
     "metadata": {},
     "output_type": "display_data"
    },
    {
     "data": {
      "text/plain": "Fetching 7 files:   0%|          | 0/7 [00:00<?, ?it/s]",
      "application/vnd.jupyter.widget-view+json": {
       "version_major": 2,
       "version_minor": 0,
       "model_id": "4f56b77697704ad39cd00ea89eacbba0"
      }
     },
     "metadata": {},
     "output_type": "display_data"
    },
    {
     "data": {
      "text/plain": "Fetching 7 files:   0%|          | 0/7 [00:00<?, ?it/s]",
      "application/vnd.jupyter.widget-view+json": {
       "version_major": 2,
       "version_minor": 0,
       "model_id": "e87ae69b92ea48c5a8946a832d78a66f"
      }
     },
     "metadata": {},
     "output_type": "display_data"
    },
    {
     "data": {
      "text/plain": "Fetching 7 files:   0%|          | 0/7 [00:00<?, ?it/s]",
      "application/vnd.jupyter.widget-view+json": {
       "version_major": 2,
       "version_minor": 0,
       "model_id": "073dc8615f6d433bbef8fe1c59a1fdc5"
      }
     },
     "metadata": {},
     "output_type": "display_data"
    },
    {
     "data": {
      "text/plain": "Fetching 7 files:   0%|          | 0/7 [00:00<?, ?it/s]",
      "application/vnd.jupyter.widget-view+json": {
       "version_major": 2,
       "version_minor": 0,
       "model_id": "aec19510de7e4f169380cc29814e3c5f"
      }
     },
     "metadata": {},
     "output_type": "display_data"
    },
    {
     "data": {
      "text/plain": "Fetching 7 files:   0%|          | 0/7 [00:00<?, ?it/s]",
      "application/vnd.jupyter.widget-view+json": {
       "version_major": 2,
       "version_minor": 0,
       "model_id": "9fa86e09cfab4b1abeecfc1eaad94d2d"
      }
     },
     "metadata": {},
     "output_type": "display_data"
    },
    {
     "data": {
      "text/plain": "Fetching 7 files:   0%|          | 0/7 [00:00<?, ?it/s]",
      "application/vnd.jupyter.widget-view+json": {
       "version_major": 2,
       "version_minor": 0,
       "model_id": "ca59fe319bf94e11b0a2ae9b458e4a0d"
      }
     },
     "metadata": {},
     "output_type": "display_data"
    },
    {
     "data": {
      "text/plain": "Fetching 7 files:   0%|          | 0/7 [00:00<?, ?it/s]",
      "application/vnd.jupyter.widget-view+json": {
       "version_major": 2,
       "version_minor": 0,
       "model_id": "877edc56c03e4e978a97d997adb58a67"
      }
     },
     "metadata": {},
     "output_type": "display_data"
    },
    {
     "data": {
      "text/plain": "Fetching 7 files:   0%|          | 0/7 [00:00<?, ?it/s]",
      "application/vnd.jupyter.widget-view+json": {
       "version_major": 2,
       "version_minor": 0,
       "model_id": "7b91824bf6c5466788a570893513d6c9"
      }
     },
     "metadata": {},
     "output_type": "display_data"
    },
    {
     "data": {
      "text/plain": "Fetching 7 files:   0%|          | 0/7 [00:00<?, ?it/s]",
      "application/vnd.jupyter.widget-view+json": {
       "version_major": 2,
       "version_minor": 0,
       "model_id": "d261991a1cfa4218bfcbef885e83b1d9"
      }
     },
     "metadata": {},
     "output_type": "display_data"
    },
    {
     "data": {
      "text/plain": "Fetching 7 files:   0%|          | 0/7 [00:00<?, ?it/s]",
      "application/vnd.jupyter.widget-view+json": {
       "version_major": 2,
       "version_minor": 0,
       "model_id": "22b939c8cb984fdf8e229b964fb999ec"
      }
     },
     "metadata": {},
     "output_type": "display_data"
    },
    {
     "data": {
      "text/plain": "Fetching 7 files:   0%|          | 0/7 [00:00<?, ?it/s]",
      "application/vnd.jupyter.widget-view+json": {
       "version_major": 2,
       "version_minor": 0,
       "model_id": "52dfa5b8188d48508a54aaff77a1a133"
      }
     },
     "metadata": {},
     "output_type": "display_data"
    },
    {
     "data": {
      "text/plain": "Fetching 7 files:   0%|          | 0/7 [00:00<?, ?it/s]",
      "application/vnd.jupyter.widget-view+json": {
       "version_major": 2,
       "version_minor": 0,
       "model_id": "e453aacb641e46f3a43760fe66360aee"
      }
     },
     "metadata": {},
     "output_type": "display_data"
    },
    {
     "data": {
      "text/plain": "Fetching 7 files:   0%|          | 0/7 [00:00<?, ?it/s]",
      "application/vnd.jupyter.widget-view+json": {
       "version_major": 2,
       "version_minor": 0,
       "model_id": "cdc333b2eeff49a8893f792712794b9d"
      }
     },
     "metadata": {},
     "output_type": "display_data"
    },
    {
     "data": {
      "text/plain": "Fetching 7 files:   0%|          | 0/7 [00:00<?, ?it/s]",
      "application/vnd.jupyter.widget-view+json": {
       "version_major": 2,
       "version_minor": 0,
       "model_id": "942f6ece9ce94f2d84df951678ec915f"
      }
     },
     "metadata": {},
     "output_type": "display_data"
    },
    {
     "data": {
      "text/plain": "Fetching 7 files:   0%|          | 0/7 [00:00<?, ?it/s]",
      "application/vnd.jupyter.widget-view+json": {
       "version_major": 2,
       "version_minor": 0,
       "model_id": "66b05c582c03461a9b6a238f37e95eb0"
      }
     },
     "metadata": {},
     "output_type": "display_data"
    },
    {
     "data": {
      "text/plain": "Fetching 7 files:   0%|          | 0/7 [00:00<?, ?it/s]",
      "application/vnd.jupyter.widget-view+json": {
       "version_major": 2,
       "version_minor": 0,
       "model_id": "9d2e61152ba741da8c09ac2def6fe50d"
      }
     },
     "metadata": {},
     "output_type": "display_data"
    },
    {
     "data": {
      "text/plain": "Fetching 7 files:   0%|          | 0/7 [00:00<?, ?it/s]",
      "application/vnd.jupyter.widget-view+json": {
       "version_major": 2,
       "version_minor": 0,
       "model_id": "039a245bbc184595a30013d03460d3e4"
      }
     },
     "metadata": {},
     "output_type": "display_data"
    },
    {
     "data": {
      "text/plain": "Fetching 7 files:   0%|          | 0/7 [00:00<?, ?it/s]",
      "application/vnd.jupyter.widget-view+json": {
       "version_major": 2,
       "version_minor": 0,
       "model_id": "d24f127a8e2f4609b81cb9bed909936f"
      }
     },
     "metadata": {},
     "output_type": "display_data"
    },
    {
     "data": {
      "text/plain": "Fetching 7 files:   0%|          | 0/7 [00:00<?, ?it/s]",
      "application/vnd.jupyter.widget-view+json": {
       "version_major": 2,
       "version_minor": 0,
       "model_id": "7076cc28456c45f9ad3ac479f976a2ec"
      }
     },
     "metadata": {},
     "output_type": "display_data"
    },
    {
     "data": {
      "text/plain": "Fetching 7 files:   0%|          | 0/7 [00:00<?, ?it/s]",
      "application/vnd.jupyter.widget-view+json": {
       "version_major": 2,
       "version_minor": 0,
       "model_id": "7fa384f05d3c4984b5cc1fb83b1e872c"
      }
     },
     "metadata": {},
     "output_type": "display_data"
    },
    {
     "data": {
      "text/plain": "Fetching 7 files:   0%|          | 0/7 [00:00<?, ?it/s]",
      "application/vnd.jupyter.widget-view+json": {
       "version_major": 2,
       "version_minor": 0,
       "model_id": "ec74587850994a95b88596c34ca3093c"
      }
     },
     "metadata": {},
     "output_type": "display_data"
    },
    {
     "data": {
      "text/plain": "Fetching 7 files:   0%|          | 0/7 [00:00<?, ?it/s]",
      "application/vnd.jupyter.widget-view+json": {
       "version_major": 2,
       "version_minor": 0,
       "model_id": "efff776d8ddf44a3806fd0e9af1abcd7"
      }
     },
     "metadata": {},
     "output_type": "display_data"
    },
    {
     "data": {
      "text/plain": "Fetching 7 files:   0%|          | 0/7 [00:00<?, ?it/s]",
      "application/vnd.jupyter.widget-view+json": {
       "version_major": 2,
       "version_minor": 0,
       "model_id": "edd71318622d4ed7a3f242d9f87785b8"
      }
     },
     "metadata": {},
     "output_type": "display_data"
    },
    {
     "data": {
      "text/plain": "Fetching 7 files:   0%|          | 0/7 [00:00<?, ?it/s]",
      "application/vnd.jupyter.widget-view+json": {
       "version_major": 2,
       "version_minor": 0,
       "model_id": "0355b6c127b44f37af9d230452be0a39"
      }
     },
     "metadata": {},
     "output_type": "display_data"
    },
    {
     "data": {
      "text/plain": "Fetching 7 files:   0%|          | 0/7 [00:00<?, ?it/s]",
      "application/vnd.jupyter.widget-view+json": {
       "version_major": 2,
       "version_minor": 0,
       "model_id": "0f41b519d05241958a4fd1915a7269b5"
      }
     },
     "metadata": {},
     "output_type": "display_data"
    },
    {
     "data": {
      "text/plain": "Fetching 7 files:   0%|          | 0/7 [00:00<?, ?it/s]",
      "application/vnd.jupyter.widget-view+json": {
       "version_major": 2,
       "version_minor": 0,
       "model_id": "1c3548b30c33446eb86b007e8c18ecfa"
      }
     },
     "metadata": {},
     "output_type": "display_data"
    },
    {
     "data": {
      "text/plain": "Fetching 7 files:   0%|          | 0/7 [00:00<?, ?it/s]",
      "application/vnd.jupyter.widget-view+json": {
       "version_major": 2,
       "version_minor": 0,
       "model_id": "239f4910973f4c68b57b06c60e1d0b32"
      }
     },
     "metadata": {},
     "output_type": "display_data"
    },
    {
     "data": {
      "text/plain": "Fetching 7 files:   0%|          | 0/7 [00:00<?, ?it/s]",
      "application/vnd.jupyter.widget-view+json": {
       "version_major": 2,
       "version_minor": 0,
       "model_id": "fe2afbe04f514795875dcaa604aaacc4"
      }
     },
     "metadata": {},
     "output_type": "display_data"
    },
    {
     "data": {
      "text/plain": "Fetching 7 files:   0%|          | 0/7 [00:00<?, ?it/s]",
      "application/vnd.jupyter.widget-view+json": {
       "version_major": 2,
       "version_minor": 0,
       "model_id": "23d9b1a506ee441b87ee2546d5b2fcb8"
      }
     },
     "metadata": {},
     "output_type": "display_data"
    },
    {
     "data": {
      "text/plain": "Fetching 7 files:   0%|          | 0/7 [00:00<?, ?it/s]",
      "application/vnd.jupyter.widget-view+json": {
       "version_major": 2,
       "version_minor": 0,
       "model_id": "4e03e0f86a84425d97bf2cdaf2299578"
      }
     },
     "metadata": {},
     "output_type": "display_data"
    },
    {
     "data": {
      "text/plain": "Fetching 7 files:   0%|          | 0/7 [00:00<?, ?it/s]",
      "application/vnd.jupyter.widget-view+json": {
       "version_major": 2,
       "version_minor": 0,
       "model_id": "a57db366289e460988ef5dc5eafcf729"
      }
     },
     "metadata": {},
     "output_type": "display_data"
    },
    {
     "data": {
      "text/plain": "Fetching 7 files:   0%|          | 0/7 [00:00<?, ?it/s]",
      "application/vnd.jupyter.widget-view+json": {
       "version_major": 2,
       "version_minor": 0,
       "model_id": "0b23aa1160c04a4ca94be36079faea3e"
      }
     },
     "metadata": {},
     "output_type": "display_data"
    },
    {
     "data": {
      "text/plain": "Fetching 7 files:   0%|          | 0/7 [00:00<?, ?it/s]",
      "application/vnd.jupyter.widget-view+json": {
       "version_major": 2,
       "version_minor": 0,
       "model_id": "2bb776ed46614610b57afd6e0dc23a18"
      }
     },
     "metadata": {},
     "output_type": "display_data"
    },
    {
     "data": {
      "text/plain": "Fetching 7 files:   0%|          | 0/7 [00:00<?, ?it/s]",
      "application/vnd.jupyter.widget-view+json": {
       "version_major": 2,
       "version_minor": 0,
       "model_id": "4945f48f3524450995481a700c0b2d6b"
      }
     },
     "metadata": {},
     "output_type": "display_data"
    },
    {
     "data": {
      "text/plain": "Fetching 7 files:   0%|          | 0/7 [00:00<?, ?it/s]",
      "application/vnd.jupyter.widget-view+json": {
       "version_major": 2,
       "version_minor": 0,
       "model_id": "81acfcfa803e40458bfee8359f1eecc1"
      }
     },
     "metadata": {},
     "output_type": "display_data"
    },
    {
     "data": {
      "text/plain": "Fetching 7 files:   0%|          | 0/7 [00:00<?, ?it/s]",
      "application/vnd.jupyter.widget-view+json": {
       "version_major": 2,
       "version_minor": 0,
       "model_id": "cce809ce3e06442292423029e4ca48c1"
      }
     },
     "metadata": {},
     "output_type": "display_data"
    },
    {
     "data": {
      "text/plain": "Fetching 7 files:   0%|          | 0/7 [00:00<?, ?it/s]",
      "application/vnd.jupyter.widget-view+json": {
       "version_major": 2,
       "version_minor": 0,
       "model_id": "364130cabdc04379970f946fa66e0ce6"
      }
     },
     "metadata": {},
     "output_type": "display_data"
    },
    {
     "data": {
      "text/plain": "Fetching 7 files:   0%|          | 0/7 [00:00<?, ?it/s]",
      "application/vnd.jupyter.widget-view+json": {
       "version_major": 2,
       "version_minor": 0,
       "model_id": "6748b56c95004521a3032ec7bf224be4"
      }
     },
     "metadata": {},
     "output_type": "display_data"
    },
    {
     "data": {
      "text/plain": "Fetching 7 files:   0%|          | 0/7 [00:00<?, ?it/s]",
      "application/vnd.jupyter.widget-view+json": {
       "version_major": 2,
       "version_minor": 0,
       "model_id": "53c6b7a2226a440fb0f620be763675dd"
      }
     },
     "metadata": {},
     "output_type": "display_data"
    },
    {
     "data": {
      "text/plain": "Fetching 7 files:   0%|          | 0/7 [00:00<?, ?it/s]",
      "application/vnd.jupyter.widget-view+json": {
       "version_major": 2,
       "version_minor": 0,
       "model_id": "c44ab39a01124be2b4beaac7bcf60f24"
      }
     },
     "metadata": {},
     "output_type": "display_data"
    },
    {
     "data": {
      "text/plain": "Fetching 7 files:   0%|          | 0/7 [00:00<?, ?it/s]",
      "application/vnd.jupyter.widget-view+json": {
       "version_major": 2,
       "version_minor": 0,
       "model_id": "9f5ae08696114dd5982619cdc7092d30"
      }
     },
     "metadata": {},
     "output_type": "display_data"
    },
    {
     "data": {
      "text/plain": "Fetching 7 files:   0%|          | 0/7 [00:00<?, ?it/s]",
      "application/vnd.jupyter.widget-view+json": {
       "version_major": 2,
       "version_minor": 0,
       "model_id": "921877420913447d8f831e5ca96ba920"
      }
     },
     "metadata": {},
     "output_type": "display_data"
    },
    {
     "data": {
      "text/plain": "Fetching 7 files:   0%|          | 0/7 [00:00<?, ?it/s]",
      "application/vnd.jupyter.widget-view+json": {
       "version_major": 2,
       "version_minor": 0,
       "model_id": "7154314663bb45598ff70c399e0c7398"
      }
     },
     "metadata": {},
     "output_type": "display_data"
    },
    {
     "data": {
      "text/plain": "Fetching 7 files:   0%|          | 0/7 [00:00<?, ?it/s]",
      "application/vnd.jupyter.widget-view+json": {
       "version_major": 2,
       "version_minor": 0,
       "model_id": "fadba4bd0b8a432da6c81ad1a2601c21"
      }
     },
     "metadata": {},
     "output_type": "display_data"
    },
    {
     "data": {
      "text/plain": "Fetching 7 files:   0%|          | 0/7 [00:00<?, ?it/s]",
      "application/vnd.jupyter.widget-view+json": {
       "version_major": 2,
       "version_minor": 0,
       "model_id": "ae0d36349e5b48eea640caa77e46a621"
      }
     },
     "metadata": {},
     "output_type": "display_data"
    },
    {
     "data": {
      "text/plain": "Fetching 7 files:   0%|          | 0/7 [00:00<?, ?it/s]",
      "application/vnd.jupyter.widget-view+json": {
       "version_major": 2,
       "version_minor": 0,
       "model_id": "597a0079aa3f4c6eb3fe693ff7e6af9f"
      }
     },
     "metadata": {},
     "output_type": "display_data"
    },
    {
     "data": {
      "text/plain": "Fetching 7 files:   0%|          | 0/7 [00:00<?, ?it/s]",
      "application/vnd.jupyter.widget-view+json": {
       "version_major": 2,
       "version_minor": 0,
       "model_id": "987533b8fb6f48039dc136f968494a9a"
      }
     },
     "metadata": {},
     "output_type": "display_data"
    },
    {
     "data": {
      "text/plain": "Fetching 7 files:   0%|          | 0/7 [00:00<?, ?it/s]",
      "application/vnd.jupyter.widget-view+json": {
       "version_major": 2,
       "version_minor": 0,
       "model_id": "fc05caef89ed43ee8aa10c3c458800b8"
      }
     },
     "metadata": {},
     "output_type": "display_data"
    },
    {
     "data": {
      "text/plain": "Fetching 7 files:   0%|          | 0/7 [00:00<?, ?it/s]",
      "application/vnd.jupyter.widget-view+json": {
       "version_major": 2,
       "version_minor": 0,
       "model_id": "30f951e35d414c1fbf6cb1a93ee14097"
      }
     },
     "metadata": {},
     "output_type": "display_data"
    },
    {
     "data": {
      "text/plain": "Fetching 7 files:   0%|          | 0/7 [00:00<?, ?it/s]",
      "application/vnd.jupyter.widget-view+json": {
       "version_major": 2,
       "version_minor": 0,
       "model_id": "5f07de51c34947da80aff4f06d040c96"
      }
     },
     "metadata": {},
     "output_type": "display_data"
    },
    {
     "data": {
      "text/plain": "Fetching 7 files:   0%|          | 0/7 [00:00<?, ?it/s]",
      "application/vnd.jupyter.widget-view+json": {
       "version_major": 2,
       "version_minor": 0,
       "model_id": "a0234e03396947de97c8b9686d945aa4"
      }
     },
     "metadata": {},
     "output_type": "display_data"
    },
    {
     "data": {
      "text/plain": "Fetching 7 files:   0%|          | 0/7 [00:00<?, ?it/s]",
      "application/vnd.jupyter.widget-view+json": {
       "version_major": 2,
       "version_minor": 0,
       "model_id": "da40e06c12ba492c8b93a6d872ca1c96"
      }
     },
     "metadata": {},
     "output_type": "display_data"
    },
    {
     "data": {
      "text/plain": "Fetching 7 files:   0%|          | 0/7 [00:00<?, ?it/s]",
      "application/vnd.jupyter.widget-view+json": {
       "version_major": 2,
       "version_minor": 0,
       "model_id": "1953bfe3333e4d658006edf23c5f29be"
      }
     },
     "metadata": {},
     "output_type": "display_data"
    },
    {
     "data": {
      "text/plain": "Fetching 7 files:   0%|          | 0/7 [00:00<?, ?it/s]",
      "application/vnd.jupyter.widget-view+json": {
       "version_major": 2,
       "version_minor": 0,
       "model_id": "9587e7943216408da013a38857e6f996"
      }
     },
     "metadata": {},
     "output_type": "display_data"
    },
    {
     "data": {
      "text/plain": "Fetching 7 files:   0%|          | 0/7 [00:00<?, ?it/s]",
      "application/vnd.jupyter.widget-view+json": {
       "version_major": 2,
       "version_minor": 0,
       "model_id": "1acd66e0c4a84dbe9cda3e38e433c0fd"
      }
     },
     "metadata": {},
     "output_type": "display_data"
    },
    {
     "data": {
      "text/plain": "Fetching 7 files:   0%|          | 0/7 [00:00<?, ?it/s]",
      "application/vnd.jupyter.widget-view+json": {
       "version_major": 2,
       "version_minor": 0,
       "model_id": "e5dff736c1984ba9ab19044f673f126b"
      }
     },
     "metadata": {},
     "output_type": "display_data"
    },
    {
     "data": {
      "text/plain": "Fetching 7 files:   0%|          | 0/7 [00:00<?, ?it/s]",
      "application/vnd.jupyter.widget-view+json": {
       "version_major": 2,
       "version_minor": 0,
       "model_id": "7a0dabf81dc24950bf73d1a444679b18"
      }
     },
     "metadata": {},
     "output_type": "display_data"
    },
    {
     "data": {
      "text/plain": "Fetching 7 files:   0%|          | 0/7 [00:00<?, ?it/s]",
      "application/vnd.jupyter.widget-view+json": {
       "version_major": 2,
       "version_minor": 0,
       "model_id": "70a86a15342b4725b1b7c5aa3d1db5f5"
      }
     },
     "metadata": {},
     "output_type": "display_data"
    },
    {
     "data": {
      "text/plain": "Fetching 7 files:   0%|          | 0/7 [00:00<?, ?it/s]",
      "application/vnd.jupyter.widget-view+json": {
       "version_major": 2,
       "version_minor": 0,
       "model_id": "9126591f061a4579947e71551dfdc6cd"
      }
     },
     "metadata": {},
     "output_type": "display_data"
    },
    {
     "data": {
      "text/plain": "Fetching 7 files:   0%|          | 0/7 [00:00<?, ?it/s]",
      "application/vnd.jupyter.widget-view+json": {
       "version_major": 2,
       "version_minor": 0,
       "model_id": "960c07267fb646f2896e4cada7c6e5b3"
      }
     },
     "metadata": {},
     "output_type": "display_data"
    },
    {
     "data": {
      "text/plain": "Fetching 7 files:   0%|          | 0/7 [00:00<?, ?it/s]",
      "application/vnd.jupyter.widget-view+json": {
       "version_major": 2,
       "version_minor": 0,
       "model_id": "ef68ad2be9ce47828eebfde684ff395b"
      }
     },
     "metadata": {},
     "output_type": "display_data"
    },
    {
     "data": {
      "text/plain": "Fetching 7 files:   0%|          | 0/7 [00:00<?, ?it/s]",
      "application/vnd.jupyter.widget-view+json": {
       "version_major": 2,
       "version_minor": 0,
       "model_id": "1f341beb82ed4eeb807057159a845155"
      }
     },
     "metadata": {},
     "output_type": "display_data"
    },
    {
     "data": {
      "text/plain": "Fetching 7 files:   0%|          | 0/7 [00:00<?, ?it/s]",
      "application/vnd.jupyter.widget-view+json": {
       "version_major": 2,
       "version_minor": 0,
       "model_id": "ddb8576b9c9f455a9e578e7a885e6f7e"
      }
     },
     "metadata": {},
     "output_type": "display_data"
    },
    {
     "data": {
      "text/plain": "Fetching 7 files:   0%|          | 0/7 [00:00<?, ?it/s]",
      "application/vnd.jupyter.widget-view+json": {
       "version_major": 2,
       "version_minor": 0,
       "model_id": "6d5fa263ff3c4bbaaa460eac57fd0ab7"
      }
     },
     "metadata": {},
     "output_type": "display_data"
    },
    {
     "data": {
      "text/plain": "Fetching 7 files:   0%|          | 0/7 [00:00<?, ?it/s]",
      "application/vnd.jupyter.widget-view+json": {
       "version_major": 2,
       "version_minor": 0,
       "model_id": "ad2eb6205f3942608b0c8975f1e0126c"
      }
     },
     "metadata": {},
     "output_type": "display_data"
    },
    {
     "data": {
      "text/plain": "Fetching 7 files:   0%|          | 0/7 [00:00<?, ?it/s]",
      "application/vnd.jupyter.widget-view+json": {
       "version_major": 2,
       "version_minor": 0,
       "model_id": "ddc80dfc27ef4c61ae0aae5738a5d642"
      }
     },
     "metadata": {},
     "output_type": "display_data"
    },
    {
     "data": {
      "text/plain": "Fetching 7 files:   0%|          | 0/7 [00:00<?, ?it/s]",
      "application/vnd.jupyter.widget-view+json": {
       "version_major": 2,
       "version_minor": 0,
       "model_id": "96538dae27504c6ba5db02ea0c8f9d12"
      }
     },
     "metadata": {},
     "output_type": "display_data"
    },
    {
     "data": {
      "text/plain": "Fetching 7 files:   0%|          | 0/7 [00:00<?, ?it/s]",
      "application/vnd.jupyter.widget-view+json": {
       "version_major": 2,
       "version_minor": 0,
       "model_id": "ae9c6d69c10343fe95d6943e0c12ba84"
      }
     },
     "metadata": {},
     "output_type": "display_data"
    },
    {
     "data": {
      "text/plain": "Fetching 7 files:   0%|          | 0/7 [00:00<?, ?it/s]",
      "application/vnd.jupyter.widget-view+json": {
       "version_major": 2,
       "version_minor": 0,
       "model_id": "75a448c4b92a49dbb122b8cdd59b903e"
      }
     },
     "metadata": {},
     "output_type": "display_data"
    },
    {
     "data": {
      "text/plain": "Fetching 7 files:   0%|          | 0/7 [00:00<?, ?it/s]",
      "application/vnd.jupyter.widget-view+json": {
       "version_major": 2,
       "version_minor": 0,
       "model_id": "54c72f8922f346b09b5c8dc820ca0c24"
      }
     },
     "metadata": {},
     "output_type": "display_data"
    },
    {
     "data": {
      "text/plain": "Fetching 7 files:   0%|          | 0/7 [00:00<?, ?it/s]",
      "application/vnd.jupyter.widget-view+json": {
       "version_major": 2,
       "version_minor": 0,
       "model_id": "1657f721f2c1491da79618194ed2bb31"
      }
     },
     "metadata": {},
     "output_type": "display_data"
    },
    {
     "data": {
      "text/plain": "Fetching 7 files:   0%|          | 0/7 [00:00<?, ?it/s]",
      "application/vnd.jupyter.widget-view+json": {
       "version_major": 2,
       "version_minor": 0,
       "model_id": "b480a11da5c04146821c1251b8a2657d"
      }
     },
     "metadata": {},
     "output_type": "display_data"
    },
    {
     "data": {
      "text/plain": "Fetching 7 files:   0%|          | 0/7 [00:00<?, ?it/s]",
      "application/vnd.jupyter.widget-view+json": {
       "version_major": 2,
       "version_minor": 0,
       "model_id": "26c7490a2ab849d9a74852c5a15e0bcb"
      }
     },
     "metadata": {},
     "output_type": "display_data"
    },
    {
     "data": {
      "text/plain": "Fetching 7 files:   0%|          | 0/7 [00:00<?, ?it/s]",
      "application/vnd.jupyter.widget-view+json": {
       "version_major": 2,
       "version_minor": 0,
       "model_id": "cdff14ba1e3f465d9359b162722e00e8"
      }
     },
     "metadata": {},
     "output_type": "display_data"
    },
    {
     "data": {
      "text/plain": "Fetching 7 files:   0%|          | 0/7 [00:00<?, ?it/s]",
      "application/vnd.jupyter.widget-view+json": {
       "version_major": 2,
       "version_minor": 0,
       "model_id": "cc8d4a8d6f364dc1a9c6d21c4376ce87"
      }
     },
     "metadata": {},
     "output_type": "display_data"
    },
    {
     "data": {
      "text/plain": "Fetching 7 files:   0%|          | 0/7 [00:00<?, ?it/s]",
      "application/vnd.jupyter.widget-view+json": {
       "version_major": 2,
       "version_minor": 0,
       "model_id": "e5ed0d637f53441981caf1f405bf1c22"
      }
     },
     "metadata": {},
     "output_type": "display_data"
    },
    {
     "data": {
      "text/plain": "Fetching 7 files:   0%|          | 0/7 [00:00<?, ?it/s]",
      "application/vnd.jupyter.widget-view+json": {
       "version_major": 2,
       "version_minor": 0,
       "model_id": "c3dd3d78ef194ae2a57adb736dd067d1"
      }
     },
     "metadata": {},
     "output_type": "display_data"
    },
    {
     "data": {
      "text/plain": "Fetching 7 files:   0%|          | 0/7 [00:00<?, ?it/s]",
      "application/vnd.jupyter.widget-view+json": {
       "version_major": 2,
       "version_minor": 0,
       "model_id": "6b53bc883aa34a848e1c94462c5a4740"
      }
     },
     "metadata": {},
     "output_type": "display_data"
    },
    {
     "data": {
      "text/plain": "Fetching 7 files:   0%|          | 0/7 [00:00<?, ?it/s]",
      "application/vnd.jupyter.widget-view+json": {
       "version_major": 2,
       "version_minor": 0,
       "model_id": "c8e61605bd5e4ff19f92dba427f04646"
      }
     },
     "metadata": {},
     "output_type": "display_data"
    },
    {
     "data": {
      "text/plain": "Fetching 7 files:   0%|          | 0/7 [00:00<?, ?it/s]",
      "application/vnd.jupyter.widget-view+json": {
       "version_major": 2,
       "version_minor": 0,
       "model_id": "fc2a6e7eef74453e8d79349c8f548ec7"
      }
     },
     "metadata": {},
     "output_type": "display_data"
    },
    {
     "data": {
      "text/plain": "Fetching 7 files:   0%|          | 0/7 [00:00<?, ?it/s]",
      "application/vnd.jupyter.widget-view+json": {
       "version_major": 2,
       "version_minor": 0,
       "model_id": "cd0349ed36984414a329ece3e9e3a337"
      }
     },
     "metadata": {},
     "output_type": "display_data"
    },
    {
     "data": {
      "text/plain": "Fetching 7 files:   0%|          | 0/7 [00:00<?, ?it/s]",
      "application/vnd.jupyter.widget-view+json": {
       "version_major": 2,
       "version_minor": 0,
       "model_id": "aa12a5410a2d4fc2a3afd84c06b9f6c1"
      }
     },
     "metadata": {},
     "output_type": "display_data"
    },
    {
     "data": {
      "text/plain": "Fetching 7 files:   0%|          | 0/7 [00:00<?, ?it/s]",
      "application/vnd.jupyter.widget-view+json": {
       "version_major": 2,
       "version_minor": 0,
       "model_id": "24d69304447d436ca1f86d6fb1d94fc2"
      }
     },
     "metadata": {},
     "output_type": "display_data"
    },
    {
     "data": {
      "text/plain": "Fetching 7 files:   0%|          | 0/7 [00:00<?, ?it/s]",
      "application/vnd.jupyter.widget-view+json": {
       "version_major": 2,
       "version_minor": 0,
       "model_id": "7ba58e071c6b40378e852fcf613af94f"
      }
     },
     "metadata": {},
     "output_type": "display_data"
    },
    {
     "data": {
      "text/plain": "Fetching 7 files:   0%|          | 0/7 [00:00<?, ?it/s]",
      "application/vnd.jupyter.widget-view+json": {
       "version_major": 2,
       "version_minor": 0,
       "model_id": "08fc764538904b9987d1914372c99dce"
      }
     },
     "metadata": {},
     "output_type": "display_data"
    },
    {
     "data": {
      "text/plain": "Fetching 7 files:   0%|          | 0/7 [00:00<?, ?it/s]",
      "application/vnd.jupyter.widget-view+json": {
       "version_major": 2,
       "version_minor": 0,
       "model_id": "84598b7789584c8a9bd811eede55a3ac"
      }
     },
     "metadata": {},
     "output_type": "display_data"
    },
    {
     "data": {
      "text/plain": "Fetching 7 files:   0%|          | 0/7 [00:00<?, ?it/s]",
      "application/vnd.jupyter.widget-view+json": {
       "version_major": 2,
       "version_minor": 0,
       "model_id": "7f9bcadb39484776805a2b1a75e7b5e2"
      }
     },
     "metadata": {},
     "output_type": "display_data"
    },
    {
     "data": {
      "text/plain": "Fetching 7 files:   0%|          | 0/7 [00:00<?, ?it/s]",
      "application/vnd.jupyter.widget-view+json": {
       "version_major": 2,
       "version_minor": 0,
       "model_id": "6450e030aaca454893f7cd5164453a77"
      }
     },
     "metadata": {},
     "output_type": "display_data"
    },
    {
     "data": {
      "text/plain": "Fetching 7 files:   0%|          | 0/7 [00:00<?, ?it/s]",
      "application/vnd.jupyter.widget-view+json": {
       "version_major": 2,
       "version_minor": 0,
       "model_id": "a81416f357cf4cf3ab44cda1f6b85316"
      }
     },
     "metadata": {},
     "output_type": "display_data"
    },
    {
     "data": {
      "text/plain": "Fetching 7 files:   0%|          | 0/7 [00:00<?, ?it/s]",
      "application/vnd.jupyter.widget-view+json": {
       "version_major": 2,
       "version_minor": 0,
       "model_id": "49b73ca8a30a48abbf2e604640140756"
      }
     },
     "metadata": {},
     "output_type": "display_data"
    },
    {
     "data": {
      "text/plain": "Fetching 7 files:   0%|          | 0/7 [00:00<?, ?it/s]",
      "application/vnd.jupyter.widget-view+json": {
       "version_major": 2,
       "version_minor": 0,
       "model_id": "d44e8cac364c41abb28836d4761ae819"
      }
     },
     "metadata": {},
     "output_type": "display_data"
    },
    {
     "data": {
      "text/plain": "Fetching 7 files:   0%|          | 0/7 [00:00<?, ?it/s]",
      "application/vnd.jupyter.widget-view+json": {
       "version_major": 2,
       "version_minor": 0,
       "model_id": "e32bf7d517f248d1810566fcc09319f4"
      }
     },
     "metadata": {},
     "output_type": "display_data"
    },
    {
     "data": {
      "text/plain": "Fetching 7 files:   0%|          | 0/7 [00:00<?, ?it/s]",
      "application/vnd.jupyter.widget-view+json": {
       "version_major": 2,
       "version_minor": 0,
       "model_id": "90f518a533c44839bcd44905b045e776"
      }
     },
     "metadata": {},
     "output_type": "display_data"
    },
    {
     "data": {
      "text/plain": "Fetching 7 files:   0%|          | 0/7 [00:00<?, ?it/s]",
      "application/vnd.jupyter.widget-view+json": {
       "version_major": 2,
       "version_minor": 0,
       "model_id": "8c7ac80673d142388a9b18338710e0b8"
      }
     },
     "metadata": {},
     "output_type": "display_data"
    },
    {
     "data": {
      "text/plain": "Fetching 7 files:   0%|          | 0/7 [00:00<?, ?it/s]",
      "application/vnd.jupyter.widget-view+json": {
       "version_major": 2,
       "version_minor": 0,
       "model_id": "fe32ddfef195466396cc03fb49048b6b"
      }
     },
     "metadata": {},
     "output_type": "display_data"
    },
    {
     "data": {
      "text/plain": "Fetching 7 files:   0%|          | 0/7 [00:00<?, ?it/s]",
      "application/vnd.jupyter.widget-view+json": {
       "version_major": 2,
       "version_minor": 0,
       "model_id": "69b7348941e042eca9d204d7a80cef43"
      }
     },
     "metadata": {},
     "output_type": "display_data"
    },
    {
     "data": {
      "text/plain": "Fetching 7 files:   0%|          | 0/7 [00:00<?, ?it/s]",
      "application/vnd.jupyter.widget-view+json": {
       "version_major": 2,
       "version_minor": 0,
       "model_id": "f391e3f16d8046c3b4bd65445d8f0bf7"
      }
     },
     "metadata": {},
     "output_type": "display_data"
    },
    {
     "data": {
      "text/plain": "Fetching 7 files:   0%|          | 0/7 [00:00<?, ?it/s]",
      "application/vnd.jupyter.widget-view+json": {
       "version_major": 2,
       "version_minor": 0,
       "model_id": "9722c089988746ecb7bad86bc47cf5f3"
      }
     },
     "metadata": {},
     "output_type": "display_data"
    },
    {
     "data": {
      "text/plain": "Fetching 7 files:   0%|          | 0/7 [00:00<?, ?it/s]",
      "application/vnd.jupyter.widget-view+json": {
       "version_major": 2,
       "version_minor": 0,
       "model_id": "2493c7dd66b64bfebc05fa172f8b8de9"
      }
     },
     "metadata": {},
     "output_type": "display_data"
    },
    {
     "data": {
      "text/plain": "Fetching 7 files:   0%|          | 0/7 [00:00<?, ?it/s]",
      "application/vnd.jupyter.widget-view+json": {
       "version_major": 2,
       "version_minor": 0,
       "model_id": "6092b0fa825042f8b44de8b042ab2d30"
      }
     },
     "metadata": {},
     "output_type": "display_data"
    },
    {
     "data": {
      "text/plain": "Fetching 7 files:   0%|          | 0/7 [00:00<?, ?it/s]",
      "application/vnd.jupyter.widget-view+json": {
       "version_major": 2,
       "version_minor": 0,
       "model_id": "19e7b439517b400aada2a2a88bde6370"
      }
     },
     "metadata": {},
     "output_type": "display_data"
    },
    {
     "data": {
      "text/plain": "Fetching 7 files:   0%|          | 0/7 [00:00<?, ?it/s]",
      "application/vnd.jupyter.widget-view+json": {
       "version_major": 2,
       "version_minor": 0,
       "model_id": "a1759e6fbbe24b1db3b4e3523a9daea2"
      }
     },
     "metadata": {},
     "output_type": "display_data"
    },
    {
     "data": {
      "text/plain": "Fetching 7 files:   0%|          | 0/7 [00:00<?, ?it/s]",
      "application/vnd.jupyter.widget-view+json": {
       "version_major": 2,
       "version_minor": 0,
       "model_id": "d1780443a8b5419abba47fe05c67a5ec"
      }
     },
     "metadata": {},
     "output_type": "display_data"
    },
    {
     "data": {
      "text/plain": "Fetching 7 files:   0%|          | 0/7 [00:00<?, ?it/s]",
      "application/vnd.jupyter.widget-view+json": {
       "version_major": 2,
       "version_minor": 0,
       "model_id": "95f05986771247feb7bf524be8ced53e"
      }
     },
     "metadata": {},
     "output_type": "display_data"
    },
    {
     "data": {
      "text/plain": "Fetching 7 files:   0%|          | 0/7 [00:00<?, ?it/s]",
      "application/vnd.jupyter.widget-view+json": {
       "version_major": 2,
       "version_minor": 0,
       "model_id": "5ebac59273c74f7ba2e69904b9dd879d"
      }
     },
     "metadata": {},
     "output_type": "display_data"
    },
    {
     "data": {
      "text/plain": "Fetching 7 files:   0%|          | 0/7 [00:00<?, ?it/s]",
      "application/vnd.jupyter.widget-view+json": {
       "version_major": 2,
       "version_minor": 0,
       "model_id": "0bea85e5a8af45b08f89dff9e90c3ecd"
      }
     },
     "metadata": {},
     "output_type": "display_data"
    },
    {
     "data": {
      "text/plain": "Fetching 7 files:   0%|          | 0/7 [00:00<?, ?it/s]",
      "application/vnd.jupyter.widget-view+json": {
       "version_major": 2,
       "version_minor": 0,
       "model_id": "951c8b440ece4d20a11762851da45711"
      }
     },
     "metadata": {},
     "output_type": "display_data"
    },
    {
     "data": {
      "text/plain": "Fetching 7 files:   0%|          | 0/7 [00:00<?, ?it/s]",
      "application/vnd.jupyter.widget-view+json": {
       "version_major": 2,
       "version_minor": 0,
       "model_id": "270c9a3c84f44c6a9289ba0841cf553a"
      }
     },
     "metadata": {},
     "output_type": "display_data"
    },
    {
     "data": {
      "text/plain": "Fetching 7 files:   0%|          | 0/7 [00:00<?, ?it/s]",
      "application/vnd.jupyter.widget-view+json": {
       "version_major": 2,
       "version_minor": 0,
       "model_id": "a6fa950a63f748488650f69cb2696656"
      }
     },
     "metadata": {},
     "output_type": "display_data"
    },
    {
     "data": {
      "text/plain": "Fetching 7 files:   0%|          | 0/7 [00:00<?, ?it/s]",
      "application/vnd.jupyter.widget-view+json": {
       "version_major": 2,
       "version_minor": 0,
       "model_id": "f969c9a8949e48eaa4c20c72ee6ee2a7"
      }
     },
     "metadata": {},
     "output_type": "display_data"
    },
    {
     "data": {
      "text/plain": "Fetching 7 files:   0%|          | 0/7 [00:00<?, ?it/s]",
      "application/vnd.jupyter.widget-view+json": {
       "version_major": 2,
       "version_minor": 0,
       "model_id": "325b60efdabc460783ffa3ce638ad230"
      }
     },
     "metadata": {},
     "output_type": "display_data"
    },
    {
     "data": {
      "text/plain": "Fetching 7 files:   0%|          | 0/7 [00:00<?, ?it/s]",
      "application/vnd.jupyter.widget-view+json": {
       "version_major": 2,
       "version_minor": 0,
       "model_id": "fdbc5ad5804e4866bd4e72d5610cd08c"
      }
     },
     "metadata": {},
     "output_type": "display_data"
    },
    {
     "data": {
      "text/plain": "Fetching 7 files:   0%|          | 0/7 [00:00<?, ?it/s]",
      "application/vnd.jupyter.widget-view+json": {
       "version_major": 2,
       "version_minor": 0,
       "model_id": "511d4795934f46eda427f074834bad85"
      }
     },
     "metadata": {},
     "output_type": "display_data"
    },
    {
     "data": {
      "text/plain": "Fetching 7 files:   0%|          | 0/7 [00:00<?, ?it/s]",
      "application/vnd.jupyter.widget-view+json": {
       "version_major": 2,
       "version_minor": 0,
       "model_id": "951f04f37508412e857442ec9c567033"
      }
     },
     "metadata": {},
     "output_type": "display_data"
    },
    {
     "data": {
      "text/plain": "Fetching 7 files:   0%|          | 0/7 [00:00<?, ?it/s]",
      "application/vnd.jupyter.widget-view+json": {
       "version_major": 2,
       "version_minor": 0,
       "model_id": "8caf94e79bae431f9094e775365fbb6a"
      }
     },
     "metadata": {},
     "output_type": "display_data"
    },
    {
     "data": {
      "text/plain": "Fetching 7 files:   0%|          | 0/7 [00:00<?, ?it/s]",
      "application/vnd.jupyter.widget-view+json": {
       "version_major": 2,
       "version_minor": 0,
       "model_id": "e1a5f81718f345faa7a61104f54ee3da"
      }
     },
     "metadata": {},
     "output_type": "display_data"
    },
    {
     "data": {
      "text/plain": "Fetching 7 files:   0%|          | 0/7 [00:00<?, ?it/s]",
      "application/vnd.jupyter.widget-view+json": {
       "version_major": 2,
       "version_minor": 0,
       "model_id": "0a88a42bea3d4a908cde046d50936f18"
      }
     },
     "metadata": {},
     "output_type": "display_data"
    },
    {
     "data": {
      "text/plain": "Fetching 7 files:   0%|          | 0/7 [00:00<?, ?it/s]",
      "application/vnd.jupyter.widget-view+json": {
       "version_major": 2,
       "version_minor": 0,
       "model_id": "1d6f655d1c67484b99197b07a7a72747"
      }
     },
     "metadata": {},
     "output_type": "display_data"
    },
    {
     "data": {
      "text/plain": "Fetching 7 files:   0%|          | 0/7 [00:00<?, ?it/s]",
      "application/vnd.jupyter.widget-view+json": {
       "version_major": 2,
       "version_minor": 0,
       "model_id": "f812d85411f140d1aef7caedccb2b5d7"
      }
     },
     "metadata": {},
     "output_type": "display_data"
    },
    {
     "data": {
      "text/plain": "Fetching 7 files:   0%|          | 0/7 [00:00<?, ?it/s]",
      "application/vnd.jupyter.widget-view+json": {
       "version_major": 2,
       "version_minor": 0,
       "model_id": "2f93049edc2747e3a3f0fad4b9f534b3"
      }
     },
     "metadata": {},
     "output_type": "display_data"
    },
    {
     "data": {
      "text/plain": "Fetching 7 files:   0%|          | 0/7 [00:00<?, ?it/s]",
      "application/vnd.jupyter.widget-view+json": {
       "version_major": 2,
       "version_minor": 0,
       "model_id": "3720a003fcbf4ebcaf8d91e0e044f962"
      }
     },
     "metadata": {},
     "output_type": "display_data"
    },
    {
     "data": {
      "text/plain": "Fetching 7 files:   0%|          | 0/7 [00:00<?, ?it/s]",
      "application/vnd.jupyter.widget-view+json": {
       "version_major": 2,
       "version_minor": 0,
       "model_id": "92c5133d02bb409e8ebe2f69f4114a9e"
      }
     },
     "metadata": {},
     "output_type": "display_data"
    },
    {
     "data": {
      "text/plain": "Fetching 7 files:   0%|          | 0/7 [00:00<?, ?it/s]",
      "application/vnd.jupyter.widget-view+json": {
       "version_major": 2,
       "version_minor": 0,
       "model_id": "ddffeba5084f4ed0895eef049e39fa1a"
      }
     },
     "metadata": {},
     "output_type": "display_data"
    },
    {
     "data": {
      "text/plain": "Fetching 7 files:   0%|          | 0/7 [00:00<?, ?it/s]",
      "application/vnd.jupyter.widget-view+json": {
       "version_major": 2,
       "version_minor": 0,
       "model_id": "51b6b57ba5364d2eb7d7829167ad372e"
      }
     },
     "metadata": {},
     "output_type": "display_data"
    },
    {
     "data": {
      "text/plain": "Fetching 7 files:   0%|          | 0/7 [00:00<?, ?it/s]",
      "application/vnd.jupyter.widget-view+json": {
       "version_major": 2,
       "version_minor": 0,
       "model_id": "07712103304b4b78acccaf5bf66e84bf"
      }
     },
     "metadata": {},
     "output_type": "display_data"
    },
    {
     "data": {
      "text/plain": "Fetching 7 files:   0%|          | 0/7 [00:00<?, ?it/s]",
      "application/vnd.jupyter.widget-view+json": {
       "version_major": 2,
       "version_minor": 0,
       "model_id": "e13d2dcb932b444c9588b97b2086aaf2"
      }
     },
     "metadata": {},
     "output_type": "display_data"
    },
    {
     "data": {
      "text/plain": "Fetching 7 files:   0%|          | 0/7 [00:00<?, ?it/s]",
      "application/vnd.jupyter.widget-view+json": {
       "version_major": 2,
       "version_minor": 0,
       "model_id": "d2ff7dd8e25841d1af15dada7ab4a11b"
      }
     },
     "metadata": {},
     "output_type": "display_data"
    },
    {
     "data": {
      "text/plain": "Fetching 7 files:   0%|          | 0/7 [00:00<?, ?it/s]",
      "application/vnd.jupyter.widget-view+json": {
       "version_major": 2,
       "version_minor": 0,
       "model_id": "437312d108af44609c165dc883772930"
      }
     },
     "metadata": {},
     "output_type": "display_data"
    },
    {
     "data": {
      "text/plain": "Fetching 7 files:   0%|          | 0/7 [00:00<?, ?it/s]",
      "application/vnd.jupyter.widget-view+json": {
       "version_major": 2,
       "version_minor": 0,
       "model_id": "5f6dedc055b64aeab6fe07652c5d9d9c"
      }
     },
     "metadata": {},
     "output_type": "display_data"
    },
    {
     "data": {
      "text/plain": "Fetching 7 files:   0%|          | 0/7 [00:00<?, ?it/s]",
      "application/vnd.jupyter.widget-view+json": {
       "version_major": 2,
       "version_minor": 0,
       "model_id": "329c1e2c9b15431885a045a6015702e9"
      }
     },
     "metadata": {},
     "output_type": "display_data"
    },
    {
     "data": {
      "text/plain": "Fetching 7 files:   0%|          | 0/7 [00:00<?, ?it/s]",
      "application/vnd.jupyter.widget-view+json": {
       "version_major": 2,
       "version_minor": 0,
       "model_id": "9599cf4d7ef14051a20c2c2fce4f9b94"
      }
     },
     "metadata": {},
     "output_type": "display_data"
    },
    {
     "data": {
      "text/plain": "Fetching 7 files:   0%|          | 0/7 [00:00<?, ?it/s]",
      "application/vnd.jupyter.widget-view+json": {
       "version_major": 2,
       "version_minor": 0,
       "model_id": "b22edc80c1bc42d3b87e5064f14aa80d"
      }
     },
     "metadata": {},
     "output_type": "display_data"
    },
    {
     "data": {
      "text/plain": "Fetching 7 files:   0%|          | 0/7 [00:00<?, ?it/s]",
      "application/vnd.jupyter.widget-view+json": {
       "version_major": 2,
       "version_minor": 0,
       "model_id": "edfcc10955cd40f09f0b2275a4d7ff94"
      }
     },
     "metadata": {},
     "output_type": "display_data"
    },
    {
     "data": {
      "text/plain": "Fetching 7 files:   0%|          | 0/7 [00:00<?, ?it/s]",
      "application/vnd.jupyter.widget-view+json": {
       "version_major": 2,
       "version_minor": 0,
       "model_id": "3736afe268894f7784327f95ca602b45"
      }
     },
     "metadata": {},
     "output_type": "display_data"
    },
    {
     "data": {
      "text/plain": "Fetching 7 files:   0%|          | 0/7 [00:00<?, ?it/s]",
      "application/vnd.jupyter.widget-view+json": {
       "version_major": 2,
       "version_minor": 0,
       "model_id": "5c58429cd2dc46b3a1d091d0b734821b"
      }
     },
     "metadata": {},
     "output_type": "display_data"
    },
    {
     "data": {
      "text/plain": "Fetching 7 files:   0%|          | 0/7 [00:00<?, ?it/s]",
      "application/vnd.jupyter.widget-view+json": {
       "version_major": 2,
       "version_minor": 0,
       "model_id": "448ac7fd1d314c1fbcaa7fb6fb046f1f"
      }
     },
     "metadata": {},
     "output_type": "display_data"
    },
    {
     "data": {
      "text/plain": "Fetching 7 files:   0%|          | 0/7 [00:00<?, ?it/s]",
      "application/vnd.jupyter.widget-view+json": {
       "version_major": 2,
       "version_minor": 0,
       "model_id": "edbade85fce34c62956bcf1902f75ed9"
      }
     },
     "metadata": {},
     "output_type": "display_data"
    },
    {
     "data": {
      "text/plain": "Fetching 7 files:   0%|          | 0/7 [00:00<?, ?it/s]",
      "application/vnd.jupyter.widget-view+json": {
       "version_major": 2,
       "version_minor": 0,
       "model_id": "0c32a882038442c09ee6514c2aed2768"
      }
     },
     "metadata": {},
     "output_type": "display_data"
    },
    {
     "data": {
      "text/plain": "Fetching 7 files:   0%|          | 0/7 [00:00<?, ?it/s]",
      "application/vnd.jupyter.widget-view+json": {
       "version_major": 2,
       "version_minor": 0,
       "model_id": "908a5e67ec874275a67c264014e21f7b"
      }
     },
     "metadata": {},
     "output_type": "display_data"
    },
    {
     "data": {
      "text/plain": "Fetching 7 files:   0%|          | 0/7 [00:00<?, ?it/s]",
      "application/vnd.jupyter.widget-view+json": {
       "version_major": 2,
       "version_minor": 0,
       "model_id": "442ac24cacd44bab8d150b1fc6550c76"
      }
     },
     "metadata": {},
     "output_type": "display_data"
    },
    {
     "data": {
      "text/plain": "Fetching 7 files:   0%|          | 0/7 [00:00<?, ?it/s]",
      "application/vnd.jupyter.widget-view+json": {
       "version_major": 2,
       "version_minor": 0,
       "model_id": "b1f35f9d61ba484c949146d19ace2fb6"
      }
     },
     "metadata": {},
     "output_type": "display_data"
    },
    {
     "data": {
      "text/plain": "Fetching 7 files:   0%|          | 0/7 [00:00<?, ?it/s]",
      "application/vnd.jupyter.widget-view+json": {
       "version_major": 2,
       "version_minor": 0,
       "model_id": "73a20f22afe54ca780822d261b9ad836"
      }
     },
     "metadata": {},
     "output_type": "display_data"
    },
    {
     "data": {
      "text/plain": "Fetching 7 files:   0%|          | 0/7 [00:00<?, ?it/s]",
      "application/vnd.jupyter.widget-view+json": {
       "version_major": 2,
       "version_minor": 0,
       "model_id": "eec96181c06349bd88e45a1c58e6d98d"
      }
     },
     "metadata": {},
     "output_type": "display_data"
    },
    {
     "data": {
      "text/plain": "Fetching 7 files:   0%|          | 0/7 [00:00<?, ?it/s]",
      "application/vnd.jupyter.widget-view+json": {
       "version_major": 2,
       "version_minor": 0,
       "model_id": "c702681ac94a4d38a9a01d938eea25d1"
      }
     },
     "metadata": {},
     "output_type": "display_data"
    },
    {
     "data": {
      "text/plain": "Fetching 7 files:   0%|          | 0/7 [00:00<?, ?it/s]",
      "application/vnd.jupyter.widget-view+json": {
       "version_major": 2,
       "version_minor": 0,
       "model_id": "1f09cc0f2eec45dd9a75de8efe05d67c"
      }
     },
     "metadata": {},
     "output_type": "display_data"
    },
    {
     "data": {
      "text/plain": "Fetching 7 files:   0%|          | 0/7 [00:00<?, ?it/s]",
      "application/vnd.jupyter.widget-view+json": {
       "version_major": 2,
       "version_minor": 0,
       "model_id": "b7f3003677e3490a95e46bf7240f933e"
      }
     },
     "metadata": {},
     "output_type": "display_data"
    },
    {
     "data": {
      "text/plain": "Fetching 7 files:   0%|          | 0/7 [00:00<?, ?it/s]",
      "application/vnd.jupyter.widget-view+json": {
       "version_major": 2,
       "version_minor": 0,
       "model_id": "a0d70d457e2b42e6b10616a2f43b258f"
      }
     },
     "metadata": {},
     "output_type": "display_data"
    },
    {
     "data": {
      "text/plain": "Fetching 7 files:   0%|          | 0/7 [00:00<?, ?it/s]",
      "application/vnd.jupyter.widget-view+json": {
       "version_major": 2,
       "version_minor": 0,
       "model_id": "9f75994e53794f7fbb881652cb341376"
      }
     },
     "metadata": {},
     "output_type": "display_data"
    },
    {
     "data": {
      "text/plain": "Fetching 7 files:   0%|          | 0/7 [00:00<?, ?it/s]",
      "application/vnd.jupyter.widget-view+json": {
       "version_major": 2,
       "version_minor": 0,
       "model_id": "e9e918615bd94d748343df49372e0d84"
      }
     },
     "metadata": {},
     "output_type": "display_data"
    },
    {
     "data": {
      "text/plain": "Fetching 7 files:   0%|          | 0/7 [00:00<?, ?it/s]",
      "application/vnd.jupyter.widget-view+json": {
       "version_major": 2,
       "version_minor": 0,
       "model_id": "ecf57c53acef46d491d15e0f1efb0ad5"
      }
     },
     "metadata": {},
     "output_type": "display_data"
    },
    {
     "data": {
      "text/plain": "Fetching 7 files:   0%|          | 0/7 [00:00<?, ?it/s]",
      "application/vnd.jupyter.widget-view+json": {
       "version_major": 2,
       "version_minor": 0,
       "model_id": "2cdb58bf069d44d0a3ced7c4cfdd396c"
      }
     },
     "metadata": {},
     "output_type": "display_data"
    },
    {
     "data": {
      "text/plain": "Fetching 7 files:   0%|          | 0/7 [00:00<?, ?it/s]",
      "application/vnd.jupyter.widget-view+json": {
       "version_major": 2,
       "version_minor": 0,
       "model_id": "2dac6ad1b18c49b8be625e3fa2bdfb29"
      }
     },
     "metadata": {},
     "output_type": "display_data"
    },
    {
     "data": {
      "text/plain": "Fetching 7 files:   0%|          | 0/7 [00:00<?, ?it/s]",
      "application/vnd.jupyter.widget-view+json": {
       "version_major": 2,
       "version_minor": 0,
       "model_id": "a00d14bf735a4dad8b02f50cdb207893"
      }
     },
     "metadata": {},
     "output_type": "display_data"
    },
    {
     "data": {
      "text/plain": "Fetching 7 files:   0%|          | 0/7 [00:00<?, ?it/s]",
      "application/vnd.jupyter.widget-view+json": {
       "version_major": 2,
       "version_minor": 0,
       "model_id": "4302a960ade443f48cc1043500c0abe5"
      }
     },
     "metadata": {},
     "output_type": "display_data"
    },
    {
     "data": {
      "text/plain": "Fetching 7 files:   0%|          | 0/7 [00:00<?, ?it/s]",
      "application/vnd.jupyter.widget-view+json": {
       "version_major": 2,
       "version_minor": 0,
       "model_id": "c42e56e163774ee2a3fc499d9dc2d49a"
      }
     },
     "metadata": {},
     "output_type": "display_data"
    },
    {
     "data": {
      "text/plain": "Fetching 7 files:   0%|          | 0/7 [00:00<?, ?it/s]",
      "application/vnd.jupyter.widget-view+json": {
       "version_major": 2,
       "version_minor": 0,
       "model_id": "dc5b1f6711e942e597eaf0f97aca2f01"
      }
     },
     "metadata": {},
     "output_type": "display_data"
    },
    {
     "data": {
      "text/plain": "Fetching 7 files:   0%|          | 0/7 [00:00<?, ?it/s]",
      "application/vnd.jupyter.widget-view+json": {
       "version_major": 2,
       "version_minor": 0,
       "model_id": "eda2642738564e0fbabb12ca676e082d"
      }
     },
     "metadata": {},
     "output_type": "display_data"
    },
    {
     "data": {
      "text/plain": "Fetching 7 files:   0%|          | 0/7 [00:00<?, ?it/s]",
      "application/vnd.jupyter.widget-view+json": {
       "version_major": 2,
       "version_minor": 0,
       "model_id": "dae54be3acc742ec967a4978d9784182"
      }
     },
     "metadata": {},
     "output_type": "display_data"
    },
    {
     "data": {
      "text/plain": "Fetching 7 files:   0%|          | 0/7 [00:00<?, ?it/s]",
      "application/vnd.jupyter.widget-view+json": {
       "version_major": 2,
       "version_minor": 0,
       "model_id": "9d8ba7a9ca5646b78c9f84baf8e9b9df"
      }
     },
     "metadata": {},
     "output_type": "display_data"
    },
    {
     "data": {
      "text/plain": "Fetching 7 files:   0%|          | 0/7 [00:00<?, ?it/s]",
      "application/vnd.jupyter.widget-view+json": {
       "version_major": 2,
       "version_minor": 0,
       "model_id": "14e3a246a3f24cd3ab2d26cb2d5fe021"
      }
     },
     "metadata": {},
     "output_type": "display_data"
    },
    {
     "data": {
      "text/plain": "Fetching 7 files:   0%|          | 0/7 [00:00<?, ?it/s]",
      "application/vnd.jupyter.widget-view+json": {
       "version_major": 2,
       "version_minor": 0,
       "model_id": "f5de81d7a7ba4474a994e9d372f4e90c"
      }
     },
     "metadata": {},
     "output_type": "display_data"
    },
    {
     "data": {
      "text/plain": "Fetching 7 files:   0%|          | 0/7 [00:00<?, ?it/s]",
      "application/vnd.jupyter.widget-view+json": {
       "version_major": 2,
       "version_minor": 0,
       "model_id": "fa1cc04b9b134c39b86671f6949d7456"
      }
     },
     "metadata": {},
     "output_type": "display_data"
    },
    {
     "data": {
      "text/plain": "Fetching 7 files:   0%|          | 0/7 [00:00<?, ?it/s]",
      "application/vnd.jupyter.widget-view+json": {
       "version_major": 2,
       "version_minor": 0,
       "model_id": "45f2c62cf9ab411999bca3ea40f2cf22"
      }
     },
     "metadata": {},
     "output_type": "display_data"
    },
    {
     "data": {
      "text/plain": "Fetching 7 files:   0%|          | 0/7 [00:00<?, ?it/s]",
      "application/vnd.jupyter.widget-view+json": {
       "version_major": 2,
       "version_minor": 0,
       "model_id": "5d47d2482bdc4737864309f71398bd55"
      }
     },
     "metadata": {},
     "output_type": "display_data"
    },
    {
     "data": {
      "text/plain": "Fetching 7 files:   0%|          | 0/7 [00:00<?, ?it/s]",
      "application/vnd.jupyter.widget-view+json": {
       "version_major": 2,
       "version_minor": 0,
       "model_id": "4cad94254d5e478da89fde498120f831"
      }
     },
     "metadata": {},
     "output_type": "display_data"
    },
    {
     "data": {
      "text/plain": "Fetching 7 files:   0%|          | 0/7 [00:00<?, ?it/s]",
      "application/vnd.jupyter.widget-view+json": {
       "version_major": 2,
       "version_minor": 0,
       "model_id": "7c9f84b7ed0d4d61b929201d85f5697c"
      }
     },
     "metadata": {},
     "output_type": "display_data"
    },
    {
     "data": {
      "text/plain": "Fetching 7 files:   0%|          | 0/7 [00:00<?, ?it/s]",
      "application/vnd.jupyter.widget-view+json": {
       "version_major": 2,
       "version_minor": 0,
       "model_id": "ff9600c4463747c6af554b0c841e6722"
      }
     },
     "metadata": {},
     "output_type": "display_data"
    },
    {
     "data": {
      "text/plain": "Fetching 7 files:   0%|          | 0/7 [00:00<?, ?it/s]",
      "application/vnd.jupyter.widget-view+json": {
       "version_major": 2,
       "version_minor": 0,
       "model_id": "a7a6acdedfd843578c0a47a0f9cfd682"
      }
     },
     "metadata": {},
     "output_type": "display_data"
    },
    {
     "data": {
      "text/plain": "Fetching 7 files:   0%|          | 0/7 [00:00<?, ?it/s]",
      "application/vnd.jupyter.widget-view+json": {
       "version_major": 2,
       "version_minor": 0,
       "model_id": "62d4bfbaaffe4138a5a9bbf424f2740c"
      }
     },
     "metadata": {},
     "output_type": "display_data"
    },
    {
     "data": {
      "text/plain": "Fetching 7 files:   0%|          | 0/7 [00:00<?, ?it/s]",
      "application/vnd.jupyter.widget-view+json": {
       "version_major": 2,
       "version_minor": 0,
       "model_id": "eb062a33617d4df9b8ae5e342e10f6d9"
      }
     },
     "metadata": {},
     "output_type": "display_data"
    },
    {
     "data": {
      "text/plain": "Fetching 7 files:   0%|          | 0/7 [00:00<?, ?it/s]",
      "application/vnd.jupyter.widget-view+json": {
       "version_major": 2,
       "version_minor": 0,
       "model_id": "eda43b1038c54ffc9fb4fd4e17ca01d9"
      }
     },
     "metadata": {},
     "output_type": "display_data"
    },
    {
     "data": {
      "text/plain": "Fetching 7 files:   0%|          | 0/7 [00:00<?, ?it/s]",
      "application/vnd.jupyter.widget-view+json": {
       "version_major": 2,
       "version_minor": 0,
       "model_id": "15accddba788489d8547213a4841fb91"
      }
     },
     "metadata": {},
     "output_type": "display_data"
    },
    {
     "data": {
      "text/plain": "Fetching 7 files:   0%|          | 0/7 [00:00<?, ?it/s]",
      "application/vnd.jupyter.widget-view+json": {
       "version_major": 2,
       "version_minor": 0,
       "model_id": "c6dc547fe7cb458fa912d08a7f8e3e82"
      }
     },
     "metadata": {},
     "output_type": "display_data"
    },
    {
     "data": {
      "text/plain": "Fetching 7 files:   0%|          | 0/7 [00:00<?, ?it/s]",
      "application/vnd.jupyter.widget-view+json": {
       "version_major": 2,
       "version_minor": 0,
       "model_id": "932a6ea031a24de793a59abb47ae7a3e"
      }
     },
     "metadata": {},
     "output_type": "display_data"
    },
    {
     "data": {
      "text/plain": "Fetching 7 files:   0%|          | 0/7 [00:00<?, ?it/s]",
      "application/vnd.jupyter.widget-view+json": {
       "version_major": 2,
       "version_minor": 0,
       "model_id": "581cce86c95841e88bf3b73a434c967f"
      }
     },
     "metadata": {},
     "output_type": "display_data"
    },
    {
     "data": {
      "text/plain": "Fetching 7 files:   0%|          | 0/7 [00:00<?, ?it/s]",
      "application/vnd.jupyter.widget-view+json": {
       "version_major": 2,
       "version_minor": 0,
       "model_id": "74d1c37308f74139a2adea08edf58cb0"
      }
     },
     "metadata": {},
     "output_type": "display_data"
    },
    {
     "data": {
      "text/plain": "Fetching 7 files:   0%|          | 0/7 [00:00<?, ?it/s]",
      "application/vnd.jupyter.widget-view+json": {
       "version_major": 2,
       "version_minor": 0,
       "model_id": "ad9394e8838b4c798755001864502c91"
      }
     },
     "metadata": {},
     "output_type": "display_data"
    },
    {
     "data": {
      "text/plain": "Fetching 7 files:   0%|          | 0/7 [00:00<?, ?it/s]",
      "application/vnd.jupyter.widget-view+json": {
       "version_major": 2,
       "version_minor": 0,
       "model_id": "83cacc4041bd44aa8da98bc7df5b5204"
      }
     },
     "metadata": {},
     "output_type": "display_data"
    },
    {
     "data": {
      "text/plain": "Fetching 7 files:   0%|          | 0/7 [00:00<?, ?it/s]",
      "application/vnd.jupyter.widget-view+json": {
       "version_major": 2,
       "version_minor": 0,
       "model_id": "1088adf7ca0342d3ada01275ec84c698"
      }
     },
     "metadata": {},
     "output_type": "display_data"
    },
    {
     "data": {
      "text/plain": "Fetching 7 files:   0%|          | 0/7 [00:00<?, ?it/s]",
      "application/vnd.jupyter.widget-view+json": {
       "version_major": 2,
       "version_minor": 0,
       "model_id": "c37de81908844a7e8826d9a8c1bd6d2e"
      }
     },
     "metadata": {},
     "output_type": "display_data"
    },
    {
     "data": {
      "text/plain": "Fetching 7 files:   0%|          | 0/7 [00:00<?, ?it/s]",
      "application/vnd.jupyter.widget-view+json": {
       "version_major": 2,
       "version_minor": 0,
       "model_id": "cb90e431686c4cf1b2179cd813215739"
      }
     },
     "metadata": {},
     "output_type": "display_data"
    },
    {
     "data": {
      "text/plain": "Fetching 7 files:   0%|          | 0/7 [00:00<?, ?it/s]",
      "application/vnd.jupyter.widget-view+json": {
       "version_major": 2,
       "version_minor": 0,
       "model_id": "774780db93d74580b45936b59098750d"
      }
     },
     "metadata": {},
     "output_type": "display_data"
    },
    {
     "data": {
      "text/plain": "Fetching 7 files:   0%|          | 0/7 [00:00<?, ?it/s]",
      "application/vnd.jupyter.widget-view+json": {
       "version_major": 2,
       "version_minor": 0,
       "model_id": "3b3490ee8f87424e8c7934f8931ec38e"
      }
     },
     "metadata": {},
     "output_type": "display_data"
    },
    {
     "data": {
      "text/plain": "Fetching 7 files:   0%|          | 0/7 [00:00<?, ?it/s]",
      "application/vnd.jupyter.widget-view+json": {
       "version_major": 2,
       "version_minor": 0,
       "model_id": "6362847762574264926593ce01d40919"
      }
     },
     "metadata": {},
     "output_type": "display_data"
    },
    {
     "data": {
      "text/plain": "Fetching 7 files:   0%|          | 0/7 [00:00<?, ?it/s]",
      "application/vnd.jupyter.widget-view+json": {
       "version_major": 2,
       "version_minor": 0,
       "model_id": "298379dd094e417f934573724198a841"
      }
     },
     "metadata": {},
     "output_type": "display_data"
    },
    {
     "data": {
      "text/plain": "Fetching 7 files:   0%|          | 0/7 [00:00<?, ?it/s]",
      "application/vnd.jupyter.widget-view+json": {
       "version_major": 2,
       "version_minor": 0,
       "model_id": "2a89633b889948b3b3216e8eda0b464f"
      }
     },
     "metadata": {},
     "output_type": "display_data"
    },
    {
     "data": {
      "text/plain": "Fetching 7 files:   0%|          | 0/7 [00:00<?, ?it/s]",
      "application/vnd.jupyter.widget-view+json": {
       "version_major": 2,
       "version_minor": 0,
       "model_id": "f95d7971c5e74989b8166ed7dc054314"
      }
     },
     "metadata": {},
     "output_type": "display_data"
    },
    {
     "data": {
      "text/plain": "Fetching 7 files:   0%|          | 0/7 [00:00<?, ?it/s]",
      "application/vnd.jupyter.widget-view+json": {
       "version_major": 2,
       "version_minor": 0,
       "model_id": "b459d0b0795c4740b44f29a5e4ca0e7f"
      }
     },
     "metadata": {},
     "output_type": "display_data"
    },
    {
     "data": {
      "text/plain": "Fetching 7 files:   0%|          | 0/7 [00:00<?, ?it/s]",
      "application/vnd.jupyter.widget-view+json": {
       "version_major": 2,
       "version_minor": 0,
       "model_id": "14c998a418c74ecebf61fe5111aee769"
      }
     },
     "metadata": {},
     "output_type": "display_data"
    },
    {
     "data": {
      "text/plain": "Fetching 7 files:   0%|          | 0/7 [00:00<?, ?it/s]",
      "application/vnd.jupyter.widget-view+json": {
       "version_major": 2,
       "version_minor": 0,
       "model_id": "5ffeb0c3d6124aab95d8e5370431f59e"
      }
     },
     "metadata": {},
     "output_type": "display_data"
    },
    {
     "data": {
      "text/plain": "Fetching 7 files:   0%|          | 0/7 [00:00<?, ?it/s]",
      "application/vnd.jupyter.widget-view+json": {
       "version_major": 2,
       "version_minor": 0,
       "model_id": "c948c3daeffa4658a145578254ffb08b"
      }
     },
     "metadata": {},
     "output_type": "display_data"
    },
    {
     "data": {
      "text/plain": "Fetching 7 files:   0%|          | 0/7 [00:00<?, ?it/s]",
      "application/vnd.jupyter.widget-view+json": {
       "version_major": 2,
       "version_minor": 0,
       "model_id": "2a279459a43c412eb7f7d13155487587"
      }
     },
     "metadata": {},
     "output_type": "display_data"
    },
    {
     "data": {
      "text/plain": "Fetching 7 files:   0%|          | 0/7 [00:00<?, ?it/s]",
      "application/vnd.jupyter.widget-view+json": {
       "version_major": 2,
       "version_minor": 0,
       "model_id": "570f8dbab00744abb0991c44381ed3a8"
      }
     },
     "metadata": {},
     "output_type": "display_data"
    },
    {
     "data": {
      "text/plain": "Fetching 7 files:   0%|          | 0/7 [00:00<?, ?it/s]",
      "application/vnd.jupyter.widget-view+json": {
       "version_major": 2,
       "version_minor": 0,
       "model_id": "69fe9e43cd694146aa8187be6b423255"
      }
     },
     "metadata": {},
     "output_type": "display_data"
    },
    {
     "data": {
      "text/plain": "Fetching 7 files:   0%|          | 0/7 [00:00<?, ?it/s]",
      "application/vnd.jupyter.widget-view+json": {
       "version_major": 2,
       "version_minor": 0,
       "model_id": "94bf022f15594ef89e0a14e9a105b05e"
      }
     },
     "metadata": {},
     "output_type": "display_data"
    },
    {
     "data": {
      "text/plain": "Fetching 7 files:   0%|          | 0/7 [00:00<?, ?it/s]",
      "application/vnd.jupyter.widget-view+json": {
       "version_major": 2,
       "version_minor": 0,
       "model_id": "8099a29517da4356804649593c5382c6"
      }
     },
     "metadata": {},
     "output_type": "display_data"
    },
    {
     "data": {
      "text/plain": "Fetching 7 files:   0%|          | 0/7 [00:00<?, ?it/s]",
      "application/vnd.jupyter.widget-view+json": {
       "version_major": 2,
       "version_minor": 0,
       "model_id": "668a4b4ce546473c8c208a5627b206ab"
      }
     },
     "metadata": {},
     "output_type": "display_data"
    },
    {
     "data": {
      "text/plain": "Fetching 7 files:   0%|          | 0/7 [00:00<?, ?it/s]",
      "application/vnd.jupyter.widget-view+json": {
       "version_major": 2,
       "version_minor": 0,
       "model_id": "909f31bba3744e70990205be49909c1f"
      }
     },
     "metadata": {},
     "output_type": "display_data"
    },
    {
     "data": {
      "text/plain": "Fetching 7 files:   0%|          | 0/7 [00:00<?, ?it/s]",
      "application/vnd.jupyter.widget-view+json": {
       "version_major": 2,
       "version_minor": 0,
       "model_id": "44d0809fcddb4527b6d01889a5892dba"
      }
     },
     "metadata": {},
     "output_type": "display_data"
    },
    {
     "data": {
      "text/plain": "Fetching 7 files:   0%|          | 0/7 [00:00<?, ?it/s]",
      "application/vnd.jupyter.widget-view+json": {
       "version_major": 2,
       "version_minor": 0,
       "model_id": "2c944ae718f6412797403a9f345959e3"
      }
     },
     "metadata": {},
     "output_type": "display_data"
    },
    {
     "data": {
      "text/plain": "Fetching 7 files:   0%|          | 0/7 [00:00<?, ?it/s]",
      "application/vnd.jupyter.widget-view+json": {
       "version_major": 2,
       "version_minor": 0,
       "model_id": "0834e8a71c3048d4bcca3ecd463400d2"
      }
     },
     "metadata": {},
     "output_type": "display_data"
    },
    {
     "data": {
      "text/plain": "Fetching 7 files:   0%|          | 0/7 [00:00<?, ?it/s]",
      "application/vnd.jupyter.widget-view+json": {
       "version_major": 2,
       "version_minor": 0,
       "model_id": "29ff035db99b4604b6bdb8480f45760e"
      }
     },
     "metadata": {},
     "output_type": "display_data"
    },
    {
     "data": {
      "text/plain": "Fetching 7 files:   0%|          | 0/7 [00:00<?, ?it/s]",
      "application/vnd.jupyter.widget-view+json": {
       "version_major": 2,
       "version_minor": 0,
       "model_id": "8c2133d20c8f4beb8cccf6f667ee4114"
      }
     },
     "metadata": {},
     "output_type": "display_data"
    },
    {
     "data": {
      "text/plain": "Fetching 7 files:   0%|          | 0/7 [00:00<?, ?it/s]",
      "application/vnd.jupyter.widget-view+json": {
       "version_major": 2,
       "version_minor": 0,
       "model_id": "a28c840be921491a91092358e2721506"
      }
     },
     "metadata": {},
     "output_type": "display_data"
    },
    {
     "data": {
      "text/plain": "Fetching 7 files:   0%|          | 0/7 [00:00<?, ?it/s]",
      "application/vnd.jupyter.widget-view+json": {
       "version_major": 2,
       "version_minor": 0,
       "model_id": "2595e89431a7432ebc90f78df42bf150"
      }
     },
     "metadata": {},
     "output_type": "display_data"
    },
    {
     "data": {
      "text/plain": "Fetching 7 files:   0%|          | 0/7 [00:00<?, ?it/s]",
      "application/vnd.jupyter.widget-view+json": {
       "version_major": 2,
       "version_minor": 0,
       "model_id": "33d9f3cab13b46039feb0256a4e3e8eb"
      }
     },
     "metadata": {},
     "output_type": "display_data"
    },
    {
     "data": {
      "text/plain": "Fetching 7 files:   0%|          | 0/7 [00:00<?, ?it/s]",
      "application/vnd.jupyter.widget-view+json": {
       "version_major": 2,
       "version_minor": 0,
       "model_id": "23f69f0df32f4805a518945b6b783421"
      }
     },
     "metadata": {},
     "output_type": "display_data"
    },
    {
     "data": {
      "text/plain": "Fetching 7 files:   0%|          | 0/7 [00:00<?, ?it/s]",
      "application/vnd.jupyter.widget-view+json": {
       "version_major": 2,
       "version_minor": 0,
       "model_id": "4571793f2f0046128b533ed44933f295"
      }
     },
     "metadata": {},
     "output_type": "display_data"
    },
    {
     "data": {
      "text/plain": "Fetching 7 files:   0%|          | 0/7 [00:00<?, ?it/s]",
      "application/vnd.jupyter.widget-view+json": {
       "version_major": 2,
       "version_minor": 0,
       "model_id": "c228d398edaf4438b2758778677e06fb"
      }
     },
     "metadata": {},
     "output_type": "display_data"
    },
    {
     "data": {
      "text/plain": "Fetching 7 files:   0%|          | 0/7 [00:00<?, ?it/s]",
      "application/vnd.jupyter.widget-view+json": {
       "version_major": 2,
       "version_minor": 0,
       "model_id": "461e08b406ef4a03b10ba60cfe67d3f3"
      }
     },
     "metadata": {},
     "output_type": "display_data"
    },
    {
     "data": {
      "text/plain": "Fetching 7 files:   0%|          | 0/7 [00:00<?, ?it/s]",
      "application/vnd.jupyter.widget-view+json": {
       "version_major": 2,
       "version_minor": 0,
       "model_id": "2c29fbf2155c4e84b207f2ee54cc090c"
      }
     },
     "metadata": {},
     "output_type": "display_data"
    },
    {
     "data": {
      "text/plain": "Fetching 7 files:   0%|          | 0/7 [00:00<?, ?it/s]",
      "application/vnd.jupyter.widget-view+json": {
       "version_major": 2,
       "version_minor": 0,
       "model_id": "f97ae6297e454c46bb1838bda29b3c5f"
      }
     },
     "metadata": {},
     "output_type": "display_data"
    },
    {
     "data": {
      "text/plain": "Fetching 7 files:   0%|          | 0/7 [00:00<?, ?it/s]",
      "application/vnd.jupyter.widget-view+json": {
       "version_major": 2,
       "version_minor": 0,
       "model_id": "8db26aa3411b4838920757900551a1b6"
      }
     },
     "metadata": {},
     "output_type": "display_data"
    },
    {
     "data": {
      "text/plain": "Fetching 7 files:   0%|          | 0/7 [00:00<?, ?it/s]",
      "application/vnd.jupyter.widget-view+json": {
       "version_major": 2,
       "version_minor": 0,
       "model_id": "720bf730a67c4f7391a758d39635da5e"
      }
     },
     "metadata": {},
     "output_type": "display_data"
    },
    {
     "data": {
      "text/plain": "Fetching 7 files:   0%|          | 0/7 [00:00<?, ?it/s]",
      "application/vnd.jupyter.widget-view+json": {
       "version_major": 2,
       "version_minor": 0,
       "model_id": "f325aef732224ed1a8fbd19da36a7637"
      }
     },
     "metadata": {},
     "output_type": "display_data"
    },
    {
     "data": {
      "text/plain": "Fetching 7 files:   0%|          | 0/7 [00:00<?, ?it/s]",
      "application/vnd.jupyter.widget-view+json": {
       "version_major": 2,
       "version_minor": 0,
       "model_id": "076a6d844e48410099acac721905c1a8"
      }
     },
     "metadata": {},
     "output_type": "display_data"
    },
    {
     "data": {
      "text/plain": "Fetching 7 files:   0%|          | 0/7 [00:00<?, ?it/s]",
      "application/vnd.jupyter.widget-view+json": {
       "version_major": 2,
       "version_minor": 0,
       "model_id": "6401acbba7344b6180f61e0543d43531"
      }
     },
     "metadata": {},
     "output_type": "display_data"
    },
    {
     "data": {
      "text/plain": "Fetching 7 files:   0%|          | 0/7 [00:00<?, ?it/s]",
      "application/vnd.jupyter.widget-view+json": {
       "version_major": 2,
       "version_minor": 0,
       "model_id": "82d1bf7c0a9148be802736db2da2e3e9"
      }
     },
     "metadata": {},
     "output_type": "display_data"
    },
    {
     "data": {
      "text/plain": "Fetching 7 files:   0%|          | 0/7 [00:00<?, ?it/s]",
      "application/vnd.jupyter.widget-view+json": {
       "version_major": 2,
       "version_minor": 0,
       "model_id": "18dc0e39106b4e66a00057d7f987e81d"
      }
     },
     "metadata": {},
     "output_type": "display_data"
    },
    {
     "data": {
      "text/plain": "Fetching 7 files:   0%|          | 0/7 [00:00<?, ?it/s]",
      "application/vnd.jupyter.widget-view+json": {
       "version_major": 2,
       "version_minor": 0,
       "model_id": "b5a11fa3bafc4b6da655e9a8868a30d6"
      }
     },
     "metadata": {},
     "output_type": "display_data"
    },
    {
     "data": {
      "text/plain": "Fetching 7 files:   0%|          | 0/7 [00:00<?, ?it/s]",
      "application/vnd.jupyter.widget-view+json": {
       "version_major": 2,
       "version_minor": 0,
       "model_id": "660e639b906a47deb1371591a8ae0d40"
      }
     },
     "metadata": {},
     "output_type": "display_data"
    },
    {
     "data": {
      "text/plain": "Fetching 7 files:   0%|          | 0/7 [00:00<?, ?it/s]",
      "application/vnd.jupyter.widget-view+json": {
       "version_major": 2,
       "version_minor": 0,
       "model_id": "7801ea99b6aa401e8175c083ad44f3c0"
      }
     },
     "metadata": {},
     "output_type": "display_data"
    },
    {
     "data": {
      "text/plain": "Fetching 7 files:   0%|          | 0/7 [00:00<?, ?it/s]",
      "application/vnd.jupyter.widget-view+json": {
       "version_major": 2,
       "version_minor": 0,
       "model_id": "c1cee29dbda343628469531919162c3a"
      }
     },
     "metadata": {},
     "output_type": "display_data"
    },
    {
     "data": {
      "text/plain": "Fetching 7 files:   0%|          | 0/7 [00:00<?, ?it/s]",
      "application/vnd.jupyter.widget-view+json": {
       "version_major": 2,
       "version_minor": 0,
       "model_id": "7fa304388bf64f69b1390dd5261c9cf6"
      }
     },
     "metadata": {},
     "output_type": "display_data"
    },
    {
     "data": {
      "text/plain": "Fetching 7 files:   0%|          | 0/7 [00:00<?, ?it/s]",
      "application/vnd.jupyter.widget-view+json": {
       "version_major": 2,
       "version_minor": 0,
       "model_id": "c8bc34efb8f04e9abeef80bf3b9dc99e"
      }
     },
     "metadata": {},
     "output_type": "display_data"
    },
    {
     "data": {
      "text/plain": "Fetching 7 files:   0%|          | 0/7 [00:00<?, ?it/s]",
      "application/vnd.jupyter.widget-view+json": {
       "version_major": 2,
       "version_minor": 0,
       "model_id": "490cb4a28b2248bf81bf3bd901cf0ec8"
      }
     },
     "metadata": {},
     "output_type": "display_data"
    },
    {
     "data": {
      "text/plain": "Fetching 7 files:   0%|          | 0/7 [00:00<?, ?it/s]",
      "application/vnd.jupyter.widget-view+json": {
       "version_major": 2,
       "version_minor": 0,
       "model_id": "45d72ff3eeef44d083000b2b91030190"
      }
     },
     "metadata": {},
     "output_type": "display_data"
    },
    {
     "data": {
      "text/plain": "Fetching 7 files:   0%|          | 0/7 [00:00<?, ?it/s]",
      "application/vnd.jupyter.widget-view+json": {
       "version_major": 2,
       "version_minor": 0,
       "model_id": "798a29d292ba4ca190392684135df288"
      }
     },
     "metadata": {},
     "output_type": "display_data"
    },
    {
     "data": {
      "text/plain": "Fetching 7 files:   0%|          | 0/7 [00:00<?, ?it/s]",
      "application/vnd.jupyter.widget-view+json": {
       "version_major": 2,
       "version_minor": 0,
       "model_id": "72e9f0b5de9c4d7894577dca6c107770"
      }
     },
     "metadata": {},
     "output_type": "display_data"
    },
    {
     "data": {
      "text/plain": "Fetching 7 files:   0%|          | 0/7 [00:00<?, ?it/s]",
      "application/vnd.jupyter.widget-view+json": {
       "version_major": 2,
       "version_minor": 0,
       "model_id": "eb9940406e1e41eba31abe1201bf31a2"
      }
     },
     "metadata": {},
     "output_type": "display_data"
    },
    {
     "data": {
      "text/plain": "Fetching 7 files:   0%|          | 0/7 [00:00<?, ?it/s]",
      "application/vnd.jupyter.widget-view+json": {
       "version_major": 2,
       "version_minor": 0,
       "model_id": "44fe119fbff24a02b7b7fd14e0d6697d"
      }
     },
     "metadata": {},
     "output_type": "display_data"
    },
    {
     "data": {
      "text/plain": "Fetching 7 files:   0%|          | 0/7 [00:00<?, ?it/s]",
      "application/vnd.jupyter.widget-view+json": {
       "version_major": 2,
       "version_minor": 0,
       "model_id": "69cdc9fd3d614a9a8ab7bdc1be44823a"
      }
     },
     "metadata": {},
     "output_type": "display_data"
    },
    {
     "data": {
      "text/plain": "Fetching 7 files:   0%|          | 0/7 [00:00<?, ?it/s]",
      "application/vnd.jupyter.widget-view+json": {
       "version_major": 2,
       "version_minor": 0,
       "model_id": "d0d280b4fcb1403084ff1e528023f5e5"
      }
     },
     "metadata": {},
     "output_type": "display_data"
    },
    {
     "data": {
      "text/plain": "Fetching 7 files:   0%|          | 0/7 [00:00<?, ?it/s]",
      "application/vnd.jupyter.widget-view+json": {
       "version_major": 2,
       "version_minor": 0,
       "model_id": "4c644d316de749cc9fafffa6c5e2b1d9"
      }
     },
     "metadata": {},
     "output_type": "display_data"
    },
    {
     "data": {
      "text/plain": "Fetching 7 files:   0%|          | 0/7 [00:00<?, ?it/s]",
      "application/vnd.jupyter.widget-view+json": {
       "version_major": 2,
       "version_minor": 0,
       "model_id": "2b3f9ea9154747de97d4cab99795ce25"
      }
     },
     "metadata": {},
     "output_type": "display_data"
    },
    {
     "data": {
      "text/plain": "Fetching 7 files:   0%|          | 0/7 [00:00<?, ?it/s]",
      "application/vnd.jupyter.widget-view+json": {
       "version_major": 2,
       "version_minor": 0,
       "model_id": "f030ca55111c408088a83dfc11903bac"
      }
     },
     "metadata": {},
     "output_type": "display_data"
    },
    {
     "data": {
      "text/plain": "Fetching 7 files:   0%|          | 0/7 [00:00<?, ?it/s]",
      "application/vnd.jupyter.widget-view+json": {
       "version_major": 2,
       "version_minor": 0,
       "model_id": "e2a3d7a635d04ec8b927ffccd727add9"
      }
     },
     "metadata": {},
     "output_type": "display_data"
    },
    {
     "data": {
      "text/plain": "Fetching 7 files:   0%|          | 0/7 [00:00<?, ?it/s]",
      "application/vnd.jupyter.widget-view+json": {
       "version_major": 2,
       "version_minor": 0,
       "model_id": "72686da0c881468c8145c2806e4eb943"
      }
     },
     "metadata": {},
     "output_type": "display_data"
    },
    {
     "data": {
      "text/plain": "Fetching 7 files:   0%|          | 0/7 [00:00<?, ?it/s]",
      "application/vnd.jupyter.widget-view+json": {
       "version_major": 2,
       "version_minor": 0,
       "model_id": "3d5fb1a08aed440093f16dff39b6ad83"
      }
     },
     "metadata": {},
     "output_type": "display_data"
    },
    {
     "data": {
      "text/plain": "Fetching 7 files:   0%|          | 0/7 [00:00<?, ?it/s]",
      "application/vnd.jupyter.widget-view+json": {
       "version_major": 2,
       "version_minor": 0,
       "model_id": "aebe9d0cc9ee49d9b14b534df1b25ed6"
      }
     },
     "metadata": {},
     "output_type": "display_data"
    },
    {
     "data": {
      "text/plain": "Fetching 7 files:   0%|          | 0/7 [00:00<?, ?it/s]",
      "application/vnd.jupyter.widget-view+json": {
       "version_major": 2,
       "version_minor": 0,
       "model_id": "d7c5e4de0962441981d44abd7747955e"
      }
     },
     "metadata": {},
     "output_type": "display_data"
    },
    {
     "data": {
      "text/plain": "Fetching 7 files:   0%|          | 0/7 [00:00<?, ?it/s]",
      "application/vnd.jupyter.widget-view+json": {
       "version_major": 2,
       "version_minor": 0,
       "model_id": "3d429579246649acbb885aedb6f95e36"
      }
     },
     "metadata": {},
     "output_type": "display_data"
    },
    {
     "name": "stdout",
     "output_type": "stream",
     "text": [
      "Layer graphs generated %s [{'{\"layer\": \"Abstract and Introduction Analysis\"}': KnowledgeGraph(nodes=[Node(id='naturalLanguageProcessing', description='Natural language processing (NLP) is an interdisciplinary subfield of computer science and information retrieval, concerned with enabling computers to understand and manipulate human language.', category='field', color='blue', memory_type='semantic', created_at=None, summarized=None), Node(id='textCorpora', description='Text corpora are collections of written texts used in NLP to process natural language data.', category='dataset', color='blue', memory_type='semantic', created_at=None, summarized=None), Node(id='speechCorpora', description='Speech corpora are collections of speech audio used in NLP to process natural language data through speech recognition.', category='dataset', color='blue', memory_type='semantic', created_at=None, summarized=None), Node(id='machineLearningApproaches', description='Machine learning approaches in NLP include rule-based, statistical, and neural network-based methods to understand and generate human language.', category='technique', color='blue', memory_type='semantic', created_at=None, summarized=None), Node(id='linguistics', description='Linguistics is the scientific study of language and its structure, which lends ideas to NLP for processing human language.', category='discipline', color='blue', memory_type='semantic', created_at=None, summarized=None), Node(id='informationExtraction', description='Information extraction is a goal of NLP, involving the retrieval of specific pieces of data or insights from documents.', category='process', color='blue', memory_type='semantic', created_at=None, summarized=None), Node(id='documentCategorization', description='Document categorization is a process in NLP that organizes documents into categories based on their content.', category='process', color='blue', memory_type='semantic', created_at=None, summarized=None), Node(id='speechRecognition', description='Speech recognition is a challenge in NLP that involves converting spoken language into text.', category='challenge', color='blue', memory_type='semantic', created_at=None, summarized=None), Node(id='naturalLanguageUnderstanding', description='Natural language understanding is an NLP challenge that involves computers comprehending human language in a meaningful way.', category='challenge', color='blue', memory_type='semantic', created_at=None, summarized=None), Node(id='naturalLanguageGeneration', description='Natural language generation is an NLP challenge that deals with computers automatically generating natural language.', category='challenge', color='blue', memory_type='semantic', created_at=None, summarized=None)], edges=[Edge(source='naturalLanguageProcessing', target='textCorpora', description='Utilizes', color='blue', created_at=None, summarized=None), Edge(source='naturalLanguageProcessing', target='speechCorpora', description='Utilizes', color='blue', created_at=None, summarized=None), Edge(source='naturalLanguageProcessing', target='machineLearningApproaches', description='Employs', color='blue', created_at=None, summarized=None), Edge(source='naturalLanguageProcessing', target='linguistics', description='Borrows ideas from', color='blue', created_at=None, summarized=None), Edge(source='naturalLanguageProcessing', target='informationExtraction', description='Aims for', color='blue', created_at=None, summarized=None), Edge(source='naturalLanguageProcessing', target='documentCategorization', description='Aims for', color='blue', created_at=None, summarized=None), Edge(source='naturalLanguageProcessing', target='speechRecognition', description='Encounters challenges in', color='blue', created_at=None, summarized=None), Edge(source='naturalLanguageProcessing', target='naturalLanguageUnderstanding', description='Encounters challenges in', color='blue', created_at=None, summarized=None), Edge(source='naturalLanguageProcessing', target='naturalLanguageGeneration', description='Encounters challenges in', color='blue', created_at=None, summarized=None)])}, {'{\"layer\": \"Methodology and Experimentation Layer\"}': KnowledgeGraph(nodes=[Node(id='naturalLanguageProcessing', description='Natural language processing (NLP) is an interdisciplinary subfield of computer science and information retrieval, concerned with enabling computers to support and manipulate human language.', category='field', color='blue', memory_type='semantic', created_at=None, summarized=None), Node(id='processingNaturalLanguageDatasets', description='NLP involves processing natural language datasets using various machine learning approaches.', category='process', color='blue', memory_type='semantic', created_at=None, summarized=None), Node(id='ruleBasedApproaches', description='One of the machine learning approaches for NLP that uses a set of predefined rules.', category='methodology', color='blue', memory_type='semantic', created_at=None, summarized=None), Node(id='probabilisticApproaches', description='Another machine learning approach for NLP that includes statistical methods and neural network-based methods.', category='methodology', color='blue', memory_type='semantic', created_at=None, summarized=None), Node(id='statisticalMethods', description='A probabilistic approach to NLP that relies on statistical analysis.', category='methodology', color='blue', memory_type='semantic', created_at=None, summarized=None), Node(id='neuralNetworkBasedMethods', description='A probabilistic approach to NLP utilizing neural networks for processing natural language datasets.', category='methodology', color='blue', memory_type='semantic', created_at=None, summarized=None), Node(id='textCorpora', description='A type of natural language dataset consisting of a large and structured set of texts.', category='dataset', color='blue', memory_type='semantic', created_at=None, summarized=None), Node(id='speechCorpora', description='A type of natural language dataset that consists of a large and structured set of speech recordings.', category='dataset', color='blue', memory_type='semantic', created_at=None, summarized=None), Node(id='languageUnderstanding', description='The ability of a computer to comprehend the contents of documents, including the context and nuances of the language.', category='ability', color='blue', memory_type='semantic', created_at=None, summarized=None), Node(id='theoreticalLinguistics', description='A field from which NLP often borrows ideas to improve language understanding.', category='field', color='blue', memory_type='semantic', created_at=None, summarized=None), Node(id='informationExtraction', description='The process by which computers extract information and insights from documents.', category='process', color='blue', memory_type='semantic', created_at=None, summarized=None), Node(id='documentCategorization', description='The process of organizing documents into categories.', category='process', color='blue', memory_type='semantic', created_at=None, summarized=None), Node(id='speechRecognition', description='The challenge in NLP involving the identification and processing of spoken language.', category='challenge', color='blue', memory_type='semantic', created_at=None, summarized=None), Node(id='naturalLanguageUnderstanding', description='The challenge in NLP related to understanding the meaning of language.', category='challenge', color='blue', memory_type='semantic', created_at=None, summarized=None), Node(id='naturalLanguageGeneration', description='The challenge in NLP related to generating human-like language.', category='challenge', color='blue', memory_type='semantic', created_at=None, summarized=None)], edges=[Edge(source='naturalLanguageProcessing', target='processingNaturalLanguageDatasets', description='concerns', color='blue', created_at=None, summarized=None), Edge(source='processingNaturalLanguageDatasets', target='ruleBasedApproaches', description='uses', color='blue', created_at=None, summarized=None), Edge(source='processingNaturalLanguageDatasets', target='probabilisticApproaches', description='uses', color='blue', created_at=None, summarized=None), Edge(source='probabilisticApproaches', target='statisticalMethods', description='includes', color='blue', created_at=None, summarized=None), Edge(source='probabilisticApproaches', target='neuralNetworkBasedMethods', description='includes', color='blue', created_at=None, summarized=None), Edge(source='naturalLanguageProcessing', target='textCorpora', description='processes', color='blue', created_at=None, summarized=None), Edge(source='naturalLanguageProcessing', target='speechCorpora', description='processes', color='blue', created_at=None, summarized=None), Edge(source='naturalLanguageProcessing', target='languageUnderstanding', description='aims for', color='blue', created_at=None, summarized=None), Edge(source='naturalLanguageProcessing', target='theoreticalLinguistics', description='borrows ideas from', color='blue', created_at=None, summarized=None), Edge(source='naturalLanguageProcessing', target='informationExtraction', description='enables', color='blue', created_at=None, summarized=None), Edge(source='naturalLanguageProcessing', target='documentCategorization', description='enables', color='blue', created_at=None, summarized=None), Edge(source='naturalLanguageProcessing', target='speechRecognition', description='involves challenging aspects like', color='blue', created_at=None, summarized=None), Edge(source='naturalLanguageProcessing', target='naturalLanguageUnderstanding', description='involves challenging aspects like', color='blue', created_at=None, summarized=None), Edge(source='naturalLanguageProcessing', target='naturalLanguageGeneration', description='involves challenging aspects like', color='blue', created_at=None, summarized=None)])}, {'{\"layer\": \"Results and Data Layer\"}': KnowledgeGraph(nodes=[Node(id='naturalLanguageProcessing', description='Natural language processing (NLP) is an interdisciplinary subfield of computer science and information retrieval, concerned with giving computers the ability to support and manipulate human language.', category='field', color='blue', memory_type='semantic', created_at=None, summarized=None), Node(id='computerScience', description='Computer science is a field that encompasses the study of computers and computational systems.', category='field', color='blue', memory_type='semantic', created_at=None, summarized=None), Node(id='informationRetrieval', description='Information retrieval is the process of obtaining information from large repositories, especially through automated means.', category='field', color='blue', memory_type='semantic', created_at=None, summarized=None), Node(id='machineLearningApproaches', description='Machine learning approaches used in NLP include rule-based and probabilistic methods, such as statistical and neural network-based algorithms.', category='concept', color='blue', memory_type='semantic', created_at=None, summarized=None), Node(id='textCorpora', description='Text corpora are large and structured sets of texts used for processing natural language datasets in NLP.', category='dataset', color='blue', memory_type='semantic', created_at=None, summarized=None), Node(id='speechCorpora', description='Speech corpora are large and structured sets of speech data used for processing natural language datasets in NLP.', category='dataset', color='blue', memory_type='semantic', created_at=None, summarized=None), Node(id='linguistics', description='Linguistics is the scientific study of language and its structure.', category='field', color='blue', memory_type='semantic', created_at=None, summarized=None), Node(id='documentUnderstanding', description=\"Document understanding involves a computer's capability to comprehend the contents of documents, including the contextual nuances of the language within them.\", category='concept', color='blue', memory_type='semantic', created_at=None, summarized=None), Node(id='informationExtraction', description='Information extraction refers to the technology used in NLP to accurately extract information and insights contained in documents.', category='concept', color='blue', memory_type='semantic', created_at=None, summarized=None), Node(id='documentCategorization', description='Document categorization is the process of classifying and organizing documents, a task often performed by NLP technology.', category='concept', color='blue', memory_type='semantic', created_at=None, summarized=None), Node(id='speechRecognition', description='Speech recognition is the process of enabling a computer to identify and understand spoken language.', category='concept', color='blue', memory_type='semantic', created_at=None, summarized=None), Node(id='naturalLanguageUnderstanding', description=\"Natural language understanding involves a computer's ability to understand and interpret human language as it is spoken or written.\", category='concept', color='blue', memory_type='semantic', created_at=None, summarized=None), Node(id='naturalLanguageGeneration', description='Natural language generation is the process of producing human-like text or speech from a computer program.', category='concept', color='blue', memory_type='semantic', created_at=None, summarized=None)], edges=[Edge(source='naturalLanguageProcessing', target='computerScience', description='is a subfield of', color='blue', created_at=None, summarized=None), Edge(source='naturalLanguageProcessing', target='informationRetrieval', description='is a subfield related to', color='blue', created_at=None, summarized=None), Edge(source='naturalLanguageProcessing', target='machineLearningApproaches', description='involves using', color='blue', created_at=None, summarized=None), Edge(source='naturalLanguageProcessing', target='textCorpora', description='involves processing datasets like', color='blue', created_at=None, summarized=None), Edge(source='naturalLanguageProcessing', target='speechCorpora', description='involves processing datasets like', color='blue', created_at=None, summarized=None), Edge(source='naturalLanguageProcessing', target='linguistics', description='borrows ideas from', color='blue', created_at=None, summarized=None), Edge(source='naturalLanguageProcessing', target='documentUnderstanding', description='aims for a computer capable of', color='blue', created_at=None, summarized=None), Edge(source='naturalLanguageProcessing', target='informationExtraction', description='utilizes technology to perform', color='blue', created_at=None, summarized=None), Edge(source='naturalLanguageProcessing', target='documentCategorization', description='uses technology to perform', color='blue', created_at=None, summarized=None), Edge(source='naturalLanguageProcessing', target='speechRecognition', description='challenges involve', color='blue', created_at=None, summarized=None), Edge(source='naturalLanguageProcessing', target='naturalLanguageUnderstanding', description='challenges involve', color='blue', created_at=None, summarized=None), Edge(source='naturalLanguageProcessing', target='naturalLanguageGeneration', description='challenges involve', color='blue', created_at=None, summarized=None)])}, {'{\"layer\": \"Discussion and Interpretation Layer\"}': KnowledgeGraph(nodes=[Node(id='naturalLanguageProcessing', description='Natural language processing is an interdisciplinary subfield of computer science and information retrieval.', category='field', color='blue', memory_type='semantic', created_at=None, summarized=None), Node(id='computerScience', description='Computer science is the study of algorithmic processes, computational machines and computation itself.', category='field', color='blue', memory_type='semantic', created_at=None, summarized=None), Node(id='informationRetrieval', description='Information retrieval is the process of obtaining information system resources that are relevant to an information need from a collection of those resources.', category='field', color='blue', memory_type='semantic', created_at=None, summarized=None), Node(id='humanLanguageManipulation', description='Human language manipulation refers to the ability of computers to support and operate with human language.', category='capability', color='blue', memory_type='semantic', created_at=None, summarized=None), Node(id='naturalLanguageDatasets', description='Natural language datasets include text corpora or speech corpora, which are used for analysis in natural language processing.', category='data', color='blue', memory_type='semantic', created_at=None, summarized=None), Node(id='machineLearningApproaches', description='Machine learning approaches in NLP can be rule-based, probabilistic, such as statistical, or based on neural networks.', category='technology', color='blue', memory_type='semantic', created_at=None, summarized=None), Node(id='documentUnderstanding', description='Document understanding is a goal of NLP where a computer is expected to understand the contents of documents, including the contextual nuances of the language within them.', category='goal', color='blue', memory_type='semantic', created_at=None, summarized=None), Node(id='informationExtraction', description='Information extraction is the process where technology accurately extracts insights contained in documents.', category='capability', color='blue', memory_type='semantic', created_at=None, summarized=None), Node(id='documentCategorization', description='Document categorization involves organizing and categorizing documents based on their content and context.', category='capability', color='blue', memory_type='semantic', created_at=None, summarized=None), Node(id='theoreticalLinguistics', description='Theoretical linguistics is a branch of linguistics that NLP borrows ideas from to process and understand human language.', category='field', color='blue', memory_type='semantic', created_at=None, summarized=None), Node(id='speechRecognition', description='Speech recognition is the capability of a computer to understand spoken language and convert it into text.', category='challenge', color='blue', memory_type='semantic', created_at=None, summarized=None), Node(id='naturalLanguageUnderstanding', description=\"Natural language understanding involves the computer's ability to comprehend and interpret human language.\", category='challenge', color='blue', memory_type='semantic', created_at=None, summarized=None), Node(id='naturalLanguageGeneration', description='Natural language generation is the process of a computer producing human-like text.', category='challenge', color='blue', memory_type='semantic', created_at=None, summarized=None)], edges=[Edge(source='naturalLanguageProcessing', target='computerScience', description='Is a subfield of', color='blue', created_at=None, summarized=None), Edge(source='naturalLanguageProcessing', target='informationRetrieval', description='Is a subfield of', color='blue', created_at=None, summarized=None), Edge(source='naturalLanguageProcessing', target='humanLanguageManipulation', description='Is primarily concerned with', color='blue', created_at=None, summarized=None), Edge(source='naturalLanguageProcessing', target='naturalLanguageDatasets', description='Involves processing', color='blue', created_at=None, summarized=None), Edge(source='naturalLanguageProcessing', target='machineLearningApproaches', description='Uses approaches such as', color='blue', created_at=None, summarized=None), Edge(source='machineLearningApproaches', target='documentUnderstanding', description='Aids in', color='blue', created_at=None, summarized=None), Edge(source='naturalLanguageProcessing', target='documentUnderstanding', description='Aims for', color='blue', created_at=None, summarized=None), Edge(source='naturalLanguageProcessing', target='informationExtraction', description='Enables', color='blue', created_at=None, summarized=None), Edge(source='naturalLanguageProcessing', target='documentCategorization', description='Enables', color='blue', created_at=None, summarized=None), Edge(source='naturalLanguageProcessing', target='theoreticalLinguistics', description='Often borrows ideas from', color='blue', created_at=None, summarized=None), Edge(source='naturalLanguageProcessing', target='speechRecognition', description='Challenges involve', color='blue', created_at=None, summarized=None), Edge(source='naturalLanguageProcessing', target='naturalLanguageUnderstanding', description='Challenges involve', color='blue', created_at=None, summarized=None), Edge(source='naturalLanguageProcessing', target='naturalLanguageGeneration', description='Challenges involve', color='blue', created_at=None, summarized=None)])}, {'{\"layer\": \"Conclusion and Future Work Layer\"}': KnowledgeGraph(nodes=[Node(id='naturalLanguageProcessing', description='Natural language processing (NLP) is an interdisciplinary subfield of computer science and information retrieval.', category='field', color='blue', memory_type='semantic', created_at=None, summarized=None), Node(id='computerScience', description='Computer science is a field that encompasses the study and development of computer technology, including both hardware and software.', category='field', color='blue', memory_type='semantic', created_at=None, summarized=None), Node(id='informationRetrieval', description='Information retrieval is the process of obtaining information system resources that are relevant to an information need from a collection of those resources.', category='field', color='blue', memory_type='semantic', created_at=None, summarized=None), Node(id='humanLanguageSupport', description='Giving computers the ability to support and manipulate human language.', category='capability', color='blue', memory_type='semantic', created_at=None, summarized=None), Node(id='naturalLanguageDatasets', description='Natural language datasets, such as text corpora or speech corpora, are collections of language data used in natural language processing.', category='data', color='blue', memory_type='semantic', created_at=None, summarized=None), Node(id='machineLearningApproaches', description='NLP involves processing natural language datasets using rule-based or probabilistic machine learning approaches, including statistical and neural network-based methods.', category='methodology', color='blue', memory_type='semantic', created_at=None, summarized=None), Node(id='computationalUnderstanding', description=\"Computational understanding involves a computer being capable of 'understanding' the contents of documents and the contextual nuances of the language within them.\", category='capability', color='blue', memory_type='semantic', created_at=None, summarized=None), Node(id='theoreticalLinguistics', description='Theoretical linguistics is the study of the fundamental nature of language and often lends ideas to natural language processing.', category='field', color='blue', memory_type='semantic', created_at=None, summarized=None), Node(id='informationExtraction', description='The technology in NLP can accurately extract information and insights contained in documents as well as categorize and organize the documents themselves.', category='capability', color='blue', memory_type='semantic', created_at=None, summarized=None), Node(id='speechRecognition', description='Speech recognition is a challenge in NLP that involves identifying and processing human speech.', category='challenge', color='blue', memory_type='semantic', created_at=None, summarized=None), Node(id='naturalLanguageUnderstanding', description='Natural-language understanding is a challenge in NLP that involves the computer comprehending human language.', category='challenge', color='blue', memory_type='semantic', created_at=None, summarized=None), Node(id='naturalLanguageGeneration', description='Natural-language generation is a challenge in NLP that involves the computer producing human language.', category='challenge', color='blue', memory_type='semantic', created_at=None, summarized=None)], edges=[Edge(source='naturalLanguageProcessing', target='computerScience', description='is a subfield of', color='blue', created_at=None, summarized=None), Edge(source='naturalLanguageProcessing', target='informationRetrieval', description='is a subfield of', color='blue', created_at=None, summarized=None), Edge(source='naturalLanguageProcessing', target='humanLanguageSupport', description='is primarily concerned with', color='blue', created_at=None, summarized=None), Edge(source='naturalLanguageProcessing', target='naturalLanguageDatasets', description='involves processing', color='blue', created_at=None, summarized=None), Edge(source='naturalLanguageProcessing', target='machineLearningApproaches', description='utilizes', color='blue', created_at=None, summarized=None), Edge(source='naturalLanguageProcessing', target='computationalUnderstanding', description='aims for', color='blue', created_at=None, summarized=None), Edge(source='naturalLanguageProcessing', target='theoreticalLinguistics', description='borrows ideas from', color='blue', created_at=None, summarized=None), Edge(source='naturalLanguageProcessing', target='informationExtraction', description='can achieve', color='blue', created_at=None, summarized=None), Edge(source='naturalLanguageProcessing', target='speechRecognition', description='challenges in NLP involve', color='blue', created_at=None, summarized=None), Edge(source='naturalLanguageProcessing', target='naturalLanguageUnderstanding', description='challenges in NLP involve', color='blue', created_at=None, summarized=None), Edge(source='naturalLanguageProcessing', target='naturalLanguageGeneration', description='challenges in NLP involve', color='blue', created_at=None, summarized=None)])}, {'{\"layer\": \"References and Citation Layer\"}': KnowledgeGraph(nodes=[Node(id='naturalLanguageProcessing', description='Natural language processing (NLP) is an interdisciplinary subfield of computer science and information retrieval, concerned with enabling computers to support and manipulate human language.', category='concept', color='blue', memory_type='semantic', created_at=None, summarized=None), Node(id='naturalLanguageDatasets', description='Natural language datasets include text corpora or speech corpora used in natural language processing.', category='entity', color='blue', memory_type='semantic', created_at=None, summarized=None), Node(id='machineLearningApproaches', description='Machine learning approaches used in natural language processing include rule-based and probabilistic, covering statistical and neural network-based methods.', category='concept', color='blue', memory_type='semantic', created_at=None, summarized=None), Node(id='contextualNuances', description='Contextual nuances of the language within documents are important aspects for understanding by computers in natural language processing.', category='concept', color='blue', memory_type='semantic', created_at=None, summarized=None), Node(id='theoreticalLinguistics', description='Natural language processing often borrows ideas from theoretical linguistics.', category='concept', color='blue', memory_type='semantic', created_at=None, summarized=None), Node(id='speechRecognition', description='Speech recognition is a challenge in natural language processing, involving the ability of computers to recognize and interpret spoken language accurately.', category='concept', color='blue', memory_type='semantic', created_at=None, summarized=None), Node(id='naturalLanguageUnderstanding', description=\"Natural-language understanding refers to the computer's capability to grasp the meaning of natural language inputs.\", category='concept', color='blue', memory_type='semantic', created_at=None, summarized=None), Node(id='naturalLanguageGeneration', description='Natural-language generation is the process of generating natural language outputs by computers.', category='concept', color='blue', memory_type='semantic', created_at=None, summarized=None)], edges=[Edge(source='naturalLanguageProcessing', target='naturalLanguageDatasets', description='involves processing of', color='blue', created_at=None, summarized=None), Edge(source='naturalLanguageProcessing', target='machineLearningApproaches', description='uses', color='blue', created_at=None, summarized=None), Edge(source='naturalLanguageProcessing', target='contextualNuances', description='aims to understand', color='blue', created_at=None, summarized=None), Edge(source='naturalLanguageProcessing', target='theoreticalLinguistics', description='borrows ideas from', color='blue', created_at=None, summarized=None), Edge(source='naturalLanguageProcessing', target='speechRecognition', description='challenges include', color='blue', created_at=None, summarized=None), Edge(source='naturalLanguageProcessing', target='naturalLanguageUnderstanding', description='challenges include', color='blue', created_at=None, summarized=None), Edge(source='naturalLanguageProcessing', target='naturalLanguageGeneration', description='challenges include', color='blue', created_at=None, summarized=None)])}, {'{\"layer\": \"Authorship and Affiliation Layer\"}': KnowledgeGraph(nodes=[Node(id='naturalLanguageProcessing', description='An interdisciplinary subfield of computer science and information retrieval, concerned with enabling computers to understand and manipulate human language.', category='concept', color='blue', memory_type='semantic', created_at=None, summarized=None), Node(id='computerScience', description='The study of computation, automation, and information, which encompasses both theoretical and practical aspects of computer and computational systems.', category='fieldOfStudy', color='blue', memory_type='semantic', created_at=None, summarized=None), Node(id='informationRetrieval', description='The science of searching for information in a document, searching for documents themselves, and also searching for the metadata that describes data, and for databases of texts, images or sounds.', category='fieldOfStudy', color='blue', memory_type='semantic', created_at=None, summarized=None), Node(id='humanLanguage', description='The system of communication used by a particular community or country.', category='concept', color='blue', memory_type='semantic', created_at=None, summarized=None), Node(id='textCorpora', description='Large and structured sets of texts used for natural language processing.', category='concept', color='blue', memory_type='semantic', created_at=None, summarized=None), Node(id='speechCorpora', description='Large and structured sets of speech audio used for natural language processing.', category='concept', color='blue', memory_type='semantic', created_at=None, summarized=None), Node(id='machineLearningApproaches', description='Approaches in machine learning, including rule-based, probabilistic, statistical, and neural network-based methods.', category='concept', color='blue', memory_type='semantic', created_at=None, summarized=None), Node(id='theoreticalLinguistics', description='The study of linguistics with the aim to define the general theoretical framework for understanding the fundamental nature of language.', category='fieldOfStudy', color='blue', memory_type='semantic', created_at=None, summarized=None), Node(id='speechRecognition', description='The interdisciplinary subfield of computational linguistics that develops methodologies and technologies that enables the recognition and translation of spoken language into text by computers.', category='concept', color='blue', memory_type='semantic', created_at=None, summarized=None), Node(id='naturalLanguageUnderstanding', description='A sub-discipline of artificial intelligence that is concerned with the interactions between computers and human (natural) languages.', category='concept', color='blue', memory_type='semantic', created_at=None, summarized=None), Node(id='naturalLanguageGeneration', description='The use of artificial intelligence programming to produce written or spoken narrative from a dataset. It is seen as a subfield of artificial intelligence and natural language processing.', category='concept', color='blue', memory_type='semantic', created_at=None, summarized=None)], edges=[Edge(source='naturalLanguageProcessing', target='computerScience', description='Is a subfield of', color='blue', created_at=None, summarized=None), Edge(source='naturalLanguageProcessing', target='informationRetrieval', description='Is a subfield of', color='blue', created_at=None, summarized=None), Edge(source='naturalLanguageProcessing', target='humanLanguage', description='Works with', color='blue', created_at=None, summarized=None), Edge(source='naturalLanguageProcessing', target='textCorpora', description='Involves processing', color='blue', created_at=None, summarized=None), Edge(source='naturalLanguageProcessing', target='speechCorpora', description='Involves processing', color='blue', created_at=None, summarized=None), Edge(source='naturalLanguageProcessing', target='machineLearningApproaches', description='Uses', color='blue', created_at=None, summarized=None), Edge(source='naturalLanguageProcessing', target='theoreticalLinguistics', description='Borrows ideas from', color='blue', created_at=None, summarized=None), Edge(source='naturalLanguageProcessing', target='speechRecognition', description='Challenges include', color='blue', created_at=None, summarized=None), Edge(source='naturalLanguageProcessing', target='naturalLanguageUnderstanding', description='Challenges include', color='blue', created_at=None, summarized=None), Edge(source='naturalLanguageProcessing', target='naturalLanguageGeneration', description='Challenges include', color='blue', created_at=None, summarized=None)])}, {'{\"layer\": \"Acknowledgments Layer\"}': KnowledgeGraph(nodes=[Node(id='naturalLanguageProcessing', description='Interdisciplinary subfield of computer science and information retrieval, involved in giving computers the ability to understand and manipulate human language.', category='field', color='blue', memory_type='semantic', created_at=None, summarized=None), Node(id='computerScience', description='Academic field that integrates concepts from various disciplines such as mathematics, engineering, and logic to study computation, automation, and information.', category='discipline', color='blue', memory_type='semantic', created_at=None, summarized=None), Node(id='informationRetrieval', description='Field concerning the retrieval of information from a large volume of digital documents or databases.', category='discipline', color='blue', memory_type='semantic', created_at=None, summarized=None), Node(id='computers', description='Electronic devices capable of processing information according to a set of instructions called a program.', category='entity', color='blue', memory_type='semantic', created_at=None, summarized=None), Node(id='humanLanguage', description='Systems of communication used by humans, including spoken, written, and sign languages.', category='concept', color='blue', memory_type='semantic', created_at=None, summarized=None), Node(id='naturalLanguageDatasets', description='Collections of natural language information, such as text or speech corpora, used for analysis and processing by computers.', category='entity', color='blue', memory_type='semantic', created_at=None, summarized=None), Node(id='textCorpora', description='Large and structured sets of texts used for linguistic research and natural language processing.', category='entity', color='blue', memory_type='semantic', created_at=None, summarized=None), Node(id='speechCorpora', description='Structured sets of speech audio files and their transcriptions used in speech recognition and natural language processing research.', category='entity', color='blue', memory_type='semantic', created_at=None, summarized=None), Node(id='machineLearningApproaches', description='Techniques in computer science that enable machines to improve their performance on tasks through experience.', category='concept', color='blue', memory_type='semantic', created_at=None, summarized=None), Node(id='ruleBasedApproaches', description='Approaches to natural language processing that utilize a set of handcrafted linguistic rules.', category='concept', color='blue', memory_type='semantic', created_at=None, summarized=None), Node(id='probabilisticApproaches', description='Approaches to natural language processing based on statistical models and machine learning algorithms.', category='concept', color='blue', memory_type='semantic', created_at=None, summarized=None), Node(id='neuralNetworkBasedApproaches', description='Advanced machine learning methods using neural networks to process and model language data.', category='concept', color='blue', memory_type='semantic', created_at=None, summarized=None), Node(id='contextualNuances', description='Subtle aspects of language that depend on context for their interpretation.', category='concept', color='blue', memory_type='semantic', created_at=None, summarized=None), Node(id='theoreticalLinguistics', description='Branch of linguistics that is concerned with the formal structure of language rather than its practical use.', category='discipline', color='blue', memory_type='semantic', created_at=None, summarized=None), Node(id='documentUnderstanding', description='Process in which computers interpret the content within documents, taking into account language context and nuances.', category='concept', color='blue', memory_type='semantic', created_at=None, summarized=None), Node(id='informationExtraction', description='The technology used by natural language processing to accurately extract information and insights from documents.', category='concept', color='blue', memory_type='semantic', created_at=None, summarized=None), Node(id='documentCategorization', description='Process by which documents are categorized and organized, often used in information retrieval and natural language processing.', category='concept', color='blue', memory_type='semantic', created_at=None, summarized=None), Node(id='challengesInNLP', description='Various difficulties faced in the field of natural language processing, often involving understanding and generating human language.', category='concept', color='blue', memory_type='semantic', created_at=None, summarized=None), Node(id='speechRecognition', description='Technology that enables computers to recognize and process spoken language.', category='technology', color='blue', memory_type='semantic', created_at=None, summarized=None), Node(id='naturalLanguageUnderstanding', description='The capability of computers to comprehend and interpret human language in a meaningful way.', category='technology', color='blue', memory_type='semantic', created_at=None, summarized=None), Node(id='naturalLanguageGeneration', description='The process by which computers generate human-like text.', category='technology', color='blue', memory_type='semantic', created_at=None, summarized=None)], edges=[Edge(source='naturalLanguageProcessing', target='computerScience', description='is a subfield of', color='blue', created_at=None, summarized=None), Edge(source='naturalLanguageProcessing', target='informationRetrieval', description='is intertwined with', color='blue', created_at=None, summarized=None), Edge(source='naturalLanguageProcessing', target='computers', description='gives ability to', color='blue', created_at=None, summarized=None), Edge(source='naturalLanguageProcessing', target='humanLanguage', description='manipulates and supports', color='blue', created_at=None, summarized=None), Edge(source='naturalLanguageProcessing', target='naturalLanguageDatasets', description='involves processing of', color='blue', created_at=None, summarized=None), Edge(source='naturalLanguageDatasets', target='textCorpora', description='includes', color='blue', created_at=None, summarized=None), Edge(source='naturalLanguageDatasets', target='speechCorpora', description='includes', color='blue', created_at=None, summarized=None), Edge(source='naturalLanguageProcessing', target='machineLearningApproaches', description='uses', color='blue', created_at=None, summarized=None), Edge(source='machineLearningApproaches', target='ruleBasedApproaches', description='includes', color='blue', created_at=None, summarized=None), Edge(source='machineLearningApproaches', target='probabilisticApproaches', description='includes', color='blue', created_at=None, summarized=None), Edge(source='probabilisticApproaches', target='neuralNetworkBasedApproaches', description='include', color='blue', created_at=None, summarized=None), Edge(source='naturalLanguageProcessing', target='contextualNuances', description='interprets', color='blue', created_at=None, summarized=None), Edge(source='naturalLanguageProcessing', target='theoreticalLinguistics', description='borrows ideas from', color='blue', created_at=None, summarized=None), Edge(source='naturalLanguageProcessing', target='documentUnderstanding', description='aims for', color='blue', created_at=None, summarized=None), Edge(source='documentUnderstanding', target='informationExtraction', description='employs', color='blue', created_at=None, summarized=None), Edge(source='documentUnderstanding', target='documentCategorization', description='employs', color='blue', created_at=None, summarized=None), Edge(source='challengesInNLP', target='speechRecognition', description='include', color='blue', created_at=None, summarized=None), Edge(source='challengesInNLP', target='naturalLanguageUnderstanding', description='include', color='blue', created_at=None, summarized=None), Edge(source='challengesInNLP', target='naturalLanguageGeneration', description='include', color='blue', created_at=None, summarized=None)])}]\n",
      "Document (a27bb4fa-897e-53a5-94ca-b446e1d33dbf) layer graphs created\n",
      "Layer graphs generated %s [{'{\"layer\": \"Structural Layer\"}': KnowledgeGraph(nodes=[Node(id='largeLanguageModel', description='A large language model (LLM) is a language model known for its ability to perform general-purpose language generation and various natural language processing tasks.', category='entity', color='blue', memory_type='semantic', created_at=None, summarized=None), Node(id='languageProcessingTasks', description='Language processing tasks such as classification are some of the capabilities of large language models.', category='action', color='blue', memory_type='semantic', created_at=None, summarized=None), Node(id='trainingProcess', description='LLMs learn statistical relationships from text documents during a computationally intensive self-supervised and semi-supervised training process.', category='action', color='blue', memory_type='semantic', created_at=None, summarized=None), Node(id='textGeneration', description='LLMs can be used for text generation, a form of generative AI, by predicting the next token or word based on input text.', category='action', color='blue', memory_type='semantic', created_at=None, summarized=None), Node(id='artificialNeuralNetwork', description='LLMs are a type of artificial neural network.', category='entity', color='blue', memory_type='semantic', created_at=None, summarized=None), Node(id='architecture', description='The most capable LLMs use a decoder-only transformer-based architecture or other architectures like RNN variants and state space models (Mamba).', category='entity', color='blue', memory_type='semantic', created_at=None, summarized=None), Node(id='fineTuning', description='Fine tuning was the method used to adapt models for specific tasks up to 2020.', category='action', color='blue', memory_type='episodic', created_at=None, summarized=None), Node(id='promptEngineering', description='Larger models like GPT-3 can be prompt-engineered to achieve task-specific results without fine tuning.', category='action', color='blue', memory_type='semantic', created_at=None, summarized=None), Node(id='languageKnowledgeAcquisition', description='LLMs acquire knowledge about language such as syntax, semantics, and ontologies, but also inaccuracies and biases.', category='action', color='blue', memory_type='semantic', created_at=None, summarized=None), Node(id='notableLLMs', description=\"Some notable LLMs include OpenAI's GPT series, Google's PaLM and Gemini, xAI's Grok, Meta's LLaMA family, Anthropic's Claude models, Mistral AI's, and Databricks' DBRX.\", category='entity', color='blue', memory_type='semantic', created_at=None, summarized=None), Node(id='gpt3_5', description=\"GPT-3.5 is a model in OpenAI's GPT series.\", category='entity', color='blue', memory_type='semantic', created_at=None, summarized=None), Node(id='chatGPT', description=\"ChatGPT is a product that uses models from OpenAI's GPT series.\", category='entity', color='blue', memory_type='semantic', created_at=None, summarized=None), Node(id='microsoftCopilot', description=\"Microsoft Copilot is a product that uses models from OpenAI's GPT series.\", category='entity', color='blue', memory_type='semantic', created_at=None, summarized=None), Node(id='gpt4', description=\"GPT-4 is a model from OpenAI's GPT series.\", category='entity', color='blue', memory_type='semantic', created_at=None, summarized=None), Node(id='palm', description='PaLM is an LLM developed by Google.', category='entity', color='blue', memory_type='semantic', created_at=None, summarized=None), Node(id='gemini', description='Gemini is an LLM developed by Google and is used in their chatbot.', category='entity', color='blue', memory_type='semantic', created_at=None, summarized=None), Node(id='grok', description='Grok is an LLM developed by xAI.', category='entity', color='blue', memory_type='semantic', created_at=None, summarized=None), Node(id='llama', description='LLaMA is a family of open-source models developed by Meta.', category='entity', color='blue', memory_type='semantic', created_at=None, summarized=None), Node(id='claude', description='Claude is a series of models developed by Anthropic.', category='entity', color='blue', memory_type='semantic', created_at=None, summarized=None), Node(id='mistralAIModels', description='Mistral AI has developed open source models.', category='entity', color='blue', memory_type='semantic', created_at=None, summarized=None), Node(id='dbrx', description='DBRX is an open source model developed by Databricks.', category='entity', color='blue', memory_type='semantic', created_at=None, summarized=None)], edges=[Edge(source='largeLanguageModel', target='languageProcessingTasks', description='is capable of performing', color='blue', created_at=None, summarized=None), Edge(source='largeLanguageModel', target='trainingProcess', description='learns from', color='blue', created_at=None, summarized=None), Edge(source='largeLanguageModel', target='textGeneration', description='can be used for', color='blue', created_at=None, summarized=None), Edge(source='largeLanguageModel', target='artificialNeuralNetwork', description='is a type of', color='blue', created_at=None, summarized=None), Edge(source='largeLanguageModel', target='architecture', description='utilizes', color='blue', created_at=None, summarized=None), Edge(source='fineTuning', target='largeLanguageModel', description='was used for', color='blue', created_at=None, summarized=None), Edge(source='promptEngineering', target='largeLanguageModel', description='allows adaptation of', color='blue', created_at=None, summarized=None), Edge(source='languageKnowledgeAcquisition', target='largeLanguageModel', description='is a process in', color='blue', created_at=None, summarized=None), Edge(source='notableLLMs', target='largeLanguageModel', description='includes', color='blue', created_at=None, summarized=None), Edge(source='gpt3_5', target='chatGPT', description='is used in', color='blue', created_at=None, summarized=None), Edge(source='gpt3_5', target='microsoftCopilot', description='is used in', color='blue', created_at=None, summarized=None), Edge(source='gpt4', target='chatGPT', description='is used in', color='blue', created_at=None, summarized=None), Edge(source='gpt4', target='microsoftCopilot', description='is used in', color='blue', created_at=None, summarized=None), Edge(source='notableLLMs', target='gpt3_5', description='is a part of', color='blue', created_at=None, summarized=None), Edge(source='notableLLMs', target='gpt4', description='is a part of', color='blue', created_at=None, summarized=None), Edge(source='notableLLMs', target='palm', description='is a part of', color='blue', created_at=None, summarized=None), Edge(source='notableLLMs', target='gemini', description='is a part of', color='blue', created_at=None, summarized=None), Edge(source='notableLLMs', target='grok', description='is a part of', color='blue', created_at=None, summarized=None), Edge(source='notableLLMs', target='llama', description='is a part of', color='blue', created_at=None, summarized=None), Edge(source='notableLLMs', target='claude', description='is a part of', color='blue', created_at=None, summarized=None), Edge(source='notableLLMs', target='mistralAIModels', description='is a part of', color='blue', created_at=None, summarized=None), Edge(source='notableLLMs', target='dbrx', description='is a part of', color='blue', created_at=None, summarized=None)])}, {'{\"layer\": \"Semantic Layer\"}': KnowledgeGraph(nodes=[Node(id='largeLanguageModel', description='A language model notable for its ability to achieve general-purpose language generation and other natural language processing tasks', category='entity', color='blue', memory_type='semantic', created_at=None, summarized=None), Node(id='computerIntensiveTrainingProcess', description='The process that LLMs undergo to learn statistical relationships from text documents', category='action', color='blue', memory_type='semantic', created_at=None, summarized=None), Node(id='textGeneration', description='A form of generative AI where an LLM takes an input text and predicts the next token or word', category='action', color='blue', memory_type='semantic', created_at=None, summarized=None), Node(id='artificialNeuralNetworks', description='LLMs are a type of artificial neural networks', category='entity', color='blue', memory_type='semantic', created_at=None, summarized=None), Node(id='transformerBasedArchitecture', description='A type of architecture used in the largest and most capable LLMs as of March 2024', category='entity', color='blue', memory_type='semantic', created_at=None, summarized=None), Node(id='fineTuning', description='A method used to adapt a model to accomplish specific tasks, which was the only way up to 2020', category='action', color='blue', memory_type='semantic', created_at=None, summarized=None), Node(id='promptEngineering', description='A method used in larger sized models like GPT-3 to achieve results without fine tuning', category='action', color='blue', memory_type='semantic', created_at=None, summarized=None), Node(id='knowledgeAcquisition', description='LLMs are thought to acquire knowledge about syntax, semantics, and ontology, but also inaccuracies and biases from language corpora', category='action', color='blue', memory_type='semantic', created_at=None, summarized=None), Node(id='notableLLMs', description=\"Some notable LLMs include OpenAI's GPT series, Google's PaLM and Gemini, xAI's Grok, Meta's LLaMA, Anthropic's Claude models, Mistral AI's models, and Databricks' DBRX\", category='entity', color='blue', memory_type='semantic', created_at=None, summarized=None)], edges=[Edge(source='largeLanguageModel', target='computerIntensiveTrainingProcess', description='undergoes a computer-intensive self-supervised and semi-supervised training', color='blue', created_at=None, summarized=None), Edge(source='largeLanguageModel', target='textGeneration', description='can be used for', color='blue', created_at=None, summarized=None), Edge(source='largeLanguageModel', target='artificialNeuralNetworks', description='is a type of', color='blue', created_at=None, summarized=None), Edge(source='artificialNeuralNetworks', target='transformerBasedArchitecture', description='built with a', color='blue', created_at=None, summarized=None), Edge(source='largeLanguageModel', target='fineTuning', description='was adapted by using up to 2020', color='blue', created_at=None, summarized=None), Edge(source='fineTuning', target='promptEngineering', description='replaced by', color='blue', created_at=None, summarized=None), Edge(source='largeLanguageModel', target='knowledgeAcquisition', description='acquires', color='blue', created_at=None, summarized=None), Edge(source='largeLanguageModel', target='notableLLMs', description='examples of', color='blue', created_at=None, summarized=None)])}, {'{\"layer\": \"Contextual Layer\"}': KnowledgeGraph(nodes=[Node(id='largeLanguageModel', description='A language model notable for its large scale and capability in general-purpose language generation and various natural language processing tasks', category='concept', color='blue', memory_type='semantic', created_at=None, summarized=None), Node(id='naturalLanguageProcessingTasks', description='Tasks such as language generation and classification performed by language models', category='concept', color='blue', memory_type='semantic', created_at=None, summarized=None), Node(id='trainingProcess', description='A process involving self-supervised and semi-supervised learning from text documents, used to develop LLMs', category='action', color='blue', memory_type='semantic', created_at=None, summarized=None), Node(id='textGeneration', description='A form of generative AI where LLMs predict the next token or word based on input text', category='action', color='blue', memory_type='semantic', created_at=None, summarized=None), Node(id='artificialNeuralNetworks', description='Networks that underpin LLMs, including various architectures', category='entity', color='blue', memory_type='semantic', created_at=None, summarized=None), Node(id='decoderOnlyTransformerArchitecture', description='A type of neural network architecture used to build large and capable LLMs', category='entity', color='blue', memory_type='semantic', created_at=None, summarized=None), Node(id='fineTuning', description='A method used before 2020 to adapt models to specific tasks', category='action', color='blue', memory_type='semantic', created_at=None, summarized=None), Node(id='promptEngineering', description='A technique to achieve specific outcomes with large LLMs, exemplified by models like GPT-3', category='action', color='blue', memory_type='semantic', created_at=None, summarized=None), Node(id='syntaxSemanticsOntology', description='Knowledge about language structure, meaning, and the nature of being, which LLMs acquire from language corpora', category='concept', color='blue', memory_type='semantic', created_at=None, summarized=None), Node(id='biasesInaccuracies', description='Flaws present in the corpora from which LLMs learn', category='concept', color='blue', memory_type='semantic', created_at=None, summarized=None), Node(id='GPTSeries', description=\"OpenAI's series of models, including GPT-3.5 and GPT-4\", category='entity', color='blue', memory_type='semantic', created_at=None, summarized=None), Node(id='PaLM', description=\"Google's language model\", category='entity', color='blue', memory_type='semantic', created_at=None, summarized=None), Node(id='Gemini', description=\"Google's language model with an associated chatbot\", category='entity', color='blue', memory_type='semantic', created_at=None, summarized=None), Node(id='Grok', description=\"xAI's language model\", category='entity', color='blue', memory_type='semantic', created_at=None, summarized=None), Node(id='LLaMA', description=\"Meta's family of open-source language models\", category='entity', color='blue', memory_type='semantic', created_at=None, summarized=None), Node(id='ClaudeModels', description=\"Anthropic's series of language models\", category='entity', color='blue', memory_type='semantic', created_at=None, summarized=None), Node(id='MistralAIOpenSourceModels', description='Open source language models by Mistral AI', category='entity', color='blue', memory_type='semantic', created_at=None, summarized=None), Node(id='DBRX', description=\"Databricks' open source language model\", category='entity', color='blue', memory_type='semantic', created_at=None, summarized=None)], edges=[Edge(source='largeLanguageModel', target='naturalLanguageProcessingTasks', description='is capable of performing', color='blue', created_at=None, summarized=None), Edge(source='largeLanguageModel', target='trainingProcess', description='is developed through', color='blue', created_at=None, summarized=None), Edge(source='largeLanguageModel', target='textGeneration', description='can be used for', color='blue', created_at=None, summarized=None), Edge(source='largeLanguageModel', target='artificialNeuralNetworks', description='is a type of', color='blue', created_at=None, summarized=None), Edge(source='largeLanguageModel', target='decoderOnlyTransformerArchitecture', description='most capable LLMs are built with', color='blue', created_at=None, summarized=None), Edge(source='largeLanguageModel', target='fineTuning', description='was previously adapted to specific tasks by', color='blue', created_at=None, summarized=None), Edge(source='largeLanguageModel', target='promptEngineering', description='can be adapted to specific tasks by', color='blue', created_at=None, summarized=None), Edge(source='largeLanguageModel', target='syntaxSemanticsOntology', description='acquires knowledge about', color='blue', created_at=None, summarized=None), Edge(source='largeLanguageModel', target='biasesInaccuracies', description='can also acquire', color='blue', created_at=None, summarized=None), Edge(source='GPTSeries', target='largeLanguageModel', description='is an example of', color='blue', created_at=None, summarized=None), Edge(source='PaLM', target='largeLanguageModel', description='is an example of', color='blue', created_at=None, summarized=None), Edge(source='Gemini', target='largeLanguageModel', description='is an example of', color='blue', created_at=None, summarized=None), Edge(source='Grok', target='largeLanguageModel', description='is an example of', color='blue', created_at=None, summarized=None), Edge(source='LLaMA', target='largeLanguageModel', description='is an example of', color='blue', created_at=None, summarized=None), Edge(source='ClaudeModels', target='largeLanguageModel', description='is an example of', color='blue', created_at=None, summarized=None), Edge(source='MistralAIOpenSourceModels', target='largeLanguageModel', description='is an example of', color='blue', created_at=None, summarized=None), Edge(source='DBRX', target='largeLanguageModel', description='is an example of', color='blue', created_at=None, summarized=None)])}, {'{\"layer\": \"Syntactic Layer\"}': KnowledgeGraph(nodes=[Node(id='largeLanguageModel', description='A language model notable for its ability to achieve general-purpose language generation and other natural language processing tasks such as classification.', category='entity', color='blue', memory_type='semantic', created_at=None, summarized=None), Node(id='statisticalRelationships', description='Statistical relationships learned from text documents by LLMs during training.', category='entity', color='blue', memory_type='semantic', created_at=None, summarized=None), Node(id='trainingProcess', description='A computationally intensive self-supervised and semi-supervised training process that LLMs undergo.', category='entity', color='blue', memory_type='semantic', created_at=None, summarized=None), Node(id='textGeneration', description='A form of generative AI where an LLM predicts the next token or word by taking an input text.', category='entity', color='blue', memory_type='semantic', created_at=None, summarized=None), Node(id='artificialNeuralNetwork', description='A type of network that LLMs are an example of.', category='entity', color='blue', memory_type='semantic', created_at=None, summarized=None), Node(id='transformerBasedArchitecture', description='A type of architecture the largest and most capable LLMs are built with as of March 2024.', category='entity', color='blue', memory_type='semantic', created_at=None, summarized=None), Node(id='recurrentNeuralNetworkVariants', description='A type of architecture some recent LLM implementations are based on.', category='entity', color='blue', memory_type='semantic', created_at=None, summarized=None), Node(id='Mamba', description='A state space model that some recent LLM implementations are based on.', category='entity', color='blue', memory_type='semantic', created_at=None, summarized=None), Node(id='modelFineTuning', description='A method used up to the year 2020 to adapt LLMs to accomplish specific tasks.', category='entity', color='blue', memory_type='semantic', created_at=None, summarized=None), Node(id='promptEngineering', description='A process used to achieve specific results from larger-sized models like GPT-3, by providing suitable prompts.', category='entity', color='blue', memory_type='semantic', created_at=None, summarized=None), Node(id='analyticsOnLanguage', description='The knowledge about syntax, semantics, and ontology that LLMs acquire from human language corpora.', category='entity', color='blue', memory_type='semantic', created_at=None, summarized=None), Node(id='inaccuraciesAndBiases', description='Undesirable traits acquired from human language corpora by LLMs.', category='entity', color='blue', memory_type='semantic', created_at=None, summarized=None), Node(id='gptSeries', description=\"OpenAI's series of models, including GPT-3.5 and GPT-4, used in products like ChatGPT and Microsoft Copilot.\", category='entity', color='blue', memory_type='semantic', created_at=None, summarized=None), Node(id='palm', description=\"Google's language model.\", category='entity', color='blue', memory_type='semantic', created_at=None, summarized=None), Node(id='gemini', description=\"Google's language model that is currently used in the chatbot of the same name.\", category='entity', color='blue', memory_type='semantic', created_at=None, summarized=None), Node(id='grok', description=\"xAI's language model.\", category='entity', color='blue', memory_type='semantic', created_at=None, summarized=None), Node(id='llamaFamily', description=\"Meta's family of open-source language models.\", category='entity', color='blue', memory_type='semantic', created_at=None, summarized=None), Node(id='claudeModels', description=\"Anthropic's series of language models.\", category='entity', color='blue', memory_type='semantic', created_at=None, summarized=None), Node(id='mistralAIOpenSourceModels', description='Open-source language models from Mistral AI.', category='entity', color='blue', memory_type='semantic', created_at=None, summarized=None), Node(id='databricksOpenSourceDBRX', description=\"Databricks' open-source language model named DBRX.\", category='entity', color='blue', memory_type='semantic', created_at=None, summarized=None)], edges=[Edge(source='largeLanguageModel', target='statisticalRelationships', description='learns from', color='blue', created_at=None, summarized=None), Edge(source='largeLanguageModel', target='trainingProcess', description='undergoes', color='blue', created_at=None, summarized=None), Edge(source='largeLanguageModel', target='textGeneration', description='can be used for', color='blue', created_at=None, summarized=None), Edge(source='largeLanguageModel', target='artificialNeuralNetwork', description='is a type of', color='blue', created_at=None, summarized=None), Edge(source='largeLanguageModel', target='transformerBasedArchitecture', description='built with as of March 2024', color='green', created_at=None, summarized=None), Edge(source='largeLanguageModel', target='recurrentNeuralNetworkVariants', description='based on', color='blue', created_at=None, summarized=None), Edge(source='largeLanguageModel', target='Mamba', description='based on', color='blue', created_at=None, summarized=None), Edge(source='largeLanguageModel', target='modelFineTuning', description='was adapted by', color='blue', created_at=None, summarized=None), Edge(source='largeLanguageModel', target='promptEngineering', description='can be adapted by', color='blue', created_at=None, summarized=None), Edge(source='largeLanguageModel', target='analyticsOnLanguage', description='acquires', color='blue', created_at=None, summarized=None), Edge(source='largeLanguageModel', target='inaccuraciesAndBiases', description='also acquires', color='blue', created_at=None, summarized=None), Edge(source='gptSeries', target='largeLanguageModel', description='is a', color='blue', created_at=None, summarized=None), Edge(source='palm', target='largeLanguageModel', description='is a', color='blue', created_at=None, summarized=None), Edge(source='gemini', target='largeLanguageModel', description='is a', color='blue', created_at=None, summarized=None), Edge(source='grok', target='largeLanguageModel', description='is a', color='blue', created_at=None, summarized=None), Edge(source='llamaFamily', target='largeLanguageModel', description='is a family of', color='blue', created_at=None, summarized=None), Edge(source='claudeModels', target='largeLanguageModel', description='is a series of', color='blue', created_at=None, summarized=None), Edge(source='mistralAIOpenSourceModels', target='largeLanguageModel', description='is a', color='blue', created_at=None, summarized=None), Edge(source='databricksOpenSourceDBRX', target='largeLanguageModel', description='is an', color='blue', created_at=None, summarized=None)])}, {'{\"layer\": \"Referential Layer\"}': KnowledgeGraph(nodes=[Node(id='largeLanguageModel', description='A language model notable for its ability to achieve general-purpose language generation and other natural language processing tasks such as classification.', category='entity', color='blue', memory_type='semantic', created_at=None, summarized=None), Node(id='textGeneration', description='One of the tasks LLMs are used for, by taking an input text and predicting the next token or word.', category='action', color='blue', memory_type='semantic', created_at=None, summarized=None), Node(id='artificialNeuralNetworks', description='LLMs are a type of artificial neural networks.', category='entity', color='blue', memory_type='semantic', created_at=None, summarized=None), Node(id='transformerArchitecture', description='The most capable LLM architecture as of March 2024, primarily used for building large language models.', category='entity', color='blue', memory_type='semantic', created_at=None, summarized=None), Node(id='recurrentNeuralNetwork', description='One of the architectures on which some recent LLM implementations are based.', category='entity', color='blue', memory_type='semantic', created_at=None, summarized=None), Node(id='Mamba', description='A state space model architecture for recent LLM implementations.', category='entity', color='blue', memory_type='semantic', created_at=None, summarized=None), Node(id='fineTuning', description='The only way a model could be adapted to accomplish specific tasks up to 2020.', category='action', color='blue', memory_type='semantic', created_at=None, summarized=None), Node(id='promptEngineering', description='A method to achieve specific tasks with larger sized models like GPT-3, similar to fine-tuning.', category='action', color='blue', memory_type='semantic', created_at=None, summarized=None), Node(id='gptSeries', description=\"OpenAI's series of models including GPT-3.5 and GPT-4.\", category='entity', color='blue', memory_type='semantic', created_at=None, summarized=None), Node(id='ChatGPT', description='A chatbot application using the GPT series of models.', category='entity', color='blue', memory_type='semantic', created_at=None, summarized=None), Node(id='microsoftCopilot', description='An application by Microsoft using the GPT series of models.', category='entity', color='blue', memory_type='semantic', created_at=None, summarized=None), Node(id='GooglePaLM', description=\"Google's language model known as PaLM.\", category='entity', color='blue', memory_type='semantic', created_at=None, summarized=None), Node(id='GoogleGemini', description='A language model by Google, also used in the chatbot of the same name.', category='entity', color='blue', memory_type='semantic', created_at=None, summarized=None), Node(id='xAIGrok', description=\"xAI's language model known as Grok.\", category='entity', color='blue', memory_type='semantic', created_at=None, summarized=None), Node(id='MetaLLaMA', description=\"Meta's LLaMA family of open-source models.\", category='entity', color='blue', memory_type='semantic', created_at=None, summarized=None), Node(id='AnthropicClaude', description=\"Anthropic's Claude models.\", category='entity', color='blue', memory_type='semantic', created_at=None, summarized=None), Node(id='MistralAIOpenSourceModels', description='Open source models by Mistral AI.', category='entity', color='blue', memory_type='semantic', created_at=None, summarized=None), Node(id='DatabricksDBRX', description=\"Databricks' open source DBRX models.\", category='entity', color='blue', memory_type='semantic', created_at=None, summarized=None), Node(id='selfSupervisedLearning', description='A learning method LLMs use during their training process.', category='action', color='blue', memory_type='semantic', created_at=None, summarized=None), Node(id='semiSupervisedLearning', description='Another learning method LLMs use during their training process.', category='action', color='blue', memory_type='semantic', created_at=None, summarized=None)], edges=[Edge(source='largeLanguageModel', target='textGeneration', description='is used for', color='blue', created_at=None, summarized=None), Edge(source='largeLanguageModel', target='artificialNeuralNetworks', description='is a type of', color='blue', created_at=None, summarized=None), Edge(source='artificialNeuralNetworks', target='transformerArchitecture', description='use', color='blue', created_at=None, summarized=None), Edge(source='artificialNeuralNetworks', target='recurrentNeuralNetwork', description='use', color='blue', created_at=None, summarized=None), Edge(source='artificialNeuralNetworks', target='Mamba', description='use', color='blue', created_at=None, summarized=None), Edge(source='largeLanguageModel', target='selfSupervisedLearning', description='learns by', color='blue', created_at=None, summarized=None), Edge(source='largeLanguageModel', target='semiSupervisedLearning', description='learns by', color='blue', created_at=None, summarized=None), Edge(source='gptSeries', target='ChatGPT', description='used in', color='blue', created_at=None, summarized=None), Edge(source='gptSeries', target='microsoftCopilot', description='used in', color='blue', created_at=None, summarized=None)])}, {'{\"layer\": \"Pragmatic Layer\"}': KnowledgeGraph(nodes=[Node(id='largeLanguageModel', description='A large language model (LLM) is a machine learning model designed for natural language processing tasks with capability for general-purpose language generation and classification.', category='concept', color='blue', memory_type='semantic', created_at=None, summarized=None), Node(id='textDocuments', description='Text documents are sources from which LLMs learn statistical relationships during training.', category='entity', color='blue', memory_type='semantic', created_at=None, summarized=None), Node(id='selfSupervisedSemiSupervisedTraining', description='A computationally intensive process involving self-supervised and semi-supervised learning methods to train LLMs.', category='action', color='blue', memory_type='semantic', created_at=None, summarized=None), Node(id='textGeneration', description='Text generation is a form of generative AI where an LLM takes an input text and predicts the next token or word.', category='action', color='blue', memory_type='semantic', created_at=None, summarized=None), Node(id='artificialNeuralNetworks', description='Artificial neural networks are computing systems inspired by biological neural networks, which LLMs are based upon.', category='concept', color='blue', memory_type='semantic', created_at=None, summarized=None), Node(id='decoderOnlyTransformerArchitecture', description='A type of architecture used to build the most capable LLMs as of March 2024.', category='entity', color='blue', memory_type='episodic', created_at=None, summarized=None), Node(id='march2024', description='Time reference indicating when the largest and most capable LLMs were built with decoder-only transformer-based architecture.', category='time', color='blue', memory_type='semantic', created_at=None, summarized=None), Node(id='fineTuning', description='Process that was the only way to adapt models for specific tasks up to 2020.', category='action', color='blue', memory_type='semantic', created_at=None, summarized=None), Node(id='promptEngineering', description='A method used to achieve specific results with larger sized models like GPT-3, by providing carefully designed prompts.', category='action', color='blue', memory_type='semantic', created_at=None, summarized=None), Node(id='knowledgeAcquisition', description='The acquisition of knowledge about syntax, semantics, and ontology inherent in human language corpora by LLMs.', category='action', color='blue', memory_type='semantic', created_at=None, summarized=None), Node(id='inaccuraciesAndBiases', description='Unintended flaws and predispositions present in the corpora from which LLMs learn.', category='entity', color='blue', memory_type='semantic', created_at=None, summarized=None), Node(id='openAIGPTSeries', description='A series of models by OpenAI (e.g., GPT-3.5, GPT-4) used in applications like ChatGPT and Microsoft Copilot.', category='entity', color='blue', memory_type='semantic', created_at=None, summarized=None), Node(id='googlePaLMAndGemini', description=\"Google's models, including PaLM and Gemini, with Gemini being used in the chatbot of the same name.\", category='entity', color='blue', memory_type='semantic', created_at=None, summarized=None), Node(id='xAIGrok', description=\"xAI's Grok, an example of a LLM.\", category='entity', color='blue', memory_type='semantic', created_at=None, summarized=None), Node(id='metasLLaMAFamily', description=\"Meta's LLaMA family of open-source models.\", category='entity', color='blue', memory_type='semantic', created_at=None, summarized=None), Node(id='anthropicsClaudeModels', description=\"Anthropic's Claude models.\", category='entity', color='blue', memory_type='semantic', created_at=None, summarized=None), Node(id='mistralAIOpenSourceModels', description=\"Mistral AI's open source LLMs.\", category='entity', color='blue', memory_type='semantic', created_at=None, summarized=None), Node(id='databricksDBRX', description=\"Databricks' open source DBRX model.\", category='entity', color='blue', memory_type='semantic', created_at=None, summarized=None)], edges=[Edge(source='largeLanguageModel', target='textDocuments', description='LLMs learn from text documents during the training process.', color='blue', created_at=None, summarized=None), Edge(source='largeLanguageModel', target='selfSupervisedSemiSupervisedTraining', description='LLMs undergo self-supervised and semi-supervised training.', color='blue', created_at=None, summarized=None), Edge(source='largeLanguageModel', target='textGeneration', description='LLMs can perform text generation.', color='blue', created_at=None, summarized=None), Edge(source='largeLanguageModel', target='artificialNeuralNetworks', description='LLMs are a type of artificial neural networks.', color='blue', created_at=None, summarized=None), Edge(source='largeLanguageModel', target='decoderOnlyTransformerArchitecture', description='The most capable LLMs use decoder-only transformer-based architecture.', color='blue', created_at=None, summarized=None), Edge(source='largeLanguageModel', target='fineTuning', description='LLMs were adapted for specific tasks through fine tuning until 2020.', color='blue', created_at=None, summarized=None), Edge(source='largeLanguageModel', target='promptEngineering', description='Larger sized LLMs can be adapted through prompt engineering.', color='blue', created_at=None, summarized=None), Edge(source='largeLanguageModel', target='knowledgeAcquisition', description='LLMs acquire knowledge about human language.', color='blue', created_at=None, summarized=None), Edge(source='largeLanguageModel', target='inaccuraciesAndBiases', description='LLMs can inherit inaccuracies and biases from the training corpora.', color='blue', created_at=None, summarized=None), Edge(source='largeLanguageModel', target='openAIGPTSeries', description='GPT series by OpenAI are examples of LLMs.', color='blue', created_at=None, summarized=None), Edge(source='largeLanguageModel', target='googlePaLMAndGemini', description='PaLM and Gemini by Google are examples of LLMs.', color='blue', created_at=None, summarized=None), Edge(source='largeLanguageModel', target='xAIGrok', description='Grok by xAI is an example of a LLM.', color='blue', created_at=None, summarized=None), Edge(source='largeLanguageModel', target='metasLLaMAFamily', description='LLaMA family by Meta are open-source models and examples of LLMs.', color='blue', created_at=None, summarized=None), Edge(source='largeLanguageModel', target='anthropicsClaudeModels', description='Claude models by Anthropic are examples of LLMs.', color='blue', created_at=None, summarized=None), Edge(source='largeLanguageModel', target='mistralAIOpenSourceModels', description='Open source models by Mistral AI are examples of LLMs.', color='blue', created_at=None, summarized=None), Edge(source='largeLanguageModel', target='databricksDBRX', description='DBRX by Databricks is an open source model and an example of a LLM.', color='blue', created_at=None, summarized=None)])}, {'{\"layer\": \"Discourse Layer\"}': KnowledgeGraph(nodes=[Node(id='largeLanguageModel', description='A language model notable for its ability to achieve general-purpose language generation and other natural language processing tasks.', category='concept', color='blue', memory_type='semantic', created_at=None, summarized=None), Node(id='textGeneration', description='A form of generative AI where an LLM takes an input text and predicts the next token or word.', category='concept', color='blue', memory_type='semantic', created_at=None, summarized=None), Node(id='artificialNeuralNetworks', description='LLMs are a type of artificial neural network.', category='entity', color='blue', memory_type='semantic', created_at=None, summarized=None), Node(id='transformerBasedArchitecture', description='A decoder-only architecture used to build the largest and most capable LLMs as of March 2024.', category='entity', color='blue', memory_type='semantic', created_at=None, summarized=None), Node(id='fineTuning', description='A process used up to 2020 where a model is adapted to accomplish specific tasks.', category='concept', color='blue', memory_type='episodic', created_at=None, summarized=None), Node(id='promptEngineering', description='A technique used in larger sized models, such as GPT-3, to achieve desired results without fine tuning.', category='concept', color='blue', memory_type='semantic', created_at=None, summarized=None), Node(id='GPT3', description='A notable LLM developed by OpenAI, used in applications like ChatGPT and Microsoft Copilot.', category='entity', color='blue', memory_type='semantic', created_at=None, summarized=None), Node(id='PaLM', description='A notable LLM developed by Google.', category='entity', color='blue', memory_type='semantic', created_at=None, summarized=None), Node(id='Grok', description='A notable LLM developed by xAI.', category='entity', color='blue', memory_type='semantic', created_at=None, summarized=None), Node(id='LLaMA', description='A family of open-source LLMs developed by Meta.', category='entity', color='blue', memory_type='semantic', created_at=None, summarized=None), Node(id='Claude', description='A series of models developed by Anthropic.', category='entity', color='blue', memory_type='semantic', created_at=None, summarized=None), Node(id='MistralAI', description='Company known for its open source LLMs.', category='entity', color='blue', memory_type='semantic', created_at=None, summarized=None), Node(id='DBRX', description='An open source LLM developed by Databricks.', category='entity', color='blue', memory_type='semantic', created_at=None, summarized=None), Node(id='Gemini', description='A notable LLM developed by Google, currently used in the chatbot of the same name.', category='entity', color='blue', memory_type='semantic', created_at=None, summarized=None), Node(id='syntaxSemanticsOntology', description='Elements of human language that LLMs are thought to acquire knowledge about.', category='concept', color='blue', memory_type='semantic', created_at=None, summarized=None), Node(id='inaccuraciesAndBiases', description='Undesirable qualities present in language corpora that LLMs may inadvertently learn.', category='concept', color='blue', memory_type='semantic', created_at=None, summarized=None), Node(id='recurrentNeuralNetworkVariants', description='An alternative architecture to transformer-based models for implementing LLMs.', category='entity', color='blue', memory_type='semantic', created_at=None, summarized=None), Node(id='Mamba', description='A state space model architecture used in some recent implementations of LLMs.', category='entity', color='blue', memory_type='semantic', created_at=None, summarized=None)], edges=[Edge(source='largeLanguageModel', target='textGeneration', description='used for', color='blue', created_at=None, summarized=None), Edge(source='largeLanguageModel', target='artificialNeuralNetworks', description='is a', color='blue', created_at=None, summarized=None), Edge(source='largeLanguageModel', target='transformerBasedArchitecture', description='built with', color='blue', created_at=None, summarized=None), Edge(source='largeLanguageModel', target='fineTuning', description='adapted by', color='blue', created_at=None, summarized=None), Edge(source='fineTuning', target='promptEngineering', description='replaced by', color='blue', created_at=None, summarized=None), Edge(source='largeLanguageModel', target='promptEngineering', description='can be used for', color='blue', created_at=None, summarized=None), Edge(source='largeLanguageModel', target='syntaxSemanticsOntology', description='acquires knowledge about', color='blue', created_at=None, summarized=None), Edge(source='largeLanguageModel', target='inaccuraciesAndBiases', description='may learn', color='blue', created_at=None, summarized=None), Edge(source='largeLanguageModel', target='recurrentNeuralNetworkVariants', description='based on', color='blue', created_at=None, summarized=None), Edge(source='largeLanguageModel', target='Mamba', description='based on', color='blue', created_at=None, summarized=None)])}, {'{\"layer\": \"Citation Layer\"}': KnowledgeGraph(nodes=[Node(id='largeLanguageModel', description='A large language model (LLM) is a language model notable for its ability to achieve general-purpose language generation and other natural language processing tasks.', category='entity', color='blue', memory_type='semantic', created_at=None, summarized=None), Node(id='naturalLanguageProcessingTasks', description='Tasks such as language generation and classification that LLMs perform.', category='action', color='blue', memory_type='semantic', created_at=None, summarized=None), Node(id='statisticalRelationshipsLearning', description='LLMs acquire abilities by learning statistical relationships from text documents during their training.', category='action', color='blue', memory_type='semantic', created_at=None, summarized=None), Node(id='trainingProcess', description='A computationally intensive self-supervised and semi-supervised process through which LLMs are trained.', category='event', color='blue', memory_type='semantic', created_at=None, summarized=None), Node(id='textGeneration', description='A form of generative AI where LLMs take an input text and repeatedly predict the next token or word.', category='action', color='blue', memory_type='semantic', created_at=None, summarized=None), Node(id='artificialNeuralNetworks', description='LLMs are a type of artificial neural networks.', category='entity', color='blue', memory_type='semantic', created_at=None, summarized=None), Node(id='transformerBasedArchitecture', description='Architecture used by the largest and most capable LLMs, as of March 2024.', category='entity', color='blue', memory_type='episodic', created_at=202403.0, summarized=None), Node(id='fineTuning', description='Up to 2020, fine tuning was the only way a model could be adapted to accomplish specific tasks.', category='event', color='blue', memory_type='episodic', created_at=202001.0, summarized=None), Node(id='promptEngineering', description='Larger sized models can be prompt-engineered to achieve specific task results, similar to fine tuning.', category='action', color='blue', memory_type='semantic', created_at=None, summarized=None), Node(id='gptSeries', description=\"OpenAI's series of models used in ChatGPT and Microsoft Copilot.\", category='entity', color='blue', memory_type='semantic', created_at=None, summarized=None), Node(id='palm', description=\"Google's language model.\", category='entity', color='blue', memory_type='semantic', created_at=None, summarized=None), Node(id='gemini', description=\"Google's language model used in the chatbot of the same name.\", category='entity', color='blue', memory_type='semantic', created_at=None, summarized=None), Node(id='grok', description=\"xAI's language model.\", category='entity', color='blue', memory_type='semantic', created_at=None, summarized=None), Node(id='llama', description=\"Meta's family of open-source language models.\", category='entity', color='blue', memory_type='semantic', created_at=None, summarized=None), Node(id='claudeModels', description=\"Anthropic's series of models.\", category='entity', color='blue', memory_type='semantic', created_at=None, summarized=None), Node(id='mistralAIOpenSourceModels', description='Open source models developed by Mistral AI.', category='entity', color='blue', memory_type='semantic', created_at=None, summarized=None), Node(id='databricksOpenSourceDBRX', description=\"Databricks' open source model.\", category='entity', color='blue', memory_type='semantic', created_at=None, summarized=None)], edges=[Edge(source='largeLanguageModel', target='naturalLanguageProcessingTasks', description='performs', color='blue', created_at=None, summarized=None), Edge(source='largeLanguageModel', target='statisticalRelationshipsLearning', description='process of', color='blue', created_at=None, summarized=None), Edge(source='statisticalRelationshipsLearning', target='trainingProcess', description='part of', color='blue', created_at=None, summarized=None), Edge(source='largeLanguageModel', target='textGeneration', description='capable of', color='blue', created_at=None, summarized=None), Edge(source='largeLanguageModel', target='artificialNeuralNetworks', description='type of', color='blue', created_at=None, summarized=None), Edge(source='artificialNeuralNetworks', target='transformerBasedArchitecture', description='utilizes', color='blue', created_at=None, summarized=None), Edge(source='largeLanguageModel', target='fineTuning', description='adapted by', color='blue', created_at=None, summarized=None), Edge(source='fineTuning', target='promptEngineering', description='replaced by', color='blue', created_at=None, summarized=None), Edge(source='gptSeries', target='promptEngineering', description='employs', color='blue', created_at=None, summarized=None)])}]\n",
      "Document (6dfe01b6-07d2-5b77-83c8-1d6c11ce2aa7) layer graphs created\n",
      "Document (062c22df-d99b-599f-90cd-2d325c8bcf69) processed\n",
      "Document (a27bb4fa-897e-53a5-94ca-b446e1d33dbf) layers connected\n",
      "Document categories, summaries and metadata are:  [{'data_type': 'text', 'layer_name': 'Research papers and academic publications'}]\n",
      "Document metadata is:  {'id': 'a27bb4fa-897e-53a5-94ca-b446e1d33dbf', 'name': 'Natural language processing', 'file_path': '/Users/vasa/Projects/cognee/.data/explanations/Natural language processing.txt', 'extension': 'txt', 'mime_type': 'text/plain', 'keywords': 'language|processing|subfield|computer|science|information|retrieval|ability|corpora|speech|machine|goal|capable|citation|technology', 'categories': ['Research papers and academic publications'], 'summary': 'Natural language processing (NLP) is an interdisciplinary subfield of computer science and information retrieval, focusing on enabling computers to understand and manipulate human language. It uses machine learning approaches, including rule-based, probabilistic, and neural network-based methods, to process natural language data. The aim is to create computers that comprehend the meaning and context of documents. NLP often incorporates theories from linguistics and is capable of extracting insights and organizing documents. Key challenges include speech recognition, language understanding, and generation.', 'content_labels': 'Natural language processing, Interdisciplinary subfield, Computer science, Information retrieval, Language manipulation, Natural language datasets, Text corpora, Speech corpora, Machine learning, Rule-based approaches, Probabilistic approaches, Statistical approaches, Neural network-based approaches, Language understanding, Contextual nuances, Theoretical linguistics, Information extraction, Document categorization, Document organization, Speech recognition, Natural-language understanding, Natural-language generation'}\n",
      "Collection may not have been created properly.! Unexpected status code: 422, with response body: {'error': [{'message': 'class name \"CiuayWeWiGCeKGiOyWmCymeyGyeGCiaqyyOT\" already exists'}]}.\n"
     ]
    },
    {
     "data": {
      "text/plain": "Fetching 7 files:   0%|          | 0/7 [00:00<?, ?it/s]",
      "application/vnd.jupyter.widget-view+json": {
       "version_major": 2,
       "version_minor": 0,
       "model_id": "eb450ab7961547b7b95ffe63cac50581"
      }
     },
     "metadata": {},
     "output_type": "display_data"
    },
    {
     "data": {
      "text/plain": "Fetching 7 files:   0%|          | 0/7 [00:00<?, ?it/s]",
      "application/vnd.jupyter.widget-view+json": {
       "version_major": 2,
       "version_minor": 0,
       "model_id": "320718d0d6bf44c5b70b1a2a446143c5"
      }
     },
     "metadata": {},
     "output_type": "display_data"
    },
    {
     "data": {
      "text/plain": "Fetching 7 files:   0%|          | 0/7 [00:00<?, ?it/s]",
      "application/vnd.jupyter.widget-view+json": {
       "version_major": 2,
       "version_minor": 0,
       "model_id": "b1a37006c23045fc9fd47818be6476fa"
      }
     },
     "metadata": {},
     "output_type": "display_data"
    },
    {
     "data": {
      "text/plain": "Fetching 7 files:   0%|          | 0/7 [00:00<?, ?it/s]",
      "application/vnd.jupyter.widget-view+json": {
       "version_major": 2,
       "version_minor": 0,
       "model_id": "df31d31efe8a4fdd829ce962fd960685"
      }
     },
     "metadata": {},
     "output_type": "display_data"
    },
    {
     "data": {
      "text/plain": "Fetching 7 files:   0%|          | 0/7 [00:00<?, ?it/s]",
      "application/vnd.jupyter.widget-view+json": {
       "version_major": 2,
       "version_minor": 0,
       "model_id": "a40670873c5e4687bd7c4047bbc960a3"
      }
     },
     "metadata": {},
     "output_type": "display_data"
    },
    {
     "data": {
      "text/plain": "Fetching 7 files:   0%|          | 0/7 [00:00<?, ?it/s]",
      "application/vnd.jupyter.widget-view+json": {
       "version_major": 2,
       "version_minor": 0,
       "model_id": "25be3e4d10eb481ca3af89cd1274687f"
      }
     },
     "metadata": {},
     "output_type": "display_data"
    },
    {
     "data": {
      "text/plain": "Fetching 7 files:   0%|          | 0/7 [00:00<?, ?it/s]",
      "application/vnd.jupyter.widget-view+json": {
       "version_major": 2,
       "version_minor": 0,
       "model_id": "8fb7583bcc8a43a580e961625ce4a2bd"
      }
     },
     "metadata": {},
     "output_type": "display_data"
    },
    {
     "data": {
      "text/plain": "Fetching 7 files:   0%|          | 0/7 [00:00<?, ?it/s]",
      "application/vnd.jupyter.widget-view+json": {
       "version_major": 2,
       "version_minor": 0,
       "model_id": "32adab3288b74a70999021ea42f71c34"
      }
     },
     "metadata": {},
     "output_type": "display_data"
    },
    {
     "data": {
      "text/plain": "Fetching 7 files:   0%|          | 0/7 [00:00<?, ?it/s]",
      "application/vnd.jupyter.widget-view+json": {
       "version_major": 2,
       "version_minor": 0,
       "model_id": "186686f070444023b49ee0535ef7ac46"
      }
     },
     "metadata": {},
     "output_type": "display_data"
    },
    {
     "data": {
      "text/plain": "Fetching 7 files:   0%|          | 0/7 [00:00<?, ?it/s]",
      "application/vnd.jupyter.widget-view+json": {
       "version_major": 2,
       "version_minor": 0,
       "model_id": "0374e92ad67a4e028bf05ee89cd4d62c"
      }
     },
     "metadata": {},
     "output_type": "display_data"
    },
    {
     "data": {
      "text/plain": "Fetching 7 files:   0%|          | 0/7 [00:00<?, ?it/s]",
      "application/vnd.jupyter.widget-view+json": {
       "version_major": 2,
       "version_minor": 0,
       "model_id": "50d7f52122fe43c8940ce6c060e44737"
      }
     },
     "metadata": {},
     "output_type": "display_data"
    },
    {
     "data": {
      "text/plain": "Fetching 7 files:   0%|          | 0/7 [00:00<?, ?it/s]",
      "application/vnd.jupyter.widget-view+json": {
       "version_major": 2,
       "version_minor": 0,
       "model_id": "4f0a1ea8fcae4a01b193f32dc9db5ea2"
      }
     },
     "metadata": {},
     "output_type": "display_data"
    },
    {
     "data": {
      "text/plain": "Fetching 7 files:   0%|          | 0/7 [00:00<?, ?it/s]",
      "application/vnd.jupyter.widget-view+json": {
       "version_major": 2,
       "version_minor": 0,
       "model_id": "c2bea641e92b40ca8c5cc26202972563"
      }
     },
     "metadata": {},
     "output_type": "display_data"
    },
    {
     "data": {
      "text/plain": "Fetching 7 files:   0%|          | 0/7 [00:00<?, ?it/s]",
      "application/vnd.jupyter.widget-view+json": {
       "version_major": 2,
       "version_minor": 0,
       "model_id": "fcd8dadd367546fab6003215e3b78c9c"
      }
     },
     "metadata": {},
     "output_type": "display_data"
    },
    {
     "data": {
      "text/plain": "Fetching 7 files:   0%|          | 0/7 [00:00<?, ?it/s]",
      "application/vnd.jupyter.widget-view+json": {
       "version_major": 2,
       "version_minor": 0,
       "model_id": "b9d4e70546a84bd6a6d22076a25764b8"
      }
     },
     "metadata": {},
     "output_type": "display_data"
    },
    {
     "data": {
      "text/plain": "Fetching 7 files:   0%|          | 0/7 [00:00<?, ?it/s]",
      "application/vnd.jupyter.widget-view+json": {
       "version_major": 2,
       "version_minor": 0,
       "model_id": "4909f9ecc34642508f0dc11fa91e7fd0"
      }
     },
     "metadata": {},
     "output_type": "display_data"
    },
    {
     "data": {
      "text/plain": "Fetching 7 files:   0%|          | 0/7 [00:00<?, ?it/s]",
      "application/vnd.jupyter.widget-view+json": {
       "version_major": 2,
       "version_minor": 0,
       "model_id": "5c3036d8ba2342aa8e564396d1811a6a"
      }
     },
     "metadata": {},
     "output_type": "display_data"
    },
    {
     "data": {
      "text/plain": "Fetching 7 files:   0%|          | 0/7 [00:00<?, ?it/s]",
      "application/vnd.jupyter.widget-view+json": {
       "version_major": 2,
       "version_minor": 0,
       "model_id": "48443bfdeb124b79a7d1881c6c289c2e"
      }
     },
     "metadata": {},
     "output_type": "display_data"
    },
    {
     "data": {
      "text/plain": "Fetching 7 files:   0%|          | 0/7 [00:00<?, ?it/s]",
      "application/vnd.jupyter.widget-view+json": {
       "version_major": 2,
       "version_minor": 0,
       "model_id": "d0c4b225e77b4595a286aa791bf85ca0"
      }
     },
     "metadata": {},
     "output_type": "display_data"
    },
    {
     "data": {
      "text/plain": "Fetching 7 files:   0%|          | 0/7 [00:00<?, ?it/s]",
      "application/vnd.jupyter.widget-view+json": {
       "version_major": 2,
       "version_minor": 0,
       "model_id": "e58ad4b1c9f24190bd73f36f44d6ec03"
      }
     },
     "metadata": {},
     "output_type": "display_data"
    },
    {
     "data": {
      "text/plain": "Fetching 7 files:   0%|          | 0/7 [00:00<?, ?it/s]",
      "application/vnd.jupyter.widget-view+json": {
       "version_major": 2,
       "version_minor": 0,
       "model_id": "0a589a44abdc487085787c7db054142c"
      }
     },
     "metadata": {},
     "output_type": "display_data"
    },
    {
     "data": {
      "text/plain": "Fetching 7 files:   0%|          | 0/7 [00:00<?, ?it/s]",
      "application/vnd.jupyter.widget-view+json": {
       "version_major": 2,
       "version_minor": 0,
       "model_id": "a76be453ea7248c2bcf4949bf16273cf"
      }
     },
     "metadata": {},
     "output_type": "display_data"
    },
    {
     "data": {
      "text/plain": "Fetching 7 files:   0%|          | 0/7 [00:00<?, ?it/s]",
      "application/vnd.jupyter.widget-view+json": {
       "version_major": 2,
       "version_minor": 0,
       "model_id": "1cc987191637407783f5b590d2c83aac"
      }
     },
     "metadata": {},
     "output_type": "display_data"
    },
    {
     "data": {
      "text/plain": "Fetching 7 files:   0%|          | 0/7 [00:00<?, ?it/s]",
      "application/vnd.jupyter.widget-view+json": {
       "version_major": 2,
       "version_minor": 0,
       "model_id": "dc023a0cdac74267bc2344132443b3c8"
      }
     },
     "metadata": {},
     "output_type": "display_data"
    },
    {
     "data": {
      "text/plain": "Fetching 7 files:   0%|          | 0/7 [00:00<?, ?it/s]",
      "application/vnd.jupyter.widget-view+json": {
       "version_major": 2,
       "version_minor": 0,
       "model_id": "6f2a3b3ca2d74379af0ec85e6533dbba"
      }
     },
     "metadata": {},
     "output_type": "display_data"
    },
    {
     "data": {
      "text/plain": "Fetching 7 files:   0%|          | 0/7 [00:00<?, ?it/s]",
      "application/vnd.jupyter.widget-view+json": {
       "version_major": 2,
       "version_minor": 0,
       "model_id": "e9066c6bc3f8406d9effef10012cfe55"
      }
     },
     "metadata": {},
     "output_type": "display_data"
    },
    {
     "data": {
      "text/plain": "Fetching 7 files:   0%|          | 0/7 [00:00<?, ?it/s]",
      "application/vnd.jupyter.widget-view+json": {
       "version_major": 2,
       "version_minor": 0,
       "model_id": "bee3ab052af947849a91617536c5bc50"
      }
     },
     "metadata": {},
     "output_type": "display_data"
    },
    {
     "data": {
      "text/plain": "Fetching 7 files:   0%|          | 0/7 [00:00<?, ?it/s]",
      "application/vnd.jupyter.widget-view+json": {
       "version_major": 2,
       "version_minor": 0,
       "model_id": "81612137857d4ab98039a2dcf1434b3c"
      }
     },
     "metadata": {},
     "output_type": "display_data"
    },
    {
     "data": {
      "text/plain": "Fetching 7 files:   0%|          | 0/7 [00:00<?, ?it/s]",
      "application/vnd.jupyter.widget-view+json": {
       "version_major": 2,
       "version_minor": 0,
       "model_id": "02114005ec554131bc596e6c286754a4"
      }
     },
     "metadata": {},
     "output_type": "display_data"
    },
    {
     "data": {
      "text/plain": "Fetching 7 files:   0%|          | 0/7 [00:00<?, ?it/s]",
      "application/vnd.jupyter.widget-view+json": {
       "version_major": 2,
       "version_minor": 0,
       "model_id": "d9f34fbb8668475da55aadf5822dd2c2"
      }
     },
     "metadata": {},
     "output_type": "display_data"
    },
    {
     "data": {
      "text/plain": "Fetching 7 files:   0%|          | 0/7 [00:00<?, ?it/s]",
      "application/vnd.jupyter.widget-view+json": {
       "version_major": 2,
       "version_minor": 0,
       "model_id": "749b525b997345ea8a62c94274cbd14c"
      }
     },
     "metadata": {},
     "output_type": "display_data"
    },
    {
     "data": {
      "text/plain": "Fetching 7 files:   0%|          | 0/7 [00:00<?, ?it/s]",
      "application/vnd.jupyter.widget-view+json": {
       "version_major": 2,
       "version_minor": 0,
       "model_id": "032f788938c0473ca7f315b55a88f994"
      }
     },
     "metadata": {},
     "output_type": "display_data"
    },
    {
     "data": {
      "text/plain": "Fetching 7 files:   0%|          | 0/7 [00:00<?, ?it/s]",
      "application/vnd.jupyter.widget-view+json": {
       "version_major": 2,
       "version_minor": 0,
       "model_id": "e2fcb5acf5534fd2b03adf0c8d330faa"
      }
     },
     "metadata": {},
     "output_type": "display_data"
    },
    {
     "data": {
      "text/plain": "Fetching 7 files:   0%|          | 0/7 [00:00<?, ?it/s]",
      "application/vnd.jupyter.widget-view+json": {
       "version_major": 2,
       "version_minor": 0,
       "model_id": "645d879b0af24de0b91d1e9a115ac6d2"
      }
     },
     "metadata": {},
     "output_type": "display_data"
    },
    {
     "data": {
      "text/plain": "Fetching 7 files:   0%|          | 0/7 [00:00<?, ?it/s]",
      "application/vnd.jupyter.widget-view+json": {
       "version_major": 2,
       "version_minor": 0,
       "model_id": "aab258f5641d413da1debf1328f72724"
      }
     },
     "metadata": {},
     "output_type": "display_data"
    },
    {
     "data": {
      "text/plain": "Fetching 7 files:   0%|          | 0/7 [00:00<?, ?it/s]",
      "application/vnd.jupyter.widget-view+json": {
       "version_major": 2,
       "version_minor": 0,
       "model_id": "0c8bb26a1162438aa2328c80189b9997"
      }
     },
     "metadata": {},
     "output_type": "display_data"
    },
    {
     "data": {
      "text/plain": "Fetching 7 files:   0%|          | 0/7 [00:00<?, ?it/s]",
      "application/vnd.jupyter.widget-view+json": {
       "version_major": 2,
       "version_minor": 0,
       "model_id": "d541b24edf984bba8d47886b4d6dc17f"
      }
     },
     "metadata": {},
     "output_type": "display_data"
    },
    {
     "data": {
      "text/plain": "Fetching 7 files:   0%|          | 0/7 [00:00<?, ?it/s]",
      "application/vnd.jupyter.widget-view+json": {
       "version_major": 2,
       "version_minor": 0,
       "model_id": "6de0a9056cdc44f19a56cc6f672b582e"
      }
     },
     "metadata": {},
     "output_type": "display_data"
    },
    {
     "data": {
      "text/plain": "Fetching 7 files:   0%|          | 0/7 [00:00<?, ?it/s]",
      "application/vnd.jupyter.widget-view+json": {
       "version_major": 2,
       "version_minor": 0,
       "model_id": "4b38bdd959834d0c91a6710df2870d29"
      }
     },
     "metadata": {},
     "output_type": "display_data"
    },
    {
     "data": {
      "text/plain": "Fetching 7 files:   0%|          | 0/7 [00:00<?, ?it/s]",
      "application/vnd.jupyter.widget-view+json": {
       "version_major": 2,
       "version_minor": 0,
       "model_id": "279719c02fca464e8bd903d2cb7c0990"
      }
     },
     "metadata": {},
     "output_type": "display_data"
    },
    {
     "data": {
      "text/plain": "Fetching 7 files:   0%|          | 0/7 [00:00<?, ?it/s]",
      "application/vnd.jupyter.widget-view+json": {
       "version_major": 2,
       "version_minor": 0,
       "model_id": "77516f0e898d4fc98460a26a76287aca"
      }
     },
     "metadata": {},
     "output_type": "display_data"
    },
    {
     "data": {
      "text/plain": "Fetching 7 files:   0%|          | 0/7 [00:00<?, ?it/s]",
      "application/vnd.jupyter.widget-view+json": {
       "version_major": 2,
       "version_minor": 0,
       "model_id": "df97ffc7644246c89434518d33696beb"
      }
     },
     "metadata": {},
     "output_type": "display_data"
    },
    {
     "data": {
      "text/plain": "Fetching 7 files:   0%|          | 0/7 [00:00<?, ?it/s]",
      "application/vnd.jupyter.widget-view+json": {
       "version_major": 2,
       "version_minor": 0,
       "model_id": "a9bcf98a46664cb3b561cbe85deed689"
      }
     },
     "metadata": {},
     "output_type": "display_data"
    },
    {
     "data": {
      "text/plain": "Fetching 7 files:   0%|          | 0/7 [00:00<?, ?it/s]",
      "application/vnd.jupyter.widget-view+json": {
       "version_major": 2,
       "version_minor": 0,
       "model_id": "8d32013bd1d44e3a8dc08ccc2667b95d"
      }
     },
     "metadata": {},
     "output_type": "display_data"
    },
    {
     "data": {
      "text/plain": "Fetching 7 files:   0%|          | 0/7 [00:00<?, ?it/s]",
      "application/vnd.jupyter.widget-view+json": {
       "version_major": 2,
       "version_minor": 0,
       "model_id": "e823bc8e183147e2a18d09580efaf648"
      }
     },
     "metadata": {},
     "output_type": "display_data"
    },
    {
     "data": {
      "text/plain": "Fetching 7 files:   0%|          | 0/7 [00:00<?, ?it/s]",
      "application/vnd.jupyter.widget-view+json": {
       "version_major": 2,
       "version_minor": 0,
       "model_id": "cd21d69f2959416cb708914c63c1dccd"
      }
     },
     "metadata": {},
     "output_type": "display_data"
    },
    {
     "data": {
      "text/plain": "Fetching 7 files:   0%|          | 0/7 [00:00<?, ?it/s]",
      "application/vnd.jupyter.widget-view+json": {
       "version_major": 2,
       "version_minor": 0,
       "model_id": "f5cce4982ecc4f0381ad6ae627d21945"
      }
     },
     "metadata": {},
     "output_type": "display_data"
    },
    {
     "data": {
      "text/plain": "Fetching 7 files:   0%|          | 0/7 [00:00<?, ?it/s]",
      "application/vnd.jupyter.widget-view+json": {
       "version_major": 2,
       "version_minor": 0,
       "model_id": "1088047abc1241d4996017355ff27e62"
      }
     },
     "metadata": {},
     "output_type": "display_data"
    },
    {
     "data": {
      "text/plain": "Fetching 7 files:   0%|          | 0/7 [00:00<?, ?it/s]",
      "application/vnd.jupyter.widget-view+json": {
       "version_major": 2,
       "version_minor": 0,
       "model_id": "1be1296f076e4d30966e86576c16b26e"
      }
     },
     "metadata": {},
     "output_type": "display_data"
    },
    {
     "data": {
      "text/plain": "Fetching 7 files:   0%|          | 0/7 [00:00<?, ?it/s]",
      "application/vnd.jupyter.widget-view+json": {
       "version_major": 2,
       "version_minor": 0,
       "model_id": "7a9213fd4aa445f5a9146998d0797661"
      }
     },
     "metadata": {},
     "output_type": "display_data"
    },
    {
     "data": {
      "text/plain": "Fetching 7 files:   0%|          | 0/7 [00:00<?, ?it/s]",
      "application/vnd.jupyter.widget-view+json": {
       "version_major": 2,
       "version_minor": 0,
       "model_id": "0381c8df867f44f8893607742b1c0d52"
      }
     },
     "metadata": {},
     "output_type": "display_data"
    },
    {
     "data": {
      "text/plain": "Fetching 7 files:   0%|          | 0/7 [00:00<?, ?it/s]",
      "application/vnd.jupyter.widget-view+json": {
       "version_major": 2,
       "version_minor": 0,
       "model_id": "1e8b96e13e534d1a9e05162b374e1f4c"
      }
     },
     "metadata": {},
     "output_type": "display_data"
    },
    {
     "data": {
      "text/plain": "Fetching 7 files:   0%|          | 0/7 [00:00<?, ?it/s]",
      "application/vnd.jupyter.widget-view+json": {
       "version_major": 2,
       "version_minor": 0,
       "model_id": "39439de8a9a948a29ea9771919eacf18"
      }
     },
     "metadata": {},
     "output_type": "display_data"
    },
    {
     "data": {
      "text/plain": "Fetching 7 files:   0%|          | 0/7 [00:00<?, ?it/s]",
      "application/vnd.jupyter.widget-view+json": {
       "version_major": 2,
       "version_minor": 0,
       "model_id": "f439a1f7a1aa4a4280fc3db8fb43335a"
      }
     },
     "metadata": {},
     "output_type": "display_data"
    },
    {
     "data": {
      "text/plain": "Fetching 7 files:   0%|          | 0/7 [00:00<?, ?it/s]",
      "application/vnd.jupyter.widget-view+json": {
       "version_major": 2,
       "version_minor": 0,
       "model_id": "aa9c85f0ad9f49bcaa410b05d37cd903"
      }
     },
     "metadata": {},
     "output_type": "display_data"
    },
    {
     "data": {
      "text/plain": "Fetching 7 files:   0%|          | 0/7 [00:00<?, ?it/s]",
      "application/vnd.jupyter.widget-view+json": {
       "version_major": 2,
       "version_minor": 0,
       "model_id": "612167d20bd54787a34ae96044b9719d"
      }
     },
     "metadata": {},
     "output_type": "display_data"
    },
    {
     "data": {
      "text/plain": "Fetching 7 files:   0%|          | 0/7 [00:00<?, ?it/s]",
      "application/vnd.jupyter.widget-view+json": {
       "version_major": 2,
       "version_minor": 0,
       "model_id": "2ed27d309fcc4fbabfb443b58b3c80d0"
      }
     },
     "metadata": {},
     "output_type": "display_data"
    },
    {
     "data": {
      "text/plain": "Fetching 7 files:   0%|          | 0/7 [00:00<?, ?it/s]",
      "application/vnd.jupyter.widget-view+json": {
       "version_major": 2,
       "version_minor": 0,
       "model_id": "d3b6975f2d79451f987ec81fef9ff565"
      }
     },
     "metadata": {},
     "output_type": "display_data"
    },
    {
     "data": {
      "text/plain": "Fetching 7 files:   0%|          | 0/7 [00:00<?, ?it/s]",
      "application/vnd.jupyter.widget-view+json": {
       "version_major": 2,
       "version_minor": 0,
       "model_id": "11eb1a0efe524d00b58d830e33afd8ea"
      }
     },
     "metadata": {},
     "output_type": "display_data"
    },
    {
     "data": {
      "text/plain": "Fetching 7 files:   0%|          | 0/7 [00:00<?, ?it/s]",
      "application/vnd.jupyter.widget-view+json": {
       "version_major": 2,
       "version_minor": 0,
       "model_id": "a014022692f44006a8a73de18d535839"
      }
     },
     "metadata": {},
     "output_type": "display_data"
    },
    {
     "data": {
      "text/plain": "Fetching 7 files:   0%|          | 0/7 [00:00<?, ?it/s]",
      "application/vnd.jupyter.widget-view+json": {
       "version_major": 2,
       "version_minor": 0,
       "model_id": "4a57b94e1cd849398b6b2887701d7844"
      }
     },
     "metadata": {},
     "output_type": "display_data"
    },
    {
     "data": {
      "text/plain": "Fetching 7 files:   0%|          | 0/7 [00:00<?, ?it/s]",
      "application/vnd.jupyter.widget-view+json": {
       "version_major": 2,
       "version_minor": 0,
       "model_id": "541c409192ed4c84827f6209e4277182"
      }
     },
     "metadata": {},
     "output_type": "display_data"
    },
    {
     "data": {
      "text/plain": "Fetching 7 files:   0%|          | 0/7 [00:00<?, ?it/s]",
      "application/vnd.jupyter.widget-view+json": {
       "version_major": 2,
       "version_minor": 0,
       "model_id": "78b8fa1e41b043258982aa781c7fb3a2"
      }
     },
     "metadata": {},
     "output_type": "display_data"
    },
    {
     "data": {
      "text/plain": "Fetching 7 files:   0%|          | 0/7 [00:00<?, ?it/s]",
      "application/vnd.jupyter.widget-view+json": {
       "version_major": 2,
       "version_minor": 0,
       "model_id": "82c36618f79a49778086d70bc3a62f17"
      }
     },
     "metadata": {},
     "output_type": "display_data"
    },
    {
     "data": {
      "text/plain": "Fetching 7 files:   0%|          | 0/7 [00:00<?, ?it/s]",
      "application/vnd.jupyter.widget-view+json": {
       "version_major": 2,
       "version_minor": 0,
       "model_id": "4d4d147ee7a94671ac4fa11e0b2e206f"
      }
     },
     "metadata": {},
     "output_type": "display_data"
    },
    {
     "data": {
      "text/plain": "Fetching 7 files:   0%|          | 0/7 [00:00<?, ?it/s]",
      "application/vnd.jupyter.widget-view+json": {
       "version_major": 2,
       "version_minor": 0,
       "model_id": "416af61082a74902a455dfdeb3ed47e6"
      }
     },
     "metadata": {},
     "output_type": "display_data"
    },
    {
     "data": {
      "text/plain": "Fetching 7 files:   0%|          | 0/7 [00:00<?, ?it/s]",
      "application/vnd.jupyter.widget-view+json": {
       "version_major": 2,
       "version_minor": 0,
       "model_id": "e3939566351544a78abfc069c20aaed0"
      }
     },
     "metadata": {},
     "output_type": "display_data"
    },
    {
     "data": {
      "text/plain": "Fetching 7 files:   0%|          | 0/7 [00:00<?, ?it/s]",
      "application/vnd.jupyter.widget-view+json": {
       "version_major": 2,
       "version_minor": 0,
       "model_id": "9c9b556110a94959aeacccaf75436cb1"
      }
     },
     "metadata": {},
     "output_type": "display_data"
    },
    {
     "data": {
      "text/plain": "Fetching 7 files:   0%|          | 0/7 [00:00<?, ?it/s]",
      "application/vnd.jupyter.widget-view+json": {
       "version_major": 2,
       "version_minor": 0,
       "model_id": "bdaccaac5fd74813b7728b2ba49e476b"
      }
     },
     "metadata": {},
     "output_type": "display_data"
    },
    {
     "data": {
      "text/plain": "Fetching 7 files:   0%|          | 0/7 [00:00<?, ?it/s]",
      "application/vnd.jupyter.widget-view+json": {
       "version_major": 2,
       "version_minor": 0,
       "model_id": "f0559e6c03f94973a5b1eeb74ba32296"
      }
     },
     "metadata": {},
     "output_type": "display_data"
    },
    {
     "data": {
      "text/plain": "Fetching 7 files:   0%|          | 0/7 [00:00<?, ?it/s]",
      "application/vnd.jupyter.widget-view+json": {
       "version_major": 2,
       "version_minor": 0,
       "model_id": "18068ea01446470d940a4b6de6cce701"
      }
     },
     "metadata": {},
     "output_type": "display_data"
    },
    {
     "data": {
      "text/plain": "Fetching 7 files:   0%|          | 0/7 [00:00<?, ?it/s]",
      "application/vnd.jupyter.widget-view+json": {
       "version_major": 2,
       "version_minor": 0,
       "model_id": "bd3ac48307ca42e89010f796aa452753"
      }
     },
     "metadata": {},
     "output_type": "display_data"
    },
    {
     "data": {
      "text/plain": "Fetching 7 files:   0%|          | 0/7 [00:00<?, ?it/s]",
      "application/vnd.jupyter.widget-view+json": {
       "version_major": 2,
       "version_minor": 0,
       "model_id": "090089c4af9a4465beb75d591df714f5"
      }
     },
     "metadata": {},
     "output_type": "display_data"
    },
    {
     "data": {
      "text/plain": "Fetching 7 files:   0%|          | 0/7 [00:00<?, ?it/s]",
      "application/vnd.jupyter.widget-view+json": {
       "version_major": 2,
       "version_minor": 0,
       "model_id": "5a238333510242899066b46d22c00f05"
      }
     },
     "metadata": {},
     "output_type": "display_data"
    },
    {
     "data": {
      "text/plain": "Fetching 7 files:   0%|          | 0/7 [00:00<?, ?it/s]",
      "application/vnd.jupyter.widget-view+json": {
       "version_major": 2,
       "version_minor": 0,
       "model_id": "c5eaeafb24cb46bebb1772ae1da10a9f"
      }
     },
     "metadata": {},
     "output_type": "display_data"
    },
    {
     "data": {
      "text/plain": "Fetching 7 files:   0%|          | 0/7 [00:00<?, ?it/s]",
      "application/vnd.jupyter.widget-view+json": {
       "version_major": 2,
       "version_minor": 0,
       "model_id": "d2596517d92845a487094743f73e1f7d"
      }
     },
     "metadata": {},
     "output_type": "display_data"
    },
    {
     "data": {
      "text/plain": "Fetching 7 files:   0%|          | 0/7 [00:00<?, ?it/s]",
      "application/vnd.jupyter.widget-view+json": {
       "version_major": 2,
       "version_minor": 0,
       "model_id": "25671cb8841e4634838664effb9a2469"
      }
     },
     "metadata": {},
     "output_type": "display_data"
    },
    {
     "data": {
      "text/plain": "Fetching 7 files:   0%|          | 0/7 [00:00<?, ?it/s]",
      "application/vnd.jupyter.widget-view+json": {
       "version_major": 2,
       "version_minor": 0,
       "model_id": "980def90d7744b45be0978558358ad27"
      }
     },
     "metadata": {},
     "output_type": "display_data"
    },
    {
     "data": {
      "text/plain": "Fetching 7 files:   0%|          | 0/7 [00:00<?, ?it/s]",
      "application/vnd.jupyter.widget-view+json": {
       "version_major": 2,
       "version_minor": 0,
       "model_id": "ffbae67f4b424bbd980b0f2b02980185"
      }
     },
     "metadata": {},
     "output_type": "display_data"
    },
    {
     "data": {
      "text/plain": "Fetching 7 files:   0%|          | 0/7 [00:00<?, ?it/s]",
      "application/vnd.jupyter.widget-view+json": {
       "version_major": 2,
       "version_minor": 0,
       "model_id": "0f9a2e9cb87f451c908e840a276de4fc"
      }
     },
     "metadata": {},
     "output_type": "display_data"
    },
    {
     "data": {
      "text/plain": "Fetching 7 files:   0%|          | 0/7 [00:00<?, ?it/s]",
      "application/vnd.jupyter.widget-view+json": {
       "version_major": 2,
       "version_minor": 0,
       "model_id": "3ad4c9a096be41b589fe24facc60abff"
      }
     },
     "metadata": {},
     "output_type": "display_data"
    },
    {
     "data": {
      "text/plain": "Fetching 7 files:   0%|          | 0/7 [00:00<?, ?it/s]",
      "application/vnd.jupyter.widget-view+json": {
       "version_major": 2,
       "version_minor": 0,
       "model_id": "8fee19584e9a457382ad2c2c4509b8e1"
      }
     },
     "metadata": {},
     "output_type": "display_data"
    },
    {
     "data": {
      "text/plain": "Fetching 7 files:   0%|          | 0/7 [00:00<?, ?it/s]",
      "application/vnd.jupyter.widget-view+json": {
       "version_major": 2,
       "version_minor": 0,
       "model_id": "4e2d412b331c4401820935d9b1c96961"
      }
     },
     "metadata": {},
     "output_type": "display_data"
    },
    {
     "data": {
      "text/plain": "Fetching 7 files:   0%|          | 0/7 [00:00<?, ?it/s]",
      "application/vnd.jupyter.widget-view+json": {
       "version_major": 2,
       "version_minor": 0,
       "model_id": "ac5e13eeadd742c899e7a8ff64fa9248"
      }
     },
     "metadata": {},
     "output_type": "display_data"
    },
    {
     "data": {
      "text/plain": "Fetching 7 files:   0%|          | 0/7 [00:00<?, ?it/s]",
      "application/vnd.jupyter.widget-view+json": {
       "version_major": 2,
       "version_minor": 0,
       "model_id": "346c5682ac0c40c7826a67f958010d2c"
      }
     },
     "metadata": {},
     "output_type": "display_data"
    },
    {
     "data": {
      "text/plain": "Fetching 7 files:   0%|          | 0/7 [00:00<?, ?it/s]",
      "application/vnd.jupyter.widget-view+json": {
       "version_major": 2,
       "version_minor": 0,
       "model_id": "385890294654494d877415e22db59298"
      }
     },
     "metadata": {},
     "output_type": "display_data"
    },
    {
     "data": {
      "text/plain": "Fetching 7 files:   0%|          | 0/7 [00:00<?, ?it/s]",
      "application/vnd.jupyter.widget-view+json": {
       "version_major": 2,
       "version_minor": 0,
       "model_id": "ce9e485970b0434f9f0a5868abc3f2db"
      }
     },
     "metadata": {},
     "output_type": "display_data"
    },
    {
     "data": {
      "text/plain": "Fetching 7 files:   0%|          | 0/7 [00:00<?, ?it/s]",
      "application/vnd.jupyter.widget-view+json": {
       "version_major": 2,
       "version_minor": 0,
       "model_id": "a73351b92ead4beeb4edc7d1d6d1312d"
      }
     },
     "metadata": {},
     "output_type": "display_data"
    },
    {
     "data": {
      "text/plain": "Fetching 7 files:   0%|          | 0/7 [00:00<?, ?it/s]",
      "application/vnd.jupyter.widget-view+json": {
       "version_major": 2,
       "version_minor": 0,
       "model_id": "c84fb990ee48405f8d7faa05ec751406"
      }
     },
     "metadata": {},
     "output_type": "display_data"
    },
    {
     "data": {
      "text/plain": "Fetching 7 files:   0%|          | 0/7 [00:00<?, ?it/s]",
      "application/vnd.jupyter.widget-view+json": {
       "version_major": 2,
       "version_minor": 0,
       "model_id": "3756d2615d334651a16dd18cfc529ab0"
      }
     },
     "metadata": {},
     "output_type": "display_data"
    },
    {
     "data": {
      "text/plain": "Fetching 7 files:   0%|          | 0/7 [00:00<?, ?it/s]",
      "application/vnd.jupyter.widget-view+json": {
       "version_major": 2,
       "version_minor": 0,
       "model_id": "66a5b18dbc2640a9b642765b1f5a758c"
      }
     },
     "metadata": {},
     "output_type": "display_data"
    },
    {
     "data": {
      "text/plain": "Fetching 7 files:   0%|          | 0/7 [00:00<?, ?it/s]",
      "application/vnd.jupyter.widget-view+json": {
       "version_major": 2,
       "version_minor": 0,
       "model_id": "6997b5ff424445f58fa70ad8f9eebb83"
      }
     },
     "metadata": {},
     "output_type": "display_data"
    },
    {
     "data": {
      "text/plain": "Fetching 7 files:   0%|          | 0/7 [00:00<?, ?it/s]",
      "application/vnd.jupyter.widget-view+json": {
       "version_major": 2,
       "version_minor": 0,
       "model_id": "09102f7fd03146b69efcf7a1f815bde5"
      }
     },
     "metadata": {},
     "output_type": "display_data"
    },
    {
     "data": {
      "text/plain": "Fetching 7 files:   0%|          | 0/7 [00:00<?, ?it/s]",
      "application/vnd.jupyter.widget-view+json": {
       "version_major": 2,
       "version_minor": 0,
       "model_id": "444dee2cc83249608d21190009e1ad79"
      }
     },
     "metadata": {},
     "output_type": "display_data"
    },
    {
     "data": {
      "text/plain": "Fetching 7 files:   0%|          | 0/7 [00:00<?, ?it/s]",
      "application/vnd.jupyter.widget-view+json": {
       "version_major": 2,
       "version_minor": 0,
       "model_id": "d546e32365ef4339b2b4ab686c212812"
      }
     },
     "metadata": {},
     "output_type": "display_data"
    },
    {
     "data": {
      "text/plain": "Fetching 7 files:   0%|          | 0/7 [00:00<?, ?it/s]",
      "application/vnd.jupyter.widget-view+json": {
       "version_major": 2,
       "version_minor": 0,
       "model_id": "cb1d4a6429c340cba4d4265a3fe5b865"
      }
     },
     "metadata": {},
     "output_type": "display_data"
    },
    {
     "data": {
      "text/plain": "Fetching 7 files:   0%|          | 0/7 [00:00<?, ?it/s]",
      "application/vnd.jupyter.widget-view+json": {
       "version_major": 2,
       "version_minor": 0,
       "model_id": "dc697535577343538bbd1a003b071acc"
      }
     },
     "metadata": {},
     "output_type": "display_data"
    },
    {
     "data": {
      "text/plain": "Fetching 7 files:   0%|          | 0/7 [00:00<?, ?it/s]",
      "application/vnd.jupyter.widget-view+json": {
       "version_major": 2,
       "version_minor": 0,
       "model_id": "4c9f97fc38b94e1ab79f2955aa760104"
      }
     },
     "metadata": {},
     "output_type": "display_data"
    },
    {
     "data": {
      "text/plain": "Fetching 7 files:   0%|          | 0/7 [00:00<?, ?it/s]",
      "application/vnd.jupyter.widget-view+json": {
       "version_major": 2,
       "version_minor": 0,
       "model_id": "beb6984fc0464f59b0971d04822fe47b"
      }
     },
     "metadata": {},
     "output_type": "display_data"
    },
    {
     "data": {
      "text/plain": "Fetching 7 files:   0%|          | 0/7 [00:00<?, ?it/s]",
      "application/vnd.jupyter.widget-view+json": {
       "version_major": 2,
       "version_minor": 0,
       "model_id": "b73b7f7dde4f4ee8977e8d8c2875ef62"
      }
     },
     "metadata": {},
     "output_type": "display_data"
    },
    {
     "data": {
      "text/plain": "Fetching 7 files:   0%|          | 0/7 [00:00<?, ?it/s]",
      "application/vnd.jupyter.widget-view+json": {
       "version_major": 2,
       "version_minor": 0,
       "model_id": "4383f368e87f4f349d9b363c290e6d79"
      }
     },
     "metadata": {},
     "output_type": "display_data"
    },
    {
     "data": {
      "text/plain": "Fetching 7 files:   0%|          | 0/7 [00:00<?, ?it/s]",
      "application/vnd.jupyter.widget-view+json": {
       "version_major": 2,
       "version_minor": 0,
       "model_id": "521293019aff42609351f644453629e8"
      }
     },
     "metadata": {},
     "output_type": "display_data"
    },
    {
     "data": {
      "text/plain": "Fetching 7 files:   0%|          | 0/7 [00:00<?, ?it/s]",
      "application/vnd.jupyter.widget-view+json": {
       "version_major": 2,
       "version_minor": 0,
       "model_id": "b57efb71835140b98de85a042925c6e8"
      }
     },
     "metadata": {},
     "output_type": "display_data"
    },
    {
     "data": {
      "text/plain": "Fetching 7 files:   0%|          | 0/7 [00:00<?, ?it/s]",
      "application/vnd.jupyter.widget-view+json": {
       "version_major": 2,
       "version_minor": 0,
       "model_id": "953d874b8732434d8461d46daffa16e8"
      }
     },
     "metadata": {},
     "output_type": "display_data"
    },
    {
     "data": {
      "text/plain": "Fetching 7 files:   0%|          | 0/7 [00:00<?, ?it/s]",
      "application/vnd.jupyter.widget-view+json": {
       "version_major": 2,
       "version_minor": 0,
       "model_id": "e61dfa35566f4c03a8c6ff2d199d577f"
      }
     },
     "metadata": {},
     "output_type": "display_data"
    },
    {
     "data": {
      "text/plain": "Fetching 7 files:   0%|          | 0/7 [00:00<?, ?it/s]",
      "application/vnd.jupyter.widget-view+json": {
       "version_major": 2,
       "version_minor": 0,
       "model_id": "f0a24673236747cbbbe5c1baaf740e12"
      }
     },
     "metadata": {},
     "output_type": "display_data"
    },
    {
     "data": {
      "text/plain": "Fetching 7 files:   0%|          | 0/7 [00:00<?, ?it/s]",
      "application/vnd.jupyter.widget-view+json": {
       "version_major": 2,
       "version_minor": 0,
       "model_id": "31c6cf1edaa3469b93c93f6c2534ffff"
      }
     },
     "metadata": {},
     "output_type": "display_data"
    },
    {
     "data": {
      "text/plain": "Fetching 7 files:   0%|          | 0/7 [00:00<?, ?it/s]",
      "application/vnd.jupyter.widget-view+json": {
       "version_major": 2,
       "version_minor": 0,
       "model_id": "6ef55d2037d549f6a59e44e742055cd0"
      }
     },
     "metadata": {},
     "output_type": "display_data"
    },
    {
     "data": {
      "text/plain": "Fetching 7 files:   0%|          | 0/7 [00:00<?, ?it/s]",
      "application/vnd.jupyter.widget-view+json": {
       "version_major": 2,
       "version_minor": 0,
       "model_id": "f0615a9db8b3414784d6d7c44517a70f"
      }
     },
     "metadata": {},
     "output_type": "display_data"
    },
    {
     "data": {
      "text/plain": "Fetching 7 files:   0%|          | 0/7 [00:00<?, ?it/s]",
      "application/vnd.jupyter.widget-view+json": {
       "version_major": 2,
       "version_minor": 0,
       "model_id": "b4277ca0fe3b47bba723b1e4b6150d81"
      }
     },
     "metadata": {},
     "output_type": "display_data"
    },
    {
     "data": {
      "text/plain": "Fetching 7 files:   0%|          | 0/7 [00:00<?, ?it/s]",
      "application/vnd.jupyter.widget-view+json": {
       "version_major": 2,
       "version_minor": 0,
       "model_id": "108a8b90e05742d19aa71c7e5c45a5ac"
      }
     },
     "metadata": {},
     "output_type": "display_data"
    },
    {
     "data": {
      "text/plain": "Fetching 7 files:   0%|          | 0/7 [00:00<?, ?it/s]",
      "application/vnd.jupyter.widget-view+json": {
       "version_major": 2,
       "version_minor": 0,
       "model_id": "f2f4f6a423fe419f847a8ce5c2347aa4"
      }
     },
     "metadata": {},
     "output_type": "display_data"
    },
    {
     "data": {
      "text/plain": "Fetching 7 files:   0%|          | 0/7 [00:00<?, ?it/s]",
      "application/vnd.jupyter.widget-view+json": {
       "version_major": 2,
       "version_minor": 0,
       "model_id": "a1cf969bc3594b11a70d8a61c78305ce"
      }
     },
     "metadata": {},
     "output_type": "display_data"
    },
    {
     "data": {
      "text/plain": "Fetching 7 files:   0%|          | 0/7 [00:00<?, ?it/s]",
      "application/vnd.jupyter.widget-view+json": {
       "version_major": 2,
       "version_minor": 0,
       "model_id": "f5902d23b8964a1b987e2bd7d0e12bee"
      }
     },
     "metadata": {},
     "output_type": "display_data"
    },
    {
     "data": {
      "text/plain": "Fetching 7 files:   0%|          | 0/7 [00:00<?, ?it/s]",
      "application/vnd.jupyter.widget-view+json": {
       "version_major": 2,
       "version_minor": 0,
       "model_id": "8ed895e07b42499286cd37e284133a4c"
      }
     },
     "metadata": {},
     "output_type": "display_data"
    },
    {
     "data": {
      "text/plain": "Fetching 7 files:   0%|          | 0/7 [00:00<?, ?it/s]",
      "application/vnd.jupyter.widget-view+json": {
       "version_major": 2,
       "version_minor": 0,
       "model_id": "8efe540492fb4ea4a237d889657fd451"
      }
     },
     "metadata": {},
     "output_type": "display_data"
    },
    {
     "data": {
      "text/plain": "Fetching 7 files:   0%|          | 0/7 [00:00<?, ?it/s]",
      "application/vnd.jupyter.widget-view+json": {
       "version_major": 2,
       "version_minor": 0,
       "model_id": "715f8254fa854a588d7b2602b74a782a"
      }
     },
     "metadata": {},
     "output_type": "display_data"
    },
    {
     "data": {
      "text/plain": "Fetching 7 files:   0%|          | 0/7 [00:00<?, ?it/s]",
      "application/vnd.jupyter.widget-view+json": {
       "version_major": 2,
       "version_minor": 0,
       "model_id": "11785ef35ec94b9680a9b9df2abcd6ed"
      }
     },
     "metadata": {},
     "output_type": "display_data"
    },
    {
     "data": {
      "text/plain": "Fetching 7 files:   0%|          | 0/7 [00:00<?, ?it/s]",
      "application/vnd.jupyter.widget-view+json": {
       "version_major": 2,
       "version_minor": 0,
       "model_id": "535d7906825a4ad0b0dcb8c1fe19c9e2"
      }
     },
     "metadata": {},
     "output_type": "display_data"
    },
    {
     "data": {
      "text/plain": "Fetching 7 files:   0%|          | 0/7 [00:00<?, ?it/s]",
      "application/vnd.jupyter.widget-view+json": {
       "version_major": 2,
       "version_minor": 0,
       "model_id": "e6fbd96744134de89572df8abe32413a"
      }
     },
     "metadata": {},
     "output_type": "display_data"
    },
    {
     "data": {
      "text/plain": "Fetching 7 files:   0%|          | 0/7 [00:00<?, ?it/s]",
      "application/vnd.jupyter.widget-view+json": {
       "version_major": 2,
       "version_minor": 0,
       "model_id": "b8e4614a993b4863916f58cc5a3afda8"
      }
     },
     "metadata": {},
     "output_type": "display_data"
    },
    {
     "data": {
      "text/plain": "Fetching 7 files:   0%|          | 0/7 [00:00<?, ?it/s]",
      "application/vnd.jupyter.widget-view+json": {
       "version_major": 2,
       "version_minor": 0,
       "model_id": "1701fe94e8e84cbdbfcc9d601b7f08d0"
      }
     },
     "metadata": {},
     "output_type": "display_data"
    },
    {
     "data": {
      "text/plain": "Fetching 7 files:   0%|          | 0/7 [00:00<?, ?it/s]",
      "application/vnd.jupyter.widget-view+json": {
       "version_major": 2,
       "version_minor": 0,
       "model_id": "0c7e68b0d2594585bd46d0086fa37be4"
      }
     },
     "metadata": {},
     "output_type": "display_data"
    },
    {
     "data": {
      "text/plain": "Fetching 7 files:   0%|          | 0/7 [00:00<?, ?it/s]",
      "application/vnd.jupyter.widget-view+json": {
       "version_major": 2,
       "version_minor": 0,
       "model_id": "7a71a83cc8de41be82c6552c4c89ee09"
      }
     },
     "metadata": {},
     "output_type": "display_data"
    },
    {
     "data": {
      "text/plain": "Fetching 7 files:   0%|          | 0/7 [00:00<?, ?it/s]",
      "application/vnd.jupyter.widget-view+json": {
       "version_major": 2,
       "version_minor": 0,
       "model_id": "e47fe4bc12964737b5f72d6155f75642"
      }
     },
     "metadata": {},
     "output_type": "display_data"
    },
    {
     "data": {
      "text/plain": "Fetching 7 files:   0%|          | 0/7 [00:00<?, ?it/s]",
      "application/vnd.jupyter.widget-view+json": {
       "version_major": 2,
       "version_minor": 0,
       "model_id": "13b8caa1ea454ed3a2df3e75e117806e"
      }
     },
     "metadata": {},
     "output_type": "display_data"
    },
    {
     "data": {
      "text/plain": "Fetching 7 files:   0%|          | 0/7 [00:00<?, ?it/s]",
      "application/vnd.jupyter.widget-view+json": {
       "version_major": 2,
       "version_minor": 0,
       "model_id": "0a08cd26b3eb4d4e8e834bd540468ec3"
      }
     },
     "metadata": {},
     "output_type": "display_data"
    },
    {
     "data": {
      "text/plain": "Fetching 7 files:   0%|          | 0/7 [00:00<?, ?it/s]",
      "application/vnd.jupyter.widget-view+json": {
       "version_major": 2,
       "version_minor": 0,
       "model_id": "692314bae65c4db8b8aa3c695196e193"
      }
     },
     "metadata": {},
     "output_type": "display_data"
    },
    {
     "data": {
      "text/plain": "Fetching 7 files:   0%|          | 0/7 [00:00<?, ?it/s]",
      "application/vnd.jupyter.widget-view+json": {
       "version_major": 2,
       "version_minor": 0,
       "model_id": "9e616a663c7b44eaa37284377eb22e00"
      }
     },
     "metadata": {},
     "output_type": "display_data"
    },
    {
     "data": {
      "text/plain": "Fetching 7 files:   0%|          | 0/7 [00:00<?, ?it/s]",
      "application/vnd.jupyter.widget-view+json": {
       "version_major": 2,
       "version_minor": 0,
       "model_id": "ebe0f3d6b91d4b488d8022a4c75e154a"
      }
     },
     "metadata": {},
     "output_type": "display_data"
    },
    {
     "data": {
      "text/plain": "Fetching 7 files:   0%|          | 0/7 [00:00<?, ?it/s]",
      "application/vnd.jupyter.widget-view+json": {
       "version_major": 2,
       "version_minor": 0,
       "model_id": "34b2a9be97484c70855461c17d3958c1"
      }
     },
     "metadata": {},
     "output_type": "display_data"
    },
    {
     "data": {
      "text/plain": "Fetching 7 files:   0%|          | 0/7 [00:00<?, ?it/s]",
      "application/vnd.jupyter.widget-view+json": {
       "version_major": 2,
       "version_minor": 0,
       "model_id": "4934308581af459fb8cd25d3f4baf03e"
      }
     },
     "metadata": {},
     "output_type": "display_data"
    },
    {
     "data": {
      "text/plain": "Fetching 7 files:   0%|          | 0/7 [00:00<?, ?it/s]",
      "application/vnd.jupyter.widget-view+json": {
       "version_major": 2,
       "version_minor": 0,
       "model_id": "313749940bcf4002a3fc625212f1eaa9"
      }
     },
     "metadata": {},
     "output_type": "display_data"
    },
    {
     "data": {
      "text/plain": "Fetching 7 files:   0%|          | 0/7 [00:00<?, ?it/s]",
      "application/vnd.jupyter.widget-view+json": {
       "version_major": 2,
       "version_minor": 0,
       "model_id": "1fd56fcf1cba4ee18e5decd799be8cac"
      }
     },
     "metadata": {},
     "output_type": "display_data"
    },
    {
     "data": {
      "text/plain": "Fetching 7 files:   0%|          | 0/7 [00:00<?, ?it/s]",
      "application/vnd.jupyter.widget-view+json": {
       "version_major": 2,
       "version_minor": 0,
       "model_id": "aeeccad49e8f44858fcaac1ccdc5f5a8"
      }
     },
     "metadata": {},
     "output_type": "display_data"
    },
    {
     "data": {
      "text/plain": "Fetching 7 files:   0%|          | 0/7 [00:00<?, ?it/s]",
      "application/vnd.jupyter.widget-view+json": {
       "version_major": 2,
       "version_minor": 0,
       "model_id": "421d6702e13447d392c1e76178422f51"
      }
     },
     "metadata": {},
     "output_type": "display_data"
    },
    {
     "data": {
      "text/plain": "Fetching 7 files:   0%|          | 0/7 [00:00<?, ?it/s]",
      "application/vnd.jupyter.widget-view+json": {
       "version_major": 2,
       "version_minor": 0,
       "model_id": "578efccece8d493396fc44c4f7207ae0"
      }
     },
     "metadata": {},
     "output_type": "display_data"
    },
    {
     "data": {
      "text/plain": "Fetching 7 files:   0%|          | 0/7 [00:00<?, ?it/s]",
      "application/vnd.jupyter.widget-view+json": {
       "version_major": 2,
       "version_minor": 0,
       "model_id": "7ea2f4a64c1c41738b22c98f1f224b68"
      }
     },
     "metadata": {},
     "output_type": "display_data"
    },
    {
     "data": {
      "text/plain": "Fetching 7 files:   0%|          | 0/7 [00:00<?, ?it/s]",
      "application/vnd.jupyter.widget-view+json": {
       "version_major": 2,
       "version_minor": 0,
       "model_id": "8580598cb41e4c2a9566dacfb978b5a2"
      }
     },
     "metadata": {},
     "output_type": "display_data"
    },
    {
     "data": {
      "text/plain": "Fetching 7 files:   0%|          | 0/7 [00:00<?, ?it/s]",
      "application/vnd.jupyter.widget-view+json": {
       "version_major": 2,
       "version_minor": 0,
       "model_id": "a318e37b4ea4462ea5fa1d319cc69a9d"
      }
     },
     "metadata": {},
     "output_type": "display_data"
    },
    {
     "data": {
      "text/plain": "Fetching 7 files:   0%|          | 0/7 [00:00<?, ?it/s]",
      "application/vnd.jupyter.widget-view+json": {
       "version_major": 2,
       "version_minor": 0,
       "model_id": "b1ebbfe561824c6989d51cbed5c33aba"
      }
     },
     "metadata": {},
     "output_type": "display_data"
    },
    {
     "data": {
      "text/plain": "Fetching 7 files:   0%|          | 0/7 [00:00<?, ?it/s]",
      "application/vnd.jupyter.widget-view+json": {
       "version_major": 2,
       "version_minor": 0,
       "model_id": "54a93066815b4a3cae1beb9d9a40f843"
      }
     },
     "metadata": {},
     "output_type": "display_data"
    },
    {
     "data": {
      "text/plain": "Fetching 7 files:   0%|          | 0/7 [00:00<?, ?it/s]",
      "application/vnd.jupyter.widget-view+json": {
       "version_major": 2,
       "version_minor": 0,
       "model_id": "62d25eaf50834207acb7283751bdcd59"
      }
     },
     "metadata": {},
     "output_type": "display_data"
    },
    {
     "data": {
      "text/plain": "Fetching 7 files:   0%|          | 0/7 [00:00<?, ?it/s]",
      "application/vnd.jupyter.widget-view+json": {
       "version_major": 2,
       "version_minor": 0,
       "model_id": "f9c5a80826fe4a128cc55bb94079a217"
      }
     },
     "metadata": {},
     "output_type": "display_data"
    },
    {
     "data": {
      "text/plain": "Fetching 7 files:   0%|          | 0/7 [00:00<?, ?it/s]",
      "application/vnd.jupyter.widget-view+json": {
       "version_major": 2,
       "version_minor": 0,
       "model_id": "f5f40e5d61eb424eb66fe2ad98083a64"
      }
     },
     "metadata": {},
     "output_type": "display_data"
    },
    {
     "data": {
      "text/plain": "Fetching 7 files:   0%|          | 0/7 [00:00<?, ?it/s]",
      "application/vnd.jupyter.widget-view+json": {
       "version_major": 2,
       "version_minor": 0,
       "model_id": "9c3069238c824be2b92c02972be241f4"
      }
     },
     "metadata": {},
     "output_type": "display_data"
    },
    {
     "data": {
      "text/plain": "Fetching 7 files:   0%|          | 0/7 [00:00<?, ?it/s]",
      "application/vnd.jupyter.widget-view+json": {
       "version_major": 2,
       "version_minor": 0,
       "model_id": "ec0a49f0e406461a8bd6eb0a2297867f"
      }
     },
     "metadata": {},
     "output_type": "display_data"
    },
    {
     "data": {
      "text/plain": "Fetching 7 files:   0%|          | 0/7 [00:00<?, ?it/s]",
      "application/vnd.jupyter.widget-view+json": {
       "version_major": 2,
       "version_minor": 0,
       "model_id": "97dd7734db54408380109b04316a66f3"
      }
     },
     "metadata": {},
     "output_type": "display_data"
    },
    {
     "data": {
      "text/plain": "Fetching 7 files:   0%|          | 0/7 [00:00<?, ?it/s]",
      "application/vnd.jupyter.widget-view+json": {
       "version_major": 2,
       "version_minor": 0,
       "model_id": "8508383de18c43eeb88e0fb65f2ff515"
      }
     },
     "metadata": {},
     "output_type": "display_data"
    },
    {
     "data": {
      "text/plain": "Fetching 7 files:   0%|          | 0/7 [00:00<?, ?it/s]",
      "application/vnd.jupyter.widget-view+json": {
       "version_major": 2,
       "version_minor": 0,
       "model_id": "56dfa6c303544f1fbf0ed8a62597b226"
      }
     },
     "metadata": {},
     "output_type": "display_data"
    },
    {
     "data": {
      "text/plain": "Fetching 7 files:   0%|          | 0/7 [00:00<?, ?it/s]",
      "application/vnd.jupyter.widget-view+json": {
       "version_major": 2,
       "version_minor": 0,
       "model_id": "0f3d2a89f1c2475b8ae5c550a220f374"
      }
     },
     "metadata": {},
     "output_type": "display_data"
    },
    {
     "data": {
      "text/plain": "Fetching 7 files:   0%|          | 0/7 [00:00<?, ?it/s]",
      "application/vnd.jupyter.widget-view+json": {
       "version_major": 2,
       "version_minor": 0,
       "model_id": "28fc458c341f4188b69b8a3607136ed0"
      }
     },
     "metadata": {},
     "output_type": "display_data"
    },
    {
     "data": {
      "text/plain": "Fetching 7 files:   0%|          | 0/7 [00:00<?, ?it/s]",
      "application/vnd.jupyter.widget-view+json": {
       "version_major": 2,
       "version_minor": 0,
       "model_id": "bc2d1ce4f04f411d8661461b030007ed"
      }
     },
     "metadata": {},
     "output_type": "display_data"
    },
    {
     "data": {
      "text/plain": "Fetching 7 files:   0%|          | 0/7 [00:00<?, ?it/s]",
      "application/vnd.jupyter.widget-view+json": {
       "version_major": 2,
       "version_minor": 0,
       "model_id": "679ae0fe9f054a508cfb1dc918d181e5"
      }
     },
     "metadata": {},
     "output_type": "display_data"
    },
    {
     "data": {
      "text/plain": "Fetching 7 files:   0%|          | 0/7 [00:00<?, ?it/s]",
      "application/vnd.jupyter.widget-view+json": {
       "version_major": 2,
       "version_minor": 0,
       "model_id": "5cc3794273414fb5800abccc5cd6e084"
      }
     },
     "metadata": {},
     "output_type": "display_data"
    },
    {
     "data": {
      "text/plain": "Fetching 7 files:   0%|          | 0/7 [00:00<?, ?it/s]",
      "application/vnd.jupyter.widget-view+json": {
       "version_major": 2,
       "version_minor": 0,
       "model_id": "2f0a76ae4d07463e9e7e779b17048a58"
      }
     },
     "metadata": {},
     "output_type": "display_data"
    },
    {
     "data": {
      "text/plain": "Fetching 7 files:   0%|          | 0/7 [00:00<?, ?it/s]",
      "application/vnd.jupyter.widget-view+json": {
       "version_major": 2,
       "version_minor": 0,
       "model_id": "d3521f5cc7934953b1bea13ef0fb75b3"
      }
     },
     "metadata": {},
     "output_type": "display_data"
    },
    {
     "data": {
      "text/plain": "Fetching 7 files:   0%|          | 0/7 [00:00<?, ?it/s]",
      "application/vnd.jupyter.widget-view+json": {
       "version_major": 2,
       "version_minor": 0,
       "model_id": "f47c105b3f4f4e42889b6ae39bc8d4a4"
      }
     },
     "metadata": {},
     "output_type": "display_data"
    },
    {
     "data": {
      "text/plain": "Fetching 7 files:   0%|          | 0/7 [00:00<?, ?it/s]",
      "application/vnd.jupyter.widget-view+json": {
       "version_major": 2,
       "version_minor": 0,
       "model_id": "baeb4e8041ac4412904a3fe711d3bb70"
      }
     },
     "metadata": {},
     "output_type": "display_data"
    },
    {
     "data": {
      "text/plain": "Fetching 7 files:   0%|          | 0/7 [00:00<?, ?it/s]",
      "application/vnd.jupyter.widget-view+json": {
       "version_major": 2,
       "version_minor": 0,
       "model_id": "f3ce27f699194e1cb9285f658da6751e"
      }
     },
     "metadata": {},
     "output_type": "display_data"
    },
    {
     "data": {
      "text/plain": "Fetching 7 files:   0%|          | 0/7 [00:00<?, ?it/s]",
      "application/vnd.jupyter.widget-view+json": {
       "version_major": 2,
       "version_minor": 0,
       "model_id": "54c37517b432423c84b3d18009b20724"
      }
     },
     "metadata": {},
     "output_type": "display_data"
    },
    {
     "data": {
      "text/plain": "Fetching 7 files:   0%|          | 0/7 [00:00<?, ?it/s]",
      "application/vnd.jupyter.widget-view+json": {
       "version_major": 2,
       "version_minor": 0,
       "model_id": "bd5e4297386c42d188edc8d727da7305"
      }
     },
     "metadata": {},
     "output_type": "display_data"
    },
    {
     "data": {
      "text/plain": "Fetching 7 files:   0%|          | 0/7 [00:00<?, ?it/s]",
      "application/vnd.jupyter.widget-view+json": {
       "version_major": 2,
       "version_minor": 0,
       "model_id": "095c78e7fd214f778dd54113fb3cdc6c"
      }
     },
     "metadata": {},
     "output_type": "display_data"
    },
    {
     "data": {
      "text/plain": "Fetching 7 files:   0%|          | 0/7 [00:00<?, ?it/s]",
      "application/vnd.jupyter.widget-view+json": {
       "version_major": 2,
       "version_minor": 0,
       "model_id": "2d43880e0723469898d7fe03b52931d8"
      }
     },
     "metadata": {},
     "output_type": "display_data"
    },
    {
     "data": {
      "text/plain": "Fetching 7 files:   0%|          | 0/7 [00:00<?, ?it/s]",
      "application/vnd.jupyter.widget-view+json": {
       "version_major": 2,
       "version_minor": 0,
       "model_id": "fec02785a22b4f59a957f37e52804eab"
      }
     },
     "metadata": {},
     "output_type": "display_data"
    },
    {
     "data": {
      "text/plain": "Fetching 7 files:   0%|          | 0/7 [00:00<?, ?it/s]",
      "application/vnd.jupyter.widget-view+json": {
       "version_major": 2,
       "version_minor": 0,
       "model_id": "af158ddd9b974a46973982b2a99f2ddd"
      }
     },
     "metadata": {},
     "output_type": "display_data"
    },
    {
     "data": {
      "text/plain": "Fetching 7 files:   0%|          | 0/7 [00:00<?, ?it/s]",
      "application/vnd.jupyter.widget-view+json": {
       "version_major": 2,
       "version_minor": 0,
       "model_id": "64a651bcb6db4197bb7abb3b63632bfa"
      }
     },
     "metadata": {},
     "output_type": "display_data"
    },
    {
     "data": {
      "text/plain": "Fetching 7 files:   0%|          | 0/7 [00:00<?, ?it/s]",
      "application/vnd.jupyter.widget-view+json": {
       "version_major": 2,
       "version_minor": 0,
       "model_id": "2c7f9090e3ef42b0bf6f6260ea0d1d26"
      }
     },
     "metadata": {},
     "output_type": "display_data"
    },
    {
     "data": {
      "text/plain": "Fetching 7 files:   0%|          | 0/7 [00:00<?, ?it/s]",
      "application/vnd.jupyter.widget-view+json": {
       "version_major": 2,
       "version_minor": 0,
       "model_id": "b73cedfa045544bf9a3386a6ca2056e5"
      }
     },
     "metadata": {},
     "output_type": "display_data"
    },
    {
     "data": {
      "text/plain": "Fetching 7 files:   0%|          | 0/7 [00:00<?, ?it/s]",
      "application/vnd.jupyter.widget-view+json": {
       "version_major": 2,
       "version_minor": 0,
       "model_id": "cc15c99bd9884c149b636ee460d6396e"
      }
     },
     "metadata": {},
     "output_type": "display_data"
    },
    {
     "data": {
      "text/plain": "Fetching 7 files:   0%|          | 0/7 [00:00<?, ?it/s]",
      "application/vnd.jupyter.widget-view+json": {
       "version_major": 2,
       "version_minor": 0,
       "model_id": "092adc04d75946b3a15c5f9510406586"
      }
     },
     "metadata": {},
     "output_type": "display_data"
    },
    {
     "data": {
      "text/plain": "Fetching 7 files:   0%|          | 0/7 [00:00<?, ?it/s]",
      "application/vnd.jupyter.widget-view+json": {
       "version_major": 2,
       "version_minor": 0,
       "model_id": "ac293b03c3344067b4fce7c4565f4083"
      }
     },
     "metadata": {},
     "output_type": "display_data"
    },
    {
     "data": {
      "text/plain": "Fetching 7 files:   0%|          | 0/7 [00:00<?, ?it/s]",
      "application/vnd.jupyter.widget-view+json": {
       "version_major": 2,
       "version_minor": 0,
       "model_id": "8234d19af20742f1a17880eb7f7be194"
      }
     },
     "metadata": {},
     "output_type": "display_data"
    },
    {
     "data": {
      "text/plain": "Fetching 7 files:   0%|          | 0/7 [00:00<?, ?it/s]",
      "application/vnd.jupyter.widget-view+json": {
       "version_major": 2,
       "version_minor": 0,
       "model_id": "17e0342820e8474b848d60c19abf8435"
      }
     },
     "metadata": {},
     "output_type": "display_data"
    },
    {
     "data": {
      "text/plain": "Fetching 7 files:   0%|          | 0/7 [00:00<?, ?it/s]",
      "application/vnd.jupyter.widget-view+json": {
       "version_major": 2,
       "version_minor": 0,
       "model_id": "5b959725a1f34d03b660f42c1f94bd1f"
      }
     },
     "metadata": {},
     "output_type": "display_data"
    },
    {
     "data": {
      "text/plain": "Fetching 7 files:   0%|          | 0/7 [00:00<?, ?it/s]",
      "application/vnd.jupyter.widget-view+json": {
       "version_major": 2,
       "version_minor": 0,
       "model_id": "1916bee25ac44790b5b2aa5fd54e4bc9"
      }
     },
     "metadata": {},
     "output_type": "display_data"
    },
    {
     "data": {
      "text/plain": "Fetching 7 files:   0%|          | 0/7 [00:00<?, ?it/s]",
      "application/vnd.jupyter.widget-view+json": {
       "version_major": 2,
       "version_minor": 0,
       "model_id": "d4c02e47476f4a33bad5b17eb46ffc7d"
      }
     },
     "metadata": {},
     "output_type": "display_data"
    },
    {
     "data": {
      "text/plain": "Fetching 7 files:   0%|          | 0/7 [00:00<?, ?it/s]",
      "application/vnd.jupyter.widget-view+json": {
       "version_major": 2,
       "version_minor": 0,
       "model_id": "29f2e25e58e042ac8cbaa132d84e600b"
      }
     },
     "metadata": {},
     "output_type": "display_data"
    },
    {
     "data": {
      "text/plain": "Fetching 7 files:   0%|          | 0/7 [00:00<?, ?it/s]",
      "application/vnd.jupyter.widget-view+json": {
       "version_major": 2,
       "version_minor": 0,
       "model_id": "fa4fe348c2b7436f904427c33f05983f"
      }
     },
     "metadata": {},
     "output_type": "display_data"
    },
    {
     "data": {
      "text/plain": "Fetching 7 files:   0%|          | 0/7 [00:00<?, ?it/s]",
      "application/vnd.jupyter.widget-view+json": {
       "version_major": 2,
       "version_minor": 0,
       "model_id": "2640a818c43d4b30af9d2d0e25ba570e"
      }
     },
     "metadata": {},
     "output_type": "display_data"
    },
    {
     "data": {
      "text/plain": "Fetching 7 files:   0%|          | 0/7 [00:00<?, ?it/s]",
      "application/vnd.jupyter.widget-view+json": {
       "version_major": 2,
       "version_minor": 0,
       "model_id": "70e329aab275453db6cecb150d817c9f"
      }
     },
     "metadata": {},
     "output_type": "display_data"
    },
    {
     "data": {
      "text/plain": "Fetching 7 files:   0%|          | 0/7 [00:00<?, ?it/s]",
      "application/vnd.jupyter.widget-view+json": {
       "version_major": 2,
       "version_minor": 0,
       "model_id": "34d9e23524fe4e32b6655f0a9349f168"
      }
     },
     "metadata": {},
     "output_type": "display_data"
    },
    {
     "data": {
      "text/plain": "Fetching 7 files:   0%|          | 0/7 [00:00<?, ?it/s]",
      "application/vnd.jupyter.widget-view+json": {
       "version_major": 2,
       "version_minor": 0,
       "model_id": "6a34f4d35dc64d928066554e6edc85e9"
      }
     },
     "metadata": {},
     "output_type": "display_data"
    },
    {
     "data": {
      "text/plain": "Fetching 7 files:   0%|          | 0/7 [00:00<?, ?it/s]",
      "application/vnd.jupyter.widget-view+json": {
       "version_major": 2,
       "version_minor": 0,
       "model_id": "994eef8e949742b7952dcd5fa89f2b8c"
      }
     },
     "metadata": {},
     "output_type": "display_data"
    },
    {
     "data": {
      "text/plain": "Fetching 7 files:   0%|          | 0/7 [00:00<?, ?it/s]",
      "application/vnd.jupyter.widget-view+json": {
       "version_major": 2,
       "version_minor": 0,
       "model_id": "7d66b637def544979ccdfae4d1a1e706"
      }
     },
     "metadata": {},
     "output_type": "display_data"
    },
    {
     "data": {
      "text/plain": "Fetching 7 files:   0%|          | 0/7 [00:00<?, ?it/s]",
      "application/vnd.jupyter.widget-view+json": {
       "version_major": 2,
       "version_minor": 0,
       "model_id": "28e10a2010724fa98ee952ca6de77014"
      }
     },
     "metadata": {},
     "output_type": "display_data"
    },
    {
     "data": {
      "text/plain": "Fetching 7 files:   0%|          | 0/7 [00:00<?, ?it/s]",
      "application/vnd.jupyter.widget-view+json": {
       "version_major": 2,
       "version_minor": 0,
       "model_id": "baf55953b0c543a19d848426c768caf5"
      }
     },
     "metadata": {},
     "output_type": "display_data"
    },
    {
     "data": {
      "text/plain": "Fetching 7 files:   0%|          | 0/7 [00:00<?, ?it/s]",
      "application/vnd.jupyter.widget-view+json": {
       "version_major": 2,
       "version_minor": 0,
       "model_id": "192e463ae34e41818458adf8e15dd260"
      }
     },
     "metadata": {},
     "output_type": "display_data"
    },
    {
     "data": {
      "text/plain": "Fetching 7 files:   0%|          | 0/7 [00:00<?, ?it/s]",
      "application/vnd.jupyter.widget-view+json": {
       "version_major": 2,
       "version_minor": 0,
       "model_id": "684c43dffdce41158dd44e360ca0416c"
      }
     },
     "metadata": {},
     "output_type": "display_data"
    },
    {
     "data": {
      "text/plain": "Fetching 7 files:   0%|          | 0/7 [00:00<?, ?it/s]",
      "application/vnd.jupyter.widget-view+json": {
       "version_major": 2,
       "version_minor": 0,
       "model_id": "92d9d21701774c95b37fb8aaf1f604a1"
      }
     },
     "metadata": {},
     "output_type": "display_data"
    },
    {
     "data": {
      "text/plain": "Fetching 7 files:   0%|          | 0/7 [00:00<?, ?it/s]",
      "application/vnd.jupyter.widget-view+json": {
       "version_major": 2,
       "version_minor": 0,
       "model_id": "e76a702f64e146cab2dc39b99fd90c5f"
      }
     },
     "metadata": {},
     "output_type": "display_data"
    },
    {
     "data": {
      "text/plain": "Fetching 7 files:   0%|          | 0/7 [00:00<?, ?it/s]",
      "application/vnd.jupyter.widget-view+json": {
       "version_major": 2,
       "version_minor": 0,
       "model_id": "054cf30c37f747ebbbb3eda57040342d"
      }
     },
     "metadata": {},
     "output_type": "display_data"
    },
    {
     "data": {
      "text/plain": "Fetching 7 files:   0%|          | 0/7 [00:00<?, ?it/s]",
      "application/vnd.jupyter.widget-view+json": {
       "version_major": 2,
       "version_minor": 0,
       "model_id": "fc4c2c61c59b4e0f9b2d316ea1c3664c"
      }
     },
     "metadata": {},
     "output_type": "display_data"
    },
    {
     "data": {
      "text/plain": "Fetching 7 files:   0%|          | 0/7 [00:00<?, ?it/s]",
      "application/vnd.jupyter.widget-view+json": {
       "version_major": 2,
       "version_minor": 0,
       "model_id": "41bc7dc8a08349e8bf6f23fde258e3ef"
      }
     },
     "metadata": {},
     "output_type": "display_data"
    },
    {
     "data": {
      "text/plain": "Fetching 7 files:   0%|          | 0/7 [00:00<?, ?it/s]",
      "application/vnd.jupyter.widget-view+json": {
       "version_major": 2,
       "version_minor": 0,
       "model_id": "fc50a0cf564b40b3abf643c27c9bfc13"
      }
     },
     "metadata": {},
     "output_type": "display_data"
    },
    {
     "data": {
      "text/plain": "Fetching 7 files:   0%|          | 0/7 [00:00<?, ?it/s]",
      "application/vnd.jupyter.widget-view+json": {
       "version_major": 2,
       "version_minor": 0,
       "model_id": "cf0607fb04ac4969964dfc00a8e3e507"
      }
     },
     "metadata": {},
     "output_type": "display_data"
    },
    {
     "data": {
      "text/plain": "Fetching 7 files:   0%|          | 0/7 [00:00<?, ?it/s]",
      "application/vnd.jupyter.widget-view+json": {
       "version_major": 2,
       "version_minor": 0,
       "model_id": "1855fa8c6a81484c9b2f7529b38ff4f2"
      }
     },
     "metadata": {},
     "output_type": "display_data"
    },
    {
     "data": {
      "text/plain": "Fetching 7 files:   0%|          | 0/7 [00:00<?, ?it/s]",
      "application/vnd.jupyter.widget-view+json": {
       "version_major": 2,
       "version_minor": 0,
       "model_id": "1c1b6cd2568042cabd267f67a1947bad"
      }
     },
     "metadata": {},
     "output_type": "display_data"
    },
    {
     "data": {
      "text/plain": "Fetching 7 files:   0%|          | 0/7 [00:00<?, ?it/s]",
      "application/vnd.jupyter.widget-view+json": {
       "version_major": 2,
       "version_minor": 0,
       "model_id": "36cb484135ad4cf18ab0cb3160d69c67"
      }
     },
     "metadata": {},
     "output_type": "display_data"
    },
    {
     "data": {
      "text/plain": "Fetching 7 files:   0%|          | 0/7 [00:00<?, ?it/s]",
      "application/vnd.jupyter.widget-view+json": {
       "version_major": 2,
       "version_minor": 0,
       "model_id": "89686a888377448d94f874d0a2e5702c"
      }
     },
     "metadata": {},
     "output_type": "display_data"
    },
    {
     "data": {
      "text/plain": "Fetching 7 files:   0%|          | 0/7 [00:00<?, ?it/s]",
      "application/vnd.jupyter.widget-view+json": {
       "version_major": 2,
       "version_minor": 0,
       "model_id": "c57ffe8a0b304ec4bc968567982b6af5"
      }
     },
     "metadata": {},
     "output_type": "display_data"
    },
    {
     "data": {
      "text/plain": "Fetching 7 files:   0%|          | 0/7 [00:00<?, ?it/s]",
      "application/vnd.jupyter.widget-view+json": {
       "version_major": 2,
       "version_minor": 0,
       "model_id": "291a2f534e37429ea164e70291460af9"
      }
     },
     "metadata": {},
     "output_type": "display_data"
    },
    {
     "data": {
      "text/plain": "Fetching 7 files:   0%|          | 0/7 [00:00<?, ?it/s]",
      "application/vnd.jupyter.widget-view+json": {
       "version_major": 2,
       "version_minor": 0,
       "model_id": "8ab1ec3766cf45c49c710f24ff264db1"
      }
     },
     "metadata": {},
     "output_type": "display_data"
    },
    {
     "data": {
      "text/plain": "Fetching 7 files:   0%|          | 0/7 [00:00<?, ?it/s]",
      "application/vnd.jupyter.widget-view+json": {
       "version_major": 2,
       "version_minor": 0,
       "model_id": "ba2d88c8d5444e1b87143eb98dc0f8f3"
      }
     },
     "metadata": {},
     "output_type": "display_data"
    },
    {
     "data": {
      "text/plain": "Fetching 7 files:   0%|          | 0/7 [00:00<?, ?it/s]",
      "application/vnd.jupyter.widget-view+json": {
       "version_major": 2,
       "version_minor": 0,
       "model_id": "dd9d75d5cd2443b0a7ee9b153cc0680d"
      }
     },
     "metadata": {},
     "output_type": "display_data"
    },
    {
     "data": {
      "text/plain": "Fetching 7 files:   0%|          | 0/7 [00:00<?, ?it/s]",
      "application/vnd.jupyter.widget-view+json": {
       "version_major": 2,
       "version_minor": 0,
       "model_id": "6dc2507f62fc4414bc96cbb259e4a41b"
      }
     },
     "metadata": {},
     "output_type": "display_data"
    },
    {
     "data": {
      "text/plain": "Fetching 7 files:   0%|          | 0/7 [00:00<?, ?it/s]",
      "application/vnd.jupyter.widget-view+json": {
       "version_major": 2,
       "version_minor": 0,
       "model_id": "fa465dbd3ee749048ab8a8d7407252f9"
      }
     },
     "metadata": {},
     "output_type": "display_data"
    },
    {
     "data": {
      "text/plain": "Fetching 7 files:   0%|          | 0/7 [00:00<?, ?it/s]",
      "application/vnd.jupyter.widget-view+json": {
       "version_major": 2,
       "version_minor": 0,
       "model_id": "ee7a101c787a461ba9d80617368451ef"
      }
     },
     "metadata": {},
     "output_type": "display_data"
    },
    {
     "data": {
      "text/plain": "Fetching 7 files:   0%|          | 0/7 [00:00<?, ?it/s]",
      "application/vnd.jupyter.widget-view+json": {
       "version_major": 2,
       "version_minor": 0,
       "model_id": "50b3127c1cb1466c83a161ce3de517b5"
      }
     },
     "metadata": {},
     "output_type": "display_data"
    },
    {
     "data": {
      "text/plain": "Fetching 7 files:   0%|          | 0/7 [00:00<?, ?it/s]",
      "application/vnd.jupyter.widget-view+json": {
       "version_major": 2,
       "version_minor": 0,
       "model_id": "f4dfaba1dbcb463aa7410496a2adb6e0"
      }
     },
     "metadata": {},
     "output_type": "display_data"
    },
    {
     "data": {
      "text/plain": "Fetching 7 files:   0%|          | 0/7 [00:00<?, ?it/s]",
      "application/vnd.jupyter.widget-view+json": {
       "version_major": 2,
       "version_minor": 0,
       "model_id": "83370b67517d480ba424400e44c3a514"
      }
     },
     "metadata": {},
     "output_type": "display_data"
    },
    {
     "data": {
      "text/plain": "Fetching 7 files:   0%|          | 0/7 [00:00<?, ?it/s]",
      "application/vnd.jupyter.widget-view+json": {
       "version_major": 2,
       "version_minor": 0,
       "model_id": "78b4f9b003bf40c49817bd073820de12"
      }
     },
     "metadata": {},
     "output_type": "display_data"
    },
    {
     "data": {
      "text/plain": "Fetching 7 files:   0%|          | 0/7 [00:00<?, ?it/s]",
      "application/vnd.jupyter.widget-view+json": {
       "version_major": 2,
       "version_minor": 0,
       "model_id": "7556e2d1e5f04c9fa5eb0d7addf21a1a"
      }
     },
     "metadata": {},
     "output_type": "display_data"
    },
    {
     "data": {
      "text/plain": "Fetching 7 files:   0%|          | 0/7 [00:00<?, ?it/s]",
      "application/vnd.jupyter.widget-view+json": {
       "version_major": 2,
       "version_minor": 0,
       "model_id": "d93d5266b5bf4577ab6c923217aaf9e8"
      }
     },
     "metadata": {},
     "output_type": "display_data"
    },
    {
     "data": {
      "text/plain": "Fetching 7 files:   0%|          | 0/7 [00:00<?, ?it/s]",
      "application/vnd.jupyter.widget-view+json": {
       "version_major": 2,
       "version_minor": 0,
       "model_id": "e860c7136180415f9663e5c07cf732c8"
      }
     },
     "metadata": {},
     "output_type": "display_data"
    },
    {
     "data": {
      "text/plain": "Fetching 7 files:   0%|          | 0/7 [00:00<?, ?it/s]",
      "application/vnd.jupyter.widget-view+json": {
       "version_major": 2,
       "version_minor": 0,
       "model_id": "5cd061a03c204e27b7ffacb7a14c5ae4"
      }
     },
     "metadata": {},
     "output_type": "display_data"
    },
    {
     "data": {
      "text/plain": "Fetching 7 files:   0%|          | 0/7 [00:00<?, ?it/s]",
      "application/vnd.jupyter.widget-view+json": {
       "version_major": 2,
       "version_minor": 0,
       "model_id": "7033e38098534be68854b31e66761208"
      }
     },
     "metadata": {},
     "output_type": "display_data"
    },
    {
     "data": {
      "text/plain": "Fetching 7 files:   0%|          | 0/7 [00:00<?, ?it/s]",
      "application/vnd.jupyter.widget-view+json": {
       "version_major": 2,
       "version_minor": 0,
       "model_id": "e42910442bf74e92800a5313c91d984b"
      }
     },
     "metadata": {},
     "output_type": "display_data"
    },
    {
     "data": {
      "text/plain": "Fetching 7 files:   0%|          | 0/7 [00:00<?, ?it/s]",
      "application/vnd.jupyter.widget-view+json": {
       "version_major": 2,
       "version_minor": 0,
       "model_id": "0c0ab76f34084222a4bde46ed5b21524"
      }
     },
     "metadata": {},
     "output_type": "display_data"
    },
    {
     "data": {
      "text/plain": "Fetching 7 files:   0%|          | 0/7 [00:00<?, ?it/s]",
      "application/vnd.jupyter.widget-view+json": {
       "version_major": 2,
       "version_minor": 0,
       "model_id": "c1eec5aca5a742319cb230044b9b15c3"
      }
     },
     "metadata": {},
     "output_type": "display_data"
    },
    {
     "data": {
      "text/plain": "Fetching 7 files:   0%|          | 0/7 [00:00<?, ?it/s]",
      "application/vnd.jupyter.widget-view+json": {
       "version_major": 2,
       "version_minor": 0,
       "model_id": "26ace1c4df6e46828530481b6f9d1c52"
      }
     },
     "metadata": {},
     "output_type": "display_data"
    },
    {
     "data": {
      "text/plain": "Fetching 7 files:   0%|          | 0/7 [00:00<?, ?it/s]",
      "application/vnd.jupyter.widget-view+json": {
       "version_major": 2,
       "version_minor": 0,
       "model_id": "67ccb3707de84c77a6280ef92087e47b"
      }
     },
     "metadata": {},
     "output_type": "display_data"
    },
    {
     "data": {
      "text/plain": "Fetching 7 files:   0%|          | 0/7 [00:00<?, ?it/s]",
      "application/vnd.jupyter.widget-view+json": {
       "version_major": 2,
       "version_minor": 0,
       "model_id": "8162d234be5b4390a3929912cb4f4004"
      }
     },
     "metadata": {},
     "output_type": "display_data"
    },
    {
     "data": {
      "text/plain": "Fetching 7 files:   0%|          | 0/7 [00:00<?, ?it/s]",
      "application/vnd.jupyter.widget-view+json": {
       "version_major": 2,
       "version_minor": 0,
       "model_id": "2fc3e5c92ade47f6a16965e57e316ae5"
      }
     },
     "metadata": {},
     "output_type": "display_data"
    },
    {
     "data": {
      "text/plain": "Fetching 7 files:   0%|          | 0/7 [00:00<?, ?it/s]",
      "application/vnd.jupyter.widget-view+json": {
       "version_major": 2,
       "version_minor": 0,
       "model_id": "d5a483dabd514e079ecd37661b5cadcb"
      }
     },
     "metadata": {},
     "output_type": "display_data"
    },
    {
     "data": {
      "text/plain": "Fetching 7 files:   0%|          | 0/7 [00:00<?, ?it/s]",
      "application/vnd.jupyter.widget-view+json": {
       "version_major": 2,
       "version_minor": 0,
       "model_id": "0009cf09a8b548419fcc49a7b982bb09"
      }
     },
     "metadata": {},
     "output_type": "display_data"
    },
    {
     "data": {
      "text/plain": "Fetching 7 files:   0%|          | 0/7 [00:00<?, ?it/s]",
      "application/vnd.jupyter.widget-view+json": {
       "version_major": 2,
       "version_minor": 0,
       "model_id": "7cd9909953824253a2bacef1b682f386"
      }
     },
     "metadata": {},
     "output_type": "display_data"
    },
    {
     "data": {
      "text/plain": "Fetching 7 files:   0%|          | 0/7 [00:00<?, ?it/s]",
      "application/vnd.jupyter.widget-view+json": {
       "version_major": 2,
       "version_minor": 0,
       "model_id": "9e02d3e3eaae4005bdcf8a63bec39599"
      }
     },
     "metadata": {},
     "output_type": "display_data"
    },
    {
     "data": {
      "text/plain": "Fetching 7 files:   0%|          | 0/7 [00:00<?, ?it/s]",
      "application/vnd.jupyter.widget-view+json": {
       "version_major": 2,
       "version_minor": 0,
       "model_id": "6f033f35e6074a5b8c42815aadeb7740"
      }
     },
     "metadata": {},
     "output_type": "display_data"
    },
    {
     "data": {
      "text/plain": "Fetching 7 files:   0%|          | 0/7 [00:00<?, ?it/s]",
      "application/vnd.jupyter.widget-view+json": {
       "version_major": 2,
       "version_minor": 0,
       "model_id": "990bf608b16d4e15a1f15391e8a17d0c"
      }
     },
     "metadata": {},
     "output_type": "display_data"
    },
    {
     "data": {
      "text/plain": "Fetching 7 files:   0%|          | 0/7 [00:00<?, ?it/s]",
      "application/vnd.jupyter.widget-view+json": {
       "version_major": 2,
       "version_minor": 0,
       "model_id": "55ffef8071d248908c2ae2adc7e63702"
      }
     },
     "metadata": {},
     "output_type": "display_data"
    },
    {
     "data": {
      "text/plain": "Fetching 7 files:   0%|          | 0/7 [00:00<?, ?it/s]",
      "application/vnd.jupyter.widget-view+json": {
       "version_major": 2,
       "version_minor": 0,
       "model_id": "85aea7bfca9b4c729646ac550f50510c"
      }
     },
     "metadata": {},
     "output_type": "display_data"
    },
    {
     "data": {
      "text/plain": "Fetching 7 files:   0%|          | 0/7 [00:00<?, ?it/s]",
      "application/vnd.jupyter.widget-view+json": {
       "version_major": 2,
       "version_minor": 0,
       "model_id": "d0cad9f5dbb6464fa5c9b0d03c6e46f8"
      }
     },
     "metadata": {},
     "output_type": "display_data"
    },
    {
     "data": {
      "text/plain": "Fetching 7 files:   0%|          | 0/7 [00:00<?, ?it/s]",
      "application/vnd.jupyter.widget-view+json": {
       "version_major": 2,
       "version_minor": 0,
       "model_id": "e9af7cd463f34e36b24ee564826eae78"
      }
     },
     "metadata": {},
     "output_type": "display_data"
    },
    {
     "data": {
      "text/plain": "Fetching 7 files:   0%|          | 0/7 [00:00<?, ?it/s]",
      "application/vnd.jupyter.widget-view+json": {
       "version_major": 2,
       "version_minor": 0,
       "model_id": "ee3bb6e8d35b4007b586bd80afeb9bdc"
      }
     },
     "metadata": {},
     "output_type": "display_data"
    },
    {
     "data": {
      "text/plain": "Fetching 7 files:   0%|          | 0/7 [00:00<?, ?it/s]",
      "application/vnd.jupyter.widget-view+json": {
       "version_major": 2,
       "version_minor": 0,
       "model_id": "f9ee55fec41a4ff7a3c387d79cd3012a"
      }
     },
     "metadata": {},
     "output_type": "display_data"
    },
    {
     "data": {
      "text/plain": "Fetching 7 files:   0%|          | 0/7 [00:00<?, ?it/s]",
      "application/vnd.jupyter.widget-view+json": {
       "version_major": 2,
       "version_minor": 0,
       "model_id": "99c96d9d67c142a9ac82589c0dc66469"
      }
     },
     "metadata": {},
     "output_type": "display_data"
    },
    {
     "data": {
      "text/plain": "Fetching 7 files:   0%|          | 0/7 [00:00<?, ?it/s]",
      "application/vnd.jupyter.widget-view+json": {
       "version_major": 2,
       "version_minor": 0,
       "model_id": "60ccc0c391ed4518abfab50f999b2b23"
      }
     },
     "metadata": {},
     "output_type": "display_data"
    },
    {
     "data": {
      "text/plain": "Fetching 7 files:   0%|          | 0/7 [00:00<?, ?it/s]",
      "application/vnd.jupyter.widget-view+json": {
       "version_major": 2,
       "version_minor": 0,
       "model_id": "51474470c0e542b79bad56d14d6ba4dc"
      }
     },
     "metadata": {},
     "output_type": "display_data"
    },
    {
     "data": {
      "text/plain": "Fetching 7 files:   0%|          | 0/7 [00:00<?, ?it/s]",
      "application/vnd.jupyter.widget-view+json": {
       "version_major": 2,
       "version_minor": 0,
       "model_id": "8de705cbbd0a46488cbedbb274201fe3"
      }
     },
     "metadata": {},
     "output_type": "display_data"
    },
    {
     "data": {
      "text/plain": "Fetching 7 files:   0%|          | 0/7 [00:00<?, ?it/s]",
      "application/vnd.jupyter.widget-view+json": {
       "version_major": 2,
       "version_minor": 0,
       "model_id": "d86261ae883e465cb9edf335c0d70f7d"
      }
     },
     "metadata": {},
     "output_type": "display_data"
    },
    {
     "data": {
      "text/plain": "Fetching 7 files:   0%|          | 0/7 [00:00<?, ?it/s]",
      "application/vnd.jupyter.widget-view+json": {
       "version_major": 2,
       "version_minor": 0,
       "model_id": "6976626e2a2c4f859d6e7475fc5d4b6a"
      }
     },
     "metadata": {},
     "output_type": "display_data"
    },
    {
     "data": {
      "text/plain": "Fetching 7 files:   0%|          | 0/7 [00:00<?, ?it/s]",
      "application/vnd.jupyter.widget-view+json": {
       "version_major": 2,
       "version_minor": 0,
       "model_id": "6d59b7b190514eae8540272e480d3c8c"
      }
     },
     "metadata": {},
     "output_type": "display_data"
    },
    {
     "data": {
      "text/plain": "Fetching 7 files:   0%|          | 0/7 [00:00<?, ?it/s]",
      "application/vnd.jupyter.widget-view+json": {
       "version_major": 2,
       "version_minor": 0,
       "model_id": "af6745f4848b4dff81aff1b65f62a56c"
      }
     },
     "metadata": {},
     "output_type": "display_data"
    },
    {
     "data": {
      "text/plain": "Fetching 7 files:   0%|          | 0/7 [00:00<?, ?it/s]",
      "application/vnd.jupyter.widget-view+json": {
       "version_major": 2,
       "version_minor": 0,
       "model_id": "2ba5d89dd12645518c6cef36ffd35d49"
      }
     },
     "metadata": {},
     "output_type": "display_data"
    },
    {
     "data": {
      "text/plain": "Fetching 7 files:   0%|          | 0/7 [00:00<?, ?it/s]",
      "application/vnd.jupyter.widget-view+json": {
       "version_major": 2,
       "version_minor": 0,
       "model_id": "586e861ea84b4c50b04ddeba88825d28"
      }
     },
     "metadata": {},
     "output_type": "display_data"
    },
    {
     "data": {
      "text/plain": "Fetching 7 files:   0%|          | 0/7 [00:00<?, ?it/s]",
      "application/vnd.jupyter.widget-view+json": {
       "version_major": 2,
       "version_minor": 0,
       "model_id": "459757fe265e43bcae1e1585d7ca76a5"
      }
     },
     "metadata": {},
     "output_type": "display_data"
    },
    {
     "data": {
      "text/plain": "Fetching 7 files:   0%|          | 0/7 [00:00<?, ?it/s]",
      "application/vnd.jupyter.widget-view+json": {
       "version_major": 2,
       "version_minor": 0,
       "model_id": "960f8a4169a5439a89773522557e3e37"
      }
     },
     "metadata": {},
     "output_type": "display_data"
    },
    {
     "data": {
      "text/plain": "Fetching 7 files:   0%|          | 0/7 [00:00<?, ?it/s]",
      "application/vnd.jupyter.widget-view+json": {
       "version_major": 2,
       "version_minor": 0,
       "model_id": "3d91ed6acf68433180bdb8b2296f27d5"
      }
     },
     "metadata": {},
     "output_type": "display_data"
    },
    {
     "data": {
      "text/plain": "Fetching 7 files:   0%|          | 0/7 [00:00<?, ?it/s]",
      "application/vnd.jupyter.widget-view+json": {
       "version_major": 2,
       "version_minor": 0,
       "model_id": "54dfd832ff1d410d82fae207942594f1"
      }
     },
     "metadata": {},
     "output_type": "display_data"
    },
    {
     "data": {
      "text/plain": "Fetching 7 files:   0%|          | 0/7 [00:00<?, ?it/s]",
      "application/vnd.jupyter.widget-view+json": {
       "version_major": 2,
       "version_minor": 0,
       "model_id": "cd110f1d7aee4e0abf3ffa96281a60c5"
      }
     },
     "metadata": {},
     "output_type": "display_data"
    },
    {
     "data": {
      "text/plain": "Fetching 7 files:   0%|          | 0/7 [00:00<?, ?it/s]",
      "application/vnd.jupyter.widget-view+json": {
       "version_major": 2,
       "version_minor": 0,
       "model_id": "ab589e19e6b84317b6b6da3c2d5f5940"
      }
     },
     "metadata": {},
     "output_type": "display_data"
    },
    {
     "data": {
      "text/plain": "Fetching 7 files:   0%|          | 0/7 [00:00<?, ?it/s]",
      "application/vnd.jupyter.widget-view+json": {
       "version_major": 2,
       "version_minor": 0,
       "model_id": "4565ff31863145d3ae172dfa7383c106"
      }
     },
     "metadata": {},
     "output_type": "display_data"
    },
    {
     "data": {
      "text/plain": "Fetching 7 files:   0%|          | 0/7 [00:00<?, ?it/s]",
      "application/vnd.jupyter.widget-view+json": {
       "version_major": 2,
       "version_minor": 0,
       "model_id": "d5458216a7244b0dbef5eb1855b99cb2"
      }
     },
     "metadata": {},
     "output_type": "display_data"
    },
    {
     "data": {
      "text/plain": "Fetching 7 files:   0%|          | 0/7 [00:00<?, ?it/s]",
      "application/vnd.jupyter.widget-view+json": {
       "version_major": 2,
       "version_minor": 0,
       "model_id": "0e2daab287b94939b9129419045b0f26"
      }
     },
     "metadata": {},
     "output_type": "display_data"
    },
    {
     "data": {
      "text/plain": "Fetching 7 files:   0%|          | 0/7 [00:00<?, ?it/s]",
      "application/vnd.jupyter.widget-view+json": {
       "version_major": 2,
       "version_minor": 0,
       "model_id": "4bf507d9c18f485b9aa1cb7240d93569"
      }
     },
     "metadata": {},
     "output_type": "display_data"
    },
    {
     "data": {
      "text/plain": "Fetching 7 files:   0%|          | 0/7 [00:00<?, ?it/s]",
      "application/vnd.jupyter.widget-view+json": {
       "version_major": 2,
       "version_minor": 0,
       "model_id": "5b5169dc20d8456fb4427001843b44b9"
      }
     },
     "metadata": {},
     "output_type": "display_data"
    },
    {
     "data": {
      "text/plain": "Fetching 7 files:   0%|          | 0/7 [00:00<?, ?it/s]",
      "application/vnd.jupyter.widget-view+json": {
       "version_major": 2,
       "version_minor": 0,
       "model_id": "087edafd88a34e1fb4e424a29fde38be"
      }
     },
     "metadata": {},
     "output_type": "display_data"
    },
    {
     "data": {
      "text/plain": "Fetching 7 files:   0%|          | 0/7 [00:00<?, ?it/s]",
      "application/vnd.jupyter.widget-view+json": {
       "version_major": 2,
       "version_minor": 0,
       "model_id": "485480aedd2e47c1b346d877c8943581"
      }
     },
     "metadata": {},
     "output_type": "display_data"
    },
    {
     "data": {
      "text/plain": "Fetching 7 files:   0%|          | 0/7 [00:00<?, ?it/s]",
      "application/vnd.jupyter.widget-view+json": {
       "version_major": 2,
       "version_minor": 0,
       "model_id": "1b2c06b8d4df458ab4b346b2d4ae1629"
      }
     },
     "metadata": {},
     "output_type": "display_data"
    },
    {
     "data": {
      "text/plain": "Fetching 7 files:   0%|          | 0/7 [00:00<?, ?it/s]",
      "application/vnd.jupyter.widget-view+json": {
       "version_major": 2,
       "version_minor": 0,
       "model_id": "b8f2f09c5f4f4bed9af571cddcd04923"
      }
     },
     "metadata": {},
     "output_type": "display_data"
    },
    {
     "data": {
      "text/plain": "Fetching 7 files:   0%|          | 0/7 [00:00<?, ?it/s]",
      "application/vnd.jupyter.widget-view+json": {
       "version_major": 2,
       "version_minor": 0,
       "model_id": "0a65ff62d1bc40c592b6acaa207bbbff"
      }
     },
     "metadata": {},
     "output_type": "display_data"
    },
    {
     "data": {
      "text/plain": "Fetching 7 files:   0%|          | 0/7 [00:00<?, ?it/s]",
      "application/vnd.jupyter.widget-view+json": {
       "version_major": 2,
       "version_minor": 0,
       "model_id": "09cfdbc023bd4f869c4e0d52641f8a80"
      }
     },
     "metadata": {},
     "output_type": "display_data"
    }
   ],
   "source": [
    "from os import path\n",
    "import cognee\n",
    "\n",
    "\n",
    "dataset_name = \"explanations\"\n",
    "await cognee.add([path.abspath(\"../.test_data/Natural language processing.txt\")], dataset_name)\n",
    "\n",
    "\n",
    "dataset_name = \"short_stories\"\n",
    "# data_directory_path is defined above\n",
    "await cognee.add(\"data://\" + data_directory_path, dataset_name)\n",
    "\n",
    "text_1 = \"\"\"A quantum computer is a computer that takes advantage of quantum mechanical phenomena.\n",
    "At small scales, physical matter exhibits properties of both particles and waves, and quantum computing leverages this behavior, specifically quantum superposition and entanglement, using specialized hardware that supports the preparation and manipulation of quantum states.\n",
    "Classical physics cannot explain the operation of these quantum devices, and a scalable quantum computer could perform some calculations exponentially faster (with respect to input size scaling) than any modern \"classical\" computer. In particular, a large-scale quantum computer could break widely used encryption schemes and aid physicists in performing physical simulations; however, the current state of the technology is largely experimental and impractical, with several obstacles to useful applications. Moreover, scalable quantum computers do not hold promise for many practical tasks, and for many important tasks quantum speedups are proven impossible.\n",
    "The basic unit of information in quantum computing is the qubit, similar to the bit in traditional digital electronics. Unlike a classical bit, a qubit can exist in a superposition of its two \"basis\" states. When measuring a qubit, the result is a probabilistic output of a classical bit, therefore making quantum computers nondeterministic in general. If a quantum computer manipulates the qubit in a particular way, wave interference effects can amplify the desired measurement results. The design of quantum algorithms involves creating procedures that allow a quantum computer to perform calculations efficiently and quickly.\n",
    "Physically engineering high-quality qubits has proven challenging. If a physical qubit is not sufficiently isolated from its environment, it suffers from quantum decoherence, introducing noise into calculations. Paradoxically, perfectly isolating qubits is also undesirable because quantum computations typically need to initialize qubits, perform controlled qubit interactions, and measure the resulting quantum states. Each of those operations introduces errors and suffers from noise, and such inaccuracies accumulate.\n",
    "In principle, a non-quantum (classical) computer can solve the same computational problems as a quantum computer, given enough time. Quantum advantage comes in the form of time complexity rather than computability, and quantum complexity theory shows that some quantum algorithms for carefully selected tasks require exponentially fewer computational steps than the best known non-quantum algorithms. Such tasks can in theory be solved on a large-scale quantum computer whereas classical computers would not finish computations in any reasonable amount of time. However, quantum speedup is not universal or even typical across computational tasks, since basic tasks such as sorting are proven to not allow any asymptotic quantum speedup. Claims of quantum supremacy have drawn significant attention to the discipline, but are demonstrated on contrived tasks, while near-term practical use cases remain limited.\n",
    "\"\"\"\n",
    "\n",
    "text_2 = \"\"\"A large language model (LLM) is a language model notable for its ability to achieve general-purpose language generation and other natural language processing tasks such as classification. LLMs acquire these abilities by learning statistical relationships from text documents during a computationally intensive self-supervised and semi-supervised training process. LLMs can be used for text generation, a form of generative AI, by taking an input text and repeatedly predicting the next token or word.\n",
    "LLMs are artificial neural networks. The largest and most capable, as of March 2024, are built with a decoder-only transformer-based architecture while some recent implementations are based on other architectures, such as recurrent neural network variants and Mamba (a state space model).\n",
    "Up to 2020, fine tuning was the only way a model could be adapted to be able to accomplish specific tasks. Larger sized models, such as GPT-3, however, can be prompt-engineered to achieve similar results.[6] They are thought to acquire knowledge about syntax, semantics and \"ontology\" inherent in human language corpora, but also inaccuracies and biases present in the corpora.\n",
    "Some notable LLMs are OpenAI's GPT series of models (e.g., GPT-3.5 and GPT-4, used in ChatGPT and Microsoft Copilot), Google's PaLM and Gemini (the latter of which is currently used in the chatbot of the same name), xAI's Grok, Meta's LLaMA family of open-source models, Anthropic's Claude models, Mistral AI's open source models, and Databricks' open source DBRX.\n",
    "\"\"\"\n",
    "\n",
    "dataset_name = \"explanations\"\n",
    "await cognee.add(\n",
    "    [\n",
    "        text_1,\n",
    "        text_2\n",
    "    ],\n",
    "    dataset_name\n",
    ")\n",
    "\n",
    "graph = await cognee.cognify(dataset_name)\n"
   ]
  },
  {
   "cell_type": "code",
   "execution_count": null,
   "id": "44603a2a",
   "metadata": {},
   "outputs": [],
   "source": [
    "import cognee\n",
    "\n",
    "print(cognee.datasets.list_datasets())\n",
    "\n",
    "explanations = cognee.datasets.query_data('explanations')\n",
    "print(len(explanations), explanations)\n",
    "\n",
    "stories = cognee.datasets.query_data('short_stories')\n",
    "print(len(stories), stories)"
   ]
  },
  {
   "cell_type": "code",
   "execution_count": null,
   "id": "a81b2bce",
   "metadata": {},
   "outputs": [],
   "source": [
    "from cognee.utils import render_graph\n",
    "\n",
    "await render_graph(graph)"
   ]
  }
 ],
 "metadata": {
  "kernelspec": {
   "display_name": "Python 3 (ipykernel)",
   "language": "python",
   "name": "python3"
  },
  "language_info": {
   "codemirror_mode": {
    "name": "ipython",
    "version": 3
   },
   "file_extension": ".py",
   "mimetype": "text/x-python",
   "name": "python",
   "nbconvert_exporter": "python",
   "pygments_lexer": "ipython3",
   "version": "3.11.8"
  }
 },
 "nbformat": 4,
 "nbformat_minor": 5
}
