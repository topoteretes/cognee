{
 "cells": [
  {
   "cell_type": "code",
   "execution_count": null,
   "id": "38135bf7",
   "metadata": {},
   "outputs": [],
   "source": [
    "from os import path\n",
    "import cognee\n",
    "import dspy\n",
    "from cognee.modules.cognify.dataset import HotPotQA\n",
    "\n",
    "data_directory_path = path.abspath(\"../.data\")\n",
    "cognee.config.data_root_directory(data_directory_path)\n",
    "\n",
    "cognee_directory_path = path.abspath(\"../.cognee_system\")\n",
    "cognee.config.system_root_directory(cognee_directory_path)\n",
    "\n",
    "await cognee.prune.prune_system()\n",
    "\n",
    "colbertv2_wiki17_abstracts = dspy.ColBERTv2(url = \"http://20.102.90.50:2017/wiki17_abstracts\")\n",
    "dspy.configure(rm = colbertv2_wiki17_abstracts)\n",
    "\n",
    "# dataset = HotPotQA(\n",
    "#     train_seed = 1,\n",
    "#     train_size = 10,\n",
    "#     eval_seed = 2023,\n",
    "#     dev_size = 0,\n",
    "#     test_size = 0,\n",
    "#     keep_details = True,\n",
    "# )\n",
    "\n",
    "# texts_to_add = []\n",
    "\n",
    "# for train_case in dataset.train:\n",
    "#     train_case_text = \"\\r\\n\".join(\" \".join(context_sentences) for context_sentences in train_case.get(\"context\")[\"sentences\"])\n",
    "\n",
    "#     texts_to_add.append(train_case_text)\n",
    "\n",
    "dataset_name = \"short_stories\"\n",
    "await cognee.add(\"data://\" + data_directory_path, dataset_name)\n"
   ]
  },
  {
   "cell_type": "code",
   "execution_count": 1,
   "id": "44603a2a",
   "metadata": {},
   "outputs": [
    {
     "name": "stderr",
     "output_type": "stream",
     "text": [
      "/Users/borisarzentar/Projects/Topoteretes/cognee/.venv/lib/python3.11/site-packages/tqdm/auto.py:21: TqdmWarning: IProgress not found. Please update jupyter and ipywidgets. See https://ipywidgets.readthedocs.io/en/stable/user_install.html\n",
      "  from .autonotebook import tqdm as notebook_tqdm\n"
     ]
    },
    {
     "name": "stdout",
     "output_type": "stream",
     "text": [
      "['short_stories']\n",
      "1\n"
     ]
    }
   ],
   "source": [
    "from os import path\n",
    "import cognee\n",
    "\n",
    "data_directory_path = path.abspath(\"../.data\")\n",
    "cognee.config.data_root_directory(data_directory_path)\n",
    "\n",
    "cognee_directory_path = path.abspath(\"../.cognee_system\")\n",
    "cognee.config.system_root_directory(cognee_directory_path)\n",
    "\n",
    "print(cognee.datasets.list_datasets())\n",
    "\n",
    "train_dataset = cognee.datasets.query_data(\"short_stories\")\n",
    "print(len(train_dataset))"
   ]
  },
  {
   "cell_type": "code",
   "execution_count": 2,
   "id": "65bfaf09",
   "metadata": {},
   "outputs": [
    {
     "name": "stderr",
     "output_type": "stream",
     "text": [
      "WARNING:NetworkXAdapter:File /Users/borisarzentar/Projects/Topoteretes/cognee/.cognee_system/databases/cognee_graph.pkl not found. Initializing an empty graph./Users/borisarzentar/Projects/Topoteretes/cognee/.venv/lib/python3.11/site-packages/debugpy/_vendored/pydevd/_pydevd_bundle/pydevd_suspended_frames.py:426: RuntimeWarning: coroutine 'AsyncTable.schema' was never awaited\n",
      "  self._variable_reference_to_variable.clear()\n",
      "RuntimeWarning: Enable tracemalloc to get the object allocation traceback\n",
      "Fetching 7 files: 100%|██████████| 7/7 [00:00<00:00, 28588.25it/s]\n",
      "0.04s - Debugger warning: It seems that frozen modules are being used, which may\n",
      "0.00s - make the debugger miss breakpoints. Please pass -Xfrozen_modules=off\n",
      "0.00s - to python to disable frozen modules.\n",
      "0.00s - Note: Debugging will proceed. Set PYDEVD_DISABLE_FILE_VALIDATION=1 to disable this validation.\n"
     ]
    },
    {
     "ename": "CancelledError",
     "evalue": "",
     "output_type": "error",
     "traceback": [
      "\u001b[0;31m---------------------------------------------------------------------------\u001b[0m",
      "\u001b[0;31mCancelledError\u001b[0m                            Traceback (most recent call last)",
      "Cell \u001b[0;32mIn[2], line 15\u001b[0m\n\u001b[1;32m     12\u001b[0m cognee_directory_path \u001b[38;5;241m=\u001b[39m path\u001b[38;5;241m.\u001b[39mabspath(\u001b[38;5;124m\"\u001b[39m\u001b[38;5;124m../.cognee_system\u001b[39m\u001b[38;5;124m\"\u001b[39m)\n\u001b[1;32m     13\u001b[0m cognee\u001b[38;5;241m.\u001b[39mconfig\u001b[38;5;241m.\u001b[39msystem_root_directory(cognee_directory_path)\n\u001b[0;32m---> 15\u001b[0m \u001b[38;5;28;01mawait\u001b[39;00m cognee\u001b[38;5;241m.\u001b[39mcognify(\u001b[38;5;124m\"\u001b[39m\u001b[38;5;124mshort_stories\u001b[39m\u001b[38;5;124m\"\u001b[39m)\n",
      "File \u001b[0;32m~/Projects/Topoteretes/cognee/cognee/api/v1/cognify/cognify.py:99\u001b[0m, in \u001b[0;36mcognify\u001b[0;34m(datasets)\u001b[0m\n\u001b[1;32m     96\u001b[0m             \u001b[38;5;28;01mexcept\u001b[39;00m FileTypeException:\n\u001b[1;32m     97\u001b[0m                 logger\u001b[38;5;241m.\u001b[39mwarning(\u001b[38;5;124m\"\u001b[39m\u001b[38;5;124mFile (\u001b[39m\u001b[38;5;132;01m%s\u001b[39;00m\u001b[38;5;124m) has an unknown file type. We are skipping it.\u001b[39m\u001b[38;5;124m\"\u001b[39m, file_metadata[\u001b[38;5;124m\"\u001b[39m\u001b[38;5;124mid\u001b[39m\u001b[38;5;124m\"\u001b[39m])\n\u001b[0;32m---> 99\u001b[0m added_chunks: \u001b[38;5;28mlist\u001b[39m[\u001b[38;5;28mtuple\u001b[39m[\u001b[38;5;28mstr\u001b[39m, \u001b[38;5;28mstr\u001b[39m, \u001b[38;5;28mdict\u001b[39m]] \u001b[38;5;241m=\u001b[39m \u001b[38;5;28;01mawait\u001b[39;00m add_data_chunks(data_chunks)\n\u001b[1;32m    101\u001b[0m \u001b[38;5;28;01mawait\u001b[39;00m asyncio\u001b[38;5;241m.\u001b[39mgather(\n\u001b[1;32m    102\u001b[0m     \u001b[38;5;241m*\u001b[39m[process_text(chunk[\u001b[38;5;124m\"\u001b[39m\u001b[38;5;124mcollection\u001b[39m\u001b[38;5;124m\"\u001b[39m], chunk[\u001b[38;5;124m\"\u001b[39m\u001b[38;5;124mchunk_id\u001b[39m\u001b[38;5;124m\"\u001b[39m], chunk[\u001b[38;5;124m\"\u001b[39m\u001b[38;5;124mtext\u001b[39m\u001b[38;5;124m\"\u001b[39m], chunk[\u001b[38;5;124m\"\u001b[39m\u001b[38;5;124mfile_metadata\u001b[39m\u001b[38;5;124m\"\u001b[39m]) \u001b[38;5;28;01mfor\u001b[39;00m chunk \u001b[38;5;129;01min\u001b[39;00m added_chunks]\n\u001b[1;32m    103\u001b[0m )\n\u001b[1;32m    105\u001b[0m \u001b[38;5;28;01mreturn\u001b[39;00m graph_client\u001b[38;5;241m.\u001b[39mgraph\n",
      "File \u001b[0;32m~/Projects/Topoteretes/cognee/cognee/modules/cognify/graph/add_data_chunks.py:37\u001b[0m, in \u001b[0;36madd_data_chunks\u001b[0;34m(dataset_data_chunks)\u001b[0m\n\u001b[1;32m     26\u001b[0m     dataset_chunks \u001b[38;5;241m=\u001b[39m [\n\u001b[1;32m     27\u001b[0m         \u001b[38;5;28mdict\u001b[39m(\n\u001b[1;32m     28\u001b[0m             chunk_id \u001b[38;5;241m=\u001b[39m chunk[\u001b[38;5;124m\"\u001b[39m\u001b[38;5;124mchunk_id\u001b[39m\u001b[38;5;124m\"\u001b[39m],\n\u001b[0;32m   (...)\u001b[0m\n\u001b[1;32m     32\u001b[0m         ) \u001b[38;5;28;01mfor\u001b[39;00m chunk \u001b[38;5;129;01min\u001b[39;00m chunks\n\u001b[1;32m     33\u001b[0m     ]\n\u001b[1;32m     35\u001b[0m     identified_chunks\u001b[38;5;241m.\u001b[39mextend(dataset_chunks)\n\u001b[0;32m---> 37\u001b[0m     \u001b[38;5;28;01mawait\u001b[39;00m vector_client\u001b[38;5;241m.\u001b[39mcreate_data_points(\n\u001b[1;32m     38\u001b[0m         dataset_name,\n\u001b[1;32m     39\u001b[0m         [\n\u001b[1;32m     40\u001b[0m             DataPoint(\n\u001b[1;32m     41\u001b[0m                 \u001b[38;5;28mid\u001b[39m \u001b[38;5;241m=\u001b[39m chunk[\u001b[38;5;124m\"\u001b[39m\u001b[38;5;124mchunk_id\u001b[39m\u001b[38;5;124m\"\u001b[39m],\n\u001b[1;32m     42\u001b[0m                 payload \u001b[38;5;241m=\u001b[39m \u001b[38;5;28mdict\u001b[39m(text \u001b[38;5;241m=\u001b[39m chunk[\u001b[38;5;124m\"\u001b[39m\u001b[38;5;124mtext\u001b[39m\u001b[38;5;124m\"\u001b[39m]),\n\u001b[1;32m     43\u001b[0m                 embed_field \u001b[38;5;241m=\u001b[39m \u001b[38;5;124m\"\u001b[39m\u001b[38;5;124mtext\u001b[39m\u001b[38;5;124m\"\u001b[39m\n\u001b[1;32m     44\u001b[0m             ) \u001b[38;5;28;01mfor\u001b[39;00m chunk \u001b[38;5;129;01min\u001b[39;00m dataset_chunks\n\u001b[1;32m     45\u001b[0m         ],\n\u001b[1;32m     46\u001b[0m     )\n\u001b[1;32m     48\u001b[0m \u001b[38;5;28;01mreturn\u001b[39;00m identified_chunks\n",
      "File \u001b[0;32m~/Projects/Topoteretes/cognee/cognee/infrastructure/databases/vector/lancedb/LanceDBAdapter.py:65\u001b[0m, in \u001b[0;36mLanceDBAdapter.create_data_points\u001b[0;34m(self, collection_name, data_points)\u001b[0m\n\u001b[1;32m     55\u001b[0m data_vectors \u001b[38;5;241m=\u001b[39m \u001b[38;5;28;01mawait\u001b[39;00m \u001b[38;5;28mself\u001b[39m\u001b[38;5;241m.\u001b[39membed_data([data_point\u001b[38;5;241m.\u001b[39mget_embeddable_data() \u001b[38;5;28;01mfor\u001b[39;00m data_point \u001b[38;5;129;01min\u001b[39;00m data_points])\n\u001b[1;32m     57\u001b[0m lance_data_points \u001b[38;5;241m=\u001b[39m [\n\u001b[1;32m     58\u001b[0m     \u001b[38;5;28mdict\u001b[39m(\n\u001b[1;32m     59\u001b[0m         \u001b[38;5;28mid\u001b[39m \u001b[38;5;241m=\u001b[39m data_point\u001b[38;5;241m.\u001b[39mid,\n\u001b[0;32m   (...)\u001b[0m\n\u001b[1;32m     62\u001b[0m     ) \u001b[38;5;28;01mfor\u001b[39;00m (data_index, data_point) \u001b[38;5;129;01min\u001b[39;00m \u001b[38;5;28menumerate\u001b[39m(data_points)\n\u001b[1;32m     63\u001b[0m ]\n\u001b[0;32m---> 65\u001b[0m \u001b[38;5;28;01mawait\u001b[39;00m collection\u001b[38;5;241m.\u001b[39madd(lance_data_points)\n",
      "File \u001b[0;32m~/Projects/Topoteretes/cognee/.venv/lib/python3.11/site-packages/lancedb/table.py:2102\u001b[0m, in \u001b[0;36mAsyncTable.add\u001b[0;34m(self, data, mode, on_bad_vectors, fill_value)\u001b[0m\n\u001b[1;32m   2072\u001b[0m \u001b[38;5;28;01masync\u001b[39;00m \u001b[38;5;28;01mdef\u001b[39;00m \u001b[38;5;21madd\u001b[39m(\n\u001b[1;32m   2073\u001b[0m     \u001b[38;5;28mself\u001b[39m,\n\u001b[1;32m   2074\u001b[0m     data: DATA,\n\u001b[0;32m   (...)\u001b[0m\n\u001b[1;32m   2078\u001b[0m     fill_value: Optional[\u001b[38;5;28mfloat\u001b[39m] \u001b[38;5;241m=\u001b[39m \u001b[38;5;28;01mNone\u001b[39;00m,\n\u001b[1;32m   2079\u001b[0m ):\n\u001b[1;32m   2080\u001b[0m \u001b[38;5;250m    \u001b[39m\u001b[38;5;124;03m\"\"\"Add more data to the [Table](Table).\u001b[39;00m\n\u001b[1;32m   2081\u001b[0m \n\u001b[1;32m   2082\u001b[0m \u001b[38;5;124;03m    Parameters\u001b[39;00m\n\u001b[0;32m   (...)\u001b[0m\n\u001b[1;32m   2100\u001b[0m \n\u001b[1;32m   2101\u001b[0m \u001b[38;5;124;03m    \"\"\"\u001b[39;00m\n\u001b[0;32m-> 2102\u001b[0m     schema \u001b[38;5;241m=\u001b[39m \u001b[38;5;28;01mawait\u001b[39;00m \u001b[38;5;28mself\u001b[39m\u001b[38;5;241m.\u001b[39mschema()\n\u001b[1;32m   2103\u001b[0m     \u001b[38;5;28;01mif\u001b[39;00m on_bad_vectors \u001b[38;5;129;01mis\u001b[39;00m \u001b[38;5;28;01mNone\u001b[39;00m:\n\u001b[1;32m   2104\u001b[0m         on_bad_vectors \u001b[38;5;241m=\u001b[39m \u001b[38;5;124m\"\u001b[39m\u001b[38;5;124merror\u001b[39m\u001b[38;5;124m\"\u001b[39m\n",
      "File \u001b[0;32m~/Projects/Topoteretes/cognee/.venv/lib/python3.11/site-packages/lancedb/table.py:1994\u001b[0m, in \u001b[0;36mAsyncTable.schema\u001b[0;34m(self)\u001b[0m\n\u001b[1;32m   1989\u001b[0m \u001b[38;5;28;01masync\u001b[39;00m \u001b[38;5;28;01mdef\u001b[39;00m \u001b[38;5;21mschema\u001b[39m(\u001b[38;5;28mself\u001b[39m) \u001b[38;5;241m-\u001b[39m\u001b[38;5;241m>\u001b[39m pa\u001b[38;5;241m.\u001b[39mSchema:\n\u001b[1;32m   1990\u001b[0m \u001b[38;5;250m    \u001b[39m\u001b[38;5;124;03m\"\"\"The [Arrow Schema](https://arrow.apache.org/docs/python/api/datatypes.html#)\u001b[39;00m\n\u001b[1;32m   1991\u001b[0m \u001b[38;5;124;03m    of this Table\u001b[39;00m\n\u001b[1;32m   1992\u001b[0m \n\u001b[1;32m   1993\u001b[0m \u001b[38;5;124;03m    \"\"\"\u001b[39;00m\n\u001b[0;32m-> 1994\u001b[0m     \u001b[38;5;28;01mreturn\u001b[39;00m \u001b[38;5;28;01mawait\u001b[39;00m \u001b[38;5;28mself\u001b[39m\u001b[38;5;241m.\u001b[39m_inner\u001b[38;5;241m.\u001b[39mschema()\n",
      "\u001b[0;31mCancelledError\u001b[0m: "
     ]
    }
   ],
   "source": [
    "from os import path\n",
    "import logging\n",
    "import cognee\n",
    "\n",
    "logging.basicConfig(level = logging.INFO)\n",
    "\n",
    "await cognee.prune.prune_system()\n",
    "\n",
    "data_directory_path = path.abspath(\"../.data\")\n",
    "cognee.config.data_root_directory(data_directory_path)\n",
    "\n",
    "cognee_directory_path = path.abspath(\"../.cognee_system\")\n",
    "cognee.config.system_root_directory(cognee_directory_path)\n",
    "\n",
    "await cognee.cognify(\"short_stories\")"
   ]
  },
  {
   "cell_type": "code",
   "execution_count": null,
   "id": "a514cf38",
   "metadata": {},
   "outputs": [],
   "source": [
    "import networkx as nx\n",
    "import pandas as pd\n",
    "import graphistry\n",
    "from cognee.config import Config\n",
    "from cognee.utils import render_graph\n",
    "from cognee.infrastructure.databases.graph.get_graph_client import get_graph_client, GraphDBType\n",
    "\n",
    "config = Config()\n",
    "config.load()\n",
    "\n",
    "graphistry.register(\n",
    "    api = 3,\n",
    "    username = config.graphistry_username,\n",
    "    password = config.graphistry_password\n",
    ")\n",
    "\n",
    "graph_client = await get_graph_client(GraphDBType.NETWORKX, \"cognee_graph.pkl\")\n",
    "graph = graph_client.graph\n",
    "\n",
    "await render_graph(graph)\n",
    "\n",
    "# edges = nx.to_pandas_edgelist(graph)\n",
    "\n",
    "# nodes_data = [{\n",
    "#     \"id\": node_id,\n",
    "#     \"label\": node[\"name\"] if \"name\" in node else node_id,\n",
    "# } for (node_id, node) in graph.nodes(data = True)]\n",
    "\n",
    "# nodes = pd.DataFrame(nodes_data)\n",
    "\n",
    "# plotter = graphistry.edges(edges, source = \"source\", destination = \"target\").nodes(nodes, \"id\")\n",
    "\n",
    "# plotter.bind(edge_title = \"relationship_name\", edge_label = \"relationship_name\", point_title = \"name\", point_label = \"name\")\n",
    "# url = plotter.plot(render = False, as_files = True)\n",
    "# print(f\"Graph is visualized at: {url}\")\n"
   ]
  },
  {
   "cell_type": "code",
   "execution_count": null,
   "id": "e916c484",
   "metadata": {},
   "outputs": [],
   "source": [
    "from os import path\n",
    "import cognee\n",
    "from cognee.infrastructure.databases.graph.get_graph_client import get_graph_client, GraphDBType\n",
    "from cognee.modules.search.vector.search_similarity import search_similarity\n",
    "\n",
    "data_directory_path = path.abspath(\"../.data\")\n",
    "cognee.config.data_root_directory(data_directory_path)\n",
    "\n",
    "cognee_directory_path = path.abspath(\"../.cognee_system\")\n",
    "cognee.config.system_root_directory(cognee_directory_path)\n",
    "\n",
    "graph_client = await get_graph_client(GraphDBType.NETWORKX)\n",
    "graph = graph_client.graph\n",
    "\n",
    "results = await search_similarity(\"Who are French girls?\", graph)\n",
    "\n",
    "for result in results:\n",
    "    print(\"French girls\" in result)\n",
    "    print(result)"
   ]
  }
 ],
 "metadata": {
  "kernelspec": {
   "display_name": "Python 3 (ipykernel)",
   "language": "python",
   "name": "python3"
  },
  "language_info": {
   "codemirror_mode": {
    "name": "ipython",
    "version": 3
   },
   "file_extension": ".py",
   "mimetype": "text/x-python",
   "name": "python",
   "nbconvert_exporter": "python",
   "pygments_lexer": "ipython3",
   "version": "3.11.8"
  }
 },
 "nbformat": 4,
 "nbformat_minor": 5
}
