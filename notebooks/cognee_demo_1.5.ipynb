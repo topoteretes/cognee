{
 "cells": [
  {
   "metadata": {
    "ExecuteTime": {
     "end_time": "2024-09-20T05:11:39.250021Z",
     "start_time": "2024-09-20T05:11:30.139927Z"
    }
   },
   "cell_type": "code",
   "source": [
    "import asyncio\n",
    "import logging\n",
    "from typing import Union\n",
    "\n",
    "from cognee.modules.cognify.config import get_cognify_config\n",
    "from cognee.shared.data_models import KnowledgeGraph\n",
    "from cognee.modules.data.models import Dataset, Data\n",
    "from cognee.modules.data.methods.get_dataset_data import get_dataset_data\n",
    "from cognee.modules.data.methods import get_datasets, get_datasets_by_name\n",
    "from cognee.modules.pipelines.tasks.Task import Task\n",
    "from cognee.modules.pipelines import run_tasks, run_tasks_parallel\n",
    "from cognee.modules.users.models import User\n",
    "from cognee.modules.users.methods import get_default_user\n",
    "from cognee.modules.pipelines.operations.get_pipeline_status import get_pipeline_status\n",
    "from cognee.modules.pipelines.operations.log_pipeline_status import log_pipeline_status\n",
    "from cognee.tasks import chunk_extract_summary, \\\n",
    "    chunk_naive_llm_classifier, \\\n",
    "    chunk_remove_disconnected, \\\n",
    "    infer_data_ontology, \\\n",
    "    save_chunks_to_store, \\\n",
    "    chunk_update_check, \\\n",
    "    chunks_into_graph, \\\n",
    "    source_documents_to_chunks, \\\n",
    "    check_permissions_on_documents, \\\n",
    "    classify_documents\n",
    "\n",
    "logger = logging.getLogger(\"cognify.v2\")\n",
    "\n",
    "update_status_lock = asyncio.Lock()"
   ],
   "id": "958375a6ffc0c2e4",
   "outputs": [],
   "execution_count": 1
  },
  {
   "metadata": {
    "ExecuteTime": {
     "end_time": "2024-09-20T05:11:44.669755Z",
     "start_time": "2024-09-20T05:11:44.666218Z"
    }
   },
   "cell_type": "code",
   "source": [
    "job_position = \"\"\"Senior Data Scientist (Machine Learning)\n",
    "\n",
    "Company: TechNova Solutions\n",
    "Location: San Francisco, CA\n",
    "\n",
    "Job Description:\n",
    "\n",
    "TechNova Solutions is seeking a Senior Data Scientist specializing in Machine Learning to join our dynamic analytics team. The ideal candidate will have a strong background in developing and deploying machine learning models, working with large datasets, and translating complex data into actionable insights.\n",
    "\n",
    "Responsibilities:\n",
    "\n",
    "Develop and implement advanced machine learning algorithms and models.\n",
    "Analyze large, complex datasets to extract meaningful patterns and insights.\n",
    "Collaborate with cross-functional teams to integrate predictive models into products.\n",
    "Stay updated with the latest advancements in machine learning and data science.\n",
    "Mentor junior data scientists and provide technical guidance.\n",
    "Qualifications:\n",
    "\n",
    "Master’s or Ph.D. in Data Science, Computer Science, Statistics, or a related field.\n",
    "5+ years of experience in data science and machine learning.\n",
    "Proficient in Python, R, and SQL.\n",
    "Experience with deep learning frameworks (e.g., TensorFlow, PyTorch).\n",
    "Strong problem-solving skills and attention to detail.\n",
    "Candidate CVs\n",
    "\"\"\"\n"
   ],
   "id": "df16431d0f48b006",
   "outputs": [],
   "execution_count": 3
  },
  {
   "metadata": {
    "ExecuteTime": {
     "end_time": "2024-09-20T05:11:45.277312Z",
     "start_time": "2024-09-20T05:11:45.272644Z"
    }
   },
   "cell_type": "code",
   "source": [
    "job_1 = \"\"\"\n",
    "CV 1: Relevant\n",
    "Name: Dr. Emily Carter\n",
    "Contact Information:\n",
    "\n",
    "Email: emily.carter@example.com\n",
    "Phone: (555) 123-4567\n",
    "Summary:\n",
    "\n",
    "Senior Data Scientist with over 8 years of experience in machine learning and predictive analytics. Expertise in developing advanced algorithms and deploying scalable models in production environments.\n",
    "\n",
    "Education:\n",
    "\n",
    "Ph.D. in Computer Science, Stanford University (2014)\n",
    "B.S. in Mathematics, University of California, Berkeley (2010)\n",
    "Experience:\n",
    "\n",
    "Senior Data Scientist, InnovateAI Labs (2016 – Present)\n",
    "Led a team in developing machine learning models for natural language processing applications.\n",
    "Implemented deep learning algorithms that improved prediction accuracy by 25%.\n",
    "Collaborated with cross-functional teams to integrate models into cloud-based platforms.\n",
    "Data Scientist, DataWave Analytics (2014 – 2016)\n",
    "Developed predictive models for customer segmentation and churn analysis.\n",
    "Analyzed large datasets using Hadoop and Spark frameworks.\n",
    "Skills:\n",
    "\n",
    "Programming Languages: Python, R, SQL\n",
    "Machine Learning: TensorFlow, Keras, Scikit-Learn\n",
    "Big Data Technologies: Hadoop, Spark\n",
    "Data Visualization: Tableau, Matplotlib\n",
    "\"\"\""
   ],
   "id": "9086abf3af077ab4",
   "outputs": [],
   "execution_count": 4
  },
  {
   "metadata": {
    "ExecuteTime": {
     "end_time": "2024-09-20T05:11:45.753246Z",
     "start_time": "2024-09-20T05:11:45.751035Z"
    }
   },
   "cell_type": "code",
   "source": [
    "job_2 = \"\"\"\n",
    "CV 2: Relevant\n",
    "Name: Michael Rodriguez\n",
    "Contact Information:\n",
    "\n",
    "Email: michael.rodriguez@example.com\n",
    "Phone: (555) 234-5678\n",
    "Summary:\n",
    "\n",
    "Data Scientist with a strong background in machine learning and statistical modeling. Skilled in handling large datasets and translating data into actionable business insights.\n",
    "\n",
    "Education:\n",
    "\n",
    "M.S. in Data Science, Carnegie Mellon University (2013)\n",
    "B.S. in Computer Science, University of Michigan (2011)\n",
    "Experience:\n",
    "\n",
    "Senior Data Scientist, Alpha Analytics (2017 – Present)\n",
    "Developed machine learning models to optimize marketing strategies.\n",
    "Reduced customer acquisition cost by 15% through predictive modeling.\n",
    "Data Scientist, TechInsights (2013 – 2017)\n",
    "Analyzed user behavior data to improve product features.\n",
    "Implemented A/B testing frameworks to evaluate product changes.\n",
    "Skills:\n",
    "\n",
    "Programming Languages: Python, Java, SQL\n",
    "Machine Learning: Scikit-Learn, XGBoost\n",
    "Data Visualization: Seaborn, Plotly\n",
    "Databases: MySQL, MongoDB\n",
    "\"\"\""
   ],
   "id": "a9de0cc07f798b7f",
   "outputs": [],
   "execution_count": 5
  },
  {
   "metadata": {
    "ExecuteTime": {
     "end_time": "2024-09-20T05:11:46.238147Z",
     "start_time": "2024-09-20T05:11:46.235463Z"
    }
   },
   "cell_type": "code",
   "source": [
    "job_3 = \"\"\"\n",
    "CV 3: Relevant\n",
    "Name: Sarah Nguyen\n",
    "Contact Information:\n",
    "\n",
    "Email: sarah.nguyen@example.com\n",
    "Phone: (555) 345-6789\n",
    "Summary:\n",
    "\n",
    "Data Scientist specializing in machine learning with 6 years of experience. Passionate about leveraging data to drive business solutions and improve product performance.\n",
    "\n",
    "Education:\n",
    "\n",
    "M.S. in Statistics, University of Washington (2014)\n",
    "B.S. in Applied Mathematics, University of Texas at Austin (2012)\n",
    "Experience:\n",
    "\n",
    "Data Scientist, QuantumTech (2016 – Present)\n",
    "Designed and implemented machine learning algorithms for financial forecasting.\n",
    "Improved model efficiency by 20% through algorithm optimization.\n",
    "Junior Data Scientist, DataCore Solutions (2014 – 2016)\n",
    "Assisted in developing predictive models for supply chain optimization.\n",
    "Conducted data cleaning and preprocessing on large datasets.\n",
    "Skills:\n",
    "\n",
    "Programming Languages: Python, R\n",
    "Machine Learning Frameworks: PyTorch, Scikit-Learn\n",
    "Statistical Analysis: SAS, SPSS\n",
    "Cloud Platforms: AWS, Azure\n",
    "\"\"\""
   ],
   "id": "185ff1c102d06111",
   "outputs": [],
   "execution_count": 6
  },
  {
   "metadata": {
    "ExecuteTime": {
     "end_time": "2024-09-20T05:11:46.706952Z",
     "start_time": "2024-09-20T05:11:46.705079Z"
    }
   },
   "cell_type": "code",
   "source": [
    "job_4 = \"\"\"\n",
    "CV 4: Not Relevant\n",
    "Name: David Thompson\n",
    "Contact Information:\n",
    "\n",
    "Email: david.thompson@example.com\n",
    "Phone: (555) 456-7890\n",
    "Summary:\n",
    "\n",
    "Creative Graphic Designer with over 8 years of experience in visual design and branding. Proficient in Adobe Creative Suite and passionate about creating compelling visuals.\n",
    "\n",
    "Education:\n",
    "\n",
    "B.F.A. in Graphic Design, Rhode Island School of Design (2012)\n",
    "Experience:\n",
    "\n",
    "Senior Graphic Designer, CreativeWorks Agency (2015 – Present)\n",
    "Led design projects for clients in various industries.\n",
    "Created branding materials that increased client engagement by 30%.\n",
    "Graphic Designer, Visual Innovations (2012 – 2015)\n",
    "Designed marketing collateral, including brochures, logos, and websites.\n",
    "Collaborated with the marketing team to develop cohesive brand strategies.\n",
    "Skills:\n",
    "\n",
    "Design Software: Adobe Photoshop, Illustrator, InDesign\n",
    "Web Design: HTML, CSS\n",
    "Specialties: Branding and Identity, Typography\n",
    "\"\"\""
   ],
   "id": "d55ce4c58f8efb67",
   "outputs": [],
   "execution_count": 7
  },
  {
   "metadata": {
    "ExecuteTime": {
     "end_time": "2024-09-20T05:11:47.329735Z",
     "start_time": "2024-09-20T05:11:47.326711Z"
    }
   },
   "cell_type": "code",
   "source": [
    "job_5 = \"\"\"\n",
    "CV 5: Not Relevant\n",
    "Name: Jessica Miller\n",
    "Contact Information:\n",
    "\n",
    "Email: jessica.miller@example.com\n",
    "Phone: (555) 567-8901\n",
    "Summary:\n",
    "\n",
    "Experienced Sales Manager with a strong track record in driving sales growth and building high-performing teams. Excellent communication and leadership skills.\n",
    "\n",
    "Education:\n",
    "\n",
    "B.A. in Business Administration, University of Southern California (2010)\n",
    "Experience:\n",
    "\n",
    "Sales Manager, Global Enterprises (2015 – Present)\n",
    "Managed a sales team of 15 members, achieving a 20% increase in annual revenue.\n",
    "Developed sales strategies that expanded customer base by 25%.\n",
    "Sales Representative, Market Leaders Inc. (2010 – 2015)\n",
    "Consistently exceeded sales targets and received the 'Top Salesperson' award in 2013.\n",
    "Skills:\n",
    "\n",
    "Sales Strategy and Planning\n",
    "Team Leadership and Development\n",
    "CRM Software: Salesforce, Zoho\n",
    "Negotiation and Relationship Building\n",
    "\"\"\""
   ],
   "id": "ca4ecc32721ad332",
   "outputs": [],
   "execution_count": 8
  },
  {
   "metadata": {
    "ExecuteTime": {
     "end_time": "2024-09-20T05:11:50.271409Z",
     "start_time": "2024-09-20T05:11:48.529182Z"
    }
   },
   "cell_type": "code",
   "source": [
    "import cognee\n",
    "from os import listdir, path\n",
    "\n",
    "data_path = path.abspath(\".data\")\n",
    "\n",
    "results = await cognee.add([job_1, job_2,job_3,job_4,job_5,job_position], \"example\")\n",
    "\n",
    "for result in results:\n",
    "    print(result)"
   ],
   "id": "904df61ba484a8e5",
   "outputs": [
    {
     "name": "stderr",
     "output_type": "stream",
     "text": [
      "sys:1: SAWarning: TypeDecorator UUID() will not produce a cache key because the ``cache_ok`` attribute is not set to True.  This can have significant performance implications including some performance degradations in comparison to prior SQLAlchemy versions.  Set this attribute to True if this type object's state is safe to use in a cache key, or False to disable this warning. (Background on this warning at: https://sqlalche.me/e/20/cprf)\n",
      "2024-09-20 07:11:48,925|[WARNING]|43272|8480345088|dlt|utils.py|resolve_merge_strategy:223|Destination does not support any merge strategies and `merge` write disposition  for table `file_metadata` cannot be met and will fall back to `append`. Change write disposition.2024-09-20 07:11:49,246|[WARNING]|43272|8480345088|dlt|utils.py|resolve_merge_strategy:223|Destination does not support any merge strategies and `merge` write disposition  for table `file_metadata` cannot be met and will fall back to `append`. Change write disposition."
     ]
    },
    {
     "name": "stdout",
     "output_type": "stream",
     "text": [
      "<dlt.pipeline.pipeline.Pipeline object at 0x164a28950>\n",
      "{'1726809108.767254': [{'started_at': DateTime(2024, 9, 20, 5, 11, 49, 245902, tzinfo=Timezone('UTC')), 'finished_at': DateTime(2024, 9, 20, 5, 11, 50, 268147, tzinfo=Timezone('UTC')), 'job_metrics': {'_dlt_pipeline_state.a91de88b58.typed-jsonl': LoadJobMetrics(job_id='_dlt_pipeline_state.a91de88b58.typed-jsonl', file_path='/Users/vasa/.dlt/pipelines/file_load_from_filesystem/load/normalized/1726809108.767254/started_jobs/_dlt_pipeline_state.a91de88b58.0.typed-jsonl', table_name='_dlt_pipeline_state', started_at=DateTime(2024, 9, 20, 5, 11, 49, 256768, tzinfo=Timezone('UTC')), finished_at=DateTime(2024, 9, 20, 5, 11, 49, 258007, tzinfo=Timezone('UTC')), state='completed', remote_url=None), 'file_metadata.a639414384.typed-jsonl': LoadJobMetrics(job_id='file_metadata.a639414384.typed-jsonl', file_path='/Users/vasa/.dlt/pipelines/file_load_from_filesystem/load/normalized/1726809108.767254/started_jobs/file_metadata.a639414384.0.typed-jsonl', table_name='file_metadata', started_at=DateTime(2024, 9, 20, 5, 11, 49, 257362, tzinfo=Timezone('UTC')), finished_at=DateTime(2024, 9, 20, 5, 11, 49, 259366, tzinfo=Timezone('UTC')), state='completed', remote_url=None)}}]}\n",
      "dlt.destinations.sqlalchemy\n",
      "sqlite:///cognee_db\n",
      "sqlalchemy\n",
      "None\n",
      "None\n",
      "None\n",
      "None\n",
      "\n",
      "example\n",
      "['1726809108.767254']\n",
      "[LoadPackageInfo(load_id='1726809108.767254', package_path='/Users/vasa/.dlt/pipelines/file_load_from_filesystem/load/loaded/1726809108.767254', state='loaded', schema=Schema file_load_from_filesystem at 6016359056, schema_update={'_dlt_loads': {'name': '_dlt_loads', 'columns': {'load_id': {'name': 'load_id', 'data_type': 'text', 'nullable': False}, 'schema_name': {'name': 'schema_name', 'data_type': 'text', 'nullable': True}, 'status': {'name': 'status', 'data_type': 'bigint', 'nullable': False}, 'inserted_at': {'name': 'inserted_at', 'data_type': 'timestamp', 'nullable': False}, 'schema_version_hash': {'name': 'schema_version_hash', 'data_type': 'text', 'nullable': True}}, 'write_disposition': 'skip', 'resource': '_dlt_loads', 'description': 'Created by DLT. Tracks completed loads'}, 'file_metadata': {'columns': {'id': {'name': 'id', 'nullable': False, 'merge_key': True, 'data_type': 'text'}, 'name': {'name': 'name', 'data_type': 'text', 'nullable': True}, 'file_path': {'name': 'file_path', 'data_type': 'text', 'nullable': True}, 'extension': {'name': 'extension', 'data_type': 'text', 'nullable': True}, 'mime_type': {'name': 'mime_type', 'data_type': 'text', 'nullable': True}, '_dlt_load_id': {'name': '_dlt_load_id', 'data_type': 'text', 'nullable': False}, '_dlt_id': {'name': '_dlt_id', 'data_type': 'text', 'nullable': False, 'unique': True, 'row_key': True}}, 'name': 'file_metadata', 'write_disposition': 'merge', 'resource': 'data_resources', 'x-normalizer': {'seen-data': True}}, '_dlt_pipeline_state': {'columns': {'version': {'name': 'version', 'data_type': 'bigint', 'nullable': False}, 'engine_version': {'name': 'engine_version', 'data_type': 'bigint', 'nullable': False}, 'pipeline_name': {'name': 'pipeline_name', 'data_type': 'text', 'nullable': False}, 'state': {'name': 'state', 'data_type': 'text', 'nullable': False}, 'created_at': {'name': 'created_at', 'data_type': 'timestamp', 'nullable': False}, 'version_hash': {'name': 'version_hash', 'data_type': 'text', 'nullable': True}, '_dlt_load_id': {'name': '_dlt_load_id', 'data_type': 'text', 'nullable': False}, '_dlt_id': {'name': '_dlt_id', 'data_type': 'text', 'nullable': False, 'unique': True, 'row_key': True}}, 'write_disposition': 'append', 'file_format': 'preferred', 'name': '_dlt_pipeline_state', 'resource': '_dlt_pipeline_state', 'x-normalizer': {'seen-data': True}}, '_dlt_version': {'name': '_dlt_version', 'columns': {'version': {'name': 'version', 'data_type': 'bigint', 'nullable': False}, 'engine_version': {'name': 'engine_version', 'data_type': 'bigint', 'nullable': False}, 'inserted_at': {'name': 'inserted_at', 'data_type': 'timestamp', 'nullable': False}, 'schema_name': {'name': 'schema_name', 'data_type': 'text', 'nullable': False}, 'version_hash': {'name': 'version_hash', 'data_type': 'text', 'nullable': False}, 'schema': {'name': 'schema', 'data_type': 'text', 'nullable': False}}, 'write_disposition': 'skip', 'resource': '_dlt_version', 'description': 'Created by DLT. Tracks schema updates'}}, completed_at=DateTime(2024, 9, 20, 5, 11, 50, 264990, tzinfo=Timezone('UTC')), jobs={'completed_jobs': [LoadJobInfo(state='completed_jobs', file_path='/Users/vasa/.dlt/pipelines/file_load_from_filesystem/load/loaded/1726809108.767254/completed_jobs/_dlt_pipeline_state.a91de88b58.0.typed-jsonl', file_size=514, created_at=DateTime(2024, 9, 20, 5, 11, 48, 927162, tzinfo=Timezone('UTC')), elapsed=1.3378276824951172, job_file_info=ParsedLoadJobFileName(table_name='_dlt_pipeline_state', file_id='a91de88b58', retry_count=0, file_format='typed-jsonl'), failed_message=None), LoadJobInfo(state='completed_jobs', file_path='/Users/vasa/.dlt/pipelines/file_load_from_filesystem/load/loaded/1726809108.767254/completed_jobs/file_metadata.a639414384.0.typed-jsonl', file_size=668, created_at=DateTime(2024, 9, 20, 5, 11, 48, 927453, tzinfo=Timezone('UTC')), elapsed=1.3375375270843506, job_file_info=ParsedLoadJobFileName(table_name='file_metadata', file_id='a639414384', retry_count=0, file_format='typed-jsonl'), failed_message=None)], 'started_jobs': [], 'new_jobs': [], 'failed_jobs': []})]\n",
      "True\n"
     ]
    }
   ],
   "execution_count": 9
  },
  {
   "metadata": {},
   "cell_type": "code",
   "outputs": [],
   "execution_count": null,
   "source": [
    "from typing import Any, Dict, List, Optional, Union\n",
    "from pydantic import BaseModel, Field\n",
    "from uuid import uuid4\n",
    "\n",
    "class Node(BaseModel):\n",
    "    \"\"\"Node in a knowledge graph.\"\"\"\n",
    "    id: str = Field(default_factory=lambda: str(uuid4()))\n",
    "    name: Optional[str] = None\n",
    "    types: List[str] = Field(default_factory=list, description=\"Types or categories of the node (e.g., 'Person', 'Skill').\")\n",
    "    properties: Dict[str, Any] = Field(default_factory=dict, description=\"Properties associated with the node.\")\n",
    "\n",
    "    def merge(self, other: 'Node'):\n",
    "        \"\"\"Merge another node into this one.\"\"\"\n",
    "        # Combine types\n",
    "        self.types = list(set(self.types + other.types))\n",
    "        # Combine properties\n",
    "        self.properties.update(other.properties)\n",
    "        # Update name if necessary\n",
    "        if not self.name and other.name:\n",
    "            self.name = other.name\n",
    "\n",
    "class Edge(BaseModel):\n",
    "    \"\"\"Edge in a knowledge graph.\"\"\"\n",
    "    id: str = Field(default_factory=lambda: str(uuid4()))\n",
    "    source_node_id: str\n",
    "    target_node_id: str\n",
    "    relationship_types: List[str] = Field(default_factory=list, description=\"Types of relationships (e.g., 'has_skill').\")\n",
    "    properties: Dict[str, Any] = Field(default_factory=dict, description=\"Properties associated with the edge.\")\n",
    "    confidence: Optional[float] = Field(None, description=\"Confidence score for the relationship.\")\n",
    "\n",
    "class KnowledgeGraph(BaseModel):\n",
    "    \"\"\"Knowledge graph.\"\"\"\n",
    "    nodes: Dict[str, Node] = Field(default_factory=dict)\n",
    "    edges: List[Edge] = Field(default_factory=list)\n",
    "\n",
    "    def add_node(self, node: Node):\n",
    "        if node.id in self.nodes:\n",
    "            self.nodes[node.id].merge(node)\n",
    "        else:\n",
    "            self.nodes[node.id] = node\n",
    "\n",
    "    def add_edge(self, edge: Edge):\n",
    "        self.edges.append(edge)"
   ],
   "id": "6f9b564de121713d"
  },
  {
   "metadata": {
    "ExecuteTime": {
     "end_time": "2024-09-20T05:12:24.360343Z",
     "start_time": "2024-09-20T05:12:24.335507Z"
    }
   },
   "cell_type": "code",
   "source": [
    "from enum import Enum, auto\n",
    "from typing import Optional, List, Union, Dict, Any\n",
    "from pydantic import BaseModel, Field\n",
    "\n",
    "class Node(BaseModel):\n",
    "    \"\"\"Node in a knowledge graph.\"\"\"\n",
    "    id: str\n",
    "    name: str\n",
    "    type: str\n",
    "    description: str\n",
    "    properties: Optional[Dict[str, Any]] = Field(None, description = \"A dictionary of properties associated with the node.\")\n",
    "\n",
    "class Edge(BaseModel):\n",
    "    \"\"\"Edge in a knowledge graph.\"\"\"\n",
    "    source_node_id: str\n",
    "    target_node_id: str\n",
    "    relationship_name: str\n",
    "    properties: Optional[Dict[str, Any]] = Field(None, description = \"A dictionary of properties associated with the edge.\")\n",
    "\n",
    "class KnowledgeGraph(BaseModel):\n",
    "    \"\"\"Knowledge graph.\"\"\"\n",
    "    nodes: List[Node] = Field(..., default_factory=list)\n",
    "    edges: List[Edge] = Field(..., default_factory=list)"
   ],
   "id": "8911f8bd4f8c440a",
   "outputs": [],
   "execution_count": 10
  },
  {
   "metadata": {
    "ExecuteTime": {
     "end_time": "2024-09-20T05:12:25.635711Z",
     "start_time": "2024-09-20T05:12:25.631576Z"
    }
   },
   "cell_type": "code",
   "source": [
    "async def run_cognify_pipeline(dataset: Dataset, user: User = None):\n",
    "    data_documents: list[Data] = await get_dataset_data(dataset_id = dataset.id)\n",
    "    try:\n",
    "\n",
    "        root_node_id = None\n",
    "\n",
    "        tasks = [\n",
    "            Task(classify_documents),\n",
    "            Task(check_permissions_on_documents, user = user, permissions = [\"write\"]),\n",
    "            Task(source_documents_to_chunks, parent_node_id = root_node_id), # Classify documents and save them as a nodes in graph db, extract text chunks based on the document type\n",
    "            Task(chunks_into_graph, graph_model = KnowledgeGraph, collection_name = \"entities\", task_config = { \"batch_size\": 10 }), # Generate knowledge graphs from the document chunks and attach it to chunk nodes\n",
    "            Task(chunk_update_check, collection_name = \"chunks\"), # Find all affected chunks, so we don't process unchanged chunks\n",
    "            Task(\n",
    "                save_chunks_to_store,\n",
    "                collection_name = \"chunks\",\n",
    "            ), \n",
    "            Task(chunk_remove_disconnected), # Remove the obsolete document chunks.\n",
    "        ]\n",
    "\n",
    "        pipeline = run_tasks(tasks, data_documents)\n",
    "\n",
    "        async for result in pipeline:\n",
    "            print(result)\n",
    "    except Exception as error:\n",
    "        raise error"
   ],
   "id": "7c431fdef4921ae0",
   "outputs": [],
   "execution_count": 11
  },
  {
   "metadata": {
    "ExecuteTime": {
     "end_time": "2024-09-20T05:12:26.489432Z",
     "start_time": "2024-09-20T05:12:26.486869Z"
    }
   },
   "cell_type": "code",
   "source": [
    "\n",
    "\n",
    "async def cognify(datasets: Union[str, list[str]] = None, user: User = None):\n",
    "    if user is None:\n",
    "        user = await get_default_user()\n",
    "\n",
    "    existing_datasets = await get_datasets(user.id)\n",
    "\n",
    "    # if datasets is None or len(datasets) == 0:\n",
    "    #     # If no datasets are provided, cognify all existing datasets.\n",
    "    #     datasets = existing_datasets\n",
    "    # \n",
    "    # if type(datasets[0]) == str:\n",
    "    #     datasets = await get_datasets_by_name(datasets, user.id)\n",
    "\n",
    "\n",
    "\n",
    "\n",
    "    existing_datasets_map = {\n",
    "        dataset.name: True for dataset in existing_datasets\n",
    "    }\n",
    "\n",
    "    awaitables = []\n",
    "\n",
    "    for dataset in datasets:\n",
    "        dataset_name = dataset.name\n",
    "\n",
    "        if dataset_name in existing_datasets_map:\n",
    "            awaitables.append(run_cognify_pipeline(dataset, user))\n",
    "\n",
    "    return await asyncio.gather(*awaitables)\n",
    "\n"
   ],
   "id": "e7d4f03f7dab9807",
   "outputs": [],
   "execution_count": 12
  },
  {
   "metadata": {
    "ExecuteTime": {
     "end_time": "2024-09-20T05:12:33.605592Z",
     "start_time": "2024-09-20T05:12:33.378035Z"
    }
   },
   "cell_type": "code",
   "source": "await cognify(\"example\")",
   "id": "d9248a01352964e2",
   "outputs": [
    {
     "ename": "AttributeError",
     "evalue": "'str' object has no attribute 'name'",
     "output_type": "error",
     "traceback": [
      "\u001B[0;31m---------------------------------------------------------------------------\u001B[0m",
      "\u001B[0;31mAttributeError\u001B[0m                            Traceback (most recent call last)",
      "Cell \u001B[0;32mIn[14], line 1\u001B[0m\n\u001B[0;32m----> 1\u001B[0m \u001B[38;5;28;01mawait\u001B[39;00m cognify(\u001B[38;5;124m\"\u001B[39m\u001B[38;5;124mexample\u001B[39m\u001B[38;5;124m\"\u001B[39m)\n",
      "Cell \u001B[0;32mIn[12], line 24\u001B[0m, in \u001B[0;36mcognify\u001B[0;34m(datasets, user)\u001B[0m\n\u001B[1;32m     21\u001B[0m awaitables \u001B[38;5;241m=\u001B[39m []\n\u001B[1;32m     23\u001B[0m \u001B[38;5;28;01mfor\u001B[39;00m dataset \u001B[38;5;129;01min\u001B[39;00m datasets:\n\u001B[0;32m---> 24\u001B[0m     dataset_name \u001B[38;5;241m=\u001B[39m \u001B[43mdataset\u001B[49m\u001B[38;5;241;43m.\u001B[39;49m\u001B[43mname\u001B[49m\n\u001B[1;32m     26\u001B[0m     \u001B[38;5;28;01mif\u001B[39;00m dataset_name \u001B[38;5;129;01min\u001B[39;00m existing_datasets_map:\n\u001B[1;32m     27\u001B[0m         awaitables\u001B[38;5;241m.\u001B[39mappend(run_cognify_pipeline(dataset, user))\n",
      "\u001B[0;31mAttributeError\u001B[0m: 'str' object has no attribute 'name'"
     ]
    }
   ],
   "execution_count": 14
  },
  {
   "metadata": {},
   "cell_type": "code",
   "outputs": [],
   "execution_count": null,
   "source": "",
   "id": "6afc6307bd115dbe"
  }
 ],
 "metadata": {
  "kernelspec": {
   "display_name": "Python 3 (ipykernel)",
   "language": "python",
   "name": "python3"
  },
  "language_info": {
   "codemirror_mode": {
    "name": "ipython",
    "version": 3
   },
   "file_extension": ".py",
   "mimetype": "text/x-python",
   "name": "python",
   "nbconvert_exporter": "python",
   "pygments_lexer": "ipython3",
   "version": "3.11.6"
  }
 },
 "nbformat": 4,
 "nbformat_minor": 5
}
